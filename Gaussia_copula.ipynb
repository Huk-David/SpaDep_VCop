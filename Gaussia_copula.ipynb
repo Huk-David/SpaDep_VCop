{
 "cells": [
  {
   "cell_type": "markdown",
   "metadata": {},
   "source": [
    "### Gaussian Copula MLE\n",
    "create matricies for \n",
    "\n",
    "have 2 codes: one with gaussian, one with vtransform, both taking multiple days, both being copulas( ie divide buy marginals) once this is running, fit it on aust data with only the loc distance matrix \n",
    "\n",
    "work on getting a dist matrix for predictors\n",
    "\n",
    "most important is vcopula ready with different days, and fit on aust data - first only with location matrix"
   ]
  },
  {
   "cell_type": "code",
   "execution_count": 1,
   "metadata": {},
   "outputs": [],
   "source": [
    "from scipy.optimize import dual_annealing\n",
    "import numpy as np\n",
    "import itertools\n",
    "from scipy.optimize import Bounds\n",
    "from scipy.optimize import minimize\n",
    "import scipy.stats as scs\n",
    "from pynverse import inversefunc\n",
    "from math import sqrt\n",
    "from scipy.special import gamma\n",
    "from scipy.special import kv \n",
    "from  geopy.geocoders import Nominatim\n",
    "from itertools import combinations\n",
    "from sklearn.gaussian_process.kernels import Matern\n"
   ]
  },
  {
   "cell_type": "code",
   "execution_count": null,
   "metadata": {},
   "outputs": [],
   "source": [
    "class mvnorm():\n",
    "\n",
    "    def __init__(self,mean=[0,0,0],L=np.array([[0,1,1],[1,0,1],[1,1,0]]),X=np.array([[0,2,3],[2,0,4],[3,4,0]])):\n",
    "        self.mean=mean\n",
    "        self.N=L.shape[0]\n",
    "        self.L=L\n",
    "        self.X=X\n",
    "    def sim(self,sigma,p0,v0,p1,v1,n=10):\n",
    "        cov_mat=Matern(length_scale=p0,nu=v0).__call__(self.L)* Matern(length_scale=p1,nu=v1).__call__(self.L) *np.power(sigma,2) \n",
    "        return [scs.multivariate_normal.rvs(mean=self.mean,cov=cov_mat) for i in range(n)]\n",
    "    \n",
    "    def nll(self,theta,data):\n",
    "        #data is an array with multiple sets of joint realistaions\n",
    "        #theta=[sigma,p0,v0,p1,v1]\n",
    "        cov_mat=Matern(length_scale=theta[1],nu=theta[2]).__call__(self.L)* Matern(length_scale=theta[3],nu=theta[4]).__call__(self.L) *np.power(theta[0],2)      \n",
    "        #and  theta[indexes]\n",
    "        nll=0\n",
    "        for obs in data:\n",
    "            nll+= scs.multivariate_normal.logpdf(obs,mean=self.mean,cov=cov_mat) \n",
    "        return -nll\n",
    "\n",
    "    #taking multiple days\n",
    "    def __init__(self,L=np.array([[0,1,1],[1,0,1],[1,1,0]]),X=[np.array([[0,2,3],[2,0,4],[3,4,0]])]):\n",
    "        '''\n",
    "        L is location matrix: n x n\n",
    "        X is predictor matrix, day dependent: [mat_1 , mat_2 , ..] m times n x n \n",
    "        '''\n",
    "        self.N=L.shape[0]\n",
    "        self.L=L\n",
    "        self.X_all=X\n",
    "\n",
    "    def sim(self,theta,n=10):\n",
    "        cov_mat_all=[Matern(length_scale=theta[1],nu=theta[2]).__call__(self.L)* Matern(length_scale=theta[3],nu=theta[4]).__call__(X_current) *np.power(theta[0],2) for X_current in self.X_all] \n",
    "        return [scs.multivariate_normal.rvs(mean=self.mean,cov=cov_mat) for i in range(n)]\n",
    "    \n",
    "    def nll(self,theta,data):\n",
    "        #data is an array with multiple sets of joint realistaions\n",
    "        #theta=[sigma,p0,v0,p1,v1]\n",
    "        cov_mat=Matern(length_scale=theta[1],nu=theta[2]).__call__(self.L)* Matern(length_scale=theta[3],nu=theta[4]).__call__(self.L) *np.power(theta[0],2)      \n",
    "        #and  theta[indexes]\n",
    "        nll=0\n",
    "        for obs in data:\n",
    "            nll+= scs.multivariate_normal.logpdf(obs,mean=self.mean,cov=cov_mat) \n",
    "        return -nll"
   ]
  },
  {
   "cell_type": "code",
   "execution_count": 66,
   "metadata": {},
   "outputs": [],
   "source": [
    "    \n",
    "class norm_cop():\n",
    "\n",
    "    def __init__(self,L=np.array([[0,1,1],[1,0,1],[1,1,0]]),X=[np.array([[0,2,3],[2,0,4],[3,4,0]])]):\n",
    "        '''\n",
    "        L is location matrix: n x n\n",
    "        X is predictor matrix, day dependent: [mat_1 , mat_2 , .., mat_days] days times n x n \n",
    "        '''\n",
    "        self.N=L.shape[0]\n",
    "        self.L=L\n",
    "        self.X_all=X\n",
    "\n",
    "    def sim(self,theta,draws=3,as_x=True):\n",
    "        '''\n",
    "        Returns: [ [m [draws of length n] for day t+1],..., [m [draws of length n] for day t+T_(depending on prediction matricies X_all)] ]\n",
    "        So to get the samples from day t+1: sim[1-1]\n",
    "        To get k th draw from samples at day t+T: sim[T-1][k-1]\n",
    "        To get u for 3rd location of kth drw for day T: sim[T-1][k-1][3-1]'''\n",
    "        cov_mat_all=[Matern(length_scale=theta[1],nu=theta[2]).__call__(self.L)* Matern(length_scale=theta[3],nu=theta[4]).__call__(X_current) *np.power(theta[0],2) for X_current in self.X_all] \n",
    "        if as_x==True:\n",
    "            return [[scs.multivariate_normal.rvs(mean=np.zeros(self.N),cov=cov_mat) for i in range(draws) ] for cov_mat in cov_mat_all ]\n",
    "        if as_x==False:\n",
    "            Us=[[np.zeros(self.N) for i in range(draws)] for cov_mat in cov_mat_all ]\n",
    "            print(Us)\n",
    "            for day,cov_mat in enumerate(cov_mat_all):\n",
    "                for i in range(draws):\n",
    "                    Us[i][day]=[scs.multivariate_normal.cdf(y,mean=0,cov=cov_mat[idx,idx]) for idx,y in enumerate(scs.multivariate_normal.rvs(mean=np.zeros(self.N),cov=cov_mat))]\n",
    "            return Us\n",
    "\n",
    "    \n",
    "    def nll(self,theta,data):\n",
    "        #data is an array with multiple sets of joint realistaions\n",
    "        #theta=[sigma,p0,v0,p1,v1]\n",
    "        cov_mat=Matern(length_scale=theta[1],nu=theta[2]).__call__(self.L)* Matern(length_scale=theta[3],nu=theta[4]).__call__(self.L) *np.power(theta[0],2)      \n",
    "        #and  theta[indexes]\n",
    "        nll=0\n",
    "        for obs in data:\n",
    "            nll+= scs.multivariate_normal.logpdf(obs,mean=self.mean,cov=cov_mat) \n",
    "        return -nll"
   ]
  },
  {
   "cell_type": "code",
   "execution_count": 70,
   "metadata": {},
   "outputs": [
    {
     "data": {
      "text/plain": [
       "[[array([-1.67059506, -2.17823729, -1.67541737]),\n",
       "  array([-0.48034577,  0.44067071,  0.23919535])]]"
      ]
     },
     "execution_count": 70,
     "metadata": {},
     "output_type": "execute_result"
    }
   ],
   "source": [
    "norm_cop(X=[np.array([[0,2,3],[2,0,i+1],[3,i+1,0]]) for i in range(1)]).sim([1,2,3,4,5,6,7],draws=2,as_x=True)"
   ]
  },
  {
   "cell_type": "code",
   "execution_count": 26,
   "metadata": {},
   "outputs": [
    {
     "data": {
      "text/plain": [
       "[0.7884822354218189, 0.8502832158009465]"
      ]
     },
     "execution_count": 26,
     "metadata": {},
     "output_type": "execute_result"
    }
   ],
   "source": [
    "pog=scs.multivariate_normal.rvs(mean=[0,0],cov=np.matrix([[1,0],[0,1]]))\n",
    "[scs.multivariate_normal.cdf(pog[k],mean=[0,0][k],cov=np.matrix([[1,0],[0,1]])[k,k]) for k in range(len(pog))]"
   ]
  },
  {
   "cell_type": "code",
   "execution_count": 47,
   "metadata": {},
   "outputs": [
    {
     "data": {
      "text/plain": [
       "range(0, 1)"
      ]
     },
     "execution_count": 47,
     "metadata": {},
     "output_type": "execute_result"
    }
   ],
   "source": [
    "range(1)"
   ]
  },
  {
   "cell_type": "code",
   "execution_count": null,
   "metadata": {},
   "outputs": [],
   "source": []
  }
 ],
 "metadata": {
  "interpreter": {
   "hash": "d65f8af9b1347936d5c0a715a1a101b7602968bee42a1bc2161adfc924f1cbb0"
  },
  "kernelspec": {
   "display_name": "Python 3.9.10 64-bit",
   "language": "python",
   "name": "python3"
  },
  "language_info": {
   "codemirror_mode": {
    "name": "ipython",
    "version": 3
   },
   "file_extension": ".py",
   "mimetype": "text/x-python",
   "name": "python",
   "nbconvert_exporter": "python",
   "pygments_lexer": "ipython3",
   "version": "3.9.10"
  },
  "orig_nbformat": 4
 },
 "nbformat": 4,
 "nbformat_minor": 2
}
