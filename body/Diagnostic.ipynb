{
 "cells": [
  {
   "cell_type": "code",
   "execution_count": null,
   "metadata": {},
   "outputs": [],
   "source": [
    "#################################################################### Loading packages ####################################################################\n",
    "import sys as sys\n",
    "import os\n",
    "import numpy as np\n",
    "import scipy.stats as scs\n",
    "from matplotlib import pyplot as plt\n",
    "from mpl_toolkits.basemap import Basemap\n",
    "from tqdm import tqdm\n",
    "import pickle\n",
    "import math \n",
    "import re\n",
    "from Censored_copula import *\n",
    "from scipy.spatial import distance_matrix\n",
    "from sklearn.metrics.pairwise import euclidean_distances \n",
    "import pandas as pd\n",
    "from scipy.optimize import dual_annealing\n",
    "from joblib import Parallel, delayed\n",
    "import psutil\n",
    "from scipy.spatial.distance import pdist\n",
    "from sklearn.metrics import pairwise_distances\n",
    "from sklearn.gaussian_process.kernels import Matern\n",
    "plt.rcParams.update({'font.size': 30})\n",
    "\n",
    "#################################################################### Loading GNM ####################################################################\n",
    "model_version = 0 \n",
    "target_distribution = \"gamma_hurdle\"\n",
    "base_nn = \"HConvLSTM_tdscale\"\n",
    "sys.path.append('../')\n",
    "\n",
    "import pickle\n",
    "\n",
    "path_ = f\"Checkpoints/uk_rain_DGLM_{base_nn}_{target_distribution}/lightning_logs/version_{model_version}/\"\n",
    "#ckpt_path = glms.NeuralDGLM.get_ckpt_path(os.path.join(path_,\"checkpoints\"))\n",
    "ckpt_path = 'Checkpoints/uk_rain_DGLM_HConvLSTM_tdscale_gamma_hurdle/lightning_logs/version_0/checkpoints/epoch=3-step=9008-val_loss_loss=-0.552-val_metric_mse_rain=26.500.ckpt'\n",
    "print([path_,ckpt_path])\n",
    "'''\n",
    "scaler_features, scaler_target = glms.NeuralDGLM.load_scalers(path_)\n",
    "model = glms.NeuralDGLM.load_from_checkpoint(ckpt_path, save_hparams=False, scaler_features=scaler_features, scaler_target=scaler_target)\n",
    "model.freeze()\n",
    "model.eval()\n",
    "'''\n",
    "GNM_output = pickle.load( open(os.path.join(path_,\"test_output_1999-07_2019-07_test20y.pkl\"),\"rb\") )\n",
    "\n",
    "#################################################################### Problematic locations? ###############################################################\n",
    "\n",
    "location_keys = list(GNM_output.keys())                 # '([0, 16], [44, 60])', ...\n",
    "output_keys = list(GNM_output[location_keys[0]].keys()) # 0'pred_mu', 1'pred_disp', 2'target_did_rain', 3'target_rain_value', 4'date', 5'pred_p', 6'mask', 7'idx_loc_in_region'\n",
    "\n",
    "# May have to remove a location that doesn't have the correct number of days:\n",
    "location_keys.remove(location_keys[344]) #to remove for gamma_20_20_test\n",
    "#location_keys.remove(location_keys[171]) # to remove for gamma_20_20_unseen\n",
    "#location_keys.remove(location_keys[344]) # to remove for 10 y train\n",
    "#location_keys.remove(location_keys[312])  # to remove for 2y_test\n",
    "#location_keys.remove(location_keys[336]) #to remove for gamma_20_20 train  \n",
    "#################################################################### Utility functions ####################################################################\n",
    "def give_lat_lon(location_key):\n",
    "    return [ int(re.findall(r'\\d+',string)[0]) for string in location_key.split(',')]\n",
    "\n",
    "def is_loc_land(location,row,column):\n",
    "    return GNM_output[location]['mask'][0][row][column]\n",
    "\n",
    "#location_keys.remove('lat_50.95_49.35_lon_-4.55_-2.95') # 'lat_50.95_49.35_lon_-4.55_-2.95' has no data after week indexed 255, so I did not consider it.\n",
    "day_dates = [pd.to_datetime(i).date() for i in GNM_output[location_keys[0]]['date']]\n",
    "output_keys.remove('idx_loc_in_region') # not usefull\n",
    "output_keys.remove('date') # no more usefull\n",
    "\n",
    "#################################################################### Making list for land locations ####################################################################\n",
    "#GNM_landonly[location][param][day]\n",
    "# 0'pred_mu', 1'pred_disp', 2'target_did_rain', 3'target_rain_value', 4'pred_p', 5'location'\n",
    "\n",
    "GNM_landonly = [] \n",
    "land_counter = -1\n",
    "for location in tqdm(location_keys):\n",
    "    for col in range(4):\n",
    "        for row in range(4):\n",
    "            if not is_loc_land(location,row,col):#check if land\n",
    "               continue  \n",
    "            land_counter+=1\n",
    "            GNM_landonly.append([[],[],[],[],[]]) # parameters except location\n",
    "            temp_lat_lon = give_lat_lon(location)\n",
    "            GNM_landonly[land_counter].append([temp_lat_lon[1]-8+row,(temp_lat_lon[2])+6+col]) #location\n",
    "            for param_idx,param in enumerate(output_keys[:-1]):\n",
    "                for day in range(len(GNM_output[location_keys[0]]['pred_mu'])):\n",
    "                    qqq = [location,param,day,row,col]\n",
    "                    GNM_landonly[land_counter][param_idx].append(GNM_output[location][param][day][row,col])\n",
    "\n",
    "dist_mat = distance_matrix(np.matrix([[GNM_landonly[loc][5][0],GNM_landonly[loc][5][1]] for loc in range(len(GNM_landonly))]),np.matrix([[GNM_landonly[loc][5][0],GNM_landonly[loc][5][1]] for loc in range(len(GNM_landonly))]))\n",
    "\n",
    "#################################################################### Elevation data ####################################################################\n",
    "import netCDF4 as nc\n",
    "fn = 'topo_0.1_degree.nc'\n",
    "ds = nc.Dataset(fn)\n",
    "h = ds['Band1'][:]\n",
    "h = np.flip(np.matrix(h),axis=0)\n",
    "topo_dist = euclidean_distances(np.array([h[loc[5][0],loc[5][1]+2] for loc in GNM_landonly]).reshape(-1,1))"
   ]
  },
  {
   "cell_type": "code",
   "execution_count": null,
   "metadata": {},
   "outputs": [],
   "source": [
    "for i,k in enumerate(location_keys):\n",
    "    if k=='([80, 96], [64, 80])':\n",
    "        print(i,k)"
   ]
  },
  {
   "attachments": {},
   "cell_type": "markdown",
   "metadata": {},
   "source": [
    "# Warwing: check if the correct locations were removed"
   ]
  },
  {
   "attachments": {},
   "cell_type": "markdown",
   "metadata": {},
   "source": [
    "# Diagnostics"
   ]
  },
  {
   "attachments": {},
   "cell_type": "markdown",
   "metadata": {},
   "source": [
    "### Marginals"
   ]
  },
  {
   "cell_type": "code",
   "execution_count": null,
   "metadata": {},
   "outputs": [],
   "source": [
    "# Draw time-series plot with quantiles for predicted vs trget rain at a given location. ~3s \n",
    "# Just change values at the top.\n",
    "\n",
    "#ts_plot_location = 3055\n",
    "for ts_plot_location in [954]:\n",
    "    print(ts_plot_location)\n",
    "    ts_plot_left_lim,ts_plot_right_lim = ts_plot_location+0,ts_plot_location+0+360\n",
    "\n",
    "    #################################################################### Do not touch the rest ####################################################################\n",
    "    import matplotlib.dates as mdates\n",
    "\n",
    "    # mean and 68, 95 percentiles \n",
    "    g_median = []\n",
    "    g_q25 = []\n",
    "    g_q75 = []\n",
    "    g_q68 = []\n",
    "    g_q95 = []\n",
    "    g_q32 = []\n",
    "    g_q05 = []\n",
    "\n",
    "    #GNM_landonly[location][param][day]\n",
    "    ## 0'pred_mu', 1'pred_disp', 2'target_did_rain', 3'target_rain_value', 4'pred_p', 5'location'\n",
    "\n",
    "    #gamma_outputs [place][parameter][day][row][column]\n",
    "    # 0 'pred_mu', 1'pred_disp', 2'target_did_rain', 3'target_rain_value', 4'date', 5'pred_p', 6'location'.\n",
    "\n",
    "    for m,d,i in zip([GNM_landonly[ts_plot_location][0][i] for i in range(len(GNM_landonly[0][0]))],[GNM_landonly[ts_plot_location][1][i] for i in range(len(GNM_landonly[0][0]))],range(len(GNM_landonly[0][0]))) :\n",
    "        rv = scs.gamma(scale=m*d,a=1/d)  \n",
    "        \n",
    "        g_median.append(rv.ppf((GNM_landonly[ts_plot_location][4][i]-1+0.5)/GNM_landonly[ts_plot_location][4][i]))\n",
    "        g_q25.append(rv.ppf((GNM_landonly[ts_plot_location][4][i]-1+0.25)/GNM_landonly[ts_plot_location][4][i]))\n",
    "        g_q75.append(rv.ppf((GNM_landonly[ts_plot_location][4][i]-1+0.75)/GNM_landonly[ts_plot_location][4][i]))\n",
    "        g_q95.append(rv.ppf((GNM_landonly[ts_plot_location][4][i]-1+0.95)/GNM_landonly[ts_plot_location][4][i]))\n",
    "        g_q05.append(rv.ppf((GNM_landonly[ts_plot_location][4][i]-1+0.05)/GNM_landonly[ts_plot_location][4][i]))\n",
    "\n",
    "    for q in [g_median,g_q25,g_q05,g_q32,g_q68,g_q75,g_q95]:\n",
    "        for i in range(len(q)):\n",
    "            if math.isnan(q[i]):\n",
    "                q[i]=0\n",
    "                \n",
    "    plt.figure(figsize=(25, 8),dpi=700)\n",
    "    plt.plot(day_dates,g_q05,color='skyblue',linewidth=0.6,alpha=1,label='forecast percentiles 05 to 95')\n",
    "    plt.plot(day_dates,g_q25,color='navy',linewidth=0.6,alpha=1,label='forecast percentiles 25 to 75')\n",
    "    plt.plot(day_dates,g_median,color='blue',linewidth=1,alpha=1,label='forcast median')\n",
    "    plt.plot(day_dates,g_q75,color='navy',linewidth=0.6,alpha=1)\n",
    "    plt.plot(day_dates,g_q95,color='skyblue',linewidth=0.6,alpha=1)\n",
    "    plt.fill_between(day_dates, g_median, g_q75, where=([g_median[k] < g_q75[k] for k in range(len(GNM_landonly[ts_plot_location][4]))]), color='navy', alpha=0.6,interpolate=True)\n",
    "    plt.fill_between(day_dates, g_median, g_q25, where=([g_median[k] > g_q25[k] for k in range(len(GNM_landonly[ts_plot_location][4]))]), color='navy', alpha=0.6,interpolate=True)\n",
    "    plt.fill_between(day_dates, g_q95, g_q75, where=([g_q95[k] > g_q75[k] for k in range(len(GNM_landonly[ts_plot_location][4]))]), color='skyblue', alpha=0.6,interpolate=True)\n",
    "    plt.fill_between(day_dates, g_q05, g_q25, where=([g_q05[k] < g_q25[k] for k in range(len(GNM_landonly[ts_plot_location][4]))]), color='skyblue', alpha=0.6,interpolate=True)\n",
    "    plt.scatter(day_dates,[GNM_landonly[ts_plot_location][3][i] for i in range(len(GNM_landonly[0][0]))],color='r',marker='1',s=20,label='observed rain')\n",
    "    plt.plot(day_dates,[GNM_landonly[ts_plot_location][3][i] for i in range(len(GNM_landonly[0][0]))],color='r',alpha=0.6,linewidth=0.3)\n",
    "    plt.xlim((day_dates[ts_plot_left_lim],day_dates[ts_plot_right_lim]))\n",
    "    plt.title('Gamma model at location '+str(GNM_landonly[ts_plot_location][5]))\n",
    "    plt.xlabel('Day index')\n",
    "    plt.ylabel('Precipitation (mm)')\n",
    "    plt.gca().xaxis.set_major_locator(mdates.DayLocator(interval=14))\n",
    "    plt.gcf().autofmt_xdate()\n",
    "    plt.legend()\n",
    "    plt.show()"
   ]
  },
  {
   "cell_type": "code",
   "execution_count": null,
   "metadata": {},
   "outputs": [],
   "source": [
    "# Densities plots\n",
    "# Just change values at the top.\n",
    "\n",
    "density_plot_location = 111\n",
    "density_plot_start,density_plot_end = 370,376\n",
    "\n",
    "#################################################################### Do not touch the rest ####################################################################\n",
    "import matplotlib\n",
    "\n",
    "x=[i/20 for i in range(400)]\n",
    "plt.figure(figsize=(10,(density_plot_end-density_plot_start)*2))\n",
    "colors = matplotlib.cm.viridis(np.linspace(0, 1, len(range(density_plot_end,density_plot_start,-1))))\n",
    "for idx,col in zip(reversed(range(density_plot_start-1,density_plot_end)),colors):\n",
    "    rv=scs.gamma(scale=[GNM_landonly[density_plot_location][1][i] for i in range(len(GNM_landonly[ts_plot_location][4]))][idx]*[GNM_landonly[density_plot_location][0][i] for i in range(len(GNM_landonly[ts_plot_location][4]))][idx],a=1/[GNM_landonly[density_plot_location][1][i] for i in range(len(GNM_landonly[ts_plot_location][4]))][idx])\n",
    "    level=(-0.3+(idx+1-density_plot_start)*0.25)\n",
    "    plt.plot(x,level+rv.pdf(x),color='black',alpha=0.7)\n",
    "    plt.fill_between(x,y1=level+rv.pdf(x),y2=level,where=([level+rv.pdf(x_)>level for x_ in x]),color=col,alpha=0.5)\n",
    "    plt.text(15,level+0.03,'p= '+str(round([GNM_landonly[density_plot_location][4][i] for i in range(len(GNM_landonly[ts_plot_location][4]))][idx],2)))\n",
    "    plt.scatter([GNM_landonly[density_plot_location][3][i] for i in range(len(GNM_landonly[ts_plot_location][4]))][idx],level,marker='v',color='b')\n",
    "plt.xlabel('Precipitation (mm)')\n",
    "plt.title('Gamma(y) in location '+str(GNM_landonly[density_plot_location][5]))\n",
    "plt.yticks([-0.3+(idx-density_plot_start)*0.25 for idx in range(density_plot_end,density_plot_start,-1)],reversed([pd.to_datetime(i).date() for i in GNM_output[location_keys[0]]['date'][density_plot_start:density_plot_end]]))\n",
    "#plt.yticks([-0.3+(idx-density_plot_start)*0.25 for idx in range(density_plot_end,density_plot_start,-1)],[k for k in range([density_plot_start:density_plot_end]])\n",
    "plt.show()"
   ]
  },
  {
   "attachments": {},
   "cell_type": "markdown",
   "metadata": {},
   "source": [
    "### Simulations"
   ]
  },
  {
   "cell_type": "code",
   "execution_count": null,
   "metadata": {},
   "outputs": [],
   "source": [
    "covariance_matrix = np.nan_to_num(Matern(length_scale=400,nu=3.5).__call__(0.9*dist_mat+((1-0.9)/70)*topo_dist))\n",
    "sim_test = scs.multivariate_normal(mean=np.zeros(len(dist_mat)),cov= covariance_matrix ,allow_singular=True).rvs(size=100)\n",
    "\n",
    "def GNM_x_to_y(x_one_day_all_locs,day_idx):\n",
    "    m = np.array([GNM_landonly[l][0][day_idx] for l in range(len(x_one_day_all_locs))])\n",
    "    d = np.array([GNM_landonly[l][1][day_idx] for l in range(len(x_one_day_all_locs))])\n",
    "    p = np.array([GNM_landonly[l][4][day_idx] for l in range(len(x_one_day_all_locs))])\n",
    "    sim_u = scs.norm.cdf(x_one_day_all_locs)\n",
    "    censored_u = (sim_u+p-1)/p\n",
    "    return np.nan_to_num(scs.gamma(a=1/d,scale=m*d).ppf(censored_u),nan=0)\n",
    "    "
   ]
  },
  {
   "cell_type": "code",
   "execution_count": null,
   "metadata": {},
   "outputs": [],
   "source": [
    "day_subset=np.random.choice(range(len(GNM_landonly[0][0])),50,replace=False)\n",
    "\n",
    "'''# For robustness only\n",
    "with open('day_subset_robustness.txt','rb') as f:\n",
    "    day_subset = pickle.load(f)'''\n",
    "\n",
    "sims_all_copula = []\n",
    "for d in tqdm(day_subset):\n",
    "    sims_all_copula.append([GNM_x_to_y([sim_test[s][l] for l in range(len(GNM_landonly))],d) for s in range(100)])"
   ]
  },
  {
   "cell_type": "code",
   "execution_count": null,
   "metadata": {},
   "outputs": [],
   "source": [
    "import matplotlib.pyplot as plt\n",
    "from IPython.display import clear_output\n",
    "import time\n",
    "from PIL import Image\n",
    "\n",
    "day_subsample_idx = 32\n",
    "\n",
    "min_rain = 0\n",
    "max_rain = max([GNM_landonly[l][3][day_subset[day_subsample_idx]] for l in range(len(GNM_landonly))]) + 5\n",
    "\n",
    "# Create a list to store frames\n",
    "frames = []\n",
    "\n",
    "# Set the figure size outside the loop\n",
    "fig = plt.figure(figsize=(13, 9))\n",
    "\n",
    "def plot_graphs(plots_nb):\n",
    "    for sim in range(plots_nb):\n",
    "        plt.clf()  # Clear the previous plot\n",
    "        plt.xlim(0, 140)\n",
    "        plt.ylim(-100, 0)\n",
    "\n",
    "        plt.scatter([GNM_landonly[loc][5][1] for loc in range(len(sim_test[0]))],\n",
    "                    [-GNM_landonly[loc][5][0] for loc in range(len(sim_test[0]))],\n",
    "                    c=sims_all_copula[day_subsample_idx][sim],\n",
    "                    cmap='inferno_r', s=27, marker='s', vmin=min_rain, vmax=max_rain)\n",
    "        \n",
    "        plt.xticks([])\n",
    "        plt.yticks([])\n",
    "        plt.title('Simulated rain sample ' + str(sim))\n",
    "\n",
    "        # Convert the current plot to an image\n",
    "        fig.canvas.draw()\n",
    "        img = Image.frombytes('RGB', fig.canvas.get_width_height(), fig.canvas.tostring_rgb())\n",
    "        frames.append(img)\n",
    "\n",
    "        clear_output(wait=True)  # Clear the output for the next plot\n",
    "        time.sleep(1)  # Pause for 1 second\n",
    "\n",
    "# Call the function to create frames\n",
    "plot_graphs(100)\n",
    "\n",
    "# Save the frames as a GIF\n",
    "frames[0].save('slideshow.gif', save_all=True, append_images=frames[1:], duration=1000, loop=0)\n",
    "\n",
    "\n",
    "fig = plt.figure(figsize=(13, 9))\n",
    "day_index = day_subset[day_subsample_idx]\n",
    "plt.xlim(0,140)\n",
    "plt.ylim(-100,0)\n",
    "plt.scatter([GNM_landonly[loc][5][1] for loc in range(len(sim_test[0]))],[-GNM_landonly[loc][5][0] for loc in range(len(sim_test[0]))],c=[GNM_landonly[l][3][day_index] for l in range(len(GNM_landonly))][:len(sim_test[0])],cmap='inferno_r',s=27,marker='s',vmin=min_rain,vmax=max_rain)\n",
    "plt.colorbar(location='bottom',fraction=0.0652,pad=0.001)\n",
    "plt.title('Observed rain')\n",
    "plt.xticks([])\n",
    "plt.yticks([])\n",
    "plt.show()"
   ]
  },
  {
   "cell_type": "code",
   "execution_count": null,
   "metadata": {},
   "outputs": [],
   "source": [
    "\n",
    "for d in range(50):\n",
    "    day_index = day_subset[d]\n",
    "    fig = plt.gcf() \n",
    "    fig.set_size_inches(14,10)\n",
    "    plt.xlim(0,140)\n",
    "    plt.ylim(-100,0)\n",
    "    plt.tight_layout()\n",
    "    plt.scatter([GNM_landonly[loc][5][1] for loc in range(len(sim_test[0]))],[-GNM_landonly[loc][5][0] for loc in range(len(sim_test[0]))],c=[GNM_landonly[l][3][day_index] for l in range(len(GNM_landonly))][:len(sim_test[0])],cmap='inferno_r',s=27,marker='s')\n",
    "    plt.colorbar(location='bottom',fraction=0.0652,pad=0.001)\n",
    "    plt.title('obs'+ str(d))\n",
    "    plt.xticks([])\n",
    "    plt.yticks([])\n",
    "    plt.show()"
   ]
  },
  {
   "cell_type": "code",
   "execution_count": null,
   "metadata": {},
   "outputs": [],
   "source": [
    "#plot sampled normals uncensored or cenored and transformed\n",
    "day_index = day_subset[40]\n",
    "\n",
    "fig = plt.gcf() \n",
    "fig.set_size_inches(14,10)\n",
    "plt.xlim(0,140)\n",
    "plt.ylim(-100,0)\n",
    "plt.tight_layout()\n",
    "plt.scatter([GNM_landonly[loc][5][1] for loc in range(len(sim_test[0]))],[-GNM_landonly[loc][5][0] for loc in range(len(sim_test[0]))],c=[GNM_landonly[l][3][day_index] for l in range(len(GNM_landonly))][:len(sim_test[0])],cmap='inferno_r',s=27,marker='s')\n",
    "plt.colorbar(location='bottom',fraction=0.0652,pad=0.001)\n",
    "plt.title('obs')\n",
    "plt.xticks([])\n",
    "plt.yticks([])\n",
    "plt.show()\n",
    "\n",
    "min_rain = 0\n",
    "max_rain = max([GNM_landonly[l][3][day_index] for l in range(len(GNM_landonly))])+2\n",
    "\n",
    "fig = plt.gcf() \n",
    "fig.set_size_inches(14,10)\n",
    "plt.tight_layout()\n",
    "plt.xlim(0,140)\n",
    "plt.ylim(-100,0)\n",
    "plt.scatter([GNM_landonly[loc][5][1] for loc in range(len(sim_test[0]))],[-GNM_landonly[loc][5][0] for loc in range(len(sim_test[0]))],c=np.mean([GNM_x_to_y(sim_test[s],day_index) for s in range(25)],axis=0),cmap='inferno_r',s=27,marker='s',vmin=min_rain,vmax=max_rain)\n",
    "plt.colorbar(location='bottom',fraction=0.0652,pad=0.001)\n",
    "plt.title('median pred rain')\n",
    "plt.xticks([])\n",
    "plt.yticks([])\n",
    "plt.show()\n",
    "\n",
    "for idx,sim in enumerate(sim_test[5:43]):\n",
    "    plt.xlim(0,140)\n",
    "    plt.ylim(-100,0)\n",
    "    fig = plt.gcf() \n",
    "    fig.set_size_inches(14,10)\n",
    "    plt.tight_layout()\n",
    "\n",
    "    plt.scatter([GNM_landonly[loc][5][1] for loc in range(len(sim_test[0]))],[-GNM_landonly[loc][5][0] for loc in range(len(sim_test[0]))],c=GNM_x_to_y(sim,day_index),cmap='inferno_r',s=27,marker='s',vmin=min_rain,vmax=max_rain)\n",
    "    plt.colorbar(location='bottom',fraction=0.0652,pad=0.001)\n",
    "    plt.xticks([])\n",
    "    plt.yticks([])\n",
    "    plt.title('sims '+str(idx))\n",
    "    plt.show()"
   ]
  },
  {
   "attachments": {},
   "cell_type": "markdown",
   "metadata": {},
   "source": [
    "### Median forecast"
   ]
  },
  {
   "cell_type": "code",
   "execution_count": null,
   "metadata": {},
   "outputs": [],
   "source": [
    "day_subset=np.random.choice(range(len(GNM_landonly[0][0])),500,replace=False)\n",
    "#for comparison of marginals gamma vs CP\n",
    "with open('day_subset_marginals.txt','rb') as f:\n",
    "    day_subset = pickle.load(f)"
   ]
  },
  {
   "cell_type": "code",
   "execution_count": null,
   "metadata": {},
   "outputs": [],
   "source": [
    "\n",
    "g_median_all= np.nan_to_num(\n",
    "    scs.gamma(\n",
    "        a=np.array([[GNM_landonly[l][0][d] for l in range(len(GNM_landonly))] for d in tqdm(range(len(GNM_landonly[0][0])))]) , \n",
    "        scale=np.reciprocal(np.array([[GNM_landonly[l][1][d] for l in range(len(GNM_landonly))] for d in range(len(GNM_landonly[0][0]))])) \n",
    "        ).ppf(\n",
    "            (np.array([[GNM_landonly[l][4][d] for l in range(len(GNM_landonly))] for d in range(len(GNM_landonly[0][0]))])-0.5\n",
    "            )/(\n",
    "                np.array([[GNM_landonly[l][4][d] for l in range(len(GNM_landonly))] for d in tqdm(range(len(GNM_landonly[0][0])))])\n",
    "                )\n",
    "            ), \n",
    "            nan=0,posinf=20,neginf=0)\n"
   ]
  },
  {
   "cell_type": "code",
   "execution_count": null,
   "metadata": {},
   "outputs": [],
   "source": [
    "median_x_all = [np.median([sim_test[s] for s in range(25)],axis=0) for d in tqdm(day_subset)]"
   ]
  },
  {
   "cell_type": "code",
   "execution_count": null,
   "metadata": {},
   "outputs": [],
   "source": [
    "g_median_pred_all = []\n",
    "for i,d in tqdm(enumerate(day_subset)):\n",
    "    g_median_pred_all.append(GNM_x_to_y(median_x_all[i],d) )"
   ]
  },
  {
   "cell_type": "code",
   "execution_count": null,
   "metadata": {},
   "outputs": [],
   "source": [
    "for i,m in enumerate(day_subset[:3]):\n",
    "    min_rain = min([GNM_landonly[l][3][m] for l in range(len(GNM_landonly))])\n",
    "    max_rain = max([GNM_landonly[l][3][m] for l in range(len(GNM_landonly))])\n",
    "\n",
    "    fig = plt.gcf() \n",
    "    fig.set_size_inches(14,10)\n",
    "    plt.xlim(0,140)\n",
    "    plt.ylim(-100,0)\n",
    "    plt.scatter([GNM_landonly[loc][5][1] for loc in range(len(sim_test[0]))],[-GNM_landonly[loc][5][0] for loc in range(len(sim_test[0]))],c=[GNM_landonly[l][3][m] for l in range(len(GNM_landonly))][:len(sim_test[0])],cmap='inferno_r',s=27,marker='s')\n",
    "    plt.colorbar(location='bottom',fraction=0.0652,pad=0.001)\n",
    "    plt.title('observed rain' + str(m))\n",
    "    plt.show()\n",
    "\n",
    "    fig = plt.gcf() \n",
    "    fig.set_size_inches(14,10)\n",
    "    plt.xlim(0,140)\n",
    "    plt.ylim(-100,0)\n",
    "    plt.scatter([GNM_landonly[loc][5][1] for loc in range(len(sim_test[0]))],[-GNM_landonly[loc][5][0] for loc in range(len(sim_test[0]))],c=g_median_pred_all[i],cmap='inferno_r',s=27,marker='s',vmin=min_rain,vmax=max_rain)\n",
    "    plt.colorbar(location='bottom',fraction=0.0652,pad=0.001)\n",
    "    plt.title('median pred rain'+ str(m))\n",
    "    plt.show()\n",
    "\n",
    "    fig = plt.gcf() \n",
    "    fig.set_size_inches(14,10)\n",
    "    plt.xlim(0,140)\n",
    "    plt.ylim(-100,0)\n",
    "    plt.scatter([GNM_landonly[loc][5][1] for loc in range(len(sim_test[0]))],[-GNM_landonly[loc][5][0] for loc in range(len(sim_test[0]))],c=g_median_all[m],cmap='inferno_r',s=27,marker='s',vmin=min_rain,vmax=max_rain)\n",
    "    plt.colorbar(location='bottom',fraction=0.0652,pad=0.001)\n",
    "    plt.title('median GNM rain'+ str(m))\n",
    "    plt.show()"
   ]
  },
  {
   "cell_type": "code",
   "execution_count": null,
   "metadata": {},
   "outputs": [],
   "source": [
    "with open('topo_dist.txt','wb') as f:\n",
    "    pickle.dump(topo_dist,f)"
   ]
  },
  {
   "cell_type": "code",
   "execution_count": null,
   "metadata": {},
   "outputs": [],
   "source": [
    "# Median rain forecasts for all days and locations\n",
    "#GNM_landonly[location][param][day]\n",
    "\n",
    "\n",
    "# Used to get the vectors for all locations and all times, not needed after that.\n",
    "\n",
    "g_median_all=[]\n",
    "\n",
    "for loc in tqdm(range(len(GNM_landonly))):\n",
    "    for day in range(len(GNM_landonly[0][1])):\n",
    "        m,d = GNM_landonly[loc][0][day] , GNM_landonly[loc][1][day]\n",
    "        rv = scs.gamma(scale=m*d,a=1/d)  \n",
    "        g_median_all.append(rv.ppf((GNM_landonly[loc][4][day]-1+0.5)/GNM_landonly[loc][4][day]))\n",
    "\n",
    "g_median_all = np.nan_to_num(g_median_all,copy=True)\n",
    "\n",
    "with open('g_median_all_20y_20y.txt','wb') as f:\n",
    "    pickle.dump(g_median_all,f)\n",
    "\n",
    "'''\n",
    "with open('g_median_all_20y_20y.txt','rb') as f:\n",
    "    g_median_all = pickle.load(f)\n",
    "g_median_all_test = np.nan_to_num(g_median_all,nan=0)\n",
    "'''"
   ]
  },
  {
   "cell_type": "code",
   "execution_count": null,
   "metadata": {},
   "outputs": [],
   "source": [
    "def get_median(locs,nb_days):\n",
    "    g_median_all_=[]\n",
    "    for loc in locs:\n",
    "        for day in range(nb_days):\n",
    "            m,d = GNM_landonly[loc][0][day] , GNM_landonly[loc][1][day]\n",
    "            rv = scs.gamma(scale=m*d,a=1/d)  \n",
    "            g_median_all_.append(rv.ppf((GNM_landonly[loc][4][day]-1+0.5)/GNM_landonly[loc][4][day]))\n",
    "\n",
    "    \n",
    "\n",
    "    return g_median_all_"
   ]
  },
  {
   "cell_type": "code",
   "execution_count": null,
   "metadata": {},
   "outputs": [],
   "source": [
    "def get_median(locs,nb_days):\n",
    "    g_median_all_=[]\n",
    "    for loc in locs:\n",
    "        for day in range(nb_days):\n",
    "            g_median_all_.append((GNM_landonly[loc][4][day]-1+0.5)/GNM_landonly[loc][4][day])\n",
    "\n",
    "    return g_median_all_"
   ]
  },
  {
   "cell_type": "code",
   "execution_count": null,
   "metadata": {},
   "outputs": [],
   "source": [
    "from joblib import Parallel, delayed\n",
    "import psutil\n",
    "\n",
    "size = math.ceil(len(GNM_landonly)/psutil.cpu_count())\n",
    "locs_chuncks = [[i for i in range(len(GNM_landonly))][x:x+size] for x in range(0,len(GNM_landonly), size)]\n",
    "print(size,psutil.cpu_count(),len(locs_chuncks))\n",
    "list_g_median_all = Parallel(n_jobs=psutil.cpu_count())(delayed(get_median)(chunck[:2],2) for chunck in tqdm(locs_chuncks))"
   ]
  },
  {
   "attachments": {},
   "cell_type": "markdown",
   "metadata": {},
   "source": [
    "### ROC"
   ]
  },
  {
   "cell_type": "code",
   "execution_count": null,
   "metadata": {},
   "outputs": [],
   "source": [
    "# getting vector of 'did it rain this much'\n",
    "g_0mm=[]\n",
    "g_5mm=[]\n",
    "g_10mm=[]\n",
    "g_15mm=[]\n",
    "g_20mm=[]\n",
    "g_25mm=[]\n",
    "\n",
    "#GNM_landonly[location][param][day]\n",
    "# 0'pred_alpha', 1'pred_beta', 2 rain>0 , 3'target_rain', 4 pred_p, 5 loc\n",
    "\n",
    "def fast_roc(day,x):\n",
    "   \n",
    "   out = 1-(\n",
    "         (1-np.array([GNM_landonly[l][4][day] for l in range(len(GNM_landonly))])) + \n",
    "         np.multiply(\n",
    "            [GNM_landonly[l][4][day] for l in range(len(GNM_landonly))] , \n",
    "            scs.gamma( scale=[1/GNM_landonly[l][1][day] for l in range(len(GNM_landonly))] , \n",
    "                        a=[GNM_landonly[l][0][day] for l in range(len(GNM_landonly))]\n",
    "               ).cdf(x)\n",
    "            )        \n",
    "      )\n",
    "\n",
    "   return out\n",
    "\n",
    "\n",
    "for d in tqdm(day_subset):\n",
    "   g_0mm.append(fast_roc(d,0.01))\n",
    "   g_5mm.append(fast_roc(d,5))\n",
    "   g_10mm.append(fast_roc(d,10))\n",
    "   g_15mm.append(fast_roc(d,15))\n",
    "   g_20mm.append(fast_roc(d,20))\n",
    "   g_25mm.append(fast_roc(d,25))\n",
    "\n",
    "g_0mm_did_rain=[]\n",
    "g_5mm_did_rain=[]\n",
    "g_10mm_did_rain=[]\n",
    "g_15mm_did_rain=[]\n",
    "g_20mm_did_rain=[]\n",
    "g_25mm_did_rain=[]\n",
    "def roc_didrain(day,x):\n",
    "    return np.array([GNM_landonly[l][3][day] for l in range(len(GNM_landonly))])>x\n",
    "for d in tqdm(day_subset):\n",
    "   g_0mm_did_rain.append(roc_didrain(d,0.01))\n",
    "   g_5mm_did_rain.append(roc_didrain(d,5))\n",
    "   g_10mm_did_rain.append(roc_didrain(d,10))\n",
    "   g_15mm_did_rain.append(roc_didrain(d,15))\n",
    "   g_20mm_did_rain.append(roc_didrain(d,20))\n",
    "   g_25mm_did_rain.append(roc_didrain(d,25))"
   ]
  },
  {
   "cell_type": "code",
   "execution_count": null,
   "metadata": {},
   "outputs": [],
   "source": [
    "\n",
    "with open('roc_convcnp20ytest.txt','rb') as f:\n",
    "    [fpr_0mm, tpr_0mm,fpr_5mm, tpr_5mm,fpr_10mm, tpr_10mm,fpr_15mm, tpr_15mm,fpr_20mm, tpr_20mm,fpr_25mm, tpr_25mm,auc0,auc5,auc10,auc15,auc20,auc25] = pickle.load(f)"
   ]
  },
  {
   "cell_type": "code",
   "execution_count": null,
   "metadata": {},
   "outputs": [],
   "source": [
    "# Drawing uniformly from marginals to compare vs CP\n",
    "def GNM_unif_to_y(unif,day_idx):\n",
    "    m = np.array([GNM_landonly[l][0][day_idx] for l in range(len(GNM_landonly))])\n",
    "    d = np.array([GNM_landonly[l][1][day_idx] for l in range(len(GNM_landonly))])\n",
    "    p = np.tile(np.array([GNM_landonly[l][4][day_idx] for l in range(len(GNM_landonly))]),(unif.shape[0],1))\n",
    "    return np.nan_to_num(scs.gamma(a=1/d,scale=m*d).ppf(np.divide(unif+p-1,p)),nan=0)\n",
    "\n",
    "sims_all_copula = []\n",
    "for day in tqdm(day_subset):\n",
    "    sims_all_copula.append(GNM_unif_to_y(np.random.uniform(size=(100,len(GNM_landonly))),day)) # HERE IS NOT COPULA BUT JUST UNIFORM"
   ]
  },
  {
   "cell_type": "code",
   "execution_count": null,
   "metadata": {},
   "outputs": [],
   "source": [
    "# ROC for samples\n",
    "sims_all_copula = np.array(sims_all_copula)\n",
    "g_0mm=np.mean(sims_all_copula>0,axis=1).flatten()\n",
    "g_5mm=np.mean(sims_all_copula>5,axis=1).flatten()\n",
    "g_10mm=np.mean(sims_all_copula>10,axis=1).flatten()\n",
    "g_15mm=np.mean(sims_all_copula>15,axis=1).flatten()\n",
    "g_20mm=np.mean(sims_all_copula>20,axis=1).flatten()\n",
    "g_25mm=np.mean(sims_all_copula>25,axis=1).flatten()\n",
    "all_target_rain = np.array([np.array([GNM_landonly[loc][3][day] for day in day_subset])for loc in range(len(GNM_landonly))]).flatten().reshape(len(GNM_landonly),len(day_subset))\n",
    "g_0mm_did_rain=(all_target_rain.transpose()>0).flatten()\n",
    "g_5mm_did_rain=(all_target_rain.transpose()>5).flatten()\n",
    "g_10mm_did_rain=(all_target_rain.transpose()>10).flatten()\n",
    "g_15mm_did_rain=(all_target_rain.transpose()>15).flatten()\n",
    "g_20mm_did_rain=(all_target_rain.transpose()>20).flatten()\n",
    "g_25mm_did_rain=(all_target_rain.transpose()>25).flatten()"
   ]
  },
  {
   "cell_type": "code",
   "execution_count": null,
   "metadata": {},
   "outputs": [],
   "source": [
    "# Restructuring data for ROC ~1m+3m/20y , 6m/30y\n",
    "from sklearn import metrics\n",
    "# g_25mm[loc][parallel run][0:rained more than x, 1:P it rained x][days]\n",
    "roc_0_tf = np.array(g_0mm_did_rain).flatten()\n",
    "roc_0_p = np.array(g_0mm).flatten()\n",
    "\n",
    "roc_5_tf = np.array(g_5mm_did_rain).flatten()\n",
    "roc_5_p = np.array(g_5mm).flatten()\n",
    "\n",
    "roc_10_tf = np.array(g_10mm_did_rain).flatten()\n",
    "roc_10_p = np.array(g_10mm).flatten()\n",
    "\n",
    "roc_15_tf = np.array(g_15mm_did_rain).flatten()\n",
    "roc_15_p = np.array(g_15mm).flatten()\n",
    "\n",
    "roc_20_tf = np.array(g_20mm_did_rain).flatten()\n",
    "roc_20_p = np.array(g_20mm).flatten()\n",
    "\n",
    "roc_25_tf = np.array(g_25mm_did_rain).flatten()\n",
    "roc_25_p = np.array(g_25mm).flatten()\n",
    "\n",
    "###\n",
    "\n",
    "fpr_0mm, tpr_0mm, _ = metrics.roc_curve(roc_0_tf,roc_0_p)\n",
    "auc0 = metrics.roc_auc_score(roc_0_tf,roc_0_p)\n",
    "\n",
    "fpr_5mm, tpr_5mm, _ = metrics.roc_curve(roc_5_tf,roc_5_p)\n",
    "auc5 = metrics.roc_auc_score(roc_5_tf,roc_5_p)\n",
    "\n",
    "fpr_10mm, tpr_10mm, _ = metrics.roc_curve(roc_10_tf,roc_10_p)\n",
    "auc10 = metrics.roc_auc_score(roc_10_tf,roc_10_p)\n",
    "\n",
    "fpr_15mm, tpr_15mm, _ = metrics.roc_curve(roc_15_tf,roc_15_p)\n",
    "auc15 = metrics.roc_auc_score(roc_15_tf,roc_15_p)\n",
    "\n",
    "fpr_20mm, tpr_20mm, _ = metrics.roc_curve(roc_20_tf,roc_20_p)\n",
    "auc20 = metrics.roc_auc_score(roc_20_tf,roc_20_p)\n",
    "\n",
    "fpr_25mm, tpr_25mm, _ = metrics.roc_curve(roc_25_tf,roc_25_p)\n",
    "auc25 = metrics.roc_auc_score(roc_25_tf,roc_25_p)"
   ]
  },
  {
   "cell_type": "code",
   "execution_count": null,
   "metadata": {},
   "outputs": [],
   "source": [
    "# ROC plot ~3m\n",
    "plt.figure(figsize=(11,10))\n",
    "plt.plot(fpr_0mm,tpr_0mm,label='AUC='+str(auc0),color='black',alpha=0.7)\n",
    "\n",
    "plt.plot(fpr_5mm,tpr_5mm,label='AUC='+str(auc5),color='red',alpha=0.7)\n",
    "\n",
    "plt.plot(fpr_10mm,tpr_10mm,label='AUC='+str(auc10),color='orange',alpha=0.7,linestyle='dashed')\n",
    "\n",
    "plt.plot(fpr_15mm,tpr_15mm,label='AUC='+str(auc15),color='green',alpha=0.7,linestyle='dashdot')\n",
    "\n",
    "plt.plot(fpr_20mm,tpr_20mm,label='AUC='+str(auc20),color='blue',alpha=0.7,linestyle='dotted')\n",
    "\n",
    "plt.plot(fpr_25mm,tpr_25mm,label='AUC='+str(auc25),color='purple',alpha=0.7)\n",
    "\n",
    "plt.ylabel('True Positive Rate')\n",
    "plt.xlabel('False Positive Rate')\n",
    "plt.legend(['0mm AUC: '+str(round(auc0,5)),'5mm AUC:'+str(round(auc5,5)),'10mm AUC:'+str(round(auc10,5)),'15mm AUC:'+str(round(auc15,5)),'20mm AUC:'+str(round(auc20,5)),'25mm AUC:'+str(round(auc25,5))])\n",
    "plt.tight_layout()\n",
    "plt.savefig('ROC_GNM_20y_500subdays_test_vs_marginalCP.eps', format='eps')\n",
    "#plt.title('Gamma Model United Kingdom')\n",
    "#plt.savefig('ROC Gamma model UK')"
   ]
  },
  {
   "attachments": {},
   "cell_type": "markdown",
   "metadata": {},
   "source": [
    "### 1 - ecdf"
   ]
  },
  {
   "cell_type": "code",
   "execution_count": null,
   "metadata": {},
   "outputs": [],
   "source": [
    "# P(rain>x) ~1m15 now. depending on samples and days used. \n",
    "from statsmodels.distributions.empirical_distribution import ECDF\n",
    "\n",
    "# get empirical cdfs for median, sampled and target rain.\n",
    "#gamma_ecdf = ECDF(np.array(g_median_pred_all).flatten())\n",
    "target_ecdf = ECDF(np.array([np.array([GNM_landonly[loc][3][day] for loc in range(len(GNM_landonly))]) for day in tqdm(range(len(GNM_landonly[0][0])))]).flatten())\n",
    "gamma_sampled_ecdf = ECDF(np.array(sims_all_copula).flatten())\n",
    "\n",
    "#plt.plot(gamma_ecdf.x,1-gamma_ecdf.y,label='Median forecast')\n",
    "\n",
    "plt.figure(figsize=(10,7))\n",
    "plt.plot(gamma_sampled_ecdf.x[::1000],1-gamma_sampled_ecdf.y[::1000],linestyle='--',linewidth=5, zorder=5,label='Sampled forecasts')\n",
    "#plt.scatter(gamma_sampled_ecdf.x[::10000000],1-gamma_sampled_ecdf.y[::10000000],linestyle='dotted',color='cornflowerblue',marker='x',linewidth=20,s=3)\n",
    "\n",
    "plt.plot(target_ecdf.x[::100],1-target_ecdf.y[::100],linewidth=3,label='Target rainfall',color='black')\n",
    "plt.xlabel('Precipitation (mm)')\n",
    "plt.ylabel('Probability of precipitatoin > x')\n",
    "plt.xlim(-1,25)\n",
    "plt.legend()"
   ]
  },
  {
   "attachments": {},
   "cell_type": "markdown",
   "metadata": {},
   "source": [
    "### RMSB MAB"
   ]
  },
  {
   "cell_type": "code",
   "execution_count": null,
   "metadata": {},
   "outputs": [],
   "source": [
    "# RMSB and MAB metrics across all days and locations ~4.9s\n",
    "all_target_rain = np.array([np.array([GNM_landonly[loc][3][day]for day in range(len(GNM_landonly[0][0]))])for loc in range(4087)]).flatten().reshape(4087,len(GNM_landonly[0][0])) # [loc,day]\n",
    "RMSB = math.sqrt(np.mean(np.power(np.subtract(all_target_rain,np.array(g_median_all).reshape((4087,len(GNM_landonly[0][0])))),2)))\n",
    "MAB = np.mean(np.abs(all_target_rain-np.array(g_median_all).reshape((4087,len(GNM_landonly[0][0])))))\n",
    "print('MAB = '+str(MAB)+', RMSB = '+str(RMSB))"
   ]
  },
  {
   "cell_type": "code",
   "execution_count": null,
   "metadata": {},
   "outputs": [],
   "source": [
    "# Plot RMSB and MAB across time, averaged over all locations. \n",
    "import matplotlib.dates as mdates\n",
    "plt.figure(figsize=(25,8),dpi=700)\n",
    "\n",
    "RMSB_matrix = np.power(np.subtract(all_target_rain,np.array(g_median_all).reshape((4087,len(GNM_landonly[0][0])))),2)\n",
    "MAB_matrix = np.abs(all_target_rain-np.array(g_median_all).reshape((4087,len(GNM_landonly[0][0]))))\n",
    "RMSB_ts = [math.sqrt(np.mean(RMSB_matrix[:,day])) for day in range(len(GNM_landonly[0][0]))]\n",
    "MAB_ts = [np.mean(MAB_matrix[:,day]) for day in range(len(GNM_landonly[0][0]))]\n",
    "plt.plot(day_dates,RMSB_ts,alpha=0.6,label='RMSB')\n",
    "plt.plot(day_dates,MAB_ts,alpha=0.6,label='MAB')\n",
    "plt.legend()\n",
    "\n",
    "plt.ylabel('Precipitation bias (mm)')\n",
    "plt.xlabel('Date')\n",
    "plt.gca().xaxis.set_major_locator(mdates.DayLocator(interval=round(len(GNM_landonly[0][0])/15)))\n",
    "plt.gcf().autofmt_xdate()\n",
    "plt.show()"
   ]
  },
  {
   "cell_type": "code",
   "execution_count": null,
   "metadata": {},
   "outputs": [],
   "source": [
    "plt.hist(RMSB_ts)\n",
    "plt.title('RMSB across days')\n",
    "plt.show()\n",
    "plt.hist(MAB_ts)\n",
    "plt.title('MAB across days')\n",
    "plt.show()"
   ]
  },
  {
   "attachments": {},
   "cell_type": "markdown",
   "metadata": {},
   "source": [
    "### Bias Maps"
   ]
  },
  {
   "cell_type": "code",
   "execution_count": null,
   "metadata": {},
   "outputs": [],
   "source": [
    "# Bias maps 2*2\n",
    "test_arr = np.array([np.mean(sampled_rain_flatten_all.reshape(3,53118)[:,column]) for column in range(53118)]).reshape(13,4086)\n",
    "\n",
    "MAB_map = [np.mean(MAB_matrix[loc,:]) for loc in range(4086)]\n",
    "RMSB_map = [math.sqrt(np.mean(RMSB_matrix[loc,:])) for loc in range(4086)]\n",
    "Bias_map = np.matrix(np.array(g_median_all).reshape((4087,2000))-all_target_rain).mean(1).tolist()[:-1]\n",
    "day_subset = np.random.choice(range(2000),50)\n",
    "Sampled_bias = np.divide(np.array([np.mean(test_arr[:,loc]) for loc in range(4086)])-np.array([np.mean(np.transpose(all_target_rain[loc,day_subset])) for loc in range(4086)]), # difference \n",
    "np.array([np.mean(np.transpose(all_target_rain[loc,day_subset])) for loc in range(4086)])) # normalize by average target\n",
    "\n",
    "fig, axes = plt.subplots(nrows=2, ncols=2,sharex=True,sharey=True,figsize=(12.5,8.5))\n",
    "for day,ax in tqdm(enumerate(axes.flat)):\n",
    "    \n",
    "    fig.set_dpi(500)\n",
    "    ax.set_aspect('equal')\n",
    "    ax.set_xticks([])\n",
    "    ax.set_yticklabels([])\n",
    "    plt.subplots_adjust(wspace=0, hspace=0)\n",
    "    if day==0:\n",
    "        #ax.set_title('MAB of median', y=1.0, pad=-10,size=10)\n",
    "        im=ax.scatter([GNM_landonly[loc][5][1] for loc in range(4086)],[-GNM_landonly[loc][5][0] for loc in range(4086)],c=MAB_map,s=3.3,marker='s')\n",
    "        fig.colorbar(im,ax=ax,location='left',fraction=0.03,pad=0.001).ax.tick_params(labelsize=3) \n",
    "        \n",
    "    elif day==1:\n",
    "        #ax.set_title('RMSB of median', y=1.0, pad=-10,size=10)\n",
    "        im=ax.scatter([GNM_landonly[loc][5][1] for loc in range(4086)],[-GNM_landonly[loc][5][0] for loc in range(4086)],c=RMSB_map,s=3.3,marker='s')\n",
    "        fig.colorbar(im,ax=ax,location='left',fraction=0.03,pad=0.001)\n",
    "    elif day==2:\n",
    "        #ax.set_title('Bias of median', y=1.0, pad=-10,size=10)\n",
    "        im=ax.scatter([GNM_landonly[loc][5][1] for loc in range(4086)],[-GNM_landonly[loc][5][0] for loc in range(4086)],c=Bias_map,cmap='BrBG',s=3.3,marker='s',vmin=-4,vmax=4)\n",
    "        fig.colorbar(im,ax=ax,location='left',fraction=0.03,pad=0.001)\n",
    "    else:\n",
    "        #ax.set_title('Bias of 10 averaged samples', y=1.0, pad=-10,size=10)\n",
    "        im=ax.scatter([GNM_landonly[loc][5][1] for loc in range(4086)],[-GNM_landonly[loc][5][0] for loc in range(4086)],c=Sampled_bias,cmap='BrBG',s=3.3,marker='s',vmin=-5,vmax=5)\n",
    "        fig.colorbar(im,ax=ax,location='left',fraction=0.03,pad=0.001)\n",
    "\n",
    "plt.show()"
   ]
  },
  {
   "cell_type": "code",
   "execution_count": null,
   "metadata": {},
   "outputs": [],
   "source": [
    "\n",
    "for map_id,map in enumerate([MAB_map,RMSB_map,Bias_map,Sampled_bias]):\n",
    "    fig = plt.gcf()\n",
    "    fig.set_size_inches(12,9.5)\n",
    "    if map_id in [2,3]:\n",
    "        plt.scatter([GNM_landonly[loc][5][1] for loc in range(4086)],[-GNM_landonly[loc][5][0] for loc in range(4086)],c=map,cmap='BrBG',s=24,marker='s',vmin=-np.max(np.abs(map)),vmax=np.max(np.abs(map)))\n",
    "        plt.colorbar(location='bottom',fraction=0.0652,pad=0.001)\n",
    "        plt.yticks([])\n",
    "        plt.xticks([])\n",
    "        plt.show()\n",
    "        continue\n",
    "    plt.scatter([GNM_landonly[loc][5][1] for loc in range(4086)],[-GNM_landonly[loc][5][0] for loc in range(4086)],c=map,s=24,marker='s',vmin=0)\n",
    "    plt.colorbar(location='bottom',fraction=0.0652,pad=0.001)\n",
    "    plt.yticks([])\n",
    "    plt.xticks([])\n",
    "    plt.show()"
   ]
  },
  {
   "attachments": {},
   "cell_type": "markdown",
   "metadata": {},
   "source": [
    "### Median VS Observed"
   ]
  },
  {
   "cell_type": "code",
   "execution_count": null,
   "metadata": {},
   "outputs": [],
   "source": [
    "# median vs observed\n",
    "binned_median_means = [np.log(np.mean(g_median_all[np.logical_and(all_target_rain.flatten()>-0.01+k*3, all_target_rain.flatten()<3+k*3     )])+1) for k in range(30)]\n",
    "binned_median_std = [np.std(np.log(1+g_median_all[np.logical_and(all_target_rain.flatten()>-0.01+k*3, all_target_rain.flatten()<3+k*3     )])) for k in range(30)]\n",
    "\n",
    "plt.plot(np.log([i for i in range(1,30*3,3)]),binned_median_means, color='red',linestyle='dashed',label='Mean/SD of pred in 3mm/day intervals')\n",
    "\n",
    "for i,v in enumerate(range(1,30*3,3)):\n",
    "    if i==0:\n",
    "        continue\n",
    "    plt.plot(np.log([v,v]),[binned_median_means[i]+binned_median_std[i] ,binned_median_means[i]-binned_median_std[i] ],'r',linewidth=1)\n",
    "\n",
    "plt.plot([0,5],[0,5],linestyle='dashed',color='grey',label='y = x')\n",
    "plt.scatter(np.log(all_target_rain.flatten()+1),np.log(g_median_all+1),marker='x',linewidths=0.3,alpha=0.3)\n",
    "\n",
    "plt.axvline(x = np.log(10), color = 'purple', label = '10 mm rainfall',linewidth=1.3)\n",
    "\n",
    "plt.legend(loc='upper left')\n",
    "\n",
    "plt.xlabel('Observed log-trandformed rainfall')\n",
    "plt.ylabel('Predicted log-trandformed rainfall')\n",
    "plt.show()"
   ]
  },
  {
   "attachments": {},
   "cell_type": "markdown",
   "metadata": {},
   "source": [
    "### CRPS"
   ]
  },
  {
   "cell_type": "code",
   "execution_count": null,
   "metadata": {},
   "outputs": [],
   "source": [
    "def estimate_CRPS_score_fast(obs,sims):\n",
    "    '''\n",
    "    obs: one vector of observations [y_1, y_2, ... y_n], ideally n corresponds to locations.\n",
    "    sims: m vectors of simulations, each vector has length n. [[x_11, x_21,..., x_n1] ,..., [x_1m, x_2m,..., x_nm] ]\n",
    "\n",
    "    returns: a vector [s1, ... , sn] of one score per location. this is for a single day, so would still need to average across days.\n",
    "    '''\n",
    "    m = len(sims)\n",
    "\n",
    "    obs= np.array(obs)\n",
    "    sims=np.array(sims)\n",
    "\n",
    "    # |X-x|    \n",
    "    diff_X_x = np.mean(\n",
    "        np.abs(\n",
    "            np.tile(obs,(m,1)) - sims\n",
    "            ),\n",
    "        axis=0)\n",
    "\n",
    "    #|X-X'|\n",
    "    diff_X_tilde_X = np.sum(\n",
    "        np.abs(\n",
    "            np.tile(sims,(m,1))-\n",
    "            np.repeat(sims,m,axis=0)\n",
    "            )\n",
    "            ,axis=0\n",
    "        )/(m*m-1)\n",
    "\n",
    "    return 2*diff_X_x - diff_X_tilde_X \n",
    "\n",
    "    "
   ]
  },
  {
   "cell_type": "code",
   "execution_count": null,
   "metadata": {},
   "outputs": [],
   "source": [
    "sims_all_copula = np.array(sims_all_copula) # 100,4087"
   ]
  },
  {
   "cell_type": "code",
   "execution_count": null,
   "metadata": {},
   "outputs": [],
   "source": [
    "q_crps = []\n",
    "for i,d in tqdm(enumerate(day_subset)):\n",
    "    q_crps.append( estimate_CRPS_score_fast([GNM_landonly[l][3][d] for l in range(len(GNM_landonly))], sims_all_copula[i] ) )"
   ]
  },
  {
   "cell_type": "code",
   "execution_count": null,
   "metadata": {},
   "outputs": [],
   "source": [
    "np.mean(q_crps)\n"
   ]
  },
  {
   "cell_type": "code",
   "execution_count": null,
   "metadata": {},
   "outputs": [],
   "source": [
    "plt.scatter(range(500),np.mean(q_crps,axis=1))"
   ]
  },
  {
   "cell_type": "code",
   "execution_count": null,
   "metadata": {},
   "outputs": [],
   "source": [
    "fig = plt.gcf() \n",
    "fig.set_size_inches(14,10)\n",
    "plt.scatter([GNM_landonly[l][5][1] for l in range(len(GNM_landonly))],[-GNM_landonly[l][5][0] for l in range(len(GNM_landonly))],c=np.mean(q_crps,axis=0),s=27,marker='s')\n",
    "plt.colorbar()\n",
    "plt.title('mean CRPS per location')\n",
    "plt.show()\n",
    "for score in q_crps[:5]:\n",
    "    plt.scatter([GNM_landonly[l][5][1] for l in range(len(GNM_landonly))],[-GNM_landonly[l][5][0] for l in range(len(GNM_landonly))],c=score,s=3)\n",
    "    plt.colorbar()\n",
    "    plt.title('crps per location for one sample')\n",
    "    plt.show()"
   ]
  },
  {
   "attachments": {},
   "cell_type": "markdown",
   "metadata": {},
   "source": [
    "### Spatial Scoring Rule"
   ]
  },
  {
   "cell_type": "code",
   "execution_count": null,
   "metadata": {},
   "outputs": [],
   "source": [
    "def Spatial_Energy_Score_single_day(beta,observations_y,simulations_Y):\n",
    "\n",
    "    n = len(observations_y)\n",
    "    m = len(simulations_Y)\n",
    "    observations_y = np.array(observations_y)\n",
    "    simulations_Y = np.array(simulations_Y)\n",
    "\n",
    "    # First part |Y-y|. Gives the L2 dist scaled by power beta. Is a vector of length n/one value per location.\n",
    "    diff_Y_y = np.power(\n",
    "            np.linalg.norm(\n",
    "                np.tile(observations_y,(m,1)) -\n",
    "                simulations_Y,\n",
    "            axis=1),\n",
    "        beta)\n",
    "\n",
    "    #Second part |Y-Y'|. 2* because pdist counts only once.\n",
    "    diff_Y_Y = 2 * np.power(\n",
    "        pdist(simulations_Y)\n",
    "    ,beta)\n",
    "\n",
    "    Energy = 2 * np.mean(diff_Y_y) - np.sum(diff_Y_Y)/(m*(m-1))\n",
    "    return Energy"
   ]
  },
  {
   "cell_type": "code",
   "execution_count": null,
   "metadata": {},
   "outputs": [],
   "source": [
    "Energy_diagnostic = []\n",
    "for d in tqdm(range(500)):\n",
    "    Energy_diagnostic.append(Spatial_Energy_Score_single_day(0.2,[GNM_landonly[l][3][day_subset[d]] for l in range(len(GNM_landonly))],sims_all_copula[i]))\n",
    "\n"
   ]
  },
  {
   "cell_type": "code",
   "execution_count": null,
   "metadata": {},
   "outputs": [],
   "source": [
    "np.mean(Energy_diagnostic) "
   ]
  },
  {
   "cell_type": "code",
   "execution_count": null,
   "metadata": {},
   "outputs": [],
   "source": [
    "def Variogram_single_day(observations_y,simulations_Y,distance_matrix):\n",
    "\n",
    "    n = len(observations_y)\n",
    "    m = len(simulations_Y)\n",
    "    y = np.array(observations_y)\n",
    "    Y = np.array(simulations_Y)\n",
    "\n",
    "    # inverse distance matrix, for weights w_ij:\n",
    "    w_ij = np.nan_to_num( 1/distance_matrix, copy=False, nan=0, posinf=0, neginf=0)\n",
    "\n",
    "    # |y_i - y_j| first part of Variogram\n",
    "    diff_y_y = euclidean_distances(y.reshape(-1,1))\n",
    "\n",
    "    # |Y_k,i - Y_k,j| second part of Variogram\n",
    "    diff_Y_Y = np.mean(np.abs(np.tile(Y,n).reshape(m,n*n)-np.repeat(Y,n).reshape(m,n*n)),axis=0).reshape(n,n)\n",
    "\n",
    "    Variogram = np.multiply(\n",
    "        w_ij,\n",
    "        np.power(\n",
    "            diff_y_y - diff_Y_Y\n",
    "        ,2)\n",
    "    )\n",
    "\n",
    "    return np.sum(Variogram)"
   ]
  },
  {
   "cell_type": "code",
   "execution_count": null,
   "metadata": {},
   "outputs": [],
   "source": [
    "Variogram_diagnostic = []\n",
    "for i,d in tqdm(enumerate(range(500))):\n",
    "    Variogram_diagnostic.append(Variogram_single_day([GNM_landonly[l][3][day_subset[d]] for l in range(len(GNM_landonly))],sims_all_copula[i],dist_mat) )\n"
   ]
  },
  {
   "cell_type": "code",
   "execution_count": null,
   "metadata": {},
   "outputs": [],
   "source": [
    "plt.plot(Variogram_diagnostic)\n",
    "plt.plot([0,495],[np.mean(Variogram_diagnostic),np.mean(Variogram_diagnostic)])"
   ]
  },
  {
   "cell_type": "code",
   "execution_count": null,
   "metadata": {},
   "outputs": [],
   "source": [
    "print(\n",
    "    (np.sum(Variogram_diagnostic)-(np.sort(Variogram_diagnostic)[-20:]).sum())/len(Variogram_diagnostic)-20\n",
    "    )\n",
    "\n",
    "print(\n",
    "    np.random.choice(Variogram_diagnostic, 20, replace=False).sum()/20\n",
    ")"
   ]
  },
  {
   "cell_type": "code",
   "execution_count": null,
   "metadata": {},
   "outputs": [],
   "source": [
    "np.mean(Variogram_diagnostic)"
   ]
  },
  {
   "attachments": {},
   "cell_type": "markdown",
   "metadata": {},
   "source": [
    "### Rank histogram"
   ]
  },
  {
   "cell_type": "code",
   "execution_count": null,
   "metadata": {},
   "outputs": [],
   "source": [
    "#GNM_landonly[location][param][day]\n",
    "# 0'pred_mu', 1'pred_disp', 2'target_did_rain', 3'target_rain_value', 4'pred_p', 5'location'\n",
    "\n",
    "def get_cdf_gnm(day):\n",
    "    p_times_cdf = np.multiply( #p*cdf(y)\n",
    "        np.array([GNM_landonly[l][4][day] for l in range(len(GNM_landonly))]),\n",
    "        scs.gamma(\n",
    "            a=[1/GNM_landonly[l][1][day] for l in range(len(GNM_landonly))],\n",
    "            scale=np.multiply([GNM_landonly[l][1][day] for l in range(len(GNM_landonly))],[GNM_landonly[l][0][day] for l in range(len(GNM_landonly))])\n",
    "            ).cdf([GNM_landonly[l][3][day] for l in range(len(GNM_landonly))]))\n",
    "    \n",
    "    where_0 = np.argwhere(p_times_cdf==0).flatten()\n",
    "    where_rain = np.argwhere(p_times_cdf>0).flatten()\n",
    "\n",
    "    p_times_cdf[where_0] = np.random.uniform( # replace censored by u~[0,1-p]\n",
    "        low=np.zeros(len(where_0)),\n",
    "        high=(1-np.array([GNM_landonly[l][4][day] for l in range(len(GNM_landonly))])[where_0]).flatten()\n",
    "        )\n",
    "    \n",
    "    p_times_cdf[where_rain] = (1-np.array([GNM_landonly[l][4][day] for l in range(len(GNM_landonly))]))[where_rain] + p_times_cdf[where_rain] # uncensored = (1-p) + p*cdf(y)\n",
    "\n",
    "    return p_times_cdf"
   ]
  },
  {
   "cell_type": "code",
   "execution_count": null,
   "metadata": {},
   "outputs": [],
   "source": [
    "obs_u_all = []\n",
    "for d in tqdm(range(len(GNM_landonly[0][0]))):\n",
    "    obs_u_all.append(get_cdf_gnm(d))"
   ]
  },
  {
   "cell_type": "code",
   "execution_count": null,
   "metadata": {},
   "outputs": [],
   "source": [
    "obs_u_all = np.array(obs_u_all).flatten()\n",
    "plt.hist(obs_u_all,bins=25,density=True,alpha=0.7)\n"
   ]
  },
  {
   "cell_type": "code",
   "execution_count": null,
   "metadata": {},
   "outputs": [],
   "source": [
    "# Save\n",
    "'''with open('obs_u_all_.txt','wb') as f:\n",
    "    pickle.dump(obs_u_all_,f)\n",
    "'''\n",
    "#Load \n",
    "with open('obs_u_all_.txt','rb') as f:\n",
    "    obs_u_all_ = pickle.load(f)"
   ]
  },
  {
   "cell_type": "code",
   "execution_count": null,
   "metadata": {},
   "outputs": [],
   "source": [
    "plt.figure(figsize=(20,5))\n",
    "obs_u_all = np.concatenate(np.array(obs_u_all_).flatten()).flatten()\n",
    "plt.scatter( range(len(obs_u_all)),obs_u_all,s=0.000005)\n",
    "plt.show()"
   ]
  },
  {
   "cell_type": "code",
   "execution_count": null,
   "metadata": {},
   "outputs": [],
   "source": [
    "plt.figure(figsize=(5,6.5))\n",
    "plt.hist(obs_u_all,bins=30,density=True,alpha=0.7)\n",
    "plt.plot([0,1],[1,1])\n",
    "plt.ylim(0,3)\n",
    "plt.show()\n",
    "plt.figure(figsize=(20,5))\n",
    "plt.hist(obs_u_all,bins=100,density=True,alpha=0.7)\n",
    "plt.plot([0,1],[1,1])   \n",
    "plt.ylim(0,5)\n",
    "plt.show()"
   ]
  },
  {
   "cell_type": "code",
   "execution_count": null,
   "metadata": {},
   "outputs": [],
   "source": [
    "plt.hist(obs_u_all,bins=100,cumulative=True,alpha=0.7,align='mid')\n",
    "plt.plot([0,1],[0,len(obs_u_all)],linestyle='dashed')\n",
    "plt.show()\n",
    "plt.figure(figsize=(20,5))\n",
    "plt.hist(obs_u_all,bins=500,cumulative=True,alpha=0.7,align='mid',histtype='step',linewidth=2)\n",
    "plt.plot([0,1],[0,len(obs_u_all)],linestyle='dashed')\n",
    "plt.show()"
   ]
  },
  {
   "attachments": {},
   "cell_type": "markdown",
   "metadata": {},
   "source": [
    "### Correlation map"
   ]
  },
  {
   "cell_type": "code",
   "execution_count": null,
   "metadata": {},
   "outputs": [],
   "source": [
    "with open('4y_sims.txt','rb') as f:\n",
    "    sims_all_copula = pickle.load(f)"
   ]
  },
  {
   "cell_type": "code",
   "execution_count": null,
   "metadata": {},
   "outputs": [],
   "source": [
    "with open('6y_sims.txt','rb') as f:\n",
    "    sims_all_copula6 = pickle.load(f)\n",
    "with open('8y_sims.txt','rb') as f:\n",
    "    sims_all_copula8 = pickle.load(f)\n",
    "with open('10y_sims.txt','rb') as f:\n",
    "    sims_all_copula10 = pickle.load(f)"
   ]
  },
  {
   "cell_type": "code",
   "execution_count": null,
   "metadata": {},
   "outputs": [],
   "source": [
    "with open('day_subset_robustness.txt','rb') as f:\n",
    "    day_subset = pickle.load(f)"
   ]
  },
  {
   "cell_type": "code",
   "execution_count": null,
   "metadata": {},
   "outputs": [],
   "source": [
    "for i,v in enumerate(np.array([GNM_landonly[l][5] for l in range(len(GNM_landonly))])): # closest to center 1107 [43 70]\n",
    "\n",
    "    if math.dist(v,[48,76])<2:\n",
    "        print(i,v)"
   ]
  },
  {
   "cell_type": "code",
   "execution_count": null,
   "metadata": {},
   "outputs": [],
   "source": [
    "# observed corr\n",
    "corr_mat = np.corrcoef( np.array([np.array([GNM_landonly[loc][3][day]for day in day_subset])for loc in range(len(GNM_landonly))]).flatten().reshape(len(GNM_landonly),len(day_subset)))\n",
    "fig = plt.gcf() \n",
    "fig.set_size_inches(14,10)\n",
    "plt.xlim(0,140)\n",
    "plt.ylim(-100,0)\n",
    "plt.scatter([GNM_landonly[loc][5][1] for loc in range(len(sim_test[0]))],[-GNM_landonly[loc][5][0] for loc in range(len(sim_test[0]))],c=corr_mat[:,3226      ],s=33,marker='s',vmin=0)\n",
    "plt.colorbar(location='bottom',fraction=0.0652,pad=0.001)\n",
    "plt.plot([76,76],[0,-100],color='black',linestyle='dotted',linewidth=1)\n",
    "plt.plot([0,140],[-47,-47],color='black',linestyle='dotted',linewidth=1)\n",
    "plt.yticks([])\n",
    "plt.xticks([])\n",
    "plt.tight_layout()\n",
    "plt.savefig('obs_corr_4ytest.eps', format='eps')\n",
    "\n",
    "plt.show()"
   ]
  },
  {
   "cell_type": "code",
   "execution_count": null,
   "metadata": {},
   "outputs": [],
   "source": [
    "# sim corr\n",
    "corr_mat = np.corrcoef(np.concatenate(np.array(sims_all_copula10)).transpose())\n",
    "fig = plt.gcf() \n",
    "fig.set_size_inches(14,10)\n",
    "plt.xlim(0,140)\n",
    "plt.ylim(-100,0)\n",
    "plt.scatter([GNM_landonly[loc][5][1] for loc in range(len(sim_test[0]))],[-GNM_landonly[loc][5][0] for loc in range(len(sim_test[0]))],c=corr_mat[:,3226    ],s=33,marker='s',vmin=0)\n",
    "plt.colorbar(location='bottom',fraction=0.0652,pad=0.001)\n",
    "plt.plot([76,76],[0,-100],color='black',linestyle='dotted',linewidth=1)\n",
    "plt.plot([0,140],[-47,-47],color='black',linestyle='dotted',linewidth=1)\n",
    "plt.yticks([])\n",
    "plt.xticks([])\n",
    "plt.tight_layout()\n",
    "plt.savefig('sims_corr_4ytest.eps', format='eps')\n",
    "\n",
    "plt.show()"
   ]
  },
  {
   "cell_type": "code",
   "execution_count": null,
   "metadata": {},
   "outputs": [],
   "source": [
    "# median of sim corr\n",
    "corr_mat = np.corrcoef(np.array(g_median_pred_all).transpose())\n",
    "fig = plt.gcf() \n",
    "fig.set_size_inches(14,10)\n",
    "plt.xlim(0,140)\n",
    "plt.ylim(-100,0)\n",
    "plt.scatter([GNM_landonly[loc][5][1] for loc in range(len(sim_test[0]))],[-GNM_landonly[loc][5][0] for loc in range(len(sim_test[0]))],c=corr_mat[:,108    ],s=27,marker='s',vmin=0)\n",
    "plt.colorbar(location='bottom',fraction=0.0652,pad=0.001)\n",
    "plt.plot([76,76],[0,-100],color='black',linestyle='dotted',linewidth=1)\n",
    "plt.plot([0,140],[-47,-47],color='black',linestyle='dotted',linewidth=1)\n",
    "plt.yticks([])\n",
    "plt.xticks([])\n",
    "plt.show()"
   ]
  },
  {
   "attachments": {},
   "cell_type": "markdown",
   "metadata": {},
   "source": [
    "### Plots comparing experiements:"
   ]
  },
  {
   "cell_type": "code",
   "execution_count": null,
   "metadata": {},
   "outputs": [],
   "source": [
    "plt.plot([0,5,10,15,20,25],[0.8601,0.8352,0.8428,0.8560,0.8696,0.8824],marker='.',linewidth=3,markersize=10,label='4 year training')\n",
    "plt.plot([0,5,10,15,20,25],[0.8617,0.8357,0.8428,0.8581,0.8734,0.8890],marker='.',linewidth=3,markersize=10,label='6 year training')\n",
    "plt.plot([0,5,10,15,20,25],[0.8624,0.8356,0.8395,0.8503,0.8629,0.8756],marker='.',linewidth=3,markersize=10,label='8 year training')\n",
    "plt.plot([0,5,10,15,20,25],[0.8676,0.8432,0.8493,0.8627,0.8764,0.8901],marker='.',linewidth=3,markersize=10,label='10 year training')\n",
    "plt.ylim((0.5,0.9))\n",
    "plt.legend()\n",
    "fig = plt.gcf() \n",
    "fig.set_size_inches(10,7)\n",
    "plt.tight_layout()\n",
    "plt.ylabel('AUC')\n",
    "plt.xlabel('Precipitation threshold (mm)')\n",
    "plt.savefig('robustness_auc.eps', format='eps')\n",
    "plt.show()"
   ]
  },
  {
   "cell_type": "code",
   "execution_count": null,
   "metadata": {},
   "outputs": [],
   "source": [
    "rank_hist_20y = np.log([0.98161857, 0.97864251, 0.97957897, 0.98812185, 0.99906954,\n",
    "        1.01136999, 1.02601243, 1.03284154, 1.04237115, 1.04817753,\n",
    "        1.04794216, 1.0463021 , 1.04065403, 1.03421943, 1.02292831,\n",
    "        1.01210542, 0.99817748, 0.98588038, 0.97085097, 0.95812836,\n",
    "        0.94106939, 0.92277996, 0.90725969, 0.90099932, 1.11679787])\n",
    "rank_hist_ConvCNP = np.log([1.0248582 , 1.02541557, 1.01611493, 1.01767681, 1.0191044 ,\n",
    "        1.01836537, 1.02601098, 1.0297123 , 1.03591013, 1.04573709,\n",
    "        1.05543907, 1.06261969, 1.06408996, 1.06217953, 1.05639312,\n",
    "        1.04456025, 1.02403457, 1.0044901 , 0.98368496, 0.9558987 ,\n",
    "        0.91061193, 0.86961335, 0.8297823 , 0.81821259, 0.99948386])\n",
    "rank_hist_VAEGAN = np.log([6.93139183, 0.5285968 , 0.42249608, 0.38479105, 0.37226054, 0.36413387, 0.35319237, 0.34742652, 0.34565591, 0.34638231, 0.34872044, 0.36218165, 0.38218053, 0.39632275, 0.40476722, 0.42288198, 0.43212096, 0.4475117 , 0.47736245, 0.51023234, 0.56221579, 0.65403809, 0.76690348, 0.97772021, 7.45851312]\n",
    ")\n",
    "plt.plot(np.linspace(0,1,25),rank_hist_20y,linewidth=3,label='Cens-JGNM',alpha=1,zorder=5)\n",
    "plt.plot(np.linspace(0,1,25),rank_hist_ConvCNP,linewidth=3,label='ConvCNP',alpha=1)\n",
    "plt.plot(np.linspace(0,1,25),rank_hist_VAEGAN,linewidth=3,label='VAEGAN')\n",
    "plt.plot([0,1],np.log([1,1]),color='black',linestyle='dashed',linewidth=1,zorder=-1)\n",
    "plt.legend()\n",
    "#plt.ylim(0,2)\n",
    "fig = plt.gcf() \n",
    "fig.set_size_inches(14,10)\n",
    "plt.tight_layout()\n",
    "plt.ylabel('Frequency')\n",
    "plt.xlabel('Rank of observed rain amongst forecast')\n",
    "plt.savefig('combind_rank_hist_logged.eps', format='eps')\n",
    "plt.show()\n"
   ]
  },
  {
   "attachments": {},
   "cell_type": "markdown",
   "metadata": {},
   "source": [
    "### IFS predictions"
   ]
  },
  {
   "attachments": {},
   "cell_type": "markdown",
   "metadata": {},
   "source": [
    "These are pointwise forecasts. Should use them as a baseline for pointwise metrics."
   ]
  },
  {
   "cell_type": "code",
   "execution_count": null,
   "metadata": {},
   "outputs": [],
   "source": [
    "IFS_2009 = np.fromfile('IFS_All_2009-07_2019-07_pred.dat', dtype=\"byte\")\n",
    "IFS_1999 = np.fromfile('IFS_All_1999-07_2019-07_pred.dat', dtype=\"byte\")\n",
    "IFS_1987 = np.fromfile('IFS_All_1987-07_2019-07_pred.dat', dtype=\"byte\")"
   ]
  },
  {
   "cell_type": "code",
   "execution_count": null,
   "metadata": {},
   "outputs": [],
   "source": [
    "print(len(IFS_2009),len(IFS_1999),len(IFS_1987))"
   ]
  },
  {
   "attachments": {},
   "cell_type": "markdown",
   "metadata": {},
   "source": [
    "### Comparing with marginal CP"
   ]
  },
  {
   "cell_type": "code",
   "execution_count": null,
   "metadata": {},
   "outputs": [],
   "source": [
    "with open('day_subset_marginals.txt','rb') as f:\n",
    "    day_subset = pickle.load(f)\n"
   ]
  },
  {
   "cell_type": "code",
   "execution_count": null,
   "metadata": {},
   "outputs": [],
   "source": [
    "with open('x_y_CP_ecfd_500_subdays_samples_v0.txt','rb') as f:\n",
    "    CP_ecfd_500_subdays_samples_v0 = pickle.load(f)\n",
    "with open('x_y_CP_ecfd_500_subdays_samples_v1.txt','rb') as f:\n",
    "    CP_ecfd_500_subdays_samples_v1 = pickle.load(f)\n",
    "with open('x_y_CP_ecfd_500_subdays_samples_v3.txt','rb') as f:\n",
    "    CP_ecfd_500_subdays_samples_v3 = pickle.load(f)"
   ]
  },
  {
   "cell_type": "code",
   "execution_count": null,
   "metadata": {},
   "outputs": [],
   "source": [
    "with open('CP_rankhist_500_subdays_samples_v0.txt','rb') as f:\n",
    "    CP_rankhist_500_subdays_samples_v0 = pickle.load(f)\n",
    "with open('CP_rankhist_500_subdays_samples_v1.txt','rb') as f:\n",
    "    CP_rankhist_500_subdays_samples_v1 = pickle.load(f)\n",
    "with open('CP_rankhist_500_subdays_samples_v3.txt','rb') as f:\n",
    "    CP_rankhist_500_subdays_samples_v3 = pickle.load(f)"
   ]
  },
  {
   "cell_type": "code",
   "execution_count": null,
   "metadata": {},
   "outputs": [],
   "source": [
    "# P(rain>x) ~1m15 now. COMPARING WITH MARGINAL CP\n",
    "from statsmodels.distributions.empirical_distribution import ECDF\n",
    "\n",
    "target_ecdf = ECDF(np.array([np.array([GNM_landonly[loc][3][day] for loc in range(len(GNM_landonly))]) for day in tqdm(day_subset)]).flatten())\n",
    "fig = plt.gcf() \n",
    "fig.set_size_inches(14,10)\n",
    "\n",
    "gamma_sampled_ecdf = ECDF(np.array(sims_all_copula).flatten())\n",
    "\n",
    "#gamma_sampled_ecdf = ECDF(np.array(sims_all_copula).flatten())\n",
    "plt.plot(gamma_sampled_ecdf.x[::1000],1-gamma_sampled_ecdf.y[::1000],linewidth=5, zorder=5,label='Gamma-mixture')\n",
    "\n",
    "#plt.plot(gamma_sampled_ecdf.x[::1000],1-gamma_sampled_ecdf.y[::1000],linestyle='--',linewidth=5, zorder=5,label='Sampled forecasts')\n",
    "#plt.scatter(gamma_sampled_ecdf.x[::10000000],1-gamma_sampled_ecdf.y[::10000000],linestyle='dotted',color='cornflowerblue',marker='x',linewidth=20,s=3)\n",
    "#plt.plot(CP_ecfd_500_subdays_samples_v0[0],CP_ecfd_500_subdays_samples_v0[1],linewidth=5,label='CP')\n",
    "#plt.plot(CP_ecfd_500_subdays_samples_v1[0],CP_ecfd_500_subdays_samples_v1[1],linewidth=5,alpha=0.7,label='CP v1')\n",
    "plt.plot(CP_ecfd_500_subdays_samples_v3[0],CP_ecfd_500_subdays_samples_v3[1],linewidth=5,alpha=0.7,label='CP')\n",
    "\n",
    "plt.plot(target_ecdf.x,1-target_ecdf.y,linewidth=5,label='Target rainfall',color='black')\n",
    "plt.xlabel('Precipitation (mm)')\n",
    "plt.ylabel('Probability of precipitatoin > x')\n",
    "plt.xlim(-1,25)\n",
    "plt.legend()\n",
    "plt.tight_layout()\n",
    "\n",
    "plt.savefig('Marginal_gamma_CP_sampled_ecdf.eps', format='eps')\n"
   ]
  },
  {
   "cell_type": "code",
   "execution_count": null,
   "metadata": {},
   "outputs": [],
   "source": [
    "import matplotlib.pyplot as plt"
   ]
  },
  {
   "cell_type": "code",
   "execution_count": null,
   "metadata": {},
   "outputs": [],
   "source": [
    "# AUC\n",
    "fig = plt.gcf() \n",
    "fig.set_size_inches(14,10)\n",
    "plt.plot([0,5,10,15,20,25],[0.86695,0.84507,0.84203,0.82158,0.78247,0.732],marker='.',linewidth=5,markersize=20,label='Gamma-mixture')\n",
    "#plt.plot([0,5,10,15,20,25],[0.64404,0.83492,0.79106,0.70592,0.61803,0.5716],marker='.',linewidth=5,markersize=20,label='CP v0')\n",
    "#plt.plot([0,5,10,15,20,25],[0.64789,0.83601,0.78946,0.68983,0.59551,0.55476],marker='.',linewidth=5,markersize=20,label='CP v1')\n",
    "plt.plot([0,5,10,15,20,25],[0.63384,0.8385,0.79,0.70024,0.61572,0.56913],marker='.',linewidth=5,markersize=20,label='CP')\n",
    "plt.ylim((0.5,0.9))\n",
    "plt.xlabel('Precipitation threshold (mm)')\n",
    "plt.ylabel('AUC')\n",
    "plt.legend()\n",
    "plt.tight_layout()\n",
    "plt.savefig('combind_AUC_marginal_gamma_vs_CP.eps', format='eps')\n",
    "plt.show()"
   ]
  },
  {
   "cell_type": "code",
   "execution_count": null,
   "metadata": {},
   "outputs": [],
   "source": [
    "# Comparing samples against observed to get ranks\n",
    "sims_all_copula=np.array(sims_all_copula)\n",
    "ranks = []\n",
    "for d,day in tqdm(enumerate(day_subset)):\n",
    "    ranks.append(np.mean((sims_all_copula[d,:,:]+np.random.uniform(low=-0.0001,high=0.0001,size=(100,4087)))<(np.array([GNM_landonly[l][3][day] for l in range(len(GNM_landonly))])+np.random.uniform(low=-0.0001,high=0.0001,size=4087)),axis=0))\n",
    "\n",
    "ranks = np.array(ranks)"
   ]
  },
  {
   "cell_type": "code",
   "execution_count": null,
   "metadata": {},
   "outputs": [],
   "source": [
    "np.random.uniform(low=-0.01,high=0.01,size=4087)"
   ]
  },
  {
   "cell_type": "code",
   "execution_count": null,
   "metadata": {},
   "outputs": [],
   "source": [
    "test = CP_rankhist_500_subdays_samples_v3"
   ]
  },
  {
   "cell_type": "code",
   "execution_count": null,
   "metadata": {},
   "outputs": [],
   "source": [
    "CP_rankhist_500_subdays_samples_v0[0],CP_rankhist_500_subdays_samples_v1[0],CP_rankhist_500_subdays_samples_v3[0]"
   ]
  },
  {
   "cell_type": "code",
   "execution_count": null,
   "metadata": {},
   "outputs": [],
   "source": [
    "np.linspace(0,1,len(u_hist[0]))"
   ]
  },
  {
   "cell_type": "code",
   "execution_count": null,
   "metadata": {},
   "outputs": [],
   "source": [
    "u_ranks = ranks.flatten()\n",
    "u_hist = np.histogram(u_ranks,bins=25,density=True)\n",
    "\n",
    "fig = plt.gcf() \n",
    "fig.set_size_inches(14,10)\n",
    "\n",
    "plt.plot(np.linspace(0,1,25),u_hist[0][0:],linewidth=5,label='Gamma-mixture')\n",
    "#plt.plot(np.linspace(0.04166667,1,24),CP_rankhist_500_subdays_samples_v0[1:],linewidth=5,label='CP',color=(1, 0.5, 0))\n",
    "#plt.plot([0,0.04166667],[3.7,CP_rankhist_500_subdays_samples_v0[1]],linewidth=5,color=(1, 0.5, 0))\n",
    "#plt.plot(0,3.7,marker='o',markersize=10,color=(1, 0.5, 0))\n",
    "#plt.text(0.04166667,3.75,'CP: '+str(np.round(CP_rankhist_500_subdays_samples_v0[0],2)),fontsize=20)\n",
    "#plt.plot(np.linspace(0.04166667,1,24),CP_rankhist_500_subdays_samples_v1[1:],linewidth=5,alpha=0.7,label='CP v1',color='green')\n",
    "#plt.plot([0,0.04166667],[3.5,CP_rankhist_500_subdays_samples_v1[1]],linewidth=5,alpha=0.7,color='green')\n",
    "#plt.plot(0,3.5,color='green',marker='o',markersize=10)\n",
    "#plt.text(0.04166667,3.45,'CP v1: '+str(np.round(CP_rankhist_500_subdays_samples_v1[0],2)),fontsize=20)\n",
    "plt.plot(np.linspace(0.04166667,1,24),CP_rankhist_500_subdays_samples_v3[1:],linewidth=5,label='CP v3',color=(1, 0.5, 0))\n",
    "plt.plot([0,0.04166667],[3.6,CP_rankhist_500_subdays_samples_v3[1]],linewidth=5,color=(1, 0.5, 0))\n",
    "plt.text(0.04166667,3.6,'CP: '+str(np.round(CP_rankhist_500_subdays_samples_v3[0],2)),fontsize=20)\n",
    "plt.plot(0,3.6,color=(1, 0.5, 0),marker='o',markersize=10)\n",
    "\n",
    "plt.plot([0,1],[1,1],color='black',linestyle='--')\n",
    "plt.legend()\n",
    "plt.ylim(0,4)\n",
    "plt.xlabel('Frequency')\n",
    "plt.ylabel('Rank of observed rain among forecast')\n",
    "plt.tight_layout()\n",
    "plt.savefig('rankhist_gamma_vs_CP.eps', format='eps')\n"
   ]
  }
 ],
 "metadata": {
  "kernelspec": {
   "display_name": "base",
   "language": "python",
   "name": "python3"
  },
  "language_info": {
   "codemirror_mode": {
    "name": "ipython",
    "version": 3
   },
   "file_extension": ".py",
   "mimetype": "text/x-python",
   "name": "python",
   "nbconvert_exporter": "python",
   "pygments_lexer": "ipython3",
   "version": "3.9.12"
  },
  "orig_nbformat": 4,
  "vscode": {
   "interpreter": {
    "hash": "ab60c10c504ddb966051b34fe3c8284e278512e8f8393189136f471cdd0fd1b8"
   }
  }
 },
 "nbformat": 4,
 "nbformat_minor": 2
}
