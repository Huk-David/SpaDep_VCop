{
 "cells": [
  {
   "cell_type": "code",
   "execution_count": null,
   "metadata": {},
   "outputs": [],
   "source": [
    "#################################################################### Loading packages ####################################################################\n",
    "%matplotlib inline\n",
    "import numpy as np\n",
    "import scipy.stats as scs\n",
    "from matplotlib import pyplot as plt\n",
    "from mpl_toolkits.basemap import Basemap\n",
    "from tqdm import tqdm\n",
    "import pickle\n",
    "import math \n",
    "import re\n",
    "from Censored_copula import truncgauss\n",
    "from scipy.spatial import distance_matrix\n",
    "import pandas as pd\n",
    "from joblib import Parallel, delayed\n",
    "import psutil\n",
    "from sklearn import metrics\n",
    "import scipy.integrate as integrate\n",
    "import sys\n",
    "import os\n",
    "from sklearn.gaussian_process.kernels import Matern\n",
    "from scipy.spatial.distance import pdist\n",
    "plt.rcParams.update({'font.size': 30})\n",
    "\n",
    "#################################################################### Loading GNM ####################################################################\n",
    "model_version = 0 \n",
    "target_distribution = \"gamma_hurdle\"\n",
    "base_nn = \"HConvLSTM_tdscale\"\n",
    "sys.path.append('../')\n",
    "import pickle\n",
    "import torch\n",
    "\n",
    "path_ = f\"Checkpoints/uk_rain_DGLM_{base_nn}_{target_distribution}/lightning_logs/version_{model_version}/\"\n",
    "#ckpt_path = glms.NeuralDGLM.get_ckpt_path(os.path.join(path_,\"checkpoints\"))\n",
    "#ckpt_path = 'Checkpoints/uk_rain_DGLM_HConvLSTM_tdscale_gamma_hurdle/lightning_logs/version_0/checkpoints/epoch=28-step=20834-val_loss_loss=-0.633-val_metric_mse_rain=21.020.ckpt'\n",
    "#print([path_,ckpt_path])\n",
    "'''\n",
    "scaler_features, scaler_target = glms.NeuralDGLM.load_scalers(path_)\n",
    "model = glms.NeuralDGLM.load_from_checkpoint(ckpt_path, save_hparams=False, scaler_features=scaler_features, scaler_target=scaler_target)\n",
    "model.freeze()\n",
    "model.eval()\n",
    "'''\n",
    "GNM_output = pickle.load( open(os.path.join(path_,\"test_output_1999_2019-07.pkl\"),\"rb\") )\n",
    "\n",
    "#################################################################### Problematic locations? ###############################################################\n",
    "\n",
    "output_keys = list(GNM_output.keys())                 \n",
    "day_dates = GNM_output['target_date_window']\n",
    "\n",
    "#################################################################### Utility functions ####################################################################\n",
    "\n",
    "def is_loc_land(x,y):\n",
    "    return GNM_output['mask'][0][y][x]\n",
    "\n",
    "#################################################################### Making list for land locations ####################################################################\n",
    "#GNM_landonly[location][param][day]\n",
    "# 0'pred_alpha', 1'pred_beta', 2 rain>0 , 3'target_rain', 4 pred_p, 5 loc\n",
    "\n",
    "GNM_landonly = [] \n",
    "land_counter = -1\n",
    "\n",
    "for x in tqdm(range(140)):\n",
    "    for y in range(100):\n",
    "        if not is_loc_land(x,y):# check if land\n",
    "            continue  \n",
    "        if 100-y<-18.75+(25/80)*x: # not include France\n",
    "            continue\n",
    "        land_counter+=1\n",
    "        GNM_landonly.append([[],[],[],[],[]]) # parameters except location\n",
    "        GNM_landonly[land_counter].append([x,100-y]) #location\n",
    "        for day in range(len(GNM_output['pred_rho'])):\n",
    "            qqq = [x,y,day]\n",
    "            GNM_landonly[land_counter][0].append(GNM_output['pred_alpha'][day][y][x])\n",
    "            GNM_landonly[land_counter][1].append(GNM_output['pred_beta'][day][y][x])\n",
    "            GNM_landonly[land_counter][2].append(GNM_output['target_rain'][day][0][y][x]>0)\n",
    "            GNM_landonly[land_counter][3].append(GNM_output['target_rain'][day][0][y][x])\n",
    "            GNM_landonly[land_counter][4].append(GNM_output['pred_rho'][day][y][x])\n",
    "\n"
   ]
  },
  {
   "cell_type": "code",
   "execution_count": null,
   "metadata": {},
   "outputs": [],
   "source": [
    "import scipy\n",
    "scipy.ndimage.center_of_mass(GNM_output['mask'][0])"
   ]
  },
  {
   "cell_type": "code",
   "execution_count": null,
   "metadata": {},
   "outputs": [],
   "source": [
    "land = np.nonzero(GNM_output['mask'][0])\n",
    "for day in range(400,402):\n",
    "    \n",
    "    plt.scatter([GNM_landonly[l][5][0] for l in range(len(GNM_landonly))],[GNM_landonly[l][5][1] for l in range(len(GNM_landonly))],c=[GNM_landonly[l][4][day] for l in range(len(GNM_landonly))],s=3)\n",
    "    plt.colorbar()\n",
    "    plt.show()\n",
    "    "
   ]
  },
  {
   "attachments": {},
   "cell_type": "markdown",
   "metadata": {},
   "source": [
    "# Warning: check if the correct locations were removed"
   ]
  },
  {
   "attachments": {},
   "cell_type": "markdown",
   "metadata": {},
   "source": [
    "# Diagnostics"
   ]
  },
  {
   "attachments": {},
   "cell_type": "markdown",
   "metadata": {},
   "source": [
    "### Marginals"
   ]
  },
  {
   "cell_type": "code",
   "execution_count": null,
   "metadata": {},
   "outputs": [],
   "source": [
    "# Draw time-series plot with quantiles for predicted vs trget rain at a given location. ~3s \n",
    "# Just change values at the top.\n",
    "\n",
    "#ts_plot_location = 3055\n",
    "for ts_plot_location in [954]:\n",
    "    print(ts_plot_location)\n",
    "    ts_plot_left_lim,ts_plot_right_lim = ts_plot_location+0,ts_plot_location+0+360\n",
    "\n",
    "    #################################################################### Do not touch the rest ####################################################################\n",
    "    import matplotlib.dates as mdates\n",
    "\n",
    "    # mean and 68, 95 percentiles \n",
    "    g_median = []\n",
    "    g_q25 = []\n",
    "    g_q75 = []\n",
    "    g_q68 = []\n",
    "    g_q95 = []\n",
    "    g_q32 = []\n",
    "    g_q05 = []\n",
    "\n",
    "    #GNM_landonly[location][param][day]\n",
    "    # 0'pred_alpha', 1'pred_beta', 2 rain>0 , 3'target_rain', 4 pred_p, 5 loc\n",
    "    for a,b,i in zip([GNM_landonly[ts_plot_location][0][i] for i in range(len(GNM_landonly[0][0]))],[GNM_landonly[ts_plot_location][1][i] for i in range(len(GNM_landonly[0][0]))],range(len(GNM_landonly[0][0]))) :\n",
    "        rv = scs.gamma(scale=1/b,a=a)  \n",
    "        \n",
    "        g_median.append(rv.ppf((GNM_landonly[ts_plot_location][4][i]-1+0.5)/GNM_landonly[ts_plot_location][4][i]))\n",
    "        g_q25.append(rv.ppf((GNM_landonly[ts_plot_location][4][i]-1+0.25)/GNM_landonly[ts_plot_location][4][i]))\n",
    "        g_q75.append(rv.ppf((GNM_landonly[ts_plot_location][4][i]-1+0.75)/GNM_landonly[ts_plot_location][4][i]))\n",
    "        g_q95.append(rv.ppf((GNM_landonly[ts_plot_location][4][i]-1+0.95)/GNM_landonly[ts_plot_location][4][i]))\n",
    "        g_q05.append(rv.ppf((GNM_landonly[ts_plot_location][4][i]-1+0.05)/GNM_landonly[ts_plot_location][4][i]))\n",
    "\n",
    "    for q in [g_median,g_q25,g_q05,g_q32,g_q68,g_q75,g_q95]:\n",
    "        for i in range(len(q)):\n",
    "            if math.isnan(q[i]):\n",
    "                q[i]=0\n",
    "                \n",
    "    plt.figure(figsize=(25, 8),dpi=700)\n",
    "    plt.plot(day_dates,g_q05,color='skyblue',linewidth=0.6,alpha=1,label='forecast percentiles 05 to 95')\n",
    "    plt.plot(day_dates,g_q25,color='navy',linewidth=0.6,alpha=1,label='forecast percentiles 25 to 75')\n",
    "    plt.plot(day_dates,g_median,color='blue',linewidth=1,alpha=1,label='forcast median')\n",
    "    plt.plot(day_dates,g_q75,color='navy',linewidth=0.6,alpha=1)\n",
    "    plt.plot(day_dates,g_q95,color='skyblue',linewidth=0.6,alpha=1)\n",
    "    plt.fill_between(day_dates, g_median, g_q75, where=([g_median[k] < g_q75[k] for k in range(len(GNM_landonly[ts_plot_location][4]))]), color='navy', alpha=0.6,interpolate=True)\n",
    "    plt.fill_between(day_dates, g_median, g_q25, where=([g_median[k] > g_q25[k] for k in range(len(GNM_landonly[ts_plot_location][4]))]), color='navy', alpha=0.6,interpolate=True)\n",
    "    plt.fill_between(day_dates, g_q95, g_q75, where=([g_q95[k] > g_q75[k] for k in range(len(GNM_landonly[ts_plot_location][4]))]), color='skyblue', alpha=0.6,interpolate=True)\n",
    "    plt.fill_between(day_dates, g_q05, g_q25, where=([g_q05[k] < g_q25[k] for k in range(len(GNM_landonly[ts_plot_location][4]))]), color='skyblue', alpha=0.6,interpolate=True)\n",
    "    plt.scatter(day_dates,[GNM_landonly[ts_plot_location][3][i] for i in range(len(GNM_landonly[0][0]))],color='r',marker='1',s=20,label='observed rain')\n",
    "    plt.plot(day_dates,[GNM_landonly[ts_plot_location][3][i] for i in range(len(GNM_landonly[0][0]))],color='r',alpha=0.6,linewidth=0.3)\n",
    "    plt.xlim((day_dates[ts_plot_left_lim],day_dates[ts_plot_right_lim]))\n",
    "    plt.title('Gamma model at location '+str(GNM_landonly[ts_plot_location][5]))\n",
    "    plt.xlabel('Day index')\n",
    "    plt.ylabel('Precipitation (mm)')\n",
    "    plt.gca().xaxis.set_major_locator(mdates.DayLocator(interval=14))\n",
    "    plt.gcf().autofmt_xdate()\n",
    "    plt.legend()\n",
    "    plt.show()"
   ]
  },
  {
   "cell_type": "code",
   "execution_count": null,
   "metadata": {},
   "outputs": [],
   "source": [
    "# Densities plots\n",
    "# Just change values at the top.\n",
    "\n",
    "density_plot_location = 111\n",
    "density_plot_start,density_plot_end = 370,376\n",
    "\n",
    "#################################################################### Do not touch the rest ####################################################################\n",
    "import matplotlib\n",
    "\n",
    "# 0'pred_alpha', 1'pred_beta', 2 rain>0 , 3'target_rain', 4 pred_p, 5 loc\n",
    "x=[i/20 for i in range(400)]\n",
    "plt.figure(figsize=(10,(density_plot_end-density_plot_start)*2))\n",
    "colors = matplotlib.cm.viridis(np.linspace(0, 1, len(range(density_plot_end,density_plot_start,-1))))\n",
    "for idx,col in zip(reversed(range(density_plot_start-1,density_plot_end)),colors):\n",
    "    rv=scs.gamma(a=[GNM_landonly[density_plot_location][0][i] for i in range(len(GNM_landonly[ts_plot_location][4]))][idx],scale=[1/GNM_landonly[density_plot_location][1][i] for i in range(len(GNM_landonly[ts_plot_location][4]))][idx])\n",
    "    level=(-0.3+(idx+1-density_plot_start)*0.25)\n",
    "    plt.plot(x,level+rv.pdf(x),color='black',alpha=0.7)\n",
    "    plt.fill_between(x,y1=level+rv.pdf(x),y2=level,where=([level+rv.pdf(x_)>level for x_ in x]),color=col,alpha=0.5)\n",
    "    plt.text(15,level+0.03,'p= '+str(round([GNM_landonly[density_plot_location][4][i] for i in range(len(GNM_landonly[ts_plot_location][4]))][idx],2)))\n",
    "    plt.scatter([GNM_landonly[density_plot_location][3][i] for i in range(len(GNM_landonly[ts_plot_location][4]))][idx],level,marker='v',color='b')\n",
    "plt.xlabel('Precipitation (mm)')\n",
    "plt.title('Gamma(y) in location '+str(GNM_landonly[density_plot_location][5]))\n",
    "#plt.yticks([-0.3+(idx-density_plot_start)*0.25 for idx in range(density_plot_end,density_plot_start,-1)],reversed([pd.to_datetime(i).date() for i in GNM_output[location_keys[0]]['date'][density_plot_start:density_plot_end]]))\n",
    "#plt.yticks([-0.3+(idx-density_plot_start)*0.25 for idx in range(density_plot_end,density_plot_start,-1)],[k for k in range([density_plot_start:density_plot_end]])\n",
    "plt.show()"
   ]
  },
  {
   "attachments": {},
   "cell_type": "markdown",
   "metadata": {},
   "source": [
    "### Simulations"
   ]
  },
  {
   "cell_type": "code",
   "execution_count": null,
   "metadata": {},
   "outputs": [],
   "source": [
    "def sim_convCNP(day,sim_nb=None):\n",
    "    '''\n",
    "    Does an inverse transform sampling on the ConvCNP marginals.\n",
    "    '''\n",
    "    if sim_nb==None:\n",
    "        u = np.random.uniform(low=0,high=1,size=len(GNM_landonly))\n",
    "        idx_u_dry = np.argwhere( u<(1-np.array([GNM_landonly[l][4][day] for l in range(len(GNM_landonly))])) ).flatten()\n",
    "        \n",
    "        y = scs.gamma(a=[GNM_landonly[l][0][day] for l in range(len(GNM_landonly))],scale=[1/GNM_landonly[l][1][day] for l in range(len(GNM_landonly))]).ppf(u)    \n",
    "        y[idx_u_dry] = np.repeat(0,len(idx_u_dry))\n",
    "    else:\n",
    "        u = np.random.uniform(low=0,high=1,size=len(GNM_landonly)*sim_nb)\n",
    "        idx_u_dry = np.argwhere( u<(1-np.array([[GNM_landonly[l][4][day] for l in range(len(GNM_landonly))] for sim in range(sim_nb)]).flatten()) ).flatten()\n",
    "        idx_u_wet = np.argwhere( u>(1-np.array([[GNM_landonly[l][4][day] for l in range(len(GNM_landonly))] for sim in range(sim_nb)]).flatten()) ).flatten()\n",
    "\n",
    "        u[idx_u_wet] = scs.gamma(\n",
    "                    a=np.array([[GNM_landonly[l][0][day] for l in range(len(GNM_landonly))] for sim in range(sim_nb)]).flatten()[idx_u_wet],\n",
    "                    scale=np.array([[1/GNM_landonly[l][1][day] for l in range(len(GNM_landonly))] for sim in range(sim_nb)]).flatten()[idx_u_wet]\n",
    "                    ).ppf(u[idx_u_wet])    \n",
    "        u[idx_u_dry] = np.repeat(0,len(idx_u_dry))\n",
    "        y = u.reshape(sim_nb,-1)\n",
    "    return y\n"
   ]
  },
  {
   "cell_type": "code",
   "execution_count": null,
   "metadata": {},
   "outputs": [],
   "source": [
    "sims_all_convCNP=[]\n",
    "\n",
    "day_subset=np.random.choice(range(len(GNM_landonly[0][0])),500,replace=False)\n",
    "\n",
    "for d in tqdm(day_subset):\n",
    "    sims_all_convCNP.append(sim_convCNP(d,100))\n",
    "\n"
   ]
  },
  {
   "cell_type": "code",
   "execution_count": null,
   "metadata": {},
   "outputs": [],
   "source": [
    "plt.scatter([GNM_landonly[l][5][0] for l in range(len(GNM_landonly))],[GNM_landonly[l][5][1] for l in range(len(GNM_landonly))],c=[GNM_landonly[l][3][day] for l in range(len(GNM_landonly))],cmap='inferno_r',s=3)\n",
    "plt.colorbar()\n",
    "plt.show()\n",
    "\n",
    "for sim in sim_convCNP(3,sim_nb=1):\n",
    "    plt.scatter([GNM_landonly[l][5][0] for l in range(len(GNM_landonly))],[GNM_landonly[l][5][1] for l in range(len(GNM_landonly))],c=sim,cmap='inferno_r',s=3)\n",
    "    plt.colorbar()\n",
    "    plt.show()"
   ]
  },
  {
   "cell_type": "code",
   "execution_count": null,
   "metadata": {},
   "outputs": [],
   "source": [
    "median_sim = np.median(np.array(sims_all_convCNP),axis=1) # [days,locs]"
   ]
  },
  {
   "attachments": {},
   "cell_type": "markdown",
   "metadata": {},
   "source": [
    "### Median forecast"
   ]
  },
  {
   "cell_type": "code",
   "execution_count": null,
   "metadata": {},
   "outputs": [],
   "source": [
    "# ~ less than 5 mins\n",
    "# Used to get the vectors for all locations and all times.\n",
    "\n",
    "g_median_all= np.nan_to_num(\n",
    "    scs.gamma(\n",
    "        a=np.array([[GNM_landonly[l][0][d] for l in range(len(GNM_landonly))] for d in range(len(GNM_landonly[0][0]))]) , \n",
    "        scale=np.reciprocal(np.array([[GNM_landonly[l][1][d] for l in range(len(GNM_landonly))] for d in range(len(GNM_landonly[0][0]))])) \n",
    "        ).ppf(\n",
    "            (np.array([[GNM_landonly[l][4][d] for l in range(len(GNM_landonly))] for d in range(len(GNM_landonly[0][0]))])-0.5\n",
    "            )/(\n",
    "                np.array([[GNM_landonly[l][4][d] for l in range(len(GNM_landonly))] for d in tqdm(range(len(GNM_landonly[0][0])))])\n",
    "                )\n",
    "            ), \n",
    "            nan=0,posinf=80,neginf=0)\n",
    "\n"
   ]
  },
  {
   "attachments": {},
   "cell_type": "markdown",
   "metadata": {},
   "source": [
    "### ROC"
   ]
  },
  {
   "cell_type": "code",
   "execution_count": null,
   "metadata": {},
   "outputs": [],
   "source": [
    "plt.hist(sims_all_copula.flatten(),bins=50,density=True)"
   ]
  },
  {
   "cell_type": "code",
   "execution_count": null,
   "metadata": {},
   "outputs": [],
   "source": [
    "# ROC for samples\n",
    "sims_all_copula = np.array(sims_all_convCNP)\n",
    "g_0mm=np.mean(sims_all_copula>0,axis=1).flatten()\n",
    "g_5mm=np.mean(sims_all_copula>5,axis=1).flatten()\n",
    "g_10mm=np.mean(sims_all_copula>10,axis=1).flatten()\n",
    "g_15mm=np.mean(sims_all_copula>15,axis=1).flatten()\n",
    "g_20mm=np.mean(sims_all_copula>20,axis=1).flatten()\n",
    "g_25mm=np.mean(sims_all_copula>25,axis=1).flatten()\n",
    "all_target_rain = np.array([np.array([GNM_landonly[loc][3][day]for day in day_subset])for loc in range(len(GNM_landonly))]).flatten().reshape(len(GNM_landonly),len(day_subset))\n",
    "g_0mm_did_rain=(all_target_rain.transpose()>0).flatten()\n",
    "g_5mm_did_rain=(all_target_rain.transpose()>5).flatten()\n",
    "g_10mm_did_rain=(all_target_rain.transpose()>10).flatten()\n",
    "g_15mm_did_rain=(all_target_rain.transpose()>15).flatten()\n",
    "g_20mm_did_rain=(all_target_rain.transpose()>20).flatten()\n",
    "g_25mm_did_rain=(all_target_rain.transpose()>25).flatten()"
   ]
  },
  {
   "cell_type": "code",
   "execution_count": null,
   "metadata": {},
   "outputs": [],
   "source": [
    "# getting vector of 'did it rain this much'\n",
    "g_0mm=[]\n",
    "g_5mm=[]\n",
    "g_10mm=[]\n",
    "g_15mm=[]\n",
    "g_20mm=[]\n",
    "g_25mm=[]\n",
    "\n",
    "#GNM_landonly[location][param][day]\n",
    "# 0'pred_alpha', 1'pred_beta', 2 rain>0 , 3'target_rain', 4 pred_p, 5 loc\n",
    "\n",
    "def fast_roc(day,x):\n",
    "   \n",
    "   out = 1-(\n",
    "         (1-np.array([GNM_landonly[l][4][day] for l in range(len(GNM_landonly))])) + \n",
    "         np.multiply(\n",
    "            [GNM_landonly[l][4][day] for l in range(len(GNM_landonly))] , \n",
    "            scs.gamma( scale=[1/GNM_landonly[l][1][day] for l in range(len(GNM_landonly))] , \n",
    "                        a=[GNM_landonly[l][0][day] for l in range(len(GNM_landonly))]\n",
    "               ).cdf(x)\n",
    "            )        \n",
    "      )\n",
    "\n",
    "   return out\n",
    "\n",
    "\n",
    "for d in tqdm(range(len(GNM_landonly[0][0]))):\n",
    "   g_0mm.append(fast_roc(d,0.01))\n",
    "   g_5mm.append(fast_roc(d,5))\n",
    "   g_10mm.append(fast_roc(d,10))\n",
    "   g_15mm.append(fast_roc(d,15))\n",
    "   g_20mm.append(fast_roc(d,20))\n",
    "   g_25mm.append(fast_roc(d,25))\n",
    "\n",
    "\n",
    "with open('g_0mm.txt','wb') as f:\n",
    "   pickle.dump(g_0mm,f)\n",
    "\n",
    "with open('g_5mm.txt','wb') as f:\n",
    "   pickle.dump(g_5mm,f)\n",
    "\n",
    "with open('g_10mm.txt','wb') as f:\n",
    "   pickle.dump(g_10mm,f)\n",
    "\n",
    "with open('g_15mm.txt','wb') as f:\n",
    "   pickle.dump(g_15mm,f)\n",
    "\n",
    "with open('g_20mm.txt','wb') as f:\n",
    "   pickle.dump(g_20mm,f)\n",
    "\n",
    "with open('g_25mm.txt','wb') as f:\n",
    "   pickle.dump(g_25mm,f)\n"
   ]
  },
  {
   "cell_type": "code",
   "execution_count": null,
   "metadata": {},
   "outputs": [],
   "source": [
    "g_0mm_did_rain=[]\n",
    "g_5mm_did_rain=[]\n",
    "g_10mm_did_rain=[]\n",
    "g_15mm_did_rain=[]\n",
    "g_20mm_did_rain=[]\n",
    "g_25mm_did_rain=[]\n",
    "def roc_didrain(day,x):\n",
    "    return np.array([GNM_landonly[l][3][day] for l in range(len(GNM_landonly))])>x\n",
    "for d in tqdm(range(len(GNM_landonly[0][0]))):\n",
    "   g_0mm_did_rain.append(roc_didrain(d,0.01))\n",
    "   g_5mm_did_rain.append(roc_didrain(d,5))\n",
    "   g_10mm_did_rain.append(roc_didrain(d,10))\n",
    "   g_15mm_did_rain.append(roc_didrain(d,15))\n",
    "   g_20mm_did_rain.append(roc_didrain(d,20))\n",
    "   g_25mm_did_rain.append(roc_didrain(d,25))"
   ]
  },
  {
   "cell_type": "code",
   "execution_count": null,
   "metadata": {},
   "outputs": [],
   "source": [
    "#Saving data\n",
    "'''with open('g_0mm.txt','wb') as f:\n",
    "    pickle.dump(g_0mm,f)\n",
    "with open('g_5mm.txt','wb') as f:\n",
    "    pickle.dump(g_5mm,f)\n",
    "with open('g_10mm.txt','wb') as f:\n",
    "    pickle.dump(g_10mm,f)\n",
    "with open('g_15mm.txt','wb') as f:\n",
    "    pickle.dump(g_15mm,f)\n",
    "with open('g_20mm.txt','wb') as f:\n",
    "    pickle.dump(g_20mm,f)\n",
    "with open('g_25mm.txt','wb') as f:\n",
    "    pickle.dump(g_25mm,f)'''\n",
    "\n",
    "# Loading data\n",
    " \n",
    "with open('g_0mm.txt','rb') as f:\n",
    "    g_0mm = pickle.load(f)\n",
    "with open('g_5mm.txt','rb') as f:\n",
    "    g_5mm = pickle.load(f)\n",
    "with open('g_10mm.txt','rb') as f:\n",
    "    g_10mm = pickle.load(f)\n",
    "with open('g_15mm.txt','rb') as f:\n",
    "    g_15mm = pickle.load(f)\n",
    "with open('g_20mm.txt','rb') as f:\n",
    "    g_20mm = pickle.load(f)\n",
    "with open('g_25mm.txt','rb') as f:\n",
    "    g_25mm = pickle.load(f)"
   ]
  },
  {
   "cell_type": "code",
   "execution_count": null,
   "metadata": {},
   "outputs": [],
   "source": [
    "# Restructuring data for ROC ~1m+3m/20y , 6m/30y\n",
    "\n",
    "# g_25mm[loc][parallel run][0:rained more than x, 1:P it rained x][days]\n",
    "roc_0_tf = np.array(g_0mm_did_rain).flatten()\n",
    "roc_0_p = np.array(g_0mm).flatten()\n",
    "\n",
    "roc_5_tf = np.array(g_5mm_did_rain).flatten()\n",
    "roc_5_p = np.array(g_5mm).flatten()\n",
    "\n",
    "roc_10_tf = np.array(g_10mm_did_rain).flatten()\n",
    "roc_10_p = np.array(g_10mm).flatten()\n",
    "\n",
    "roc_15_tf = np.array(g_15mm_did_rain).flatten()\n",
    "roc_15_p = np.array(g_15mm).flatten()\n",
    "\n",
    "roc_20_tf = np.array(g_20mm_did_rain).flatten()\n",
    "roc_20_p = np.array(g_20mm).flatten()\n",
    "\n",
    "roc_25_tf = np.array(g_25mm_did_rain).flatten()\n",
    "roc_25_p = np.array(g_25mm).flatten()\n",
    "\n",
    "###\n",
    "\n",
    "fpr_0mm, tpr_0mm, _ = metrics.roc_curve(roc_0_tf,roc_0_p)\n",
    "auc0 = metrics.roc_auc_score(roc_0_tf,roc_0_p)\n",
    "\n",
    "fpr_5mm, tpr_5mm, _ = metrics.roc_curve(roc_5_tf,roc_5_p)\n",
    "auc5 = metrics.roc_auc_score(roc_5_tf,roc_5_p)\n",
    "\n",
    "fpr_10mm, tpr_10mm, _ = metrics.roc_curve(roc_10_tf,roc_10_p)\n",
    "auc10 = metrics.roc_auc_score(roc_10_tf,roc_10_p)\n",
    "\n",
    "fpr_15mm, tpr_15mm, _ = metrics.roc_curve(roc_15_tf,roc_15_p)\n",
    "auc15 = metrics.roc_auc_score(roc_15_tf,roc_15_p)\n",
    "\n",
    "fpr_20mm, tpr_20mm, _ = metrics.roc_curve(roc_20_tf,roc_20_p)\n",
    "auc20 = metrics.roc_auc_score(roc_20_tf,roc_20_p)\n",
    "\n",
    "fpr_25mm, tpr_25mm, _ = metrics.roc_curve(roc_25_tf,roc_25_p)\n",
    "auc25 = metrics.roc_auc_score(roc_25_tf,roc_25_p)"
   ]
  },
  {
   "cell_type": "code",
   "execution_count": null,
   "metadata": {},
   "outputs": [],
   "source": [
    "# ROC plot ~3m\n",
    "plt.figure(figsize=(10,10))\n",
    "plt.plot(fpr_0mm,tpr_0mm,label='AUC='+str(auc0),color='black',alpha=0.7)\n",
    "\n",
    "plt.plot(fpr_5mm,tpr_5mm,label='AUC='+str(auc5),color='red',alpha=0.7)\n",
    "\n",
    "plt.plot(fpr_10mm,tpr_10mm,label='AUC='+str(auc10),color='orange',alpha=0.7,linestyle='dashed')\n",
    "\n",
    "plt.plot(fpr_15mm,tpr_15mm,label='AUC='+str(auc15),color='green',alpha=0.7,linestyle='dashdot')\n",
    "\n",
    "plt.plot(fpr_20mm,tpr_20mm,label='AUC='+str(auc20),color='blue',alpha=0.7,linestyle='dotted')\n",
    "\n",
    "plt.plot(fpr_25mm,tpr_25mm,label='AUC='+str(auc25),color='purple',alpha=0.7)\n",
    "\n",
    "plt.ylabel('True Positive Rate')\n",
    "plt.xlabel('False Positive Rate')\n",
    "plt.legend(['0mm AUC:'+str(round(auc0,5)),'5mm AUC:'+str(round(auc5,5)),'10mm AUC:'+str(round(auc10,5)),'15mm AUC:'+str(round(auc15,5)),'20mm AUC:'+str(round(auc20,5)),'25mm AUC:'+str(round(auc25,5))])\n",
    "#plt.title('Gamma Model United Kingdom')\n",
    "#plt.savefig('ROC Gamma model UK')"
   ]
  },
  {
   "attachments": {},
   "cell_type": "markdown",
   "metadata": {},
   "source": [
    "### 1 - ecdf"
   ]
  },
  {
   "cell_type": "code",
   "execution_count": null,
   "metadata": {},
   "outputs": [],
   "source": [
    "# P(rain>x) ~1m15 now. depending on samples and days used. \n",
    "from statsmodels.distributions.empirical_distribution import ECDF\n",
    "\n",
    "# get empirical cdfs for median, sampled and target rain.\n",
    "gamma_ecdf = ECDF(g_median_all.flatten())\n",
    "target_ecdf = ECDF(np.array([np.array([GNM_landonly[loc][3][day] for loc in range(len(GNM_landonly))]) for day in tqdm(range(len(GNM_landonly[0][0])))]).flatten())\n",
    "gamma_sampled_ecdf = ECDF(np.array(sims_all_convCNP).flatten())\n",
    "plt.plot(gamma_ecdf.x,1-gamma_ecdf.y,label='Median forecast')\n",
    "plt.plot(gamma_sampled_ecdf.x,1-gamma_sampled_ecdf.y,linestyle='dotted',label='Sampled forecasts')\n",
    "plt.plot(target_ecdf.x,1-target_ecdf.y,linestyle='--',label='Target rainfall')\n",
    "plt.xlabel('Precipitation (mm)')\n",
    "plt.ylabel('Probability of precipitatoin > x')\n",
    "plt.xlim(-1,25)\n",
    "plt.legend()"
   ]
  },
  {
   "attachments": {},
   "cell_type": "markdown",
   "metadata": {},
   "source": [
    "### RMSB MAB"
   ]
  },
  {
   "cell_type": "code",
   "execution_count": null,
   "metadata": {},
   "outputs": [],
   "source": [
    "# RMSB and MAB metrics across all days and locations ~4.9s\n",
    "all_target_rain = np.array([np.array([GNM_landonly[loc][3][day]for day in range(len(GNM_landonly[0][0]))])for loc in range(len(GNM_landonly))]).flatten().reshape(len(GNM_landonly),len(GNM_landonly[0][0])) # [loc,day]\n",
    "RMSB = math.sqrt(np.mean(np.power(np.subtract(all_target_rain,np.array(g_median_all).reshape((len(GNM_landonly),len(GNM_landonly[0][0])))),2)))\n",
    "MAB = np.mean(np.abs(all_target_rain-np.array(g_median_all).reshape((len(GNM_landonly),len(GNM_landonly[0][0])))))\n",
    "print('MAB = '+str(MAB)+', RMSB = '+str(RMSB))"
   ]
  },
  {
   "cell_type": "code",
   "execution_count": null,
   "metadata": {},
   "outputs": [],
   "source": [
    "# Plot RMSB and MAB across time, averaged over all locations. \n",
    "import matplotlib.dates as mdates\n",
    "plt.figure(figsize=(25,8),dpi=700)\n",
    "\n",
    "RMSB_matrix = np.power(np.subtract(all_target_rain,np.array(g_median_all).reshape((len(GNM_landonly),len(GNM_landonly[0][0])))),2)\n",
    "MAB_matrix = np.abs(all_target_rain-np.array(g_median_all).reshape((len(GNM_landonly),len(GNM_landonly[0][0]))))\n",
    "RMSB_ts = [math.sqrt(np.mean(RMSB_matrix[:,day])) for day in range(len(GNM_landonly[0][0]))]\n",
    "MAB_ts = [np.mean(MAB_matrix[:,day]) for day in range(len(GNM_landonly[0][0]))]\n",
    "plt.plot(day_dates,RMSB_ts,alpha=0.6,label='RMSB')\n",
    "plt.plot(day_dates,MAB_ts,alpha=0.6,label='MAB')\n",
    "plt.legend()\n",
    "\n",
    "plt.ylabel('Precipitation bias (mm)')\n",
    "plt.xlabel('Date')\n",
    "plt.gca().xaxis.set_major_locator(mdates.DayLocator(interval=round(len(GNM_landonly[0][0])/15)))\n",
    "plt.gcf().autofmt_xdate()\n",
    "plt.show()"
   ]
  },
  {
   "cell_type": "code",
   "execution_count": null,
   "metadata": {},
   "outputs": [],
   "source": [
    "plt.hist(RMSB_ts,bins=50)\n",
    "plt.title('RMSB across days')\n",
    "plt.show()\n",
    "plt.hist(MAB_ts,bins=50)\n",
    "plt.title('MAB across days')\n",
    "plt.show()"
   ]
  },
  {
   "attachments": {},
   "cell_type": "markdown",
   "metadata": {},
   "source": [
    "### Bias Maps"
   ]
  },
  {
   "cell_type": "code",
   "execution_count": null,
   "metadata": {},
   "outputs": [],
   "source": [
    "# Bias maps 2*2\n",
    "test_arr = np.array([np.mean(sampled_rain_flatten_all.reshape(3,53118)[:,column]) for column in range(53118)]).reshape(13,4086)\n",
    "\n",
    "MAB_map = [np.mean(MAB_matrix[loc,:]) for loc in range(4086)]\n",
    "RMSB_map = [math.sqrt(np.mean(RMSB_matrix[loc,:])) for loc in range(4086)]\n",
    "Bias_map = np.matrix(np.array(g_median_all).reshape((4087,2000))-all_target_rain).mean(1).tolist()[:-1]\n",
    "day_subset = np.random.choice(range(2000),50)\n",
    "Sampled_bias = np.divide(np.array([np.mean(test_arr[:,loc]) for loc in range(4086)])-np.array([np.mean(np.transpose(all_target_rain[loc,day_subset])) for loc in range(4086)]), # difference \n",
    "np.array([np.mean(np.transpose(all_target_rain[loc,day_subset])) for loc in range(4086)])) # normalize by average target\n",
    "\n",
    "fig, axes = plt.subplots(nrows=2, ncols=2,sharex=True,sharey=True,figsize=(12.5,8.5))\n",
    "for day,ax in tqdm(enumerate(axes.flat)):\n",
    "    \n",
    "    fig.set_dpi(500)\n",
    "    ax.set_aspect('equal')\n",
    "    ax.set_xticks([])\n",
    "    ax.set_yticklabels([])\n",
    "    plt.subplots_adjust(wspace=0, hspace=0)\n",
    "    if day==0:\n",
    "        #ax.set_title('MAB of median', y=1.0, pad=-10,size=10)\n",
    "        im=ax.scatter([GNM_landonly[loc][5][1] for loc in range(4086)],[-GNM_landonly[loc][5][0] for loc in range(4086)],c=MAB_map,s=3.3,marker='s')\n",
    "        fig.colorbar(im,ax=ax,location='left',fraction=0.03,pad=0.001).ax.tick_params(labelsize=3) \n",
    "        \n",
    "    elif day==1:\n",
    "        #ax.set_title('RMSB of median', y=1.0, pad=-10,size=10)\n",
    "        im=ax.scatter([GNM_landonly[loc][5][1] for loc in range(4086)],[-GNM_landonly[loc][5][0] for loc in range(4086)],c=RMSB_map,s=3.3,marker='s')\n",
    "        fig.colorbar(im,ax=ax,location='left',fraction=0.03,pad=0.001)\n",
    "    elif day==2:\n",
    "        #ax.set_title('Bias of median', y=1.0, pad=-10,size=10)\n",
    "        im=ax.scatter([GNM_landonly[loc][5][1] for loc in range(4086)],[-GNM_landonly[loc][5][0] for loc in range(4086)],c=Bias_map,cmap='BrBG',s=3.3,marker='s',vmin=-4,vmax=4)\n",
    "        fig.colorbar(im,ax=ax,location='left',fraction=0.03,pad=0.001)\n",
    "    else:\n",
    "        #ax.set_title('Bias of 10 averaged samples', y=1.0, pad=-10,size=10)\n",
    "        im=ax.scatter([GNM_landonly[loc][5][1] for loc in range(4086)],[-GNM_landonly[loc][5][0] for loc in range(4086)],c=Sampled_bias,cmap='BrBG',s=3.3,marker='s',vmin=-5,vmax=5)\n",
    "        fig.colorbar(im,ax=ax,location='left',fraction=0.03,pad=0.001)\n",
    "\n",
    "plt.show()"
   ]
  },
  {
   "cell_type": "code",
   "execution_count": null,
   "metadata": {},
   "outputs": [],
   "source": [
    "\n",
    "for map_id,map in enumerate([MAB_map,RMSB_map,Bias_map,Sampled_bias]):\n",
    "    fig = plt.gcf()\n",
    "    fig.set_size_inches(12,9.5)\n",
    "    if map_id in [2,3]:\n",
    "        plt.scatter([GNM_landonly[loc][5][1] for loc in range(4086)],[-GNM_landonly[loc][5][0] for loc in range(4086)],c=map,cmap='BrBG',s=24,marker='s',vmin=-np.max(np.abs(map)),vmax=np.max(np.abs(map)))\n",
    "        plt.colorbar(location='bottom',fraction=0.0652,pad=0.001)\n",
    "        plt.yticks([])\n",
    "        plt.xticks([])\n",
    "        plt.show()\n",
    "        continue\n",
    "    plt.scatter([GNM_landonly[loc][5][1] for loc in range(4086)],[-GNM_landonly[loc][5][0] for loc in range(4086)],c=map,s=24,marker='s',vmin=0)\n",
    "    plt.colorbar(location='bottom',fraction=0.0652,pad=0.001)\n",
    "    plt.yticks([])\n",
    "    plt.xticks([])\n",
    "    plt.show()"
   ]
  },
  {
   "attachments": {},
   "cell_type": "markdown",
   "metadata": {},
   "source": [
    "### Median VS Observed"
   ]
  },
  {
   "cell_type": "code",
   "execution_count": null,
   "metadata": {},
   "outputs": [],
   "source": [
    "# median vs observed\n",
    "binned_median_means = [np.log(np.mean(g_median_all[np.logical_and(all_target_rain.flatten()>-0.01+k*3, all_target_rain.flatten()<3+k*3     )])+1) for k in range(30)]\n",
    "binned_median_std = [np.std(np.log(1+g_median_all[np.logical_and(all_target_rain.flatten()>-0.01+k*3, all_target_rain.flatten()<3+k*3     )])) for k in range(30)]\n",
    "\n",
    "plt.plot(np.log([i for i in range(1,30*3,3)]),binned_median_means, color='red',linestyle='dashed',label='Mean/SD of pred in 3mm/day intervals')\n",
    "\n",
    "for i,v in enumerate(range(1,30*3,3)):\n",
    "    if i==0:\n",
    "        continue\n",
    "    plt.plot(np.log([v,v]),[binned_median_means[i]+binned_median_std[i] ,binned_median_means[i]-binned_median_std[i] ],'r',linewidth=1)\n",
    "\n",
    "plt.plot([0,5],[0,5],linestyle='dashed',color='grey',label='y = x')\n",
    "plt.scatter(np.log(all_target_rain.flatten()+1),np.log(g_median_all+1),marker='x',linewidths=0.3,alpha=0.3)\n",
    "\n",
    "plt.axvline(x = np.log(10), color = 'purple', label = '10 mm rainfall',linewidth=1.3)\n",
    "\n",
    "plt.legend(loc='upper left')\n",
    "\n",
    "plt.xlabel('Observed log-trandformed rainfall')\n",
    "plt.ylabel('Predicted log-trandformed rainfall')\n",
    "plt.show()"
   ]
  },
  {
   "attachments": {},
   "cell_type": "markdown",
   "metadata": {},
   "source": [
    "### CRPS"
   ]
  },
  {
   "cell_type": "code",
   "execution_count": null,
   "metadata": {},
   "outputs": [],
   "source": [
    "# compute CRPS per locatoin. This is done in the medium benchmark paper. Also, I can then plot CRPs on a map, could be nice."
   ]
  },
  {
   "cell_type": "code",
   "execution_count": null,
   "metadata": {},
   "outputs": [],
   "source": [
    "def estimate_CRPS_score(observation, simulations):\n",
    "    \"\"\"observation is a single value, while simulations is an array. We estimate this by building an empirical\n",
    "    unbiased estimate of Eq. (1) in Ziel and Berk 2019\"\"\"\n",
    "    diff_X_y = np.abs(observation - simulations)\n",
    "    n_sim = simulations.shape[0]\n",
    "    diff_X_tildeX = np.abs(simulations.reshape(1, -1) - simulations.reshape(-1, 1))\n",
    "    return 2 * np.mean(diff_X_y) - np.sum(diff_X_tildeX) / (n_sim * (n_sim - 1))\n",
    "\n",
    "def exact_CRPS_score(y_obs,F):\n",
    "    def I(x):\n",
    "        return np.power(F(x)-(x>y_obs),2)\n",
    "    return integrate.quad(lambda x: I(x), -0.1,10e+3)[0]\n",
    "    "
   ]
  },
  {
   "cell_type": "code",
   "execution_count": null,
   "metadata": {},
   "outputs": [],
   "source": [
    "def estimate_CRPS_score_fast(obs,sims):\n",
    "    '''\n",
    "    obs: one vector of observations [y_1, y_2, ... y_n], ideally n corresponds to locations.\n",
    "    sims: m vectors of simulations, each vector has length n. [[x_11, x_21,..., x_n1] ,..., [x_1m, x_2m,..., x_nm] ]\n",
    "\n",
    "    returns: a vector [s1, ... , sn] of one score per location. this is for a single day, so would still need to average across days.\n",
    "    '''\n",
    "    m = len(sims)\n",
    "\n",
    "    obs= np.array(obs)\n",
    "    sims=np.array(sims)\n",
    "\n",
    "    # |X-x|    \n",
    "    diff_X_x = np.mean(\n",
    "        np.abs(\n",
    "            np.tile(obs,(m,1)) - sims\n",
    "            ),\n",
    "        axis=0)\n",
    "\n",
    "    #|X-X'|\n",
    "    diff_X_tilde_X = np.sum(\n",
    "        np.abs(\n",
    "            np.tile(sims,(m,1))-\n",
    "            np.repeat(sims,m,axis=0)\n",
    "            )\n",
    "            ,axis=0\n",
    "        )/(m*m-1)\n",
    "\n",
    "    return 2*diff_X_x - diff_X_tilde_X \n"
   ]
  },
  {
   "cell_type": "code",
   "execution_count": null,
   "metadata": {},
   "outputs": [],
   "source": [
    "sims_all_convCNP = np.array(sims_all_convCNP)"
   ]
  },
  {
   "cell_type": "code",
   "execution_count": null,
   "metadata": {},
   "outputs": [],
   "source": [
    "q_crps = []\n",
    "for day_idx,day in tqdm(enumerate(day_subset)):\n",
    "    q_crps.append( estimate_CRPS_score_fast([GNM_landonly[l][0][day] for l in range(len(GNM_landonly))],sims_all_convCNP[day_idx,:]) )"
   ]
  },
  {
   "cell_type": "code",
   "execution_count": null,
   "metadata": {},
   "outputs": [],
   "source": [
    "# Mean CRPS:\n",
    "np.mean(q_crps)"
   ]
  },
  {
   "cell_type": "code",
   "execution_count": null,
   "metadata": {},
   "outputs": [],
   "source": [
    "fig = plt.gcf() \n",
    "fig.set_size_inches(14,10)\n",
    "plt.scatter([GNM_landonly[l][5][0] for l in range(len(GNM_landonly))],[GNM_landonly[l][5][1] for l in range(len(GNM_landonly))],c=np.mean(q_crps,axis=0),s=22,marker='s')\n",
    "plt.colorbar()\n",
    "plt.title('mean CRPS per location')\n",
    "plt.show()\n",
    "for score in q_crps[:5]:\n",
    "    plt.scatter([GNM_landonly[l][5][0] for l in range(len(GNM_landonly))],[GNM_landonly[l][5][1] for l in range(len(GNM_landonly))],c=score,s=3)\n",
    "    plt.colorbar()\n",
    "    plt.title('crps per location for one sample')\n",
    "    plt.show()"
   ]
  },
  {
   "cell_type": "code",
   "execution_count": null,
   "metadata": {},
   "outputs": [],
   "source": [
    "#Comparing exact vs estimat CRPS:\n",
    "loc = 10\n",
    "for day in [0,100,200,300,400,500,600]:\n",
    "    print('day   --',day,'--   :')\n",
    "    \n",
    "    # Exact CRPS:\n",
    "    def F_gnm(x):\n",
    "        p = GNM_landonly[loc][4][day]\n",
    "        m = GNM_landonly[loc][0][day]\n",
    "        d = GNM_landonly[loc][1][day]\n",
    "        return (1-p) + p*scs.gamma(a=1/d,scale=m*d).cdf(x)\n",
    "    print('exact: ',2*exact_CRPS_score(GNM_landonly[loc][3][day],F_gnm))\n",
    "\n",
    "    # Estimated CRPS:\n",
    "    p = GNM_landonly[loc][4][day]\n",
    "    m = GNM_landonly[loc][0][day]\n",
    "    d = GNM_landonly[loc][1][day]\n",
    "    x_samples = scs.gamma(a=1/d,scale=m*d).ppf((p-1+np.random.uniform(size=5000))/p)\n",
    "    x_samples = np.nan_to_num(x_samples)\n",
    "    print('Estimate: ',estimate_CRPS_score(GNM_landonly[loc][3][day],x_samples))"
   ]
  },
  {
   "attachments": {},
   "cell_type": "markdown",
   "metadata": {},
   "source": [
    "### Spatial Scoring Rule"
   ]
  },
  {
   "cell_type": "code",
   "execution_count": null,
   "metadata": {},
   "outputs": [],
   "source": [
    "def Spatial_Energy_Score_single_day(beta,observations_y,simulations_Y):\n",
    "\n",
    "    n = len(observations_y)\n",
    "    m = len(simulations_Y)\n",
    "    observations_y = np.array(observations_y)\n",
    "    simulations_Y = np.array(simulations_Y)\n",
    "\n",
    "    # First part |Y-y|. Gives the L2 dist scaled by power beta. Is a vector of length n/one value per location.\n",
    "    diff_Y_y = np.power(\n",
    "            np.linalg.norm(\n",
    "                np.tile(observations_y,(m,1)) -\n",
    "                simulations_Y,\n",
    "            axis=1),\n",
    "        beta)\n",
    "\n",
    "    #Second part |Y-Y'|. 2* because pdist counts only once.\n",
    "    diff_Y_Y = 2 * np.power(\n",
    "        pdist(simulations_Y)\n",
    "    ,beta)\n",
    "\n",
    "    Energy = 2 * np.mean(diff_Y_y) - np.sum(diff_Y_Y)/(m*(m-1))\n",
    "    return Energy"
   ]
  },
  {
   "cell_type": "code",
   "execution_count": null,
   "metadata": {},
   "outputs": [],
   "source": [
    "Energy_diagnostic = []\n",
    "for d in tqdm(range(256)):\n",
    "    Energy_diagnostic.append(Spatial_Energy_Score_single_day(2,[GNM_landonly[l][3][day_subset[d]] for l in range(len(GNM_landonly))],sims_all_convCNP[d,:100,:len(GNM_landonly)]))"
   ]
  },
  {
   "cell_type": "code",
   "execution_count": null,
   "metadata": {},
   "outputs": [],
   "source": [
    "plt.plot(Energy_diagnostic)"
   ]
  },
  {
   "cell_type": "code",
   "execution_count": null,
   "metadata": {},
   "outputs": [],
   "source": [
    "np.mean(Energy_diagnostic)"
   ]
  },
  {
   "attachments": {},
   "cell_type": "markdown",
   "metadata": {},
   "source": [
    "### Rank histogram"
   ]
  },
  {
   "cell_type": "code",
   "execution_count": null,
   "metadata": {},
   "outputs": [],
   "source": [
    "#GNM_landonly[location][param][day]\n",
    "# 0'pred_mu', 1'pred_disp', 2'target_did_rain', 3'target_rain_value', 4'pred_p', 5'location'\n",
    "\n",
    "def get_cdf_gnm(day):\n",
    "    p_times_cdf = np.multiply( #p*cdf(y)\n",
    "        np.array([GNM_landonly[l][4][day] for l in range(len(GNM_landonly))]),\n",
    "        scs.gamma(\n",
    "            a=[GNM_landonly[l][0][day] for l in range(len(GNM_landonly))],\n",
    "            scale=[1/GNM_landonly[l][1][day] for l in range(len(GNM_landonly))]\n",
    "            ).cdf([GNM_landonly[l][3][day] for l in range(len(GNM_landonly))]))\n",
    "    \n",
    "    where_0 = np.argwhere(p_times_cdf==0).flatten()\n",
    "    where_rain = np.argwhere(p_times_cdf>0).flatten()\n",
    "\n",
    "    p_times_cdf[where_0] = np.random.uniform( # replace censored by u~[0,1-p]\n",
    "        low=np.zeros(len(where_0)),\n",
    "        high=(1-np.array([GNM_landonly[l][4][day] for l in range(len(GNM_landonly))])[where_0]).flatten()\n",
    "        )\n",
    "    \n",
    "    p_times_cdf[where_rain] = (1-np.array([GNM_landonly[l][4][day] for l in range(len(GNM_landonly))]))[where_rain] + p_times_cdf[where_rain] # uncensored = (1-p) + p*cdf(y)\n",
    "\n",
    "    return p_times_cdf"
   ]
  },
  {
   "cell_type": "code",
   "execution_count": null,
   "metadata": {},
   "outputs": [],
   "source": [
    "obs_u_all = []\n",
    "for d in tqdm(range(len(GNM_landonly[0][0]))):\n",
    "    obs_u_all.append(get_cdf_gnm(d))"
   ]
  },
  {
   "cell_type": "code",
   "execution_count": null,
   "metadata": {},
   "outputs": [],
   "source": [
    "obs_u_all = np.array(obs_u_all).flatten()"
   ]
  },
  {
   "cell_type": "code",
   "execution_count": null,
   "metadata": {},
   "outputs": [],
   "source": [
    "plt.hist(obs_u_all,bins=25,density=True,alpha=0.7) # convcnp"
   ]
  },
  {
   "cell_type": "code",
   "execution_count": null,
   "metadata": {},
   "outputs": [],
   "source": [
    "plt.figure(figsize=(20,5))\n",
    "plt.scatter( range(len(obs_u_all)),obs_u_all,s=0.000005)\n",
    "plt.show()"
   ]
  },
  {
   "cell_type": "code",
   "execution_count": null,
   "metadata": {},
   "outputs": [],
   "source": [
    "plt.figure(figsize=(5,6.5))\n",
    "plt.hist(obs_u_all,bins=30,density=True,alpha=0.7)\n",
    "plt.plot([0,1],[1,1])\n",
    "plt.ylim(0,3)\n",
    "plt.show()\n",
    "plt.figure(figsize=(20,5))\n",
    "plt.hist(obs_u_all,bins=100,density=True,alpha=0.7)\n",
    "plt.plot([0,1],[1,1])   \n",
    "plt.ylim(0,5)\n",
    "plt.show()"
   ]
  },
  {
   "cell_type": "code",
   "execution_count": null,
   "metadata": {},
   "outputs": [],
   "source": [
    "plt.hist(obs_u_all,bins=100,cumulative=True,alpha=0.7,align='mid')\n",
    "plt.plot([0,1],[0,len(obs_u_all)],linestyle='dashed')\n",
    "plt.show()\n",
    "plt.figure(figsize=(20,5))\n",
    "plt.hist(obs_u_all,bins=500,cumulative=True,alpha=0.7,align='mid',histtype='step',linewidth=2)\n",
    "plt.plot([0,1],[0,len(obs_u_all)],linestyle='dashed')\n",
    "plt.show()"
   ]
  },
  {
   "attachments": {},
   "cell_type": "markdown",
   "metadata": {},
   "source": [
    "### Correlation map"
   ]
  },
  {
   "cell_type": "code",
   "execution_count": null,
   "metadata": {},
   "outputs": [],
   "source": [
    "with open('VAEGAN_corr_sims.txt','rb') as f:\n",
    "    VAEGAN_corr_sims = pickle.load(f)"
   ]
  },
  {
   "cell_type": "code",
   "execution_count": null,
   "metadata": {},
   "outputs": [],
   "source": [
    "# Observed corr\n",
    "#corr_mat = np.corrcoef(all_target_rain)\n",
    "fig = plt.gcf() \n",
    "fig.set_size_inches(14,10)\n",
    "plt.scatter(VAEGAN_corr_sims[0],VAEGAN_corr_sims[1],c=VAEGAN_corr_sims[2],s=35,marker='s',vmin=0)\n",
    "plt.colorbar(location='bottom',fraction=0.0652,pad=0.001)\n",
    "plt.plot([76,76],[0,-100],color='black',linestyle='dotted',linewidth=1)\n",
    "plt.plot([0,140],[-46,-46],color='black',linestyle='dotted',linewidth=1)\n",
    "plt.yticks([])\n",
    "plt.xticks([])\n",
    "plt.tight_layout()\n",
    "\n",
    "plt.savefig('VAEGAN_corr_sims.eps', format='eps')\n",
    "plt.show()"
   ]
  },
  {
   "cell_type": "code",
   "execution_count": null,
   "metadata": {},
   "outputs": [],
   "source": [
    "for i,v in enumerate(np.array([GNM_landonly[l][5] for l in range(len(GNM_landonly))])): # closest to center 1107 [43 70]\n",
    "\n",
    "    if (v==[76,54]).all():\n",
    "        print(i,v)"
   ]
  },
  {
   "cell_type": "code",
   "execution_count": null,
   "metadata": {},
   "outputs": [],
   "source": [
    "all_target_rain = np.array([np.array([GNM_landonly[loc][3][day]for day in range(len(GNM_landonly[0][0]))])for loc in range(len(GNM_landonly))]).flatten().reshape(len(GNM_landonly),len(GNM_landonly[0][0])) # [loc,day]\n"
   ]
  },
  {
   "cell_type": "code",
   "execution_count": null,
   "metadata": {},
   "outputs": [],
   "source": [
    "# Observed corr\n",
    "#corr_mat = np.corrcoef(all_target_rain)\n",
    "fig = plt.gcf() \n",
    "fig.set_size_inches(1.5*12.1,1.5*9.1)\n",
    "plt.scatter([GNM_landonly[loc][5][0] for loc in range(len(GNM_landonly))],[GNM_landonly[loc][5][1] for loc in range(len(GNM_landonly))],c=corr_mat[:,2361  ],s=35,marker='s',vmin=0)\n",
    "plt.colorbar(location='bottom',fraction=0.0652,pad=0.001)\n",
    "plt.plot([76,76],[0,100],color='black',linestyle='dotted',linewidth=1)\n",
    "plt.plot([0,140],[54,54],color='black',linestyle='dotted',linewidth=1)\n",
    "plt.yticks([])\n",
    "plt.xticks([])\n",
    "plt.show()"
   ]
  },
  {
   "cell_type": "code",
   "execution_count": null,
   "metadata": {},
   "outputs": [],
   "source": [
    "# Simulated corr\n",
    "plt.rcParams.update({'font.size': 30})\n",
    "\n",
    "sims_all_convCNP = np.array(sims_all_convCNP)\n",
    "corr_mat_sim = np.corrcoef(np.concatenate(sims_all_convCNP,0).transpose())\n",
    "fig = plt.gcf() \n",
    "fig.set_size_inches(14,10)\n",
    "plt.tight_layout()\n",
    "plt.scatter([GNM_landonly[loc][5][0] for loc in range(len(GNM_landonly))],[GNM_landonly[loc][5][1] for loc in range(len(GNM_landonly))],c=corr_mat_sim[2361,:],s=35,marker='s',vmin=0)\n",
    "plt.colorbar(location='bottom',fraction=0.0652,pad=0.001)\n",
    "plt.plot([76,76],[0,100],color='black',linestyle='dotted',linewidth=1)\n",
    "plt.plot([0,140],[54,54],color='black',linestyle='dotted',linewidth=1)\n",
    "plt.yticks([])\n",
    "plt.xticks([])\n",
    "plt.tight_layout()\n",
    "plt.savefig('convCNP_corr_sims.eps', format='eps')\n",
    "plt.show()"
   ]
  },
  {
   "cell_type": "code",
   "execution_count": null,
   "metadata": {},
   "outputs": [],
   "source": [
    "# median of sim corr\n",
    "corr_mat_sim_med = np.corrcoef(np.median(np.array(sims_all_convCNP).transpose(),axis=1))\n",
    "fig = plt.gcf() \n",
    "fig.set_size_inches(1.5*12.1,1.5*9.1)\n",
    "plt.scatter([GNM_landonly[loc][5][0] for loc in range(len(GNM_landonly))],[GNM_landonly[loc][5][1] for loc in range(len(GNM_landonly))],c=corr_mat_sim_med[2361,:],s=35,marker='s',vmin=0)\n",
    "plt.colorbar(location='bottom',fraction=0.0652,pad=0.001)\n",
    "plt.plot([76,76],[0,100],color='black',linestyle='dotted',linewidth=1)\n",
    "plt.plot([0,140],[54,54],color='black',linestyle='dotted',linewidth=1)\n",
    "plt.yticks([])\n",
    "plt.xticks([])\n",
    "plt.show()"
   ]
  },
  {
   "attachments": {},
   "cell_type": "markdown",
   "metadata": {},
   "source": [
    "### Combined diagnostics"
   ]
  },
  {
   "cell_type": "code",
   "execution_count": null,
   "metadata": {},
   "outputs": [],
   "source": [
    "from matplotlib import pyplot as plt\n",
    "plt.rcParams.update({'font.size': 30})\n",
    "fig = plt.gcf() \n",
    "fig.set_size_inches(14,10)\n",
    "plt.plot([0,5,10,15,20,25],[0.8601,0.8347,0.8403,0.8441,0.8448,0.8382],marker='.',linewidth=5,markersize=20,label='Cens-JGNM')\n",
    "plt.plot([0,5,10,15,20,25],[0.8393,0.8234,0.8256,0.821,0.8357,0.8405],marker='.',linewidth=5,markersize=20,label='ConvCNP')\n",
    "plt.plot([0,5,10,15,20,25],[0.7631,0.6873,0.6259,0.5774,0.5442,0.5219],marker='.',linewidth=5,markersize=20,label='VAEGAN')\n",
    "plt.ylim((0.5,0.9))\n",
    "plt.xlabel('Precipitation threshold (mm)')\n",
    "plt.ylabel('AUC')\n",
    "plt.legend()\n",
    "plt.tight_layout()\n",
    "plt.savefig('combind_AUC_3models.eps', format='eps')\n",
    "plt.show()"
   ]
  }
 ],
 "metadata": {
  "kernelspec": {
   "display_name": "base",
   "language": "python",
   "name": "python3"
  },
  "language_info": {
   "codemirror_mode": {
    "name": "ipython",
    "version": 3
   },
   "file_extension": ".py",
   "mimetype": "text/x-python",
   "name": "python",
   "nbconvert_exporter": "python",
   "pygments_lexer": "ipython3",
   "version": "3.9.12"
  },
  "orig_nbformat": 4,
  "vscode": {
   "interpreter": {
    "hash": "ab60c10c504ddb966051b34fe3c8284e278512e8f8393189136f471cdd0fd1b8"
   }
  }
 },
 "nbformat": 4,
 "nbformat_minor": 2
}
