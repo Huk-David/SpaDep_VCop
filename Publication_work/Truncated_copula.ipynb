{
 "cells": [
  {
   "cell_type": "markdown",
   "metadata": {},
   "source": [
    "### Truncated copula MLE"
   ]
  },
  {
   "cell_type": "code",
   "execution_count": 1,
   "metadata": {},
   "outputs": [],
   "source": [
    "# Load everything - Gamma\n",
    "%matplotlib inline\n",
    "from scipy.optimize import dual_annealing\n",
    "import numpy as np\n",
    "import scipy.stats as scs\n",
    "from matplotlib import pyplot as plt\n",
    "from sklearn.gaussian_process.kernels import Matern\n",
    "from collections import Counter\n",
    "from mpl_toolkits.basemap import Basemap\n",
    "from geopy.geocoders import Nominatim\n",
    "from tqdm import tqdm\n",
    "from datetime import datetime\n",
    "import itertools\n",
    "from itertools import permutations\n",
    "from scipy.spatial import distance_matrix\n",
    "import matplotlib\n",
    "import matplotlib.colors as mcolors\n",
    "from sklearn import metrics\n",
    "import pickle\n",
    "from sklearn.gaussian_process.kernels import RBF\n",
    "from sklearn.metrics.pairwise import rbf_kernel as rbf\n",
    "from math import sqrt\n",
    "from joblib import Parallel, delayed\n",
    "import psutil\n",
    "import math\n",
    "import scipy\n",
    "from scipy.sparse import csr_matrix\n",
    "from scipy.sparse import csc_matrix\n",
    "from scipy.sparse import coo_matrix\n",
    "import scipy.sparse\n",
    "import warnings\n",
    "\n",
    "\n",
    "#from parallel.backends import BackendDummy as Backend\n",
    "#backend = Backend()\n",
    "#################\n",
    "with open('Data_for_truncated_copula/inv_Us.txt','rb') as f:\n",
    "    inv_us = pickle.load(f)\n",
    "\n",
    "with open('Data_for_truncated_copula/did_rain_01.txt','rb') as f:\n",
    "    did_rain_01 = pickle.load(f)\n",
    "\n",
    "with open('Data_for_truncated_copula/g2_us.txt','rb') as f:\n",
    "    g2_us = pickle.load(f)\n",
    "\n",
    "with open('Data_for_truncated_copula/dist_mat.txt','rb') as f:\n",
    "    dist_mat = pickle.load(f)"
   ]
  },
  {
   "cell_type": "code",
   "execution_count": 2,
   "metadata": {},
   "outputs": [],
   "source": [
    "# Functions\n",
    "\n",
    "# MC estimate - Correct and working\n",
    "def mc_cdf(rvs,cov_matrix,ppf_us):\n",
    "    '''\n",
    "    rvs: [[set1], ... , [set m]] each set of length = #locations = n.\n",
    "    cov_matrix: covariance matrix between the locations in question.\n",
    "    ppf_us: [u1, ... , un] length = # locs.\n",
    "    '''    \n",
    "    # rvs are mean 0 already, but need different covariance\n",
    "    cholesk_mat = np.linalg.cholesky(cov_matrix)\n",
    "    normcov_vars = [np.asarray(cholesk_mat@rvs[i])[0] for i in range(len(rvs))]\n",
    "    out = max(1e-13,np.sum([np.sum([normcov_vars[m][n]<ppf_us[n] for n in range(len(ppf_us))])==len(ppf_us) for m in range(len(normcov_vars))]))\n",
    "    return out/len(rvs)       \n",
    "\n",
    "# Truncated Gaussian copula class\n",
    "class truncgauss():\n",
    "    def __init__(self,L):\n",
    "        '''\n",
    "        Class to fit and work with a truncated Gaussian copula, using two functions.\n",
    "        sim: simulated [0,1] values using this copula density.\n",
    "        eval_nll: evaluate the negative log likelihood based on given data.\n",
    "        To use the class, the dimension of the data is needed.\n",
    "        n: dimension of data\n",
    "        '''\n",
    "        self.L=L\n",
    "    \n",
    "    def sim(self,theta,draws):\n",
    "        '''\n",
    "        Simulates m draws from the truncated gaussian copula conditional on parameters theta for the covariance kernel.\n",
    "        '''\n",
    "        #later\n",
    "\n",
    "    def nll(self,theta,Invcdf_Us,truncation_pi,did_rain,len_locs,rvs):\n",
    "        cov_mat = np.nan_to_num(rbf(self.L,gamma=theta),copy=False,nan=0)\n",
    "        nll=0\n",
    "        for day in tqdm(range(len(Invcdf_Us))): #eg [251,...,500]\n",
    "            \n",
    "            # numerator: joint pdf integrated over truncation - equivalent to elegant normal cdf in some cases. Check cases:\n",
    "            if np.sum(did_rain[day])==len(did_rain[day]): #all wet, just normal pdf\n",
    "                nll += scs.multivariate_normal.logpdf(x=Invcdf_Us[day],mean=np.zeros(len(Invcdf_Us[0])),cov=cov_mat)\n",
    "            else: # some dry -> use elegant cdf\n",
    "                #print('elegant'+str(np.sum(did_rain[day])))\n",
    "                if np.sum(did_rain[day])==0: # all dry -> use normal cdf\n",
    "                    nll += scs.multivariate_normal.logcdf(x=Invcdf_Us[day],mean=np.zeros(len(Invcdf_Us[0])),cov=cov_mat)\n",
    "\n",
    "                else:\n",
    "                    \n",
    "                    # need to re-arrange the covariance matrix into 2*2 blocks based on censored/uncensored. \n",
    "                    r_rain,c_rain = [[i] for i in np.nonzero(did_rain[day])[0]],[i for i in np.nonzero(did_rain[day])[0]]\n",
    "                    r_dry,c_dry = [[i] for i in range(len_locs) if i not in np.nonzero(did_rain[day])[0]],[i for i in range(len_locs) if i not in np.nonzero(did_rain[day])[0]]\n",
    "                    \n",
    "                    # create submatricies\n",
    "                    submat11 = coo_matrix(cov_mat[r_dry,c_dry])\n",
    "                    submat12 = csr_matrix(cov_mat[r_dry,c_rain])\n",
    "                    submat21 = csc_matrix(cov_mat[r_rain,c_dry])\n",
    "                    submat22 = coo_matrix(cov_mat[r_rain,c_rain])\n",
    "                    \n",
    "                    #### MC estimate part      ####\n",
    "\n",
    "                    if len(submat22.todense())!=1:\n",
    "                        sub_cov = (submat11-submat12@scipy.sparse.linalg.inv(submat22)@submat21).todense()\n",
    "                    else: # submat22 is an integer, aka only one non-zero obs\n",
    "                        sub_cov = (submat11-submat12*scipy.sparse.linalg.inv(submat22)[0]*submat21).todense()\n",
    "                    # Do MC approximation to cdf\n",
    "                    nll += np.log(mc_cdf([rvs[i][:len(c_dry)] for i in range(len(rvs))],sub_cov,[inv_us[day][k] for k in c_dry]))\n",
    "\n",
    "                    #### MC estimate part - end ####\n",
    "\n",
    "\n",
    "                    # compute and add the elegant cdf\n",
    "                    #if len(submat22.todense())==1:\n",
    "                    #    nll += scs.multivariate_normal.logcdf(x=[Invcdf_Us[day][k] for k in c_dry],mean=np.zeros(len(submat11.todense())),cov=(submat11-submat12*scipy.sparse.linalg.inv(submat22)[0]*submat21).todense())\n",
    "                    #else:\n",
    "                    #    nll += scs.multivariate_normal.logcdf(x=[Invcdf_Us[day][k] for k in c_dry],mean=np.zeros(len(submat11.todense())),cov=(submat11-submat12@scipy.sparse.linalg.inv(submat22)@submat21).todense())\n",
    "            \n",
    "            # denominator: multiplication of marginals - pdf for positive rain, cdf for truncated\n",
    "            for loc in range(len(Invcdf_Us[0])):\n",
    "                if did_rain[day][loc]==1:# wet: add pdf(invcdf(u_i))\n",
    "                    nll -= scs.norm.logpdf(Invcdf_Us[day][loc],loc=0,scale=1)\n",
    "                else:# dry: add cdf(invcdf(pi))\n",
    "                    nll -= np.log(truncation_pi[day][loc])\n",
    "            \n",
    "        return -nll\n",
    "\n",
    "#function for single nll eval   \n",
    "\n",
    "def nll_sub_days(days_list,Invcdf_Us,truncation_pi,did_rain,len_locs,rvs,cov_mat):\n",
    "    \n",
    "    #warnings.filterwarnings(\"ignore\")\n",
    "\n",
    "    nll=0\n",
    "    for day in days_list: #eg [251,...,500]\n",
    "        # numerator: joint pdf integrated over truncation - equivalent to elegant normal cdf in some cases. Check cases:\n",
    "        if np.sum(did_rain[day])==len(did_rain[day]): #all wet, just normal pdf\n",
    "            nll += scs.multivariate_normal.logpdf(x=Invcdf_Us[day],mean=np.zeros(len(Invcdf_Us[0])),cov=cov_mat)\n",
    "        else: # some dry -> use elegant cdf\n",
    "            #print('elegant'+str(np.sum(did_rain[day])))\n",
    "            if np.sum(did_rain[day])==0: # all dry -> use normal cdf\n",
    "                nll += scs.multivariate_normal.logcdf(x=Invcdf_Us[day],mean=np.zeros(len(Invcdf_Us[0])),cov=cov_mat)\n",
    "\n",
    "            else:\n",
    "                \n",
    "                # need to re-arrange the covariance matrix into 2*2 blocks based on censored/uncensored. \n",
    "                r_rain,c_rain = [[i] for i in np.nonzero(did_rain[day])[0]],[i for i in np.nonzero(did_rain[day])[0]]\n",
    "                r_dry,c_dry = [[i] for i in range(len_locs) if i not in np.nonzero(did_rain[day])[0]],[i for i in range(len_locs) if i not in np.nonzero(did_rain[day])[0]]\n",
    "                \n",
    "                # create submatricies\n",
    "                submat11 = coo_matrix(cov_mat[r_dry,c_dry])\n",
    "                submat12 = csr_matrix(cov_mat[r_dry,c_rain])\n",
    "                submat21 = csc_matrix(cov_mat[r_rain,c_dry])\n",
    "                submat22 = coo_matrix(cov_mat[r_rain,c_rain])\n",
    "                \n",
    "                #### MC estimate part      ####\n",
    "\n",
    "                if len(submat22.todense())!=1:\n",
    "                    sub_cov = (submat11-submat12@scipy.sparse.linalg.inv(submat22)@submat21).todense()\n",
    "                else: # submat22 is an integer, aka only one non-zero obs\n",
    "                    sub_cov = (submat11-submat12*scipy.sparse.linalg.inv(submat22)[0]*submat21).todense()\n",
    "                # Do MC approximation to cdf\n",
    "                nll += np.log(mc_cdf([rvs[i][:len(c_dry)] for i in range(len(rvs))],sub_cov,[inv_us[day][k] for k in c_dry]))\n",
    "\n",
    "                #### MC estimate part - end ####\n",
    "\n",
    "\n",
    "                # compute and add the elegant cdf\n",
    "                #if len(submat22.todense())==1:\n",
    "                #    nll += scs.multivariate_normal.logcdf(x=[Invcdf_Us[day][k] for k in c_dry],mean=np.zeros(len(submat11.todense())),cov=(submat11-submat12*scipy.sparse.linalg.inv(submat22)[0]*submat21).todense())\n",
    "                #else:\n",
    "                #    nll += scs.multivariate_normal.logcdf(x=[Invcdf_Us[day][k] for k in c_dry],mean=np.zeros(len(submat11.todense())),cov=(submat11-submat12@scipy.sparse.linalg.inv(submat22)@submat21).todense())\n",
    "        \n",
    "        # denominator: multiplication of marginals - pdf for positive rain, cdf for truncated\n",
    "        for loc in range(len(Invcdf_Us[0])):\n",
    "            if did_rain[day][loc]==1:# wet: add pdf(invcdf(u_i))\n",
    "                nll -= scs.norm.logpdf(Invcdf_Us[day][loc],loc=0,scale=1)\n",
    "            else:# dry: add cdf(invcdf(pi))\n",
    "                nll -= np.log(truncation_pi[day][loc])\n",
    "        \n",
    "\n",
    "    return -nll    \n"
   ]
  },
  {
   "cell_type": "code",
   "execution_count": 18,
   "metadata": {},
   "outputs": [],
   "source": [
    "# rvs for MC estimate\n",
    "rand_vars = scs.multivariate_normal.rvs(np.zeros(len(dist_mat)),np.eye(len(dist_mat)),size=10000)\n",
    "# length = size, each set is of length = #locs"
   ]
  },
  {
   "cell_type": "code",
   "execution_count": 3,
   "metadata": {},
   "outputs": [],
   "source": [
    "# Covariance matrix\n",
    "covariance_matrix = np.nan_to_num(rbf(dist_mat,gamma=1/(2*10*10)),copy=False,nan=0)"
   ]
  },
  {
   "cell_type": "code",
   "execution_count": 36,
   "metadata": {},
   "outputs": [
    {
     "data": {
      "text/plain": [
       "<matplotlib.image.AxesImage at 0x1ed9efd9190>"
      ]
     },
     "execution_count": 36,
     "metadata": {},
     "output_type": "execute_result"
    },
    {
     "data": {
      "image/png": "[encoded data removed]",
      "text/plain": [
       "<Figure size 288x288 with 1 Axes>"
      ]
     },
     "metadata": {
      "needs_background": "light"
     },
     "output_type": "display_data"
    }
   ],
   "source": [
    "plt.matshow(covariance_matrix[1:5,1:5])"
   ]
  },
  {
   "cell_type": "code",
   "execution_count": 27,
   "metadata": {},
   "outputs": [
    {
     "data": {
      "text/plain": [
       "array([[1.00000000e+00, 4.25697868e-01, 1.31310300e-31, 1.45424605e-33],\n",
       "       [4.25697868e-01, 1.00000000e+00, 7.91790614e-35, 9.36989720e-37],\n",
       "       [1.31310300e-31, 7.91790614e-35, 1.00000000e+00, 8.97821637e-01],\n",
       "       [1.45424605e-33, 9.36989720e-37, 8.97821637e-01, 1.00000000e+00]])"
      ]
     },
     "execution_count": 27,
     "metadata": {},
     "output_type": "execute_result"
    }
   ],
   "source": [
    "covariance_matrix[1:5,1:5]"
   ]
  },
  {
   "cell_type": "code",
   "execution_count": 58,
   "metadata": {},
   "outputs": [
    {
     "data": {
      "text/plain": [
       "[(array([0, 0, 1, 1, 2, 2, 3, 3], dtype=int64),\n",
       "  array([0, 1, 0, 1, 2, 3, 2, 3], dtype=int64)),\n",
       " (array([0, 0, 0, 0], dtype=int64), array([1, 2, 5, 6], dtype=int64))]"
      ]
     },
     "execution_count": 58,
     "metadata": {},
     "output_type": "execute_result"
    }
   ],
   "source": [
    "a = np.where(covariance_matrix[1:5,1:5]>0.2)\n",
    "b = np.where([a[0]!=a[1]])\n",
    "#c = np.nonzero(b)\n",
    "[a,b]"
   ]
  },
  {
   "cell_type": "code",
   "execution_count": 34,
   "metadata": {},
   "outputs": [
    {
     "ename": "TypeError",
     "evalue": "ufunc 'bitwise_and' not supported for the input types, and the inputs could not be safely coerced to any supported types according to the casting rule ''safe''",
     "output_type": "error",
     "traceback": [
      "\u001b[1;31m---------------------------------------------------------------------------\u001b[0m",
      "\u001b[1;31mTypeError\u001b[0m                                 Traceback (most recent call last)",
      "\u001b[1;32mc:\\Users\\david\\Desktop\\PhD research\\M Dissertation work\\SpaDep_VCop\\Copula Code - Copy\\All UK model 1\\Truncated_copula.ipynb Cell 9\u001b[0m in \u001b[0;36m<cell line: 1>\u001b[1;34m()\u001b[0m\n\u001b[1;32m----> <a href='vscode-notebook-cell:/c%3A/Users/david/Desktop/PhD%20research/M%20Dissertation%20work/SpaDep_VCop/Copula%20Code%20-%20Copy/All%20UK%20model%201/Truncated_copula.ipynb#X40sZmlsZQ%3D%3D?line=0'>1</a>\u001b[0m (covariance_matrix[\u001b[39m1\u001b[39m:\u001b[39m5\u001b[39m,\u001b[39m1\u001b[39m:\u001b[39m5\u001b[39m]\u001b[39m>\u001b[39m\u001b[39m0.5\u001b[39m \u001b[39m&\u001b[39m covariance_matrix[\u001b[39m1\u001b[39m:\u001b[39m5\u001b[39m,\u001b[39m1\u001b[39m:\u001b[39m5\u001b[39m]\u001b[39m<\u001b[39m\u001b[39m1\u001b[39m)\n",
      "\u001b[1;31mTypeError\u001b[0m: ufunc 'bitwise_and' not supported for the input types, and the inputs could not be safely coerced to any supported types according to the casting rule ''safe''"
     ]
    }
   ],
   "source": []
  },
  {
   "cell_type": "code",
   "execution_count": 9,
   "metadata": {},
   "outputs": [
    {
     "data": {
      "text/plain": [
       "<matplotlib.image.AxesImage at 0x1edf3f740a0>"
      ]
     },
     "execution_count": 9,
     "metadata": {},
     "output_type": "execute_result"
    },
    {
     "data": {
      "image/png": "[encoded data removed]",
      "text/plain": [
       "<Figure size 288x288 with 1 Axes>"
      ]
     },
     "metadata": {
      "needs_background": "light"
     },
     "output_type": "display_data"
    }
   ],
   "source": [
    "plt.matshow(covariance_matrix[:150,:150])"
   ]
  },
  {
   "cell_type": "code",
   "execution_count": 6,
   "metadata": {},
   "outputs": [
    {
     "data": {
      "text/plain": [
       "0.3877153280428165"
      ]
     },
     "execution_count": 6,
     "metadata": {},
     "output_type": "execute_result"
    }
   ],
   "source": [
    "scs.multivariate_normal.cdf(x=inv_us[0][:16],mean=np.zeros(16),cov=covariance_matrix[:16,:16])"
   ]
  },
  {
   "cell_type": "code",
   "execution_count": 5,
   "metadata": {},
   "outputs": [],
   "source": [
    "#basic nll\n",
    "#truncgauss(L=dist_mat).nll(theta=0.1,Invcdf_Us=[inv_us[i] for i in range(50)],truncation_pi=[g2_us[i] for i in range(50)],did_rain=[did_rain_01[i] for i in range(50)],len_locs=len(g2_us[0]),rvs = rand_vars) \n",
    "# locs:all , days:range(50) , theta:0.1 , time:3m28 , nll = -238511.6341627678"
   ]
  },
  {
   "cell_type": "code",
   "execution_count": 6,
   "metadata": {},
   "outputs": [],
   "source": [
    "#nll on subsets of days\n",
    "#truncgauss(L=dist_mat).nll_sub_days(days_list=range(50),Invcdf_Us=inv_us,truncation_pi=g2_us,did_rain=did_rain_01,len_locs=len(g2_us),rvs=rand_vars,cov_mat=covariance_matrix)\n",
    "# locs:all , days:range(50) , theta:0.1 , time:1m30 + 25s , nll = -238511.6341627678"
   ]
  },
  {
   "cell_type": "code",
   "execution_count": 27,
   "metadata": {},
   "outputs": [
    {
     "ename": "KeyboardInterrupt",
     "evalue": "",
     "output_type": "error",
     "traceback": [
      "\u001b[1;31m---------------------------------------------------------------------------\u001b[0m",
      "\u001b[1;31mKeyboardInterrupt\u001b[0m                         Traceback (most recent call last)",
      "\u001b[1;32mc:\\Users\\david\\Desktop\\PhD research\\M Dissertation work\\SpaDep_VCop\\Copula Code - Copy\\All UK model 1\\Truncated_copula.ipynb Cell 9\u001b[0m in \u001b[0;36m<cell line: 1>\u001b[1;34m()\u001b[0m\n\u001b[1;32m----> <a href='vscode-notebook-cell:/c%3A/Users/david/Desktop/PhD%20research/M%20Dissertation%20work/SpaDep_VCop/Copula%20Code%20-%20Copy/All%20UK%20model%201/Truncated_copula.ipynb#X10sZmlsZQ%3D%3D?line=0'>1</a>\u001b[0m nll_sub_days(days_list\u001b[39m=\u001b[39m\u001b[39mrange\u001b[39m(\u001b[39m50\u001b[39m),Invcdf_Us\u001b[39m=\u001b[39minv_us,truncation_pi\u001b[39m=\u001b[39mg2_us,did_rain\u001b[39m=\u001b[39mdid_rain_01,len_locs\u001b[39m=\u001b[39m\u001b[39mlen\u001b[39m(g2_us),rvs\u001b[39m=\u001b[39mrand_vars,cov_mat\u001b[39m=\u001b[39mcovariance_matrix)\n",
      "\u001b[1;32mc:\\Users\\david\\Desktop\\PhD research\\M Dissertation work\\SpaDep_VCop\\Copula Code - Copy\\All UK model 1\\Truncated_copula.ipynb Cell 9\u001b[0m in \u001b[0;36mnll_sub_days\u001b[1;34m(days_list, Invcdf_Us, truncation_pi, did_rain, len_locs, rvs, cov_mat)\u001b[0m\n\u001b[0;32m    <a href='vscode-notebook-cell:/c%3A/Users/david/Desktop/PhD%20research/M%20Dissertation%20work/SpaDep_VCop/Copula%20Code%20-%20Copy/All%20UK%20model%201/Truncated_copula.ipynb#X10sZmlsZQ%3D%3D?line=116'>117</a>\u001b[0m             sub_cov \u001b[39m=\u001b[39m (submat11\u001b[39m-\u001b[39msubmat12\u001b[39m*\u001b[39mscipy\u001b[39m.\u001b[39msparse\u001b[39m.\u001b[39mlinalg\u001b[39m.\u001b[39minv(submat22)[\u001b[39m0\u001b[39m]\u001b[39m*\u001b[39msubmat21)\u001b[39m.\u001b[39mtodense()\n\u001b[0;32m    <a href='vscode-notebook-cell:/c%3A/Users/david/Desktop/PhD%20research/M%20Dissertation%20work/SpaDep_VCop/Copula%20Code%20-%20Copy/All%20UK%20model%201/Truncated_copula.ipynb#X10sZmlsZQ%3D%3D?line=117'>118</a>\u001b[0m         \u001b[39m# Do MC approximation to cdf\u001b[39;00m\n\u001b[1;32m--> <a href='vscode-notebook-cell:/c%3A/Users/david/Desktop/PhD%20research/M%20Dissertation%20work/SpaDep_VCop/Copula%20Code%20-%20Copy/All%20UK%20model%201/Truncated_copula.ipynb#X10sZmlsZQ%3D%3D?line=118'>119</a>\u001b[0m         nll \u001b[39m+\u001b[39m\u001b[39m=\u001b[39m np\u001b[39m.\u001b[39mlog(mc_cdf([rvs[i][:\u001b[39mlen\u001b[39;49m(c_dry)] \u001b[39mfor\u001b[39;49;00m i \u001b[39min\u001b[39;49;00m \u001b[39mrange\u001b[39;49m(\u001b[39mlen\u001b[39;49m(rvs))],sub_cov,[inv_us[day][k] \u001b[39mfor\u001b[39;49;00m k \u001b[39min\u001b[39;49;00m c_dry]))\n\u001b[0;32m    <a href='vscode-notebook-cell:/c%3A/Users/david/Desktop/PhD%20research/M%20Dissertation%20work/SpaDep_VCop/Copula%20Code%20-%20Copy/All%20UK%20model%201/Truncated_copula.ipynb#X10sZmlsZQ%3D%3D?line=120'>121</a>\u001b[0m         \u001b[39m#### MC estimate part - end ####\u001b[39;00m\n\u001b[0;32m    <a href='vscode-notebook-cell:/c%3A/Users/david/Desktop/PhD%20research/M%20Dissertation%20work/SpaDep_VCop/Copula%20Code%20-%20Copy/All%20UK%20model%201/Truncated_copula.ipynb#X10sZmlsZQ%3D%3D?line=121'>122</a>\u001b[0m \n\u001b[0;32m    <a href='vscode-notebook-cell:/c%3A/Users/david/Desktop/PhD%20research/M%20Dissertation%20work/SpaDep_VCop/Copula%20Code%20-%20Copy/All%20UK%20model%201/Truncated_copula.ipynb#X10sZmlsZQ%3D%3D?line=122'>123</a>\u001b[0m \n\u001b[1;32m   (...)\u001b[0m\n\u001b[0;32m    <a href='vscode-notebook-cell:/c%3A/Users/david/Desktop/PhD%20research/M%20Dissertation%20work/SpaDep_VCop/Copula%20Code%20-%20Copy/All%20UK%20model%201/Truncated_copula.ipynb#X10sZmlsZQ%3D%3D?line=128'>129</a>\u001b[0m \n\u001b[0;32m    <a href='vscode-notebook-cell:/c%3A/Users/david/Desktop/PhD%20research/M%20Dissertation%20work/SpaDep_VCop/Copula%20Code%20-%20Copy/All%20UK%20model%201/Truncated_copula.ipynb#X10sZmlsZQ%3D%3D?line=129'>130</a>\u001b[0m \u001b[39m# denominator: multiplication of marginals - pdf for positive rain, cdf for truncated\u001b[39;00m\n\u001b[0;32m    <a href='vscode-notebook-cell:/c%3A/Users/david/Desktop/PhD%20research/M%20Dissertation%20work/SpaDep_VCop/Copula%20Code%20-%20Copy/All%20UK%20model%201/Truncated_copula.ipynb#X10sZmlsZQ%3D%3D?line=130'>131</a>\u001b[0m \u001b[39mfor\u001b[39;00m loc \u001b[39min\u001b[39;00m \u001b[39mrange\u001b[39m(\u001b[39mlen\u001b[39m(Invcdf_Us[\u001b[39m0\u001b[39m])):\n",
      "\u001b[1;32mc:\\Users\\david\\Desktop\\PhD research\\M Dissertation work\\SpaDep_VCop\\Copula Code - Copy\\All UK model 1\\Truncated_copula.ipynb Cell 9\u001b[0m in \u001b[0;36mmc_cdf\u001b[1;34m(rvs, cov_matrix, ppf_us)\u001b[0m\n\u001b[0;32m     <a href='vscode-notebook-cell:/c%3A/Users/david/Desktop/PhD%20research/M%20Dissertation%20work/SpaDep_VCop/Copula%20Code%20-%20Copy/All%20UK%20model%201/Truncated_copula.ipynb#X10sZmlsZQ%3D%3D?line=9'>10</a>\u001b[0m \u001b[39m# rvs are mean 0 already, but need different covariance\u001b[39;00m\n\u001b[0;32m     <a href='vscode-notebook-cell:/c%3A/Users/david/Desktop/PhD%20research/M%20Dissertation%20work/SpaDep_VCop/Copula%20Code%20-%20Copy/All%20UK%20model%201/Truncated_copula.ipynb#X10sZmlsZQ%3D%3D?line=10'>11</a>\u001b[0m cholesk_mat \u001b[39m=\u001b[39m np\u001b[39m.\u001b[39mlinalg\u001b[39m.\u001b[39mcholesky(cov_matrix)\n\u001b[1;32m---> <a href='vscode-notebook-cell:/c%3A/Users/david/Desktop/PhD%20research/M%20Dissertation%20work/SpaDep_VCop/Copula%20Code%20-%20Copy/All%20UK%20model%201/Truncated_copula.ipynb#X10sZmlsZQ%3D%3D?line=11'>12</a>\u001b[0m normcov_vars \u001b[39m=\u001b[39m [np\u001b[39m.\u001b[39masarray(cholesk_mat\u001b[39m@rvs\u001b[39m[i])[\u001b[39m0\u001b[39m] \u001b[39mfor\u001b[39;00m i \u001b[39min\u001b[39;00m \u001b[39mrange\u001b[39m(\u001b[39mlen\u001b[39m(rvs))]\n\u001b[0;32m     <a href='vscode-notebook-cell:/c%3A/Users/david/Desktop/PhD%20research/M%20Dissertation%20work/SpaDep_VCop/Copula%20Code%20-%20Copy/All%20UK%20model%201/Truncated_copula.ipynb#X10sZmlsZQ%3D%3D?line=12'>13</a>\u001b[0m out \u001b[39m=\u001b[39m \u001b[39mmax\u001b[39m(\u001b[39m1e-13\u001b[39m,np\u001b[39m.\u001b[39msum([np\u001b[39m.\u001b[39msum([normcov_vars[m][n]\u001b[39m<\u001b[39mppf_us[n] \u001b[39mfor\u001b[39;00m n \u001b[39min\u001b[39;00m \u001b[39mrange\u001b[39m(\u001b[39mlen\u001b[39m(ppf_us))])\u001b[39m==\u001b[39m\u001b[39mlen\u001b[39m(ppf_us) \u001b[39mfor\u001b[39;00m m \u001b[39min\u001b[39;00m \u001b[39mrange\u001b[39m(\u001b[39mlen\u001b[39m(normcov_vars))]))\n\u001b[0;32m     <a href='vscode-notebook-cell:/c%3A/Users/david/Desktop/PhD%20research/M%20Dissertation%20work/SpaDep_VCop/Copula%20Code%20-%20Copy/All%20UK%20model%201/Truncated_copula.ipynb#X10sZmlsZQ%3D%3D?line=13'>14</a>\u001b[0m \u001b[39mreturn\u001b[39;00m out\u001b[39m/\u001b[39m\u001b[39mlen\u001b[39m(rvs)\n",
      "\u001b[1;32mc:\\Users\\david\\Desktop\\PhD research\\M Dissertation work\\SpaDep_VCop\\Copula Code - Copy\\All UK model 1\\Truncated_copula.ipynb Cell 9\u001b[0m in \u001b[0;36m<listcomp>\u001b[1;34m(.0)\u001b[0m\n\u001b[0;32m     <a href='vscode-notebook-cell:/c%3A/Users/david/Desktop/PhD%20research/M%20Dissertation%20work/SpaDep_VCop/Copula%20Code%20-%20Copy/All%20UK%20model%201/Truncated_copula.ipynb#X10sZmlsZQ%3D%3D?line=9'>10</a>\u001b[0m \u001b[39m# rvs are mean 0 already, but need different covariance\u001b[39;00m\n\u001b[0;32m     <a href='vscode-notebook-cell:/c%3A/Users/david/Desktop/PhD%20research/M%20Dissertation%20work/SpaDep_VCop/Copula%20Code%20-%20Copy/All%20UK%20model%201/Truncated_copula.ipynb#X10sZmlsZQ%3D%3D?line=10'>11</a>\u001b[0m cholesk_mat \u001b[39m=\u001b[39m np\u001b[39m.\u001b[39mlinalg\u001b[39m.\u001b[39mcholesky(cov_matrix)\n\u001b[1;32m---> <a href='vscode-notebook-cell:/c%3A/Users/david/Desktop/PhD%20research/M%20Dissertation%20work/SpaDep_VCop/Copula%20Code%20-%20Copy/All%20UK%20model%201/Truncated_copula.ipynb#X10sZmlsZQ%3D%3D?line=11'>12</a>\u001b[0m normcov_vars \u001b[39m=\u001b[39m [np\u001b[39m.\u001b[39masarray(cholesk_mat\u001b[39m@rvs\u001b[39;49m[i])[\u001b[39m0\u001b[39m] \u001b[39mfor\u001b[39;00m i \u001b[39min\u001b[39;00m \u001b[39mrange\u001b[39m(\u001b[39mlen\u001b[39m(rvs))]\n\u001b[0;32m     <a href='vscode-notebook-cell:/c%3A/Users/david/Desktop/PhD%20research/M%20Dissertation%20work/SpaDep_VCop/Copula%20Code%20-%20Copy/All%20UK%20model%201/Truncated_copula.ipynb#X10sZmlsZQ%3D%3D?line=12'>13</a>\u001b[0m out \u001b[39m=\u001b[39m \u001b[39mmax\u001b[39m(\u001b[39m1e-13\u001b[39m,np\u001b[39m.\u001b[39msum([np\u001b[39m.\u001b[39msum([normcov_vars[m][n]\u001b[39m<\u001b[39mppf_us[n] \u001b[39mfor\u001b[39;00m n \u001b[39min\u001b[39;00m \u001b[39mrange\u001b[39m(\u001b[39mlen\u001b[39m(ppf_us))])\u001b[39m==\u001b[39m\u001b[39mlen\u001b[39m(ppf_us) \u001b[39mfor\u001b[39;00m m \u001b[39min\u001b[39;00m \u001b[39mrange\u001b[39m(\u001b[39mlen\u001b[39m(normcov_vars))]))\n\u001b[0;32m     <a href='vscode-notebook-cell:/c%3A/Users/david/Desktop/PhD%20research/M%20Dissertation%20work/SpaDep_VCop/Copula%20Code%20-%20Copy/All%20UK%20model%201/Truncated_copula.ipynb#X10sZmlsZQ%3D%3D?line=13'>14</a>\u001b[0m \u001b[39mreturn\u001b[39;00m out\u001b[39m/\u001b[39m\u001b[39mlen\u001b[39m(rvs)\n",
      "File \u001b[1;32mc:\\Users\\david\\AppData\\Local\\Programs\\Python\\Python39\\lib\\site-packages\\numpy\\matrixlib\\defmatrix.py:167\u001b[0m, in \u001b[0;36mmatrix.__array_finalize__\u001b[1;34m(self, obj)\u001b[0m\n\u001b[0;32m    162\u001b[0m     ret \u001b[39m=\u001b[39m N\u001b[39m.\u001b[39mndarray\u001b[39m.\u001b[39m\u001b[39m__new__\u001b[39m(subtype, shape, arr\u001b[39m.\u001b[39mdtype,\n\u001b[0;32m    163\u001b[0m                             buffer\u001b[39m=\u001b[39marr,\n\u001b[0;32m    164\u001b[0m                             order\u001b[39m=\u001b[39morder)\n\u001b[0;32m    165\u001b[0m     \u001b[39mreturn\u001b[39;00m ret\n\u001b[1;32m--> 167\u001b[0m \u001b[39mdef\u001b[39;00m \u001b[39m__array_finalize__\u001b[39m(\u001b[39mself\u001b[39m, obj):\n\u001b[0;32m    168\u001b[0m     \u001b[39mself\u001b[39m\u001b[39m.\u001b[39m_getitem \u001b[39m=\u001b[39m \u001b[39mFalse\u001b[39;00m\n\u001b[0;32m    169\u001b[0m     \u001b[39mif\u001b[39;00m (\u001b[39misinstance\u001b[39m(obj, matrix) \u001b[39mand\u001b[39;00m obj\u001b[39m.\u001b[39m_getitem): \u001b[39mreturn\u001b[39;00m\n",
      "\u001b[1;31mKeyboardInterrupt\u001b[0m: "
     ]
    }
   ],
   "source": [
    "nll_sub_days(days_list=range(50),Invcdf_Us=inv_us,truncation_pi=g2_us,did_rain=did_rain_01,len_locs=len(g2_us),rvs=rand_vars,cov_mat=covariance_matrix)"
   ]
  },
  {
   "cell_type": "markdown",
   "metadata": {},
   "source": [
    "### Trying mp\n",
    "not working rn"
   ]
  },
  {
   "cell_type": "code",
   "execution_count": 8,
   "metadata": {},
   "outputs": [],
   "source": [
    "def my_func(days_list):\n",
    "    out = 0\n",
    "    for i in days_list:\n",
    "        out+=1\n",
    "    return out"
   ]
  },
  {
   "cell_type": "code",
   "execution_count": 14,
   "metadata": {},
   "outputs": [],
   "source": [
    "def parallel_nll(theta):\n",
    "    \n",
    "    # Kernel\n",
    "    cov_mat = covariance_matrix\n",
    "    print('cov_mat')\n",
    "    # parallel likelihood\n",
    "    size = math.ceil(46/psutil.cpu_count())\n",
    "    days_chuncks = [[i for i in range(46)][x:x+size] for x in range(0,46, size)]\n",
    "    list_nll = Parallel(n_jobs=psutil.cpu_count())(delayed(nll_sub_days)(chunck,inv_us,g2_us,did_rain_01,len(g2_us),rand_vars,cov_mat) for chunck in tqdm(days_chuncks))\n",
    "    #list_nll = Parallel(n_jobs=psutil.cpu_count())(delayed(my_func)(chunck) for chunck in tqdm(days_chuncks))\n",
    "    \n",
    "    return -np.sum(list_nll)\n",
    "    #return [size, len(days_chuncks[0])]\n",
    "\n"
   ]
  },
  {
   "cell_type": "code",
   "execution_count": 15,
   "metadata": {},
   "outputs": [
    {
     "name": "stdout",
     "output_type": "stream",
     "text": [
      "cov_mat\n"
     ]
    },
    {
     "name": "stderr",
     "output_type": "stream",
     "text": [
      "100%|██████████| 8/8 [00:01<00:00,  4.86it/s]\n"
     ]
    }
   ],
   "source": [
    "parallel_nll(0.1)   "
   ]
  }
 ],
 "metadata": {
  "kernelspec": {
   "display_name": "Python 3.9.10 64-bit",
   "language": "python",
   "name": "python3"
  },
  "language_info": {
   "codemirror_mode": {
    "name": "ipython",
    "version": 3
   },
   "file_extension": ".py",
   "mimetype": "text/x-python",
   "name": "python",
   "nbconvert_exporter": "python",
   "pygments_lexer": "ipython3",
   "version": "3.9.10"
  },
  "orig_nbformat": 4,
  "vscode": {
   "interpreter": {
    "hash": "72f235a78b5cf937fd09c1593b6a0e4473f824a03930b62c2c7d9a177b9de8f3"
   }
  }
 },
 "nbformat": 4,
 "nbformat_minor": 2
}
