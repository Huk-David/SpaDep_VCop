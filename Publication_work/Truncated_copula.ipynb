{
 "cells": [
  {
   "cell_type": "markdown",
   "metadata": {},
   "source": [
    "### Truncated copula MLE"
   ]
  },
  {
   "cell_type": "code",
   "execution_count": 1,
   "metadata": {},
   "outputs": [
    {
     "name": "stderr",
     "output_type": "stream",
     "text": [
      "c:\\Users\\u1819911\\Anaconda3\\lib\\site-packages\\scipy\\__init__.py:146: UserWarning: A NumPy version >=1.16.5 and <1.23.0 is required for this version of SciPy (detected version 1.23.3\n",
      "  warnings.warn(f\"A NumPy version >={np_minversion} and <{np_maxversion}\"\n"
     ]
    }
   ],
   "source": [
    "# Load everything - Gamma\n",
    "%matplotlib inline\n",
    "from scipy.optimize import dual_annealing\n",
    "import numpy as np\n",
    "import scipy.stats as scs\n",
    "from matplotlib import pyplot as plt\n",
    "from sklearn.gaussian_process.kernels import Matern\n",
    "from collections import Counter\n",
    "from mpl_toolkits.basemap import Basemap\n",
    "from geopy.geocoders import Nominatim\n",
    "from tqdm import tqdm\n",
    "from datetime import datetime\n",
    "import itertools\n",
    "from itertools import permutations\n",
    "from scipy.spatial import distance_matrix\n",
    "import matplotlib\n",
    "import matplotlib.colors as mcolors\n",
    "from sklearn import metrics\n",
    "import pickle\n",
    "from sklearn.gaussian_process.kernels import RBF\n",
    "from sklearn.metrics.pairwise import rbf_kernel as rbf\n",
    "from math import sqrt\n",
    "from joblib import Parallel, delayed\n",
    "import psutil\n",
    "import math\n",
    "import scipy\n",
    "from scipy.sparse import csr_matrix\n",
    "from scipy.sparse import csc_matrix\n",
    "from scipy.sparse import coo_matrix\n",
    "import scipy.sparse\n",
    "import warnings\n",
    "import networkx as nx\n",
    "\n",
    "\n",
    "#from parallel.backends import BackendDummy as Backend\n",
    "#backend = Backend()\n",
    "#################\n",
    "with open('Data_for_truncated_copula/inv_Us.txt','rb') as f:\n",
    "    inv_us = pickle.load(f)\n",
    "\n",
    "with open('Data_for_truncated_copula/did_rain_01.txt','rb') as f:\n",
    "    did_rain_01 = pickle.load(f)\n",
    "\n",
    "with open('Data_for_truncated_copula/g2_us.txt','rb') as f:\n",
    "    g2_us = pickle.load(f)\n",
    "\n",
    "with open('Data_for_truncated_copula/dist_mat.txt','rb') as f:\n",
    "    dist_mat = pickle.load(f)"
   ]
  },
  {
   "cell_type": "code",
   "execution_count": 2,
   "metadata": {},
   "outputs": [],
   "source": [
    "# Functions\n",
    "\n",
    "# MC estimate - Correct and working\n",
    "def mc_cdf(rvs,cov_matrix,ppf_us):\n",
    "    '''\n",
    "    rvs: [[set1], ... , [set m]] each set of length = #locations = n.\n",
    "    cov_matrix: covariance matrix between the locations in question.\n",
    "    ppf_us: [u1, ... , un] length = # locs.\n",
    "    '''    \n",
    "    # rvs are mean 0 already, but need different covariance\n",
    "    cholesk_mat = np.linalg.cholesky(cov_matrix)\n",
    "    normcov_vars = [np.asarray(cholesk_mat@rvs[i])[0] for i in range(len(rvs))]\n",
    "    out = max(1e-13,np.sum([np.sum([normcov_vars[m][n]<ppf_us[n] for n in range(len(ppf_us))])==len(ppf_us) for m in range(len(normcov_vars))]))\n",
    "    return out/len(rvs)       \n",
    "\n",
    "# Truncated Gaussian copula class\n",
    "class truncgauss():\n",
    "    def __init__(self,L):\n",
    "        '''\n",
    "        Class to fit and work with a truncated Gaussian copula, using two functions.\n",
    "        sim: simulated [0,1] values using this copula density.\n",
    "        eval_nll: evaluate the negative log likelihood based on given data.\n",
    "        To use the class, the dimension of the data is needed.\n",
    "        n: dimension of data\n",
    "        '''\n",
    "        self.L=L\n",
    "    \n",
    "    def sim(self,theta,draws):\n",
    "        '''\n",
    "        Simulates m draws from the truncated gaussian copula conditional on parameters theta for the covariance kernel.\n",
    "        '''\n",
    "        #later\n",
    "\n",
    "    def nll(self,theta,Invcdf_Us,truncation_pi,did_rain,len_locs,rvs):\n",
    "        cov_mat = np.nan_to_num(rbf(self.L,gamma=theta),copy=False,nan=0)\n",
    "        nll=0\n",
    "        for day in tqdm(range(len(Invcdf_Us))): #eg [251,...,500]\n",
    "            \n",
    "            # numerator: joint pdf integrated over truncation - equivalent to elegant normal cdf in some cases. Check cases:\n",
    "            if np.sum(did_rain[day])==len(did_rain[day]): #all wet, just normal pdf\n",
    "                nll += scs.multivariate_normal.logpdf(x=Invcdf_Us[day],mean=np.zeros(len(Invcdf_Us[0])),cov=cov_mat)\n",
    "            else: # some dry -> use elegant cdf\n",
    "                #print('elegant'+str(np.sum(did_rain[day])))\n",
    "                if np.sum(did_rain[day])==0: # all dry -> use normal cdf\n",
    "                    nll += scs.multivariate_normal.logcdf(x=Invcdf_Us[day],mean=np.zeros(len(Invcdf_Us[0])),cov=cov_mat)\n",
    "\n",
    "                else:\n",
    "                    \n",
    "                    # need to re-arrange the covariance matrix into 2*2 blocks based on censored/uncensored. \n",
    "                    r_rain,c_rain = [[i] for i in np.nonzero(did_rain[day])[0]],[i for i in np.nonzero(did_rain[day])[0]]\n",
    "                    r_dry,c_dry = [[i] for i in range(len_locs) if i not in np.nonzero(did_rain[day])[0]],[i for i in range(len_locs) if i not in np.nonzero(did_rain[day])[0]]\n",
    "                    \n",
    "                    # create submatricies\n",
    "                    submat11 = coo_matrix(cov_mat[r_dry,c_dry])\n",
    "                    submat12 = csr_matrix(cov_mat[r_dry,c_rain])\n",
    "                    submat21 = csc_matrix(cov_mat[r_rain,c_dry])\n",
    "                    submat22 = coo_matrix(cov_mat[r_rain,c_rain])\n",
    "                    \n",
    "                    #### MC estimate part      ####\n",
    "\n",
    "                    if len(submat22.todense())!=1:\n",
    "                        sub_cov = (submat11-submat12@scipy.sparse.linalg.inv(submat22)@submat21).todense()\n",
    "                    else: # submat22 is an integer, aka only one non-zero obs\n",
    "                        sub_cov = (submat11-submat12*scipy.sparse.linalg.inv(submat22)[0]*submat21).todense()\n",
    "                    # Do MC approximation to cdf\n",
    "                    nll += np.log(mc_cdf([rvs[i][:len(c_dry)] for i in range(len(rvs))],sub_cov,[inv_us[day][k] for k in c_dry]))\n",
    "\n",
    "                    #### MC estimate part - end ####\n",
    "\n",
    "\n",
    "                    # compute and add the elegant cdf\n",
    "                    #if len(submat22.todense())==1:\n",
    "                    #    nll += scs.multivariate_normal.logcdf(x=[Invcdf_Us[day][k] for k in c_dry],mean=np.zeros(len(submat11.todense())),cov=(submat11-submat12*scipy.sparse.linalg.inv(submat22)[0]*submat21).todense())\n",
    "                    #else:\n",
    "                    #    nll += scs.multivariate_normal.logcdf(x=[Invcdf_Us[day][k] for k in c_dry],mean=np.zeros(len(submat11.todense())),cov=(submat11-submat12@scipy.sparse.linalg.inv(submat22)@submat21).todense())\n",
    "            \n",
    "            # denominator: multiplication of marginals - pdf for positive rain, cdf for truncated\n",
    "            for loc in range(len(Invcdf_Us[0])):\n",
    "                if did_rain[day][loc]==1:# wet: add pdf(invcdf(u_i))\n",
    "                    nll -= scs.norm.logpdf(Invcdf_Us[day][loc],loc=0,scale=1)\n",
    "                else:# dry: add cdf(invcdf(pi))\n",
    "                    nll -= np.log(truncation_pi[day][loc])\n",
    "            \n",
    "        return -nll\n",
    "\n",
    "#function for single nll eval   \n",
    "\n",
    "def nll_sub_days(days_list,Invcdf_Us,truncation_pi,did_rain,len_locs,rvs,cov_mat):\n",
    "    \n",
    "    #warnings.filterwarnings(\"ignore\")\n",
    "\n",
    "    nll=0\n",
    "    for day in tqdm(days_list): #eg [251,...,500]\n",
    "        # numerator: joint pdf integrated over truncation - equivalent to elegant normal cdf in some cases. Check cases:\n",
    "        if np.sum(did_rain[day])==len(did_rain[day]): #all wet, just normal pdf\n",
    "            nll += scs.multivariate_normal.logpdf(x=Invcdf_Us[day],mean=np.zeros(len(Invcdf_Us[0])),cov=cov_mat)\n",
    "        else: # some dry -> use elegant cdf\n",
    "            #print('elegant'+str(np.sum(did_rain[day])))\n",
    "            if np.sum(did_rain[day])==0: # all dry -> use normal cdf\n",
    "                nll += scs.multivariate_normal.logcdf(x=Invcdf_Us[day],mean=np.zeros(len(Invcdf_Us[0])),cov=cov_mat)\n",
    "\n",
    "            else:\n",
    "                \n",
    "                # need to re-arrange the covariance matrix into 2*2 blocks based on censored/uncensored. \n",
    "                r_rain,c_rain = [[i] for i in np.nonzero(did_rain[day])[0]],[i for i in np.nonzero(did_rain[day])[0]]\n",
    "                r_dry,c_dry = [[i] for i in range(len_locs) if i not in np.nonzero(did_rain[day])[0]],[i for i in range(len_locs) if i not in np.nonzero(did_rain[day])[0]]\n",
    "                \n",
    "                # create submatricies\n",
    "                submat11 = csr_matrix(cov_mat[r_dry,c_dry])\n",
    "                submat12 = csr_matrix(cov_mat[r_dry,c_rain])\n",
    "                submat21 = csc_matrix(cov_mat[r_rain,c_dry])\n",
    "                submat22 = csr_matrix(cov_mat[r_rain,c_rain])\n",
    "                \n",
    "                #### MC estimate part      ####\n",
    "\n",
    "                if len(submat22.todense())!=1:\n",
    "                    sub_cov = (submat11-submat12@scipy.sparse.linalg.inv(submat22)@submat21).todense()\n",
    "                else: # submat22 is an integer, aka only one non-zero obs\n",
    "                    sub_cov = (submat11-submat12*scipy.sparse.linalg.inv(submat22)[0]*submat21).todense()\n",
    "                # Do MC approximation to cdf\n",
    "                nll += np.log(mc_cdf([rvs[i][:len(c_dry)] for i in range(len(rvs))],sub_cov,[inv_us[day][k] for k in c_dry]))\n",
    "\n",
    "                #### MC estimate part - end ####\n",
    "\n",
    "\n",
    "                # compute and add the elegant cdf\n",
    "                #if len(submat22.todense())==1:\n",
    "                #    nll += scs.multivariate_normal.logcdf(x=[Invcdf_Us[day][k] for k in c_dry],mean=np.zeros(len(submat11.todense())),cov=(submat11-submat12*scipy.sparse.linalg.inv(submat22)[0]*submat21).todense())\n",
    "                #else:\n",
    "                #    nll += scs.multivariate_normal.logcdf(x=[Invcdf_Us[day][k] for k in c_dry],mean=np.zeros(len(submat11.todense())),cov=(submat11-submat12@scipy.sparse.linalg.inv(submat22)@submat21).todense())\n",
    "        \n",
    "        # denominator: multiplication of marginals - pdf for positive rain, cdf for truncated\n",
    "        for loc in range(len(Invcdf_Us[0])):\n",
    "            if did_rain[day][loc]==1:# wet: add pdf(invcdf(u_i))\n",
    "                nll -= scs.norm.logpdf(Invcdf_Us[day][loc],loc=0,scale=1)\n",
    "            else:# dry: add cdf(invcdf(pi))\n",
    "                nll -= np.log(truncation_pi[day][loc])\n",
    "        \n",
    "\n",
    "    return -nll    \n"
   ]
  },
  {
   "cell_type": "code",
   "execution_count": 73,
   "metadata": {},
   "outputs": [],
   "source": [
    "# rvs for MC estimate\n",
    "rand_vars = scs.multivariate_normal.rvs(np.zeros(len(dist_mat)),np.eye(len(dist_mat)),size=100)\n",
    "# length = size, each set is of length = #locs"
   ]
  },
  {
   "cell_type": "code",
   "execution_count": 3,
   "metadata": {},
   "outputs": [],
   "source": [
    "# Covariance matrix\n",
    "covariance_matrix = np.nan_to_num(rbf(dist_mat,gamma=1/(2*10*10)),copy=False,nan=0)"
   ]
  },
  {
   "cell_type": "code",
   "execution_count": 91,
   "metadata": {},
   "outputs": [
    {
     "data": {
      "text/plain": [
       "<matplotlib.image.AxesImage at 0x19e3a422ca0>"
      ]
     },
     "execution_count": 91,
     "metadata": {},
     "output_type": "execute_result"
    },
    {
     "data": {
      "image/png": "[encoded data removed]",
      "text/plain": [
       "<Figure size 288x288 with 1 Axes>"
      ]
     },
     "metadata": {
      "needs_background": "light"
     },
     "output_type": "display_data"
    }
   ],
   "source": [
    "plt.matshow(covariance_matrix[310:320,310:320])"
   ]
  },
  {
   "cell_type": "markdown",
   "metadata": {},
   "source": [
    "### Write verion of nll where the inegration is scs.norm.cdf and is done based on the blocks.\n",
    "\n",
    "Take the wet days corresponding toa block together in a cdf with their appropriate subcovariance matrix, do that for each block and multiply the cdfs from each block together to get a mode independent version of the big integration.\n",
    "\n",
    "Compare this blocked nll with the MC integration and classical.\n",
    "\n",
    "Also try the MC nll with the blocking idea, and compare.\n",
    "\n",
    "Looking for time improvement as well as accuracy."
   ]
  },
  {
   "cell_type": "code",
   "execution_count": 77,
   "metadata": {},
   "outputs": [
    {
     "data": {
      "text/plain": [
       "[<matplotlib.lines.Line2D at 0x1c48380a400>]"
      ]
     },
     "execution_count": 77,
     "metadata": {},
     "output_type": "execute_result"
    },
    {
     "data": {
      "image/png": "[encoded data removed]",
      "text/plain": [
       "<Figure size 432x288 with 1 Axes>"
      ]
     },
     "metadata": {
      "needs_background": "light"
     },
     "output_type": "display_data"
    }
   ],
   "source": [
    "# This creates groups of indexes corresponding to correlated 'blocks' in the covariance/locations matrix\n",
    "a = np.where(covariance_matrix[:1500,:1500]>0.1)\n",
    "b = np.where([a[0]!=a[1]])\n",
    "#c = np.nonzero(b)\n",
    "c = [(a[0][i],a[1][i]) for i in b[1]]\n",
    "pairs = list(set([tuple(sorted(c_)) for c_ in c]))\n",
    "graph = nx.Graph()\n",
    "graph.add_edges_from([pairs[i] for i in range(len(pairs)) if abs(pairs[i][0]-pairs[i][1])<17])\n",
    "cor_blocks = []\n",
    "for connected_component in nx.connected_components(graph):\n",
    "    cor_blocks.append(list(connected_component))\n",
    "\n",
    "plt.plot([len(cor_blocks[i]) for i in range(len(cor_blocks))])"
   ]
  },
  {
   "cell_type": "code",
   "execution_count": 57,
   "metadata": {},
   "outputs": [
    {
     "data": {
      "text/plain": [
       "[<matplotlib.lines.Line2D at 0x1c4d91987c0>]"
      ]
     },
     "execution_count": 57,
     "metadata": {},
     "output_type": "execute_result"
    },
    {
     "data": {
      "image/png": "[encoded data removed]",
      "text/plain": [
       "<Figure size 432x288 with 1 Axes>"
      ]
     },
     "metadata": {
      "needs_background": "light"
     },
     "output_type": "display_data"
    }
   ],
   "source": [
    "# This creates groups of indexes corresponding to correlated 'blocks' in the covariance/locations matrix\n",
    "a = np.where(covariance_matrix[:1500,:1500]>0.1)\n",
    "b = np.where([a[0]!=a[1]])\n",
    "#c = np.nonzero(b)\n",
    "c = [(a[0][i],a[1][i]) for i in b[1]]\n",
    "pairs = list(set([tuple(sorted(c_)) for c_ in c]))\n",
    "graph = nx.Graph()\n",
    "graph.add_edges_from(pairs)\n",
    "cor_blocks = []\n",
    "for connected_component in nx.connected_components(graph):\n",
    "    cor_blocks.append(list(connected_component))\n",
    "\n",
    "plt.plot([len(cor_blocks[i]) for i in range(len(cor_blocks))])"
   ]
  },
  {
   "cell_type": "code",
   "execution_count": 21,
   "metadata": {},
   "outputs": [
    {
     "data": {
      "text/plain": [
       "[(177, 181),\n",
       " (67, 68),\n",
       " (99, 100),\n",
       " (70, 73),\n",
       " (118, 122),\n",
       " (159, 160),\n",
       " (8, 9),\n",
       " (40, 41),\n",
       " (100, 101),\n",
       " (132, 133),\n",
       " (73, 74),\n",
       " (133, 134),\n",
       " (14, 15),\n",
       " (15, 16),\n",
       " (96, 99),\n",
       " (107, 108),\n",
       " (188, 191),\n",
       " (48, 49),\n",
       " (80, 81),\n",
       " (140, 141),\n",
       " (81, 82),\n",
       " (25, 29),\n",
       " (173, 174),\n",
       " (22, 23),\n",
       " (55, 56),\n",
       " (59, 63),\n",
       " (147, 148),\n",
       " (92, 96),\n",
       " (33, 37),\n",
       " (181, 182),\n",
       " (125, 129),\n",
       " (84, 88),\n",
       " (66, 70),\n",
       " (176, 180),\n",
       " (158, 162),\n",
       " (117, 121),\n",
       " (99, 103),\n",
       " (40, 44),\n",
       " (150, 154),\n",
       " (113, 114),\n",
       " (132, 136),\n",
       " (91, 95),\n",
       " (25, 28),\n",
       " (32, 36),\n",
       " (165, 169),\n",
       " (14, 18),\n",
       " (124, 128),\n",
       " (87, 88),\n",
       " (17, 20),\n",
       " (179, 180),\n",
       " (65, 69),\n",
       " (28, 29),\n",
       " (88, 89),\n",
       " (157, 161),\n",
       " (120, 121),\n",
       " (6, 10),\n",
       " (139, 143),\n",
       " (180, 181),\n",
       " (50, 53),\n",
       " (98, 102),\n",
       " (61, 62),\n",
       " (80, 84),\n",
       " (121, 122),\n",
       " (39, 43),\n",
       " (153, 154),\n",
       " (172, 176),\n",
       " (131, 135),\n",
       " (24, 27),\n",
       " (3, 4),\n",
       " (35, 36),\n",
       " (95, 96),\n",
       " (127, 128),\n",
       " (9, 11),\n",
       " (187, 188),\n",
       " (36, 37),\n",
       " (68, 69),\n",
       " (128, 129),\n",
       " (160, 161),\n",
       " (69, 70),\n",
       " (101, 102),\n",
       " (161, 162),\n",
       " (31, 34),\n",
       " (10, 11),\n",
       " (32, 35),\n",
       " (194, 195),\n",
       " (64, 67),\n",
       " (43, 44),\n",
       " (135, 136),\n",
       " (65, 68),\n",
       " (76, 77),\n",
       " (168, 169),\n",
       " (98, 101),\n",
       " (113, 117),\n",
       " (39, 42),\n",
       " (146, 150),\n",
       " (9, 10),\n",
       " (179, 183),\n",
       " (79, 83),\n",
       " (42, 43),\n",
       " (171, 175),\n",
       " (20, 24),\n",
       " (112, 116),\n",
       " (75, 76),\n",
       " (94, 98),\n",
       " (53, 57),\n",
       " (16, 17),\n",
       " (145, 149),\n",
       " (108, 109),\n",
       " (127, 131),\n",
       " (86, 90),\n",
       " (49, 50),\n",
       " (68, 72),\n",
       " (109, 110),\n",
       " (178, 182),\n",
       " (189, 191),\n",
       " (160, 164),\n",
       " (101, 105),\n",
       " (190, 192),\n",
       " (60, 64),\n",
       " (23, 24),\n",
       " (83, 84),\n",
       " (115, 116),\n",
       " (175, 176),\n",
       " (24, 25),\n",
       " (93, 97),\n",
       " (56, 57),\n",
       " (116, 117),\n",
       " (46, 49),\n",
       " (57, 58),\n",
       " (126, 130),\n",
       " (167, 168),\n",
       " (89, 90),\n",
       " (149, 150),\n",
       " (19, 22),\n",
       " (30, 31),\n",
       " (20, 23),\n",
       " (52, 55),\n",
       " (31, 32),\n",
       " (141, 142),\n",
       " (123, 124),\n",
       " (53, 56),\n",
       " (64, 65),\n",
       " (193, 197),\n",
       " (156, 157),\n",
       " (5, 6),\n",
       " (97, 98),\n",
       " (11, 13),\n",
       " (189, 190),\n",
       " (148, 149),\n",
       " (60, 63),\n",
       " (34, 38),\n",
       " (93, 96),\n",
       " (67, 71),\n",
       " (159, 163),\n",
       " (100, 104),\n",
       " (63, 64),\n",
       " (41, 45),\n",
       " (4, 5),\n",
       " (133, 137),\n",
       " (166, 170),\n",
       " (15, 19),\n",
       " (107, 111),\n",
       " (48, 52),\n",
       " (92, 95),\n",
       " (140, 144),\n",
       " (163, 164),\n",
       " (33, 36),\n",
       " (81, 85),\n",
       " (44, 45),\n",
       " (141, 145),\n",
       " (173, 177),\n",
       " (22, 26),\n",
       " (66, 69),\n",
       " (114, 118),\n",
       " (155, 156),\n",
       " (174, 178),\n",
       " (137, 138),\n",
       " (96, 97),\n",
       " (18, 19),\n",
       " (147, 151),\n",
       " (188, 189),\n",
       " (40, 43),\n",
       " (129, 130),\n",
       " (100, 103),\n",
       " (148, 152),\n",
       " (111, 112),\n",
       " (41, 44),\n",
       " (181, 185),\n",
       " (144, 145),\n",
       " (103, 104),\n",
       " (85, 86),\n",
       " (195, 196),\n",
       " (15, 18),\n",
       " (177, 178),\n",
       " (47, 50),\n",
       " (136, 137),\n",
       " (77, 78),\n",
       " (21, 25),\n",
       " (48, 51),\n",
       " (169, 170),\n",
       " (151, 152),\n",
       " (54, 58),\n",
       " (51, 52),\n",
       " (143, 144),\n",
       " (180, 184),\n",
       " (61, 65),\n",
       " (62, 66),\n",
       " (3, 7),\n",
       " (35, 39),\n",
       " (95, 99),\n",
       " (155, 159),\n",
       " (36, 40),\n",
       " (47, 49),\n",
       " (128, 132),\n",
       " (21, 24),\n",
       " (69, 73),\n",
       " (129, 133),\n",
       " (161, 165),\n",
       " (54, 57),\n",
       " (102, 106),\n",
       " (162, 166),\n",
       " (194, 198),\n",
       " (84, 85),\n",
       " (176, 177),\n",
       " (195, 199),\n",
       " (76, 80),\n",
       " (117, 118),\n",
       " (191, 192),\n",
       " (77, 81),\n",
       " (61, 64),\n",
       " (91, 92),\n",
       " (62, 65),\n",
       " (110, 114),\n",
       " (94, 97),\n",
       " (183, 184),\n",
       " (32, 33),\n",
       " (165, 166),\n",
       " (51, 55),\n",
       " (35, 38),\n",
       " (124, 125),\n",
       " (143, 147),\n",
       " (65, 66),\n",
       " (36, 39),\n",
       " (198, 199),\n",
       " (68, 71),\n",
       " (157, 158),\n",
       " (139, 140),\n",
       " (69, 72),\n",
       " (101, 104),\n",
       " (134, 138),\n",
       " (39, 40),\n",
       " (172, 173),\n",
       " (75, 79),\n",
       " (131, 132),\n",
       " (102, 105),\n",
       " (72, 73),\n",
       " (16, 20),\n",
       " (108, 112),\n",
       " (164, 165),\n",
       " (46, 48),\n",
       " (17, 21),\n",
       " (49, 53),\n",
       " (109, 113),\n",
       " (197, 198),\n",
       " (50, 54),\n",
       " (82, 86),\n",
       " (142, 146),\n",
       " (23, 27),\n",
       " (83, 87),\n",
       " (115, 119),\n",
       " (175, 179),\n",
       " (24, 28),\n",
       " (116, 120),\n",
       " (38, 39),\n",
       " (149, 153),\n",
       " (30, 34),\n",
       " (71, 72),\n",
       " (12, 13),\n",
       " (182, 186),\n",
       " (31, 35),\n",
       " (104, 105),\n",
       " (123, 127),\n",
       " (16, 19),\n",
       " (64, 68),\n",
       " (105, 106),\n",
       " (156, 160),\n",
       " (5, 9),\n",
       " (46, 47),\n",
       " (49, 52),\n",
       " (97, 101),\n",
       " (19, 20),\n",
       " (79, 80),\n",
       " (171, 172),\n",
       " (20, 21),\n",
       " (52, 53),\n",
       " (23, 26),\n",
       " (112, 113),\n",
       " (53, 54),\n",
       " (145, 146),\n",
       " (26, 27),\n",
       " (164, 168),\n",
       " (27, 28),\n",
       " (63, 67),\n",
       " (119, 120),\n",
       " (4, 8),\n",
       " (60, 61),\n",
       " (152, 153),\n",
       " (93, 94),\n",
       " (37, 41),\n",
       " (185, 186),\n",
       " (38, 42),\n",
       " (70, 74),\n",
       " (97, 100),\n",
       " (130, 134),\n",
       " (189, 192),\n",
       " (163, 167),\n",
       " (193, 194),\n",
       " (96, 100),\n",
       " (18, 22),\n",
       " (59, 60),\n",
       " (78, 82),\n",
       " (0, 1),\n",
       " (19, 23),\n",
       " (92, 93),\n",
       " (111, 115),\n",
       " (184, 185),\n",
       " (52, 56),\n",
       " (125, 126),\n",
       " (144, 148),\n",
       " (34, 35),\n",
       " (37, 40),\n",
       " (85, 89),\n",
       " (7, 8)]"
      ]
     },
     "execution_count": 21,
     "metadata": {},
     "output_type": "execute_result"
    }
   ],
   "source": [
    "[pairs[i] for i in range(len(pairs)) if abs(pairs[i][0]-pairs[i][1])<5]"
   ]
  },
  {
   "cell_type": "code",
   "execution_count": 86,
   "metadata": {},
   "outputs": [
    {
     "data": {
      "text/plain": [
       "<matplotlib.image.AxesImage at 0x1c48586b970>"
      ]
     },
     "execution_count": 86,
     "metadata": {},
     "output_type": "execute_result"
    },
    {
     "data": {
      "image/png": "[encoded data removed]",
      "text/plain": [
       "<Figure size 288x288 with 1 Axes>"
      ]
     },
     "metadata": {
      "needs_background": "light"
     },
     "output_type": "display_data"
    }
   ],
   "source": [
    "plt.matshow(covariance_matrix[1000:1100,1000:1100])"
   ]
  },
  {
   "cell_type": "code",
   "execution_count": 6,
   "metadata": {},
   "outputs": [
    {
     "data": {
      "text/plain": [
       "0.3877153280428165"
      ]
     },
     "execution_count": 6,
     "metadata": {},
     "output_type": "execute_result"
    }
   ],
   "source": [
    "scs.multivariate_normal.cdf(x=inv_us[0][:16],mean=np.zeros(16),cov=covariance_matrix[:16,:16])"
   ]
  },
  {
   "cell_type": "code",
   "execution_count": 5,
   "metadata": {},
   "outputs": [],
   "source": [
    "#basic nll\n",
    "#truncgauss(L=dist_mat).nll(theta=0.1,Invcdf_Us=[inv_us[i] for i in range(50)],truncation_pi=[g2_us[i] for i in range(50)],did_rain=[did_rain_01[i] for i in range(50)],len_locs=len(g2_us[0]),rvs = rand_vars) \n",
    "# locs:all , days:range(50) , theta:0.1 , time:3m28 , nll = -238511.6341627678"
   ]
  },
  {
   "cell_type": "code",
   "execution_count": 6,
   "metadata": {},
   "outputs": [],
   "source": [
    "#nll on subsets of days\n",
    "#truncgauss(L=dist_mat).nll_sub_days(days_list=range(50),Invcdf_Us=inv_us,truncation_pi=g2_us,did_rain=did_rain_01,len_locs=len(g2_us),rvs=rand_vars,cov_mat=covariance_matrix)\n",
    "# locs:all , days:range(50) , theta:0.1 , time:1m30 + 25s , nll = -238511.6341627678"
   ]
  },
  {
   "cell_type": "code",
   "execution_count": 80,
   "metadata": {},
   "outputs": [
    {
     "name": "stderr",
     "output_type": "stream",
     "text": [
      "100%|██████████| 20/20 [01:07<00:00,  3.36s/it]\n"
     ]
    },
    {
     "data": {
      "text/plain": [
       "-76512.25997904879"
      ]
     },
     "execution_count": 80,
     "metadata": {},
     "output_type": "execute_result"
    }
   ],
   "source": [
    "nll_sub_days(days_list=range(200,220),Invcdf_Us=inv_us,truncation_pi=g2_us,did_rain=did_rain_01,len_locs=len(g2_us),rvs=rand_vars,cov_mat=covariance_matrix)      "
   ]
  },
  {
   "cell_type": "markdown",
   "metadata": {},
   "source": [
    "### Trying mp\n",
    "not working rn"
   ]
  },
  {
   "cell_type": "code",
   "execution_count": 15,
   "metadata": {},
   "outputs": [],
   "source": [
    "def my_func(days_list):\n",
    "    l = inv_us\n",
    "    return np.sum([l[i] for i in days_list])"
   ]
  },
  {
   "cell_type": "code",
   "execution_count": 17,
   "metadata": {},
   "outputs": [
    {
     "data": {
      "text/plain": [
       "2277931.990557351"
      ]
     },
     "execution_count": 17,
     "metadata": {},
     "output_type": "execute_result"
    }
   ],
   "source": [
    "my_func(range(800))"
   ]
  },
  {
   "cell_type": "code",
   "execution_count": 18,
   "metadata": {},
   "outputs": [],
   "source": [
    "def parallel_nll(theta):\n",
    "    \n",
    "    # Kernel\n",
    "    cov_mat = covariance_matrix\n",
    "    print('cov_mat')\n",
    "    # parallel likelihood\n",
    "    size = math.ceil(300/psutil.cpu_count())\n",
    "    days_chuncks = [[i for i in range(300)][x:x+size] for x in range(0,300, size)]\n",
    "    #list_nll = Parallel(n_jobs=psutil.cpu_count())(delayed(nll_sub_days)(chunck,inv_us,g2_us,did_rain_01,len(g2_us),rand_vars,cov_mat) for chunck in tqdm(days_chuncks))\n",
    "    list_nll = Parallel(n_jobs=psutil.cpu_count())(delayed(my_func)(chunck) for chunck in tqdm(days_chuncks))\n",
    "\n",
    "    return list_nll\n",
    "    #return [size, len(days_chuncks[0])]\n",
    "\n",
    "\n"
   ]
  },
  {
   "cell_type": "code",
   "execution_count": 19,
   "metadata": {},
   "outputs": [
    {
     "name": "stdout",
     "output_type": "stream",
     "text": [
      "cov_mat\n"
     ]
    },
    {
     "name": "stderr",
     "output_type": "stream",
     "text": [
      "100%|██████████| 8/8 [00:00<00:00, 3930.01it/s]\n"
     ]
    }
   ],
   "source": [
    "parallel_nll(0.1)   "
   ]
  }
 ],
 "metadata": {
  "kernelspec": {
   "display_name": "Python 3.9.12 ('base')",
   "language": "python",
   "name": "python3"
  },
  "language_info": {
   "codemirror_mode": {
    "name": "ipython",
    "version": 3
   },
   "file_extension": ".py",
   "mimetype": "text/x-python",
   "name": "python",
   "nbconvert_exporter": "python",
   "pygments_lexer": "ipython3",
   "version": "3.9.12"
  },
  "orig_nbformat": 4,
  "vscode": {
   "interpreter": {
    "hash": "ab60c10c504ddb966051b34fe3c8284e278512e8f8393189136f471cdd0fd1b8"
   }
  }
 },
 "nbformat": 4,
 "nbformat_minor": 2
}
