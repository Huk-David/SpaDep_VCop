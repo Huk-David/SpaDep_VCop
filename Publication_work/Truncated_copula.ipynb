{
 "cells": [
  {
   "cell_type": "markdown",
   "metadata": {},
   "source": [
    "### Truncated copula MLE"
   ]
  },
  {
   "cell_type": "code",
   "execution_count": 2,
   "metadata": {},
   "outputs": [],
   "source": [
    "# Load everything - Gamma\n",
    "%matplotlib inline\n",
    "from scipy.optimize import dual_annealing\n",
    "import numpy as np\n",
    "import scipy.stats as scs\n",
    "from matplotlib import pyplot as plt\n",
    "from sklearn.gaussian_process.kernels import Matern\n",
    "from collections import Counter\n",
    "from mpl_toolkits.basemap import Basemap\n",
    "from geopy.geocoders import Nominatim\n",
    "from tqdm import tqdm\n",
    "from datetime import datetime\n",
    "import itertools\n",
    "from itertools import permutations\n",
    "from scipy.spatial import distance_matrix\n",
    "import matplotlib\n",
    "import matplotlib.colors as mcolors\n",
    "from sklearn import metrics\n",
    "import pickle\n",
    "from sklearn.gaussian_process.kernels import RBF\n",
    "from sklearn.metrics.pairwise import rbf_kernel as rbf\n",
    "from math import sqrt\n",
    "from joblib import Parallel, delayed\n",
    "import psutil\n",
    "import math\n",
    "import scipy\n",
    "from scipy.sparse import csr_matrix\n",
    "from scipy.sparse import csc_matrix\n",
    "from scipy.sparse import coo_matrix\n",
    "import scipy.sparse\n",
    "import warnings\n",
    "import networkx as nx\n",
    "import multiprocessing\n",
    "import pylab\n",
    "#import scikit.sparse as cholmod\n",
    "\n",
    "\n",
    "#from parallel.backends import BackendDummy as Backend\n",
    "#backend = Backend()\n",
    "#################\n",
    "with open('Data_for_truncated_copula/inv_Us.txt','rb') as f:\n",
    "    inv_us = pickle.load(f)\n",
    "\n",
    "with open('Data_for_truncated_copula/did_rain_01.txt','rb') as f:\n",
    "    did_rain_01 = pickle.load(f)\n",
    "\n",
    "with open('Data_for_truncated_copula/g2_us.txt','rb') as f:\n",
    "    g2_us = pickle.load(f)\n",
    "\n",
    "with open('Data_for_truncated_copula/dist_mat.txt','rb') as f:\n",
    "    dist_mat = pickle.load(f)"
   ]
  },
  {
   "cell_type": "code",
   "execution_count": 3,
   "metadata": {},
   "outputs": [],
   "source": [
    "# Functions\n",
    "\n",
    "# MC estimate - Correct and working\n",
    "from re import sub\n",
    "\n",
    "\n",
    "def mc_cdf(rvs,cov_matrix,ppf_us):\n",
    "    '''\n",
    "    rvs: [[set1], ... , [set m]] each set of length = #locations = n.\n",
    "    cov_matrix: covariance matrix between the locations in question.\n",
    "    ppf_us: [u1, ... , un] length = # locs.\n",
    "    '''    \n",
    "    # rvs are mean 0 already, but need different covariance\n",
    "    cholesk_mat = np.linalg.cholesky(cov_matrix)\n",
    "    normcov_vars = [np.asarray(cholesk_mat@rvs[i]) for i in range(len(rvs))]\n",
    "    out = max(1e-13,np.sum([np.sum([normcov_vars[m][n]<ppf_us[n] for n in range(len(ppf_us))])==len(ppf_us) for m in range(len(normcov_vars))]))\n",
    "    return out/len(rvs)       \n",
    "\n",
    "# New cdf calculation - correct and working\n",
    "def mvn_cdf(a,b,Sigma):\n",
    "    m = len(a)\n",
    "    # Reorder Sigma, a and b according to the length of interval (higher earlier)\n",
    "    len_interval = np.zeros(m)\n",
    "    for ind in range(m):\n",
    "        if a[ind] == -np.inf:\n",
    "            a[ind] = -100000\n",
    "        if b[ind] == np.inf:\n",
    "            b[ind] = 100000\n",
    "        len_interval[ind] = b[ind] - a[ind]\n",
    "    order_len_interval = [int(i[0]) for i in sorted(enumerate(len_interval), key=lambda x:x[1], reverse=True)]\n",
    "    Sigma = Sigma[order_len_interval, :][:,order_len_interval]\n",
    "    a = [a[x] for x in order_len_interval]\n",
    "    b = [b[x] for x in order_len_interval]\n",
    "\n",
    "\n",
    "    d = np.zeros(shape=(m,))\n",
    "    e = np.ones(shape=(m,))\n",
    "    f = np.zeros(shape=(m,))\n",
    "    y = np.zeros(shape=(m,))\n",
    "    # these can be changed for different precision levels\n",
    "    epsilon = 1.e-5\n",
    "    alpha = 2.5\n",
    "    N_max = int(1000)\n",
    "\n",
    "    # Compute Cholesky decomposition of Sigma to produce lower trinagualr matrix\n",
    "    C = np.linalg.cholesky(Sigma)\n",
    "\n",
    "    #Sigma_sparse = sparse.csc_matrix(Sigma)\n",
    "    #C_sparse = cholmod.cholesky(Sigma_sparse).L()\n",
    "    #C = C_sparse\n",
    "\n",
    "    Intsum, N, Varsum = 0, 0, 0\n",
    "\n",
    "    if a[0] != -np.inf:\n",
    "        d[0] = scs.norm.cdf(a[0]/C[0,0])\n",
    "    if b[0] != np.inf:\n",
    "        e[0] = scs.norm.cdf(b[0]/C[0,0])\n",
    "    f[0] = e[0] - d[0]\n",
    "\n",
    "    for ind_N in range(N_max):\n",
    "        w = np.random.rand(m)\n",
    "        for ind_m in range(1,m):\n",
    "            y[ind_m-1] = scs.norm.ppf(d[ind_m-1]+w[ind_m-1]*(e[ind_m-1]-d[ind_m-1]))\n",
    "            if a[ind_m] != -np.inf:\n",
    "                d[ind_m] = scs.norm.cdf((a[ind_m]-sum(C[ind_m, :ind_m]*y[:ind_m]))/C[ind_m,ind_m])\n",
    "            if b[ind_m] != np.inf:\n",
    "                e[ind_m] = scs.norm.cdf((b[ind_m]-sum(C[ind_m, :ind_m]*y[:ind_m]))/C[ind_m,ind_m])\n",
    "            f[ind_m] = (e[ind_m] - d[ind_m])*f[ind_m-1]\n",
    "        N = N+1\n",
    "        delta = (f[-1]-Intsum)/N\n",
    "        Intsum = Intsum + delta\n",
    "        Varsum = (N-2)*Varsum/N + pow(delta, 2)\n",
    "        Error = alpha*np.sqrt(Varsum)\n",
    "        if Error < epsilon:\n",
    "            break\n",
    "\n",
    "    return(Intsum)\n",
    "# Truncated Gaussian copula class\n",
    "class truncgauss():\n",
    "    def __init__(self,L):\n",
    "        '''\n",
    "        Class to fit and work with a truncated Gaussian copula, using two functions.\n",
    "        sim: simulated [0,1] values using this copula density.\n",
    "        eval_nll: evaluate the negative log likelihood based on given data.\n",
    "        To use the class, the dimension of the data is needed.\n",
    "        n: dimension of data\n",
    "        '''\n",
    "        self.L=L\n",
    "    \n",
    "    def sim(self,theta,draws):\n",
    "        '''\n",
    "        Simulates m draws from the truncated gaussian copula conditional on parameters theta for the covariance kernel.\n",
    "        '''\n",
    "        #later\n",
    "    def nll(self,theta,Invcdf_Us,truncation_pi,did_rain,len_locs,rvs):\n",
    "        cov_mat = np.nan_to_num(rbf(self.L,gamma=theta),copy=False,nan=0)\n",
    "        nll=0\n",
    "        for day in tqdm(range(len(Invcdf_Us))): #eg [251,...,500]\n",
    "            \n",
    "            # numerator: joint pdf integrated over truncation - equivalent to elegant normal cdf in some cases. Check cases:\n",
    "            if np.sum(did_rain[day])==len(did_rain[day]): #all wet, just normal pdf\n",
    "                nll += scs.multivariate_normal.logpdf(x=Invcdf_Us[day],mean=np.zeros(len(Invcdf_Us[0])),cov=cov_mat)\n",
    "            else: # some dry -> use elegant cdf\n",
    "                #print('elegant'+str(np.sum(did_rain[day])))\n",
    "                if np.sum(did_rain[day])==0: # all dry -> use normal cdf\n",
    "                    nll += scs.multivariate_normal.logcdf(x=Invcdf_Us[day],mean=np.zeros(len(Invcdf_Us[0])),cov=cov_mat)\n",
    "\n",
    "                else:\n",
    "                    \n",
    "                    # need to re-arrange the covariance matrix into 2*2 blocks based on censored/uncensored. \n",
    "                    r_rain,c_rain = [[i] for i in np.nonzero(did_rain[day])[0]],[i for i in np.nonzero(did_rain[day])[0]]\n",
    "                    r_dry,c_dry = [[i] for i in range(len_locs) if i not in np.nonzero(did_rain[day])[0]],[i for i in range(len_locs) if i not in np.nonzero(did_rain[day])[0]]\n",
    "                    \n",
    "                    # create submatricies\n",
    "                    submat11 = cov_mat[r_dry,c_dry]\n",
    "                    submat12 = cov_mat[r_dry,c_rain]\n",
    "                    submat21 = cov_mat[r_rain,c_dry]\n",
    "                    submat22 = cov_mat[r_rain,c_rain]\n",
    "                   \n",
    "                    # compute and add the elegant cdf\n",
    "                    if len(submat22)==1:\n",
    "                        nll += scs.multivariate_normal.logcdf(x=[Invcdf_Us[day][k] for k in c_dry],mean=np.zeros(len(submat11)),cov=(submat11-submat12*np.linalg.inv(submat22)[0]*submat21))\n",
    "                    else:\n",
    "                        nll += scs.multivariate_normal.logcdf(x=[Invcdf_Us[day][k] for k in c_dry],mean=np.zeros(len(submat11)),cov=(submat11-submat12@np.linalg.inv(submat22)@submat21))\n",
    "            \n",
    "            # denominator: multiplication of marginals - pdf for positive rain, cdf for truncated\n",
    "            for loc in range(len(Invcdf_Us[0])):\n",
    "                if did_rain[day][loc]==1:# wet: add pdf(invcdf(u_i))\n",
    "                    nll -= scs.norm.logpdf(Invcdf_Us[day][loc],loc=0,scale=1)\n",
    "                else:# dry: add cdf(invcdf(pi))\n",
    "                    nll -= np.log(truncation_pi[day][loc])\n",
    "            \n",
    "        return -nll\n",
    "\n",
    "    def nll_mc(self,theta,Invcdf_Us,truncation_pi,did_rain,len_locs,rvs):\n",
    "        cov_mat = np.nan_to_num(rbf(self.L,gamma=theta),copy=False,nan=0)\n",
    "        nll=0\n",
    "        for day in tqdm(range(len(Invcdf_Us))): #eg [251,...,500]\n",
    "            \n",
    "            # numerator: joint pdf integrated over truncation - equivalent to elegant normal cdf in some cases. Check cases:\n",
    "            if np.sum(did_rain[day])==len(did_rain[day]): #all wet, just normal pdf\n",
    "                nll += scs.multivariate_normal.logpdf(x=Invcdf_Us[day],mean=np.zeros(len(Invcdf_Us[0])),cov=cov_mat)\n",
    "            else: # some dry -> use elegant cdf\n",
    "                #print('elegant'+str(np.sum(did_rain[day])))\n",
    "                if np.sum(did_rain[day])==0: # all dry -> use normal cdf\n",
    "                    nll += scs.multivariate_normal.logcdf(x=Invcdf_Us[day],mean=np.zeros(len(Invcdf_Us[0])),cov=cov_mat)\n",
    "\n",
    "                else:\n",
    "                    \n",
    "                    # need to re-arrange the covariance matrix into 2*2 blocks based on censored/uncensored. \n",
    "                    r_rain,c_rain = [[i] for i in np.nonzero(did_rain[day])[0]],[i for i in np.nonzero(did_rain[day])[0]]\n",
    "                    r_dry,c_dry = [[i] for i in range(len_locs) if i not in np.nonzero(did_rain[day])[0]],[i for i in range(len_locs) if i not in np.nonzero(did_rain[day])[0]]\n",
    "                    \n",
    "                    # create submatricies\n",
    "                    submat11 = cov_mat[r_dry,c_dry]\n",
    "                    submat12 = cov_mat[r_dry,c_rain]\n",
    "                    submat21 = cov_mat[r_rain,c_dry]\n",
    "                    submat22 = cov_mat[r_rain,c_rain]\n",
    "                    #### MC estimate part      ####\n",
    "\n",
    "                    if len(submat22)!=1:\n",
    "                        sub_cov = (submat11-submat12@np.linalg.inv(submat22)@submat21)#.reshape(len(c_dry),len(c_dry))\n",
    "                    else: # submat22 is an integer, aka only one non-zero obs\n",
    "                        sub_cov = (submat11-submat12*np.linalg.inv(submat22)[0]*submat21)#.reshape(len(c_dry),len(c_dry))\n",
    "                    \n",
    "                    # Do MC approximation to cdf\n",
    "                    nll += np.log(mc_cdf([rvs[i][:len(c_dry)] for i in range(len(rvs))],sub_cov,[inv_us[day][k] for k in c_dry]))\n",
    "\n",
    "                    #### MC estimate part - end ####\n",
    "\n",
    "\n",
    "                    # compute and add the elegant cdf\n",
    "                    #if len(submat22.todense())==1:\n",
    "                    #    nll += scs.multivariate_normal.logcdf(x=[Invcdf_Us[day][k] for k in c_dry],mean=np.zeros(len(submat11.todense())),cov=(submat11-submat12*scipy.sparse.linalg.inv(submat22)[0]*submat21).todense())\n",
    "                    #else:\n",
    "                    #    nll += scs.multivariate_normal.logcdf(x=[Invcdf_Us[day][k] for k in c_dry],mean=np.zeros(len(submat11.todense())),cov=(submat11-submat12@scipy.sparse.linalg.inv(submat22)@submat21).todense())\n",
    "            \n",
    "            # denominator: multiplication of marginals - pdf for positive rain, cdf for truncated\n",
    "            for loc in range(len(Invcdf_Us[0])):\n",
    "                if did_rain[day][loc]==1:# wet: add pdf(invcdf(u_i))\n",
    "                    nll -= scs.norm.logpdf(Invcdf_Us[day][loc],loc=0,scale=1)\n",
    "                else:# dry: add cdf(invcdf(pi))\n",
    "                    nll -= np.log(truncation_pi[day][loc])\n",
    "            \n",
    "        return -nll\n",
    "\n",
    "    def nll_new(self,theta,Invcdf_Us,truncation_pi,did_rain,len_locs,rvs):\n",
    "        cov_mat = np.nan_to_num(rbf(self.L,gamma=theta),copy=False,nan=0)\n",
    "        nll=0\n",
    "        for day in tqdm(range(len(Invcdf_Us))): #eg [251,...,500]\n",
    "            \n",
    "            # numerator: joint pdf integrated over truncation - equivalent to elegant normal cdf in some cases. Check cases:\n",
    "            if np.sum(did_rain[day])==len(did_rain[day]): #all wet, just normal pdf\n",
    "                nll += scs.multivariate_normal.logpdf(x=Invcdf_Us[day],mean=np.zeros(len(Invcdf_Us[0])),cov=cov_mat)\n",
    "            else: # some dry -> use elegant cdf\n",
    "                #print('elegant'+str(np.sum(did_rain[day])))\n",
    "                if np.sum(did_rain[day])==0: # all dry -> use normal cdf\n",
    "                    nll += scs.multivariate_normal.logcdf(x=Invcdf_Us[day],mean=np.zeros(len(Invcdf_Us[0])),cov=cov_mat)\n",
    "\n",
    "                else:\n",
    "                    \n",
    "                    # need to re-arrange the covariance matrix into 2*2 blocks based on censored/uncensored. \n",
    "                    r_rain,c_rain = [[i] for i in np.nonzero(did_rain[day])[0]],[i for i in np.nonzero(did_rain[day])[0]]\n",
    "                    r_dry,c_dry = [[i] for i in range(len_locs) if i not in np.nonzero(did_rain[day])[0]],[i for i in range(len_locs) if i not in np.nonzero(did_rain[day])[0]]\n",
    "                    \n",
    "                     # create submatricies\n",
    "                    submat11 = cov_mat[r_dry,c_dry]\n",
    "                    submat12 = cov_mat[r_dry,c_rain]\n",
    "                    submat21 = cov_mat[r_rain,c_dry]\n",
    "                    submat22 = cov_mat[r_rain,c_rain]\n",
    "                    \n",
    "                    #### New estimate part      ####\n",
    "\n",
    "                    if len(submat22)!=1:\n",
    "                        sub_cov = (submat11-submat12@np.linalg.inv(submat22)@submat21)#.reshape(len(c_dry),len(c_dry))\n",
    "                    else: # submat22 is an integer, aka only one non-zero obs\n",
    "                        sub_cov = (submat11-submat12*np.linalg.inv(submat22)[0]*submat21)#.reshape(len(c_dry),len(c_dry))\n",
    "                    \n",
    "                    # Do new approximation to cdf\n",
    "                    nll += np.log(mvn_cdf([-np.inf for i in range(len(c_dry))],[inv_us[day][k] for k in c_dry],sub_cov))                               \n",
    "\n",
    "                    #### New estimate part - end ####\n",
    "\n",
    "\n",
    "                    # compute and add the elegant cdf\n",
    "                    #if len(submat22.todense())==1:\n",
    "                    #    nll += scs.multivariate_normal.logcdf(x=[Invcdf_Us[day][k] for k in c_dry],mean=np.zeros(len(submat11.todense())),cov=(submat11-submat12*scipy.sparse.linalg.inv(submat22)[0]*submat21).todense())\n",
    "                    #else:\n",
    "                    #    nll += scs.multivariate_normal.logcdf(x=[Invcdf_Us[day][k] for k in c_dry],mean=np.zeros(len(submat11.todense())),cov=(submat11-submat12@scipy.sparse.linalg.inv(submat22)@submat21).todense())\n",
    "            \n",
    "            # denominator: multiplication of marginals - pdf for positive rain, cdf for truncated\n",
    "            for loc in range(len(Invcdf_Us[0])):\n",
    "                if did_rain[day][loc]==1:# wet: add pdf(invcdf(u_i))\n",
    "                    nll -= scs.norm.logpdf(Invcdf_Us[day][loc],loc=0,scale=1)\n",
    "                else:# dry: add cdf(invcdf(pi))\n",
    "                    nll -= np.log(truncation_pi[day][loc])\n",
    "            \n",
    "        return -nll\n",
    "\n",
    "#function for single nll eval   \n",
    "\n",
    "def nll_sub_days(days_list,Invcdf_Us,truncation_pi,did_rain,len_locs,rvs,cov_mat):\n",
    "    \n",
    "    #warnings.filterwarnings(\"ignore\")\n",
    "\n",
    "    nll=0\n",
    "    for day in tqdm(days_list): #eg [251,...,500]\n",
    "        # numerator: joint pdf integrated over truncation - equivalent to elegant normal cdf in some cases. Check cases:\n",
    "        if np.sum(did_rain[day])==len(did_rain[day]): #all wet, just normal pdf\n",
    "            nll += scs.multivariate_normal.logpdf(x=Invcdf_Us[day],mean=np.zeros(len(Invcdf_Us[0])),cov=cov_mat)\n",
    "        else: # some dry -> use elegant cdf\n",
    "            #print('elegant'+str(np.sum(did_rain[day])))\n",
    "            if np.sum(did_rain[day])==0: # all dry -> use normal cdf\n",
    "                nll += scs.multivariate_normal.logcdf(x=Invcdf_Us[day],mean=np.zeros(len(Invcdf_Us[0])),cov=cov_mat)\n",
    "\n",
    "            else:\n",
    "                \n",
    "                # need to re-arrange the covariance matrix into 2*2 blocks based on censored/uncensored. \n",
    "                r_rain,c_rain = [[i] for i in np.nonzero(did_rain[day])[0]],[i for i in np.nonzero(did_rain[day])[0]]\n",
    "                r_dry,c_dry = [[i] for i in range(len_locs) if i not in np.nonzero(did_rain[day])[0]],[i for i in range(len_locs) if i not in np.nonzero(did_rain[day])[0]]\n",
    "                \n",
    "                # create submatricies\n",
    "                submat11 = csr_matrix(cov_mat[r_dry,c_dry])\n",
    "                submat12 = csr_matrix(cov_mat[r_dry,c_rain])\n",
    "                submat21 = csc_matrix(cov_mat[r_rain,c_dry])\n",
    "                submat22 = csr_matrix(cov_mat[r_rain,c_rain])\n",
    "                \n",
    "                #### MC estimate part      ####\n",
    "\n",
    "                if len(submat22.todense())!=1:\n",
    "                    sub_cov = (submat11-submat12@scipy.sparse.linalg.inv(submat22)@submat21).todense()\n",
    "                else: # submat22 is an integer, aka only one non-zero obs\n",
    "                    sub_cov = (submat11-submat12*scipy.sparse.linalg.inv(submat22)[0]*submat21).todense()\n",
    "                # Do MC approximation to cdf\n",
    "                nll += np.log(mc_cdf([rvs[i][:len(c_dry)] for i in range(len(rvs))],sub_cov,[inv_us[day][k] for k in c_dry]))\n",
    "\n",
    "                #### MC estimate part - end ####\n",
    "\n",
    "\n",
    "                # compute and add the elegant cdf\n",
    "                #if len(submat22.todense())==1:\n",
    "                #    nll += scs.multivariate_normal.logcdf(x=[Invcdf_Us[day][k] for k in c_dry],mean=np.zeros(len(submat11.todense())),cov=(submat11-submat12*scipy.sparse.linalg.inv(submat22)[0]*submat21).todense())\n",
    "                #else:\n",
    "                #    nll += scs.multivariate_normal.logcdf(x=[Invcdf_Us[day][k] for k in c_dry],mean=np.zeros(len(submat11.todense())),cov=(submat11-submat12@scipy.sparse.linalg.inv(submat22)@submat21).todense())\n",
    "        \n",
    "        # denominator: multiplication of marginals - pdf for positive rain, cdf for truncated\n",
    "        for loc in range(len(Invcdf_Us[0])):\n",
    "            if did_rain[day][loc]==1:# wet: add pdf(invcdf(u_i))\n",
    "                nll -= scs.norm.logpdf(Invcdf_Us[day][loc],loc=0,scale=1)\n",
    "            else:# dry: add cdf(invcdf(pi))\n",
    "                nll -= np.log(truncation_pi[day][loc])\n",
    "        \n",
    "\n",
    "    return -nll    \n"
   ]
  },
  {
   "cell_type": "code",
   "execution_count": 4,
   "metadata": {},
   "outputs": [
    {
     "ename": "KeyboardInterrupt",
     "evalue": "",
     "output_type": "error",
     "traceback": [
      "\u001b[1;31m---------------------------------------------------------------------------\u001b[0m",
      "\u001b[1;31mKeyboardInterrupt\u001b[0m                         Traceback (most recent call last)",
      "\u001b[1;32mc:\\Users\\u1819911\\Desktop\\Copula Work\\Copula code\\All UK model 1\\Truncated_copula.ipynb Cell 4\u001b[0m in \u001b[0;36m<cell line: 2>\u001b[1;34m()\u001b[0m\n\u001b[0;32m      <a href='vscode-notebook-cell:/c%3A/Users/u1819911/Desktop/Copula%20Work/Copula%20code/All%20UK%20model%201/Truncated_copula.ipynb#W3sZmlsZQ%3D%3D?line=0'>1</a>\u001b[0m \u001b[39m# rvs for MC estimate\u001b[39;00m\n\u001b[1;32m----> <a href='vscode-notebook-cell:/c%3A/Users/u1819911/Desktop/Copula%20Work/Copula%20code/All%20UK%20model%201/Truncated_copula.ipynb#W3sZmlsZQ%3D%3D?line=1'>2</a>\u001b[0m rand_vars \u001b[39m=\u001b[39m scs\u001b[39m.\u001b[39;49mmultivariate_normal\u001b[39m.\u001b[39;49mrvs(np\u001b[39m.\u001b[39;49mzeros(\u001b[39mlen\u001b[39;49m(dist_mat)),np\u001b[39m.\u001b[39;49meye(\u001b[39mlen\u001b[39;49m(dist_mat)),size\u001b[39m=\u001b[39;49m\u001b[39m100000\u001b[39;49m)\n",
      "File \u001b[1;32mc:\\Users\\u1819911\\Anaconda3\\lib\\site-packages\\scipy\\stats\\_multivariate.py:653\u001b[0m, in \u001b[0;36mmultivariate_normal_gen.rvs\u001b[1;34m(self, mean, cov, size, random_state)\u001b[0m\n\u001b[0;32m    650\u001b[0m dim, mean, cov \u001b[39m=\u001b[39m \u001b[39mself\u001b[39m\u001b[39m.\u001b[39m_process_parameters(\u001b[39mNone\u001b[39;00m, mean, cov)\n\u001b[0;32m    652\u001b[0m random_state \u001b[39m=\u001b[39m \u001b[39mself\u001b[39m\u001b[39m.\u001b[39m_get_random_state(random_state)\n\u001b[1;32m--> 653\u001b[0m out \u001b[39m=\u001b[39m random_state\u001b[39m.\u001b[39;49mmultivariate_normal(mean, cov, size)\n\u001b[0;32m    654\u001b[0m \u001b[39mreturn\u001b[39;00m _squeeze_output(out)\n",
      "File \u001b[1;32mmtrand.pyx:4155\u001b[0m, in \u001b[0;36mnumpy.random.mtrand.RandomState.multivariate_normal\u001b[1;34m()\u001b[0m\n",
      "File \u001b[1;32m<__array_function__ internals>:180\u001b[0m, in \u001b[0;36msvd\u001b[1;34m(*args, **kwargs)\u001b[0m\n",
      "File \u001b[1;32mc:\\Users\\u1819911\\Anaconda3\\lib\\site-packages\\numpy\\linalg\\linalg.py:1657\u001b[0m, in \u001b[0;36msvd\u001b[1;34m(a, full_matrices, compute_uv, hermitian)\u001b[0m\n\u001b[0;32m   1654\u001b[0m         gufunc \u001b[39m=\u001b[39m _umath_linalg\u001b[39m.\u001b[39msvd_n_s\n\u001b[0;32m   1656\u001b[0m signature \u001b[39m=\u001b[39m \u001b[39m'\u001b[39m\u001b[39mD->DdD\u001b[39m\u001b[39m'\u001b[39m \u001b[39mif\u001b[39;00m isComplexType(t) \u001b[39melse\u001b[39;00m \u001b[39m'\u001b[39m\u001b[39md->ddd\u001b[39m\u001b[39m'\u001b[39m\n\u001b[1;32m-> 1657\u001b[0m u, s, vh \u001b[39m=\u001b[39m gufunc(a, signature\u001b[39m=\u001b[39;49msignature, extobj\u001b[39m=\u001b[39;49mextobj)\n\u001b[0;32m   1658\u001b[0m u \u001b[39m=\u001b[39m u\u001b[39m.\u001b[39mastype(result_t, copy\u001b[39m=\u001b[39m\u001b[39mFalse\u001b[39;00m)\n\u001b[0;32m   1659\u001b[0m s \u001b[39m=\u001b[39m s\u001b[39m.\u001b[39mastype(_realType(result_t), copy\u001b[39m=\u001b[39m\u001b[39mFalse\u001b[39;00m)\n",
      "\u001b[1;31mKeyboardInterrupt\u001b[0m: "
     ]
    }
   ],
   "source": [
    "# rvs for MC estimate\n",
    "rand_vars = scs.multivariate_normal.rvs(np.zeros(len(dist_mat)),np.eye(len(dist_mat)),size=100000)\n",
    "# length = size, each set is of length = #locs"
   ]
  },
  {
   "cell_type": "code",
   "execution_count": null,
   "metadata": {},
   "outputs": [],
   "source": [
    "# Covariance matrix\n",
    "covariance_matrix = np.nan_to_num(rbf(dist_mat,gamma=1/(2*0.1*0.1)),copy=False,nan=0)"
   ]
  },
  {
   "cell_type": "markdown",
   "metadata": {},
   "source": [
    "### use breaking down into blocks idea at the part with the cdf for dry days\n",
    "Discarded"
   ]
  },
  {
   "cell_type": "code",
   "execution_count": 4,
   "metadata": {},
   "outputs": [
    {
     "data": {
      "text/plain": [
       "[<matplotlib.lines.Line2D at 0x2b33e834850>]"
      ]
     },
     "execution_count": 4,
     "metadata": {},
     "output_type": "execute_result"
    },
    {
     "data": {
      "image/png": "[encoded data removed]",
      "text/plain": [
       "<Figure size 432x288 with 1 Axes>"
      ]
     },
     "metadata": {
      "needs_background": "light"
     },
     "output_type": "display_data"
    }
   ],
   "source": [
    "# This creates groups of indexes corresponding to correlated 'blocks' in the covariance/locations matrix\n",
    "a = np.where(covariance_matrix[:1500,:1500]>0.4)\n",
    "b = np.where([a[0]!=a[1]])\n",
    "#c = np.nonzero(b)\n",
    "c = [(a[0][i],a[1][i]) for i in b[1]]\n",
    "pairs = list(set([tuple(sorted(c_)) for c_ in c]))\n",
    "graph = nx.Graph()\n",
    "graph.add_edges_from([pairs[i] for i in range(len(pairs)) if abs(pairs[i][0]-pairs[i][1])<17])\n",
    "cor_blocks = []\n",
    "for connected_component in nx.connected_components(graph):\n",
    "    cor_blocks.append(list(connected_component))\n",
    "\n",
    "plt.plot([len(cor_blocks[i]) for i in range(len(cor_blocks))])"
   ]
  },
  {
   "cell_type": "markdown",
   "metadata": {},
   "source": [
    "### Test runs"
   ]
  },
  {
   "cell_type": "code",
   "execution_count": 6,
   "metadata": {},
   "outputs": [
    {
     "name": "stderr",
     "output_type": "stream",
     "text": [
      "100%|██████████| 10/10 [00:01<00:00,  5.36it/s]\n"
     ]
    },
    {
     "data": {
      "text/plain": [
       "-1703.1268917619561"
      ]
     },
     "execution_count": 6,
     "metadata": {},
     "output_type": "execute_result"
    }
   ],
   "source": [
    "# Basic scs nll\n",
    "truncgauss(L=dist_mat[:200,:200]).nll(theta=1/(2*0.1*0.1),Invcdf_Us=[inv_us[i][:200] for i in range(10)],truncation_pi=[g2_us[i][:200] for i in range(10)],did_rain=[did_rain_01[i][:200] for i in range(10)],len_locs=len(g2_us[0][:200]),rvs = rand_vars) \n"
   ]
  },
  {
   "cell_type": "code",
   "execution_count": 7,
   "metadata": {},
   "outputs": [
    {
     "name": "stderr",
     "output_type": "stream",
     "text": [
      "100%|██████████| 10/10 [00:32<00:00,  3.22s/it]\n"
     ]
    },
    {
     "data": {
      "text/plain": [
       "-1611.8778224278929"
      ]
     },
     "execution_count": 7,
     "metadata": {},
     "output_type": "execute_result"
    }
   ],
   "source": [
    "# MC nll\n",
    "truncgauss(L=dist_mat[:200,:200]).nll_mc(theta=1/(2*0.1*0.1),Invcdf_Us=[inv_us[i][:200] for i in range(10)],truncation_pi=[g2_us[i][:200] for i in range(10)],did_rain=[did_rain_01[i][:200] for i in range(10)],len_locs=len(g2_us[0][:200]),rvs = rand_vars) \n"
   ]
  },
  {
   "cell_type": "code",
   "execution_count": 8,
   "metadata": {},
   "outputs": [
    {
     "name": "stderr",
     "output_type": "stream",
     "text": [
      "100%|██████████| 10/10 [00:00<00:00, 24.79it/s]\n"
     ]
    },
    {
     "data": {
      "text/plain": [
       "-1703.126891762392"
      ]
     },
     "execution_count": 8,
     "metadata": {},
     "output_type": "execute_result"
    }
   ],
   "source": [
    "# New nll\n",
    "truncgauss(L=dist_mat[:200,:200]).nll_new(theta=1/(2*0.1*0.1),Invcdf_Us=[inv_us[i][:200] for i in range(10)],truncation_pi=[g2_us[i][:200] for i in range(10)],did_rain=[did_rain_01[i][:200] for i in range(10)],len_locs=len(g2_us[0][:200]),rvs = rand_vars) \n"
   ]
  },
  {
   "cell_type": "code",
   "execution_count": null,
   "metadata": {},
   "outputs": [],
   "source": [
    "basic_nll = []\n",
    "\n",
    "for i in range(20,50,100,300,500):\n",
    "    \n"
   ]
  },
  {
   "cell_type": "code",
   "execution_count": 206,
   "metadata": {},
   "outputs": [
    {
     "ename": "TypeError",
     "evalue": "nll_new() got an unexpected keyword argument 'days_list'",
     "output_type": "error",
     "traceback": [
      "\u001b[1;31m---------------------------------------------------------------------------\u001b[0m",
      "\u001b[1;31mTypeError\u001b[0m                                 Traceback (most recent call last)",
      "\u001b[1;32mc:\\Users\\u1819911\\Desktop\\Copula Work\\Copula code\\All UK model 1\\Truncated_copula.ipynb Cell 10\u001b[0m in \u001b[0;36m<cell line: 2>\u001b[1;34m()\u001b[0m\n\u001b[0;32m      <a href='vscode-notebook-cell:/c%3A/Users/u1819911/Desktop/Copula%20Work/Copula%20code/All%20UK%20model%201/Truncated_copula.ipynb#X11sZmlsZQ%3D%3D?line=0'>1</a>\u001b[0m \u001b[39m#nll on subsets of days\u001b[39;00m\n\u001b[1;32m----> <a href='vscode-notebook-cell:/c%3A/Users/u1819911/Desktop/Copula%20Work/Copula%20code/All%20UK%20model%201/Truncated_copula.ipynb#X11sZmlsZQ%3D%3D?line=1'>2</a>\u001b[0m truncgauss(L\u001b[39m=\u001b[39;49mdist_mat)\u001b[39m.\u001b[39;49mnll_new(days_list\u001b[39m=\u001b[39;49m\u001b[39mrange\u001b[39;49m(\u001b[39m50\u001b[39;49m),Invcdf_Us\u001b[39m=\u001b[39;49minv_us,truncation_pi\u001b[39m=\u001b[39;49mg2_us,did_rain\u001b[39m=\u001b[39;49mdid_rain_01,len_locs\u001b[39m=\u001b[39;49m\u001b[39mlen\u001b[39;49m(g2_us),rvs\u001b[39m=\u001b[39;49mrand_vars,cov_mat\u001b[39m=\u001b[39;49mcovariance_matrix)\n",
      "\u001b[1;31mTypeError\u001b[0m: nll_new() got an unexpected keyword argument 'days_list'"
     ]
    }
   ],
   "source": [
    "#nll on subsets of days\n",
    "#truncgauss(L=dist_mat).nll_sub_days(days_list=range(50),Invcdf_Us=inv_us,truncation_pi=g2_us,did_rain=did_rain_01,len_locs=len(g2_us),rvs=rand_vars,cov_mat=covariance_matrix)\n",
    "# locs:all , days:range(50) , theta:0.1 , time:1m30 + 25s , nll = -238511.6341627678"
   ]
  },
  {
   "cell_type": "code",
   "execution_count": 216,
   "metadata": {},
   "outputs": [
    {
     "name": "stderr",
     "output_type": "stream",
     "text": [
      "  0%|          | 0/20 [00:00<?, ?it/s]c:\\Users\\u1819911\\Anaconda3\\lib\\site-packages\\scipy\\sparse\\linalg\\dsolve\\linsolve.py:318: SparseEfficiencyWarning: splu requires CSC matrix format\n",
      "  warn('splu requires CSC matrix format', SparseEfficiencyWarning)\n",
      "c:\\Users\\u1819911\\Anaconda3\\lib\\site-packages\\scipy\\sparse\\linalg\\dsolve\\linsolve.py:215: SparseEfficiencyWarning: spsolve is more efficient when sparse b is in the CSC matrix format\n",
      "  warn('spsolve is more efficient when sparse b '\n",
      "  0%|          | 0/20 [00:04<?, ?it/s]\n"
     ]
    },
    {
     "ename": "KeyboardInterrupt",
     "evalue": "",
     "output_type": "error",
     "traceback": [
      "\u001b[1;31m---------------------------------------------------------------------------\u001b[0m",
      "\u001b[1;31mKeyboardInterrupt\u001b[0m                         Traceback (most recent call last)",
      "\u001b[1;32mc:\\Users\\u1819911\\Desktop\\Copula Work\\Copula code\\All UK model 1\\Truncated_copula.ipynb Cell 12\u001b[0m in \u001b[0;36m<cell line: 1>\u001b[1;34m()\u001b[0m\n\u001b[1;32m----> <a href='vscode-notebook-cell:/c%3A/Users/u1819911/Desktop/Copula%20Work/Copula%20code/All%20UK%20model%201/Truncated_copula.ipynb#X12sZmlsZQ%3D%3D?line=0'>1</a>\u001b[0m nll_sub_days(days_list\u001b[39m=\u001b[39;49m\u001b[39mrange\u001b[39;49m(\u001b[39m200\u001b[39;49m,\u001b[39m220\u001b[39;49m),Invcdf_Us\u001b[39m=\u001b[39;49minv_us,truncation_pi\u001b[39m=\u001b[39;49mg2_us,did_rain\u001b[39m=\u001b[39;49mdid_rain_01,len_locs\u001b[39m=\u001b[39;49m\u001b[39mlen\u001b[39;49m(g2_us),rvs\u001b[39m=\u001b[39;49mrand_vars,cov_mat\u001b[39m=\u001b[39;49mcovariance_matrix)\n",
      "\u001b[1;32mc:\\Users\\u1819911\\Desktop\\Copula Work\\Copula code\\All UK model 1\\Truncated_copula.ipynb Cell 12\u001b[0m in \u001b[0;36mnll_sub_days\u001b[1;34m(days_list, Invcdf_Us, truncation_pi, did_rain, len_locs, rvs, cov_mat)\u001b[0m\n\u001b[0;32m    <a href='vscode-notebook-cell:/c%3A/Users/u1819911/Desktop/Copula%20Work/Copula%20code/All%20UK%20model%201/Truncated_copula.ipynb#X12sZmlsZQ%3D%3D?line=234'>235</a>\u001b[0m             sub_cov \u001b[39m=\u001b[39m (submat11\u001b[39m-\u001b[39msubmat12\u001b[39m*\u001b[39mscipy\u001b[39m.\u001b[39msparse\u001b[39m.\u001b[39mlinalg\u001b[39m.\u001b[39minv(submat22)[\u001b[39m0\u001b[39m]\u001b[39m*\u001b[39msubmat21)\u001b[39m.\u001b[39mtodense()\n\u001b[0;32m    <a href='vscode-notebook-cell:/c%3A/Users/u1819911/Desktop/Copula%20Work/Copula%20code/All%20UK%20model%201/Truncated_copula.ipynb#X12sZmlsZQ%3D%3D?line=235'>236</a>\u001b[0m         \u001b[39m# Do MC approximation to cdf\u001b[39;00m\n\u001b[1;32m--> <a href='vscode-notebook-cell:/c%3A/Users/u1819911/Desktop/Copula%20Work/Copula%20code/All%20UK%20model%201/Truncated_copula.ipynb#X12sZmlsZQ%3D%3D?line=236'>237</a>\u001b[0m         nll \u001b[39m+\u001b[39m\u001b[39m=\u001b[39m np\u001b[39m.\u001b[39mlog(mc_cdf([rvs[i][:\u001b[39mlen\u001b[39;49m(c_dry)] \u001b[39mfor\u001b[39;49;00m i \u001b[39min\u001b[39;49;00m \u001b[39mrange\u001b[39;49m(\u001b[39mlen\u001b[39;49m(rvs))],sub_cov,[inv_us[day][k] \u001b[39mfor\u001b[39;49;00m k \u001b[39min\u001b[39;49;00m c_dry]))\n\u001b[0;32m    <a href='vscode-notebook-cell:/c%3A/Users/u1819911/Desktop/Copula%20Work/Copula%20code/All%20UK%20model%201/Truncated_copula.ipynb#X12sZmlsZQ%3D%3D?line=238'>239</a>\u001b[0m         \u001b[39m#### MC estimate part - end ####\u001b[39;00m\n\u001b[0;32m    <a href='vscode-notebook-cell:/c%3A/Users/u1819911/Desktop/Copula%20Work/Copula%20code/All%20UK%20model%201/Truncated_copula.ipynb#X12sZmlsZQ%3D%3D?line=239'>240</a>\u001b[0m \n\u001b[0;32m    <a href='vscode-notebook-cell:/c%3A/Users/u1819911/Desktop/Copula%20Work/Copula%20code/All%20UK%20model%201/Truncated_copula.ipynb#X12sZmlsZQ%3D%3D?line=240'>241</a>\u001b[0m \n\u001b[1;32m   (...)\u001b[0m\n\u001b[0;32m    <a href='vscode-notebook-cell:/c%3A/Users/u1819911/Desktop/Copula%20Work/Copula%20code/All%20UK%20model%201/Truncated_copula.ipynb#X12sZmlsZQ%3D%3D?line=246'>247</a>\u001b[0m \n\u001b[0;32m    <a href='vscode-notebook-cell:/c%3A/Users/u1819911/Desktop/Copula%20Work/Copula%20code/All%20UK%20model%201/Truncated_copula.ipynb#X12sZmlsZQ%3D%3D?line=247'>248</a>\u001b[0m \u001b[39m# denominator: multiplication of marginals - pdf for positive rain, cdf for truncated\u001b[39;00m\n\u001b[0;32m    <a href='vscode-notebook-cell:/c%3A/Users/u1819911/Desktop/Copula%20Work/Copula%20code/All%20UK%20model%201/Truncated_copula.ipynb#X12sZmlsZQ%3D%3D?line=248'>249</a>\u001b[0m \u001b[39mfor\u001b[39;00m loc \u001b[39min\u001b[39;00m \u001b[39mrange\u001b[39m(\u001b[39mlen\u001b[39m(Invcdf_Us[\u001b[39m0\u001b[39m])):\n",
      "\u001b[1;32mc:\\Users\\u1819911\\Desktop\\Copula Work\\Copula code\\All UK model 1\\Truncated_copula.ipynb Cell 12\u001b[0m in \u001b[0;36mmc_cdf\u001b[1;34m(rvs, cov_matrix, ppf_us)\u001b[0m\n\u001b[0;32m     <a href='vscode-notebook-cell:/c%3A/Users/u1819911/Desktop/Copula%20Work/Copula%20code/All%20UK%20model%201/Truncated_copula.ipynb#X12sZmlsZQ%3D%3D?line=12'>13</a>\u001b[0m \u001b[39m# rvs are mean 0 already, but need different covariance\u001b[39;00m\n\u001b[0;32m     <a href='vscode-notebook-cell:/c%3A/Users/u1819911/Desktop/Copula%20Work/Copula%20code/All%20UK%20model%201/Truncated_copula.ipynb#X12sZmlsZQ%3D%3D?line=13'>14</a>\u001b[0m cholesk_mat \u001b[39m=\u001b[39m np\u001b[39m.\u001b[39mlinalg\u001b[39m.\u001b[39mcholesky(cov_matrix)\n\u001b[1;32m---> <a href='vscode-notebook-cell:/c%3A/Users/u1819911/Desktop/Copula%20Work/Copula%20code/All%20UK%20model%201/Truncated_copula.ipynb#X12sZmlsZQ%3D%3D?line=14'>15</a>\u001b[0m normcov_vars \u001b[39m=\u001b[39m [np\u001b[39m.\u001b[39masarray(cholesk_mat\u001b[39m@rvs\u001b[39m[i]) \u001b[39mfor\u001b[39;00m i \u001b[39min\u001b[39;00m \u001b[39mrange\u001b[39m(\u001b[39mlen\u001b[39m(rvs))]\n\u001b[0;32m     <a href='vscode-notebook-cell:/c%3A/Users/u1819911/Desktop/Copula%20Work/Copula%20code/All%20UK%20model%201/Truncated_copula.ipynb#X12sZmlsZQ%3D%3D?line=15'>16</a>\u001b[0m out \u001b[39m=\u001b[39m \u001b[39mmax\u001b[39m(\u001b[39m1e-13\u001b[39m,np\u001b[39m.\u001b[39msum([np\u001b[39m.\u001b[39msum([normcov_vars[m][n]\u001b[39m<\u001b[39mppf_us[n] \u001b[39mfor\u001b[39;00m n \u001b[39min\u001b[39;00m \u001b[39mrange\u001b[39m(\u001b[39mlen\u001b[39m(ppf_us))])\u001b[39m==\u001b[39m\u001b[39mlen\u001b[39m(ppf_us) \u001b[39mfor\u001b[39;00m m \u001b[39min\u001b[39;00m \u001b[39mrange\u001b[39m(\u001b[39mlen\u001b[39m(normcov_vars))]))\n\u001b[0;32m     <a href='vscode-notebook-cell:/c%3A/Users/u1819911/Desktop/Copula%20Work/Copula%20code/All%20UK%20model%201/Truncated_copula.ipynb#X12sZmlsZQ%3D%3D?line=16'>17</a>\u001b[0m \u001b[39mreturn\u001b[39;00m out\u001b[39m/\u001b[39m\u001b[39mlen\u001b[39m(rvs)\n",
      "\u001b[1;32mc:\\Users\\u1819911\\Desktop\\Copula Work\\Copula code\\All UK model 1\\Truncated_copula.ipynb Cell 12\u001b[0m in \u001b[0;36m<listcomp>\u001b[1;34m(.0)\u001b[0m\n\u001b[0;32m     <a href='vscode-notebook-cell:/c%3A/Users/u1819911/Desktop/Copula%20Work/Copula%20code/All%20UK%20model%201/Truncated_copula.ipynb#X12sZmlsZQ%3D%3D?line=12'>13</a>\u001b[0m \u001b[39m# rvs are mean 0 already, but need different covariance\u001b[39;00m\n\u001b[0;32m     <a href='vscode-notebook-cell:/c%3A/Users/u1819911/Desktop/Copula%20Work/Copula%20code/All%20UK%20model%201/Truncated_copula.ipynb#X12sZmlsZQ%3D%3D?line=13'>14</a>\u001b[0m cholesk_mat \u001b[39m=\u001b[39m np\u001b[39m.\u001b[39mlinalg\u001b[39m.\u001b[39mcholesky(cov_matrix)\n\u001b[1;32m---> <a href='vscode-notebook-cell:/c%3A/Users/u1819911/Desktop/Copula%20Work/Copula%20code/All%20UK%20model%201/Truncated_copula.ipynb#X12sZmlsZQ%3D%3D?line=14'>15</a>\u001b[0m normcov_vars \u001b[39m=\u001b[39m [np\u001b[39m.\u001b[39masarray(cholesk_mat\u001b[39m@rvs\u001b[39;49m[i]) \u001b[39mfor\u001b[39;00m i \u001b[39min\u001b[39;00m \u001b[39mrange\u001b[39m(\u001b[39mlen\u001b[39m(rvs))]\n\u001b[0;32m     <a href='vscode-notebook-cell:/c%3A/Users/u1819911/Desktop/Copula%20Work/Copula%20code/All%20UK%20model%201/Truncated_copula.ipynb#X12sZmlsZQ%3D%3D?line=15'>16</a>\u001b[0m out \u001b[39m=\u001b[39m \u001b[39mmax\u001b[39m(\u001b[39m1e-13\u001b[39m,np\u001b[39m.\u001b[39msum([np\u001b[39m.\u001b[39msum([normcov_vars[m][n]\u001b[39m<\u001b[39mppf_us[n] \u001b[39mfor\u001b[39;00m n \u001b[39min\u001b[39;00m \u001b[39mrange\u001b[39m(\u001b[39mlen\u001b[39m(ppf_us))])\u001b[39m==\u001b[39m\u001b[39mlen\u001b[39m(ppf_us) \u001b[39mfor\u001b[39;00m m \u001b[39min\u001b[39;00m \u001b[39mrange\u001b[39m(\u001b[39mlen\u001b[39m(normcov_vars))]))\n\u001b[0;32m     <a href='vscode-notebook-cell:/c%3A/Users/u1819911/Desktop/Copula%20Work/Copula%20code/All%20UK%20model%201/Truncated_copula.ipynb#X12sZmlsZQ%3D%3D?line=16'>17</a>\u001b[0m \u001b[39mreturn\u001b[39;00m out\u001b[39m/\u001b[39m\u001b[39mlen\u001b[39m(rvs)\n",
      "File \u001b[1;32mc:\\Users\\u1819911\\Anaconda3\\lib\\site-packages\\numpy\\matrixlib\\defmatrix.py:167\u001b[0m, in \u001b[0;36mmatrix.__array_finalize__\u001b[1;34m(self, obj)\u001b[0m\n\u001b[0;32m    162\u001b[0m     ret \u001b[39m=\u001b[39m N\u001b[39m.\u001b[39mndarray\u001b[39m.\u001b[39m\u001b[39m__new__\u001b[39m(subtype, shape, arr\u001b[39m.\u001b[39mdtype,\n\u001b[0;32m    163\u001b[0m                             buffer\u001b[39m=\u001b[39marr,\n\u001b[0;32m    164\u001b[0m                             order\u001b[39m=\u001b[39morder)\n\u001b[0;32m    165\u001b[0m     \u001b[39mreturn\u001b[39;00m ret\n\u001b[1;32m--> 167\u001b[0m \u001b[39mdef\u001b[39;00m \u001b[39m__array_finalize__\u001b[39m(\u001b[39mself\u001b[39m, obj):\n\u001b[0;32m    168\u001b[0m     \u001b[39mself\u001b[39m\u001b[39m.\u001b[39m_getitem \u001b[39m=\u001b[39m \u001b[39mFalse\u001b[39;00m\n\u001b[0;32m    169\u001b[0m     \u001b[39mif\u001b[39;00m (\u001b[39misinstance\u001b[39m(obj, matrix) \u001b[39mand\u001b[39;00m obj\u001b[39m.\u001b[39m_getitem): \u001b[39mreturn\u001b[39;00m\n",
      "\u001b[1;31mKeyboardInterrupt\u001b[0m: "
     ]
    }
   ],
   "source": [
    "nll_sub_days(days_list=range(200,220),Invcdf_Us=inv_us,truncation_pi=g2_us,did_rain=did_rain_01,len_locs=len(g2_us),rvs=rand_vars,cov_mat=covariance_matrix)      "
   ]
  },
  {
   "cell_type": "markdown",
   "metadata": {},
   "source": [
    "### Trying mp\n",
    "not working rn"
   ]
  },
  {
   "cell_type": "code",
   "execution_count": 4,
   "metadata": {},
   "outputs": [],
   "source": [
    "def my_func(days_list):\n",
    "    return "
   ]
  },
  {
   "cell_type": "code",
   "execution_count": 5,
   "metadata": {},
   "outputs": [
    {
     "data": {
      "text/plain": [
       "368.5072831123312"
      ]
     },
     "execution_count": 5,
     "metadata": {},
     "output_type": "execute_result"
    }
   ],
   "source": [
    "my_func(range(800))"
   ]
  },
  {
   "cell_type": "code",
   "execution_count": 6,
   "metadata": {},
   "outputs": [],
   "source": [
    "def parallel_nll(theta):\n",
    "    \n",
    "    # Kernel\n",
    "    cov_mat = covariance_matrix\n",
    "    print('cov_mat')\n",
    "    # parallel likelihood\n",
    "    size = math.ceil(300/psutil.cpu_count())\n",
    "    days_chuncks = [[i for i in range(300)][x:x+size] for x in range(0,300, size)]\n",
    "    #list_nll = Parallel(n_jobs=psutil.cpu_count())(delayed(nll_sub_days)(chunck,inv_us,g2_us,did_rain_01,len(g2_us),rand_vars,cov_mat) for chunck in tqdm(days_chuncks))\n",
    "    #list_nll = Parallel(n_jobs=psutil.cpu_count())(delayed(my_func)(chunck) for chunck in tqdm(days_chuncks))\n",
    "\n",
    "    #return list_nll\n",
    "    return [size, len(days_chuncks[0])]\n",
    "\n",
    "\n"
   ]
  },
  {
   "cell_type": "code",
   "execution_count": 7,
   "metadata": {},
   "outputs": [
    {
     "name": "stdout",
     "output_type": "stream",
     "text": [
      "cov_mat\n"
     ]
    },
    {
     "data": {
      "text/plain": [
       "[38, 38]"
      ]
     },
     "execution_count": 7,
     "metadata": {},
     "output_type": "execute_result"
    }
   ],
   "source": [
    "parallel_nll(0.1)   "
   ]
  },
  {
   "cell_type": "markdown",
   "metadata": {},
   "source": [
    "### Trying other MP"
   ]
  },
  {
   "cell_type": "code",
   "execution_count": 11,
   "metadata": {},
   "outputs": [],
   "source": [
    "def task(item):\n",
    "    return item\n",
    "\n",
    "for i in range(5):\n",
    "    task(i)"
   ]
  },
  {
   "cell_type": "code",
   "execution_count": null,
   "metadata": {},
   "outputs": [],
   "source": [
    "with multiprocessing.Pool() as pool:\n",
    "    pool.map(task,range(16))"
   ]
  },
  {
   "cell_type": "markdown",
   "metadata": {},
   "source": [
    "### Fast CDF computation"
   ]
  },
  {
   "cell_type": "code",
   "execution_count": 3,
   "metadata": {},
   "outputs": [
    {
     "data": {
      "text/plain": [
       "\"\\nA = np.load('dist_mat.txt', allow_pickle=True)\\nprint(A.shape)\\nCov_matrix = rbf_kernel(A, gamma=1)\\nm = Cov_matrix.shape[0]\\na = [-np.inf for x in range(m)]\\nb = [3.5 for x in range(m)]\\n\\nprint(mvn_cdf(a,b,Cov_matrix))\\n\""
      ]
     },
     "execution_count": 3,
     "metadata": {},
     "output_type": "execute_result"
    }
   ],
   "source": [
    "def mvn_cdf(a,b,Sigma):\n",
    "    m = len(a)\n",
    "    # Reorder Sigma, a and b according to the length of interval (higher earlier)\n",
    "    len_interval = np.zeros(m)\n",
    "    for ind in range(m):\n",
    "        if a[ind] == -np.inf:\n",
    "            a[ind] = -100000\n",
    "        if b[ind] == np.inf:\n",
    "            b[ind] = 100000\n",
    "        len_interval[ind] = b[ind] - a[ind]\n",
    "    order_len_interval = [int(i[0]) for i in sorted(enumerate(len_interval), key=lambda x:x[1], reverse=True)]\n",
    "    Sigma = Sigma[order_len_interval, :][:,order_len_interval]\n",
    "    a = [a[x] for x in order_len_interval]\n",
    "    b = [b[x] for x in order_len_interval]\n",
    "\n",
    "\n",
    "    d = np.zeros(shape=(m,))\n",
    "    e = np.ones(shape=(m,))\n",
    "    f = np.zeros(shape=(m,))\n",
    "    y = np.zeros(shape=(m,))\n",
    "    # these can be changed for different precision levels\n",
    "    epsilon = 1.e-5\n",
    "    alpha = 2.5\n",
    "    N_max = int(1.e4)\n",
    "\n",
    "    # Compute Cholesky decomposition of Sigma to produce lower trinagualr matrix\n",
    "    C = np.linalg.cholesky(Sigma)\n",
    "\n",
    "    #Sigma_sparse = sparse.csc_matrix(Sigma)\n",
    "    #C_sparse = cholmod.cholesky(Sigma_sparse).L()\n",
    "    #C = C_sparse\n",
    "\n",
    "    Intsum, N, Varsum = 0, 0, 0\n",
    "\n",
    "    if a[0] != -np.inf:\n",
    "        d[0] = scs.norm.cdf(a[0]/C[0,0])\n",
    "    if b[0] != np.inf:\n",
    "        e[0] = scs.norm.cdf(b[0]/C[0,0])\n",
    "    f[0] = e[0] - d[0]\n",
    "\n",
    "    for ind_N in range(N_max):\n",
    "        w = np.random.rand(m)\n",
    "        for ind_m in range(1,m):\n",
    "            y[ind_m-1] = scs.norm.ppf(d[ind_m-1]+w[ind_m-1]*(e[ind_m-1]-d[ind_m-1]))\n",
    "            if a[ind_m] != -np.inf:\n",
    "                d[ind_m] = scs.norm.cdf((a[ind_m]-sum(C[ind_m, :ind_m]*y[:ind_m]))/C[ind_m,ind_m])\n",
    "            if b[ind_m] != np.inf:\n",
    "                e[ind_m] = scs.norm.cdf((b[ind_m]-sum(C[ind_m, :ind_m]*y[:ind_m]))/C[ind_m,ind_m])\n",
    "            f[ind_m] = (e[ind_m] - d[ind_m])*f[ind_m-1]\n",
    "        N = N+1\n",
    "        delta = (f[-1]-Intsum)/N\n",
    "        Intsum = Intsum + delta\n",
    "        Varsum = (N-2)*Varsum/N + pow(delta, 2)\n",
    "        Error = alpha*np.sqrt(Varsum)\n",
    "        if Error < epsilon:\n",
    "            break\n",
    "\n",
    "    return(Intsum)\n",
    "\n",
    "# Sigma = np.array([[1, 3/5, 1/3],[3/5, 1, 11/15],[1/3,11/15,1]])\n",
    "# a = [-np.inf, -np.inf, -np.inf]\n",
    "# b = [1, 4, 2]\n",
    "#\n",
    "# print(mvn_cdf(a,b,Sigma))\n",
    "'''\n",
    "A = np.load('dist_mat.txt', allow_pickle=True)\n",
    "print(A.shape)\n",
    "Cov_matrix = rbf_kernel(A, gamma=1)\n",
    "m = Cov_matrix.shape[0]\n",
    "a = [-np.inf for x in range(m)]\n",
    "b = [3.5 for x in range(m)]\n",
    "\n",
    "print(mvn_cdf(a,b,Cov_matrix))\n",
    "'''"
   ]
  },
  {
   "cell_type": "markdown",
   "metadata": {},
   "source": [
    "### Comparing 3 different integration methods"
   ]
  },
  {
   "cell_type": "code",
   "execution_count": 75,
   "metadata": {},
   "outputs": [
    {
     "name": "stderr",
     "output_type": "stream",
     "text": [
      "100%|██████████| 100/100 [01:32<00:00,  1.08it/s]\n"
     ]
    }
   ],
   "source": [
    "# 3 dimensional setup\n",
    "Sigma = np.array([[1, 3/5, 1/3],[3/5, 1, 11/15],[1/3,11/15,1]])\n",
    "a = [-np.inf, -np.inf, -np.inf]\n",
    "b = [1, 4, 2]\n",
    "\n",
    "#new_cdf = [[] for i in range(100)]\n",
    "mc_est = [[] for i in range(100)]\n",
    "#scs_cdf = [[] for i in range(100)]\n",
    "for i in tqdm(range(100)):\n",
    "    #start = datetime.now()\n",
    "    #new_cdf[i].append(mvn_cdf(a,b,Sigma)[:1])\n",
    "    #new_cdf[i].append((datetime.now()-start).total_seconds())\n",
    "    start = datetime.now()\n",
    "    rand_vars = scs.multivariate_normal.rvs(np.zeros(3),np.eye(3),size=100000)\n",
    "    mc_est[i].append(mc_cdf(rand_vars,Sigma,[1,4,2]))\n",
    "    mc_est[i].append((datetime.now()-start).total_seconds())\n",
    "# + measure time in their functions to add it to the vectors"
   ]
  },
  {
   "cell_type": "code",
   "execution_count": 80,
   "metadata": {},
   "outputs": [
    {
     "data": {
      "image/png": "[encoded data removed]",
      "text/plain": [
       "<Figure size 432x288 with 1 Axes>"
      ]
     },
     "metadata": {
      "needs_background": "light"
     },
     "output_type": "display_data"
    },
    {
     "data": {
      "text/plain": [
       "<matplotlib.legend.Legend at 0x2240fb41c40>"
      ]
     },
     "execution_count": 80,
     "metadata": {},
     "output_type": "execute_result"
    },
    {
     "data": {
      "image/png": "[encoded data removed]",
      "text/plain": [
       "<Figure size 432x288 with 1 Axes>"
      ]
     },
     "metadata": {
      "needs_background": "light"
     },
     "output_type": "display_data"
    }
   ],
   "source": [
    "plt.plot([0.82798 for i in range(100)],color='black')\n",
    "plt.plot([new_cdf[i][0] for i in range(100)],color='red',alpha=0.6)\n",
    "plt.plot([mc_est[i][0] for i in range(100)],color='blue',alpha=0.6)\n",
    "plt.plot([0.8279848479194519 for i in range(100)],alpha=0.1)\n",
    "plt.ylim((0.81,0.85))\n",
    "plt.legend([str('true level 0.82798'),str('new cdf 1000 iter 1e-3 prec'),str('mc_cdf with 100K rvs'),str('scipy multinorm cdf: 0.82798')])\n",
    "plt.show()\n",
    "plt.plot([new_cdf[i][1] for i in range(100)],color='red')\n",
    "plt.plot([mc_est[i][1] for i in range(100)],color='blue')\n",
    "plt.legend(['time for new cdf 1000 iter 1e-3 prec','time for mc 100K rvs'])"
   ]
  },
  {
   "cell_type": "code",
   "execution_count": 6,
   "metadata": {},
   "outputs": [
    {
     "data": {
      "text/plain": [
       "'\\nnew_cdf1000 = [[] for i in range(1000)]\\nmc_est1000 = [[] for i in range(1000)]\\n#scs_cdf = [[] for i in range(100)]\\nfor i in tqdm(range(1000)):\\n    start = datetime.now()\\n    new_cdf1000[i].append(mvn_cdf(a,b,covariance_matrix)[:1])\\n    new_cdf1000[i].append((datetime.now()-start).total_seconds())\\n    rand_vars = scs.multivariate_normal.rvs(np.zeros(1000),covariance_matrix,size=100000)\\n    start = datetime.now()\\n    mc_est1000[i].append(mc_cdf(rand_vars,covariance_matrix,b))\\n    mc_est1000[i].append((datetime.now()-start).total_seconds())\\n'"
      ]
     },
     "execution_count": 6,
     "metadata": {},
     "output_type": "execute_result"
    }
   ],
   "source": [
    "# setup for application with cov_mat\n",
    "# 3 dimensional setup\n",
    "covariance_matrix = np.nan_to_num(rbf(dist_mat[:1000,:1000],gamma=1/(2*0.8*0.8)),copy=False,nan=0)\n",
    "a = [-np.inf for i in range(1000)]\n",
    "b = inv_us[3][:1000]\n",
    "\n",
    "new_cdf1000 = [[] for i in range(1000)]\n",
    "mc_est1000 = [[] for i in range(1000)]\n",
    "#scs_cdf = [[] for i in range(100)]\n",
    "for i in tqdm(range(1000)):\n",
    "    start = datetime.now()\n",
    "    new_cdf1000[i].append(mvn_cdf(a,b,covariance_matrix)[:1])\n",
    "    new_cdf1000[i].append((datetime.now()-start).total_seconds())\n",
    "    rand_vars = scs.multivariate_normal.rvs(np.zeros(1000),covariance_matrix,size=100000)\n",
    "    start = datetime.now()\n",
    "    mc_est1000[i].append(mc_cdf(rand_vars,covariance_matrix,b))\n",
    "    mc_est1000[i].append((datetime.now()-start).total_seconds())\n"
   ]
  },
  {
   "cell_type": "markdown",
   "metadata": {},
   "source": [
    "#### For big chunks of data, new cdf is -instant and mc takes 30+s"
   ]
  },
  {
   "cell_type": "markdown",
   "metadata": {},
   "source": [
    "### TODO\n",
    " - compare mvn_cdf vs MC vs scs.multivariate_norm.cdf\n",
    " - run nll with mvn_cdf\n",
    " - then, parallelise and do mle"
   ]
  },
  {
   "cell_type": "markdown",
   "metadata": {},
   "source": []
  }
 ],
 "metadata": {
  "kernelspec": {
   "display_name": "Python 3.9.12 ('base')",
   "language": "python",
   "name": "python3"
  },
  "language_info": {
   "codemirror_mode": {
    "name": "ipython",
    "version": 3
   },
   "file_extension": ".py",
   "mimetype": "text/x-python",
   "name": "python",
   "nbconvert_exporter": "python",
   "pygments_lexer": "ipython3",
   "version": "3.9.12"
  },
  "orig_nbformat": 4,
  "vscode": {
   "interpreter": {
    "hash": "ab60c10c504ddb966051b34fe3c8284e278512e8f8393189136f471cdd0fd1b8"
   }
  }
 },
 "nbformat": 4,
 "nbformat_minor": 2
}
