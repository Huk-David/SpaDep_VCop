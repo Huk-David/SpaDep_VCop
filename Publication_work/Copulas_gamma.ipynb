{
 "cells": [
  {
   "cell_type": "markdown",
   "metadata": {},
   "source": [
    "### Working with copulas"
   ]
  },
  {
   "cell_type": "markdown",
   "metadata": {},
   "source": [
    "We make a list of Us as follows:\n",
    " - For each location, we start with 16 observations corresponding to 16 sublocations. We treat these as seperate locations for the rest of this work.\n",
    " - The list of Us will be of length 2002 [day]. Each of these 2002 elements will be an array of length 4727 [Us] corresponding to the Us of each location for the day."
   ]
  },
  {
   "cell_type": "code",
   "execution_count": 4,
   "metadata": {},
   "outputs": [],
   "source": [
    "# packages\n",
    "%matplotlib inline\n",
    "from scipy.optimize import dual_annealing\n",
    "import numpy as np\n",
    "import scipy.stats as scs\n",
    "from matplotlib import pyplot as plt\n",
    "from sklearn.gaussian_process.kernels import Matern\n",
    "from collections import Counter\n",
    "from mpl_toolkits.basemap import Basemap\n",
    "from geopy.geocoders import Nominatim\n",
    "from tqdm import tqdm\n",
    "from datetime import datetime\n",
    "import itertools\n",
    "from itertools import permutations\n",
    "from scipy.spatial import distance_matrix\n",
    "import matplotlib\n",
    "import matplotlib.colors as mcolors\n",
    "from sklearn import metrics\n",
    "import pickle\n",
    "from sklearn.gaussian_process.kernels import RBF\n",
    "from math import sqrt\n",
    "from joblib import Parallel, delayed\n",
    "import psutil\n",
    "import math\n",
    "import scipy\n",
    "from scipy.sparse import csr_matrix\n",
    "from scipy.sparse import csc_matrix\n",
    "from scipy.sparse import coo_matrix\n",
    "import scipy.sparse\n",
    "sys.path.append('../')\n",
    "from parallel.backends import BackendMPI as Backend"
   ]
  },
  {
   "cell_type": "code",
   "execution_count": 62,
   "metadata": {},
   "outputs": [
    {
     "name": "stdout",
     "output_type": "stream",
     "text": [
      "['Checkpoints/uk_rain_DGLM_HConvLSTM_tdscale_gamma_hurdle/lightning_logs/version_7/', 'Checkpoints/uk_rain_DGLM_HConvLSTM_tdscale_gamma_hurdle/lightning_logs/version_7/checkpoints/epoch=12-step=25572-val_loss_loss=-0.391-val_metric_mse_rain=21.531.ckpt']\n"
     ]
    },
    {
     "name": "stderr",
     "output_type": "stream",
     "text": [
      "c:\\Users\\u1819911\\Anaconda3\\lib\\site-packages\\sklearn\\base.py:329: UserWarning: Trying to unpickle estimator StandardScaler from version 0.23.2 when using version 1.0.2. This might lead to breaking code or invalid results. Use at your own risk. For more info please refer to:\n",
      "https://scikit-learn.org/stable/modules/model_persistence.html#security-maintainability-limitations\n",
      "  warnings.warn(\n",
      "c:\\Users\\u1819911\\Anaconda3\\lib\\site-packages\\sklearn\\base.py:329: UserWarning: Trying to unpickle estimator MinMaxScaler from version 0.23.2 when using version 1.0.2. This might lead to breaking code or invalid results. Use at your own risk. For more info please refer to:\n",
      "https://scikit-learn.org/stable/modules/model_persistence.html#security-maintainability-limitations\n",
      "  warnings.warn(\n"
     ]
    }
   ],
   "source": [
    "### load gamma\n",
    "model_version = 7\n",
    "target_distribution = \"gamma_hurdle\"\n",
    "base_nn = \"HConvLSTM_tdscale\" #(Keep this fixed)\n",
    "\n",
    "# Run this to get the prediction data in a variable named city_data\n",
    "# Getting data\n",
    "sys.path.append('../')\n",
    "import glms\n",
    "import pickle\n",
    "import torch\n",
    "\n",
    "path_ = f\"Checkpoints/uk_rain_DGLM_{base_nn}_{target_distribution}/lightning_logs/version_{model_version}/\"\n",
    "ckpt_path = glms.NeuralDGLM.get_ckpt_path(os.path.join(path_,\"checkpoints\"))\n",
    "print([path_,ckpt_path])\n",
    "scaler_features, scaler_target = glms.NeuralDGLM.load_scalers(path_)\n",
    "model = glms.NeuralDGLM.load_from_checkpoint(ckpt_path, save_hparams=False, scaler_features=scaler_features, scaler_target=scaler_target)\n",
    "model.freeze()\n",
    "model.eval()\n",
    "\n",
    "test_output = pickle.load( open(os.path.join(path_,\"test_output_2014_2019-07.pkl\"),\"rb\") )\n",
    "#########\n",
    "\n",
    "# create list of locations\n",
    "loc_lat_lon = list(test_output.keys())\n",
    "output_keys = ['pred_mu', 'pred_disp', 'target_did_rain', 'target_rain_value', 'date', 'pred_p']\n",
    "\n",
    "#'lat_50.95_49.35_lon_-4.55_-2.95' has no data after week indexed 255, so I did not consider it.\n",
    "loc_lat_lon.remove('lat_50.95_49.35_lon_-4.55_-2.95')\n",
    "#  'pred_mu', 'pred_disp', 'target_did_rain', 'target_rain_value', 'date', 'pred_p'\n",
    "\n",
    "# formatting data\n",
    "gamma_outputs = [[[],[],[],[],[],[]] for places in range(len(loc_lat_lon))] \n",
    "for location_idx in range(len(loc_lat_lon)):\n",
    "    gamma_outputs[location_idx].append([float(loc_lat_lon[location_idx].split('_')[i]) for i in [1,2,4,5]])\n",
    "    gamma_outputs[location_idx].append(test_output[loc_lat_lon[location_idx]]['mask'][0][0])\n",
    "    for output_idx in range(6):\n",
    "        for week in range(286):\n",
    "            for day in range(7):\n",
    "                #check for date, as date is formatted differently from the rest.\n",
    "                if output_idx==4:\n",
    "                    if day==0:\n",
    "                        gamma_outputs[location_idx][output_idx].append(np.array(test_output[loc_lat_lon[location_idx]][output_keys[output_idx]][week],dtype='datetime64[D]'))\n",
    "                    else:\n",
    "                        gamma_outputs[location_idx][output_idx].append('')                   \n",
    "                else:\n",
    "                    gamma_outputs[location_idx][output_idx].append(test_output[loc_lat_lon[location_idx]][output_keys[output_idx]][week][day])\n",
    "# Loading data for Us\n",
    "with open('g_us.txt','rb') as f:\n",
    "    g_us = pickle.load(f)"
   ]
  },
  {
   "cell_type": "code",
   "execution_count": 68,
   "metadata": {},
   "outputs": [
    {
     "data": {
      "text/plain": [
       "4087"
      ]
     },
     "execution_count": 68,
     "metadata": {},
     "output_type": "execute_result"
    }
   ],
   "source": [
    "np.sum(is_loc_land)"
   ]
  },
  {
   "cell_type": "code",
   "execution_count": 63,
   "metadata": {},
   "outputs": [],
   "source": [
    "# create list of idexes corresponding to land locations\n",
    "is_loc_land = [] # boolean vector indicating for each location if it is land\n",
    "                 #[0,1,...,0] length=#locations\n",
    "                 # if it is not land, that location is getting skipped in gamma_outputs\n",
    "                 # WILL NEED TO TAKE THIS INTO ACCOUNT ONCE I PLOT THE MAP\n",
    "for loc in loc_lat_lon:\n",
    "    for week in range(1):\n",
    "        for day in range(1):\n",
    "            for row in range(4):\n",
    "                for column in range(4):\n",
    "                    if test_output[loc]['mask'][week][day][row][column]==1:\n",
    "                        is_loc_land.append(1)\n",
    "                    else:\n",
    "                        is_loc_land.append(0)\n",
    "\n",
    "idx_land = []                       \n",
    "for idx,b in enumerate(is_loc_land):\n",
    "    if b==1:\n",
    "        idx_land.append(idx)"
   ]
  },
  {
   "cell_type": "code",
   "execution_count": 64,
   "metadata": {},
   "outputs": [],
   "source": [
    "#correct any code-approximation related errors\n",
    "for day in range(len(g_us)):\n",
    "    for location in range(len(g_us[0])):\n",
    "        if g_us[day][location]==0:\n",
    "            g_us[day][location]=0.0001\n",
    "        if g_us[day][location]==1:\n",
    "            g_us[day][location]=0.999\n",
    "        g_us[day][location]=abs(g_us[day][location])"
   ]
  },
  {
   "cell_type": "code",
   "execution_count": 8,
   "metadata": {},
   "outputs": [],
   "source": [
    "# Copula classes\n",
    "\n",
    "# Gaussian\n",
    "# This class is with sigma fixed at 1 - This is what is used for the rest of this notebook\n",
    "class norm_cop_loconly():\n",
    "\n",
    "    def __init__(self,L=np.array([[0,1,1],[1,0,1],[1,1,0]])):\n",
    "        '''\n",
    "        L is location matrix: n x n\n",
    "        '''\n",
    "        self.N=L.shape[0]\n",
    "        self.L=L\n",
    "\n",
    "    def sim(self,theta,draws=3,as_x=False):\n",
    "        '''\n",
    "        Returns: [ [m [draws of length n] for day t+1],..., [m [draws of length n] for day t+T_(depending on prediction matricies X_all)] ]\n",
    "        So to get the samples from day t+1: sim[1-1]\n",
    "        To get k th draw from samples at day t+T: sim[T-1][k-1]\n",
    "        To get u for 3rd location of kth drw for day T: sim[T-1][k-1][3-1]'''\n",
    "        cov_mat=Matern(length_scale=theta[0],nu=theta[1]).__call__(self.L)\n",
    "        #sigma should be in theta ##############################\n",
    "\n",
    "        if as_x==True:\n",
    "            return [scs.multivariate_normal.rvs(mean=np.zeros(self.N),cov=cov_mat) for i in range(draws) ] \n",
    "        if as_x==False:\n",
    "            Us=[np.zeros(self.N) for i in range(draws)] \n",
    "            for i in range(draws):\n",
    "                Us[i]=[scs.multivariate_normal.cdf(y,mean=0,cov=cov_mat[idx,idx]) for idx,y in enumerate(scs.multivariate_normal.rvs(mean=np.zeros(self.N),cov=cov_mat))]\n",
    "            return Us\n",
    "\n",
    "    \n",
    "    def nll(self,theta,data):\n",
    "        '''\n",
    "        theta: [sigma,p0,v0,p1,v1] vector of parameters for the Matern Kernel\n",
    "        data: [[u1,..,un],...,[...]] one set of (n: one for each location) us for each day 1 to T (T is the number of predictor matricies).\n",
    "        '''\n",
    "        nll=0\n",
    "        cov_mat=Matern(length_scale=theta[0],nu=theta[1]).__call__(self.L) \n",
    "        #sigma should be in theta ##############################\n",
    "\n",
    "        for day in range(len(data)):\n",
    "            #nll for the copula density: joint and marginals\n",
    "            nll+=scs.multivariate_normal.logpdf([scs.norm.ppf(obs,loc=0,scale=cov_mat[idx,idx]) for idx,obs in enumerate(data[day])],mean=np.zeros(self.N),cov=cov_mat) \n",
    "            nll+=-np.sum([scs.norm.logpdf(obs,loc=0,scale=cov_mat[idx,idx]) for idx,obs in enumerate(data[day])])\n",
    "        return -nll\n",
    "\n",
    "# Clayton\n",
    "class Clayton():\n",
    "    def __init__(self,n=2):\n",
    "        '''\n",
    "        Class to fit and work with a Clayton copula, using two functions.\n",
    "        sim: simulated [0,1] values using this copula density.\n",
    "        eval_nll: evaluate the negative log likelihood based on given data.\n",
    "        To use the class, the dimension of the data is needed.\n",
    "        n: dimension of data\n",
    "        '''\n",
    "        self.n=n # dimension\n",
    "\n",
    "    def sim(draws=10,theta=1):\n",
    "        '''\n",
    "        Simulates m draws from the Clayton copula density\n",
    "        '''\n",
    "        # not sure how yet.\n",
    "\n",
    "    def eval_nll(self,theta=10,data=[[0.4,0.6],[0.001,0.01],[0.1,0.1],[0.8,0.9],[0.1,0.0001],[0.3,0.1]]):\n",
    "        '''\n",
    "        theta: the parameter of the Clayton copula in [0,inf).\n",
    "        \n",
    "        data: [[u1_(k=1) ,..., un_(k=1)] ,..., [u1_(k=k) ,..., un(k=k)]] one set of (n of them: one for each location) us for each day 1 to T.\n",
    "        '''\n",
    "        # Compute the pdf by looping over each day, and adding the nll for that day to the result. \n",
    "\n",
    "        #### second atempt\n",
    "        nll=0\n",
    "        n=self.n\n",
    "\n",
    "        for day_data in data:\n",
    "            nll += n*(1+theta) + (n+(1/theta)) * np.log(1-n + np.sum(np.power(day_data,-theta)))\n",
    "            nll += -np.sum([np.log(u) + np.log(j*theta +1) for j,u in enumerate(day_data)])\n",
    "        \n",
    "        return nll\n",
    "\n",
    "# Bardossy2011+rain_occurence copula\n",
    "\n",
    "# def parallelised nll: global function called during parrallel jobs. \n",
    "\n",
    "def parallel_nll(chunck, Us_didrain_Usbin, norm_us, cov_mat, cov_mat2):\n",
    "    nll = 0\n",
    "    didrain = Us_didrain_Usbin[1]\n",
    "    Us_b = Us_didrain_Usbin[2]\n",
    "    for day in chunck:# contribution of the Zs - normal copula for occurence of rain\n",
    "        nll+=scs.multivariate_normal.logpdf([scs.norm.ppf(obs,loc=0,scale=1) for obs in Us_b[day]],mean=np.zeros(len(Us_b[0])),cov=cov_mat2) \n",
    "        nll+=-np.sum([scs.norm.logpdf(scs.norm.ppf(obs,loc=0,scale=1),loc=0,scale=1) for obs in Us_b[day]])\n",
    "        \n",
    "        for pair in itertools.combinations(range(13),2):#main contribution - bardossy copula for rain\n",
    "            if didrain[day][pair[0]]+didrain[day][pair[1]]==0: #I1\n",
    "                nll += scs.multivariate_normal.logpdf([norm_us[day][pair[0]],norm_us[day][pair[1]]],mean=np.zeros(2),cov=np.matrix([[1, cov_mat[pair[0]][pair[1]]], [cov_mat[pair[0]][pair[1]], 1]]))\n",
    "            if didrain[day][pair[0]]+didrain[day][pair[1]]==1: #I2 - have [1or0]*ll + [0or1]*ll to add the correct amount, depending on where it rained.\n",
    "                nll += (didrain[day][pair[1]])*scs.norm.logpdf((norm_us[day][pair[0]]-norm_us[day][pair[1]]*cov_mat[pair[0]][pair[1]])/(sqrt(1-np.power(cov_mat[pair[0]][pair[1]],2)))) + (1-didrain[day][pair[1]])*scs.norm.logpdf((norm_us[day][pair[1]]-norm_us[day][pair[0]]*cov_mat[pair[0]][pair[1]])/(sqrt(1-np.power(cov_mat[pair[0]][pair[1]],2)))) \n",
    "                nll += (didrain[day][pair[1]])*scs.norm.logpdf(norm_us[day][pair[1]]) + (1-didrain[day][pair[1]])*scs.norm.logpdf(norm_us[day][pair[0]])\n",
    "            if didrain[day][pair[0]]+didrain[day][pair[1]]==0: #I3\n",
    "                nll += scs.multivariate_normal.logcdf([norm_us[day][pair[0]],norm_us[day][pair[1]]],mean=np.zeros(2),cov=np.matrix([[1, cov_mat[pair[0]][pair[1]]], [cov_mat[pair[0]][pair[1]], 1]]))\n",
    "    return nll\n",
    "\n",
    "class cop_bardossy():\n",
    "\n",
    "    def __init__(self,L=np.array([[0,1,1],[1,0,1],[1,1,0]])):\n",
    "        '''\n",
    "        L is location matrix: n x n\n",
    "        '''\n",
    "        self.L=L\n",
    "    \n",
    "    def nll(self,theta,Us_didrain_Usbin): #not parrallelised\n",
    "        '''\n",
    "        theta: [sigma,p0,v0,p1,v1] vector of parameters for the Matern Kernel\n",
    "        Us: [[u1,..,un],...,[...]] one set of (n: one for each location) us for each day 1 to T (T is the number of predictor matricies).\n",
    "        didrain: 0/1 values in the same structure as Us, indicators of rain (1=rain).\n",
    "        '''\n",
    "        nll = 0\n",
    "        Us = Us_didrain_Usbin[0]\n",
    "        didrain = Us_didrain_Usbin[1]\n",
    "        Us_b = Us_didrain_Usbin[2]\n",
    "        theta1,theta2 = theta[0],theta[1]\n",
    "        # transform Us into invNorms\n",
    "        norm_us = [[] for i in range(len(Us)) ]\n",
    "        for day in range(len(Us)):\n",
    "            norm_us[day]=[scs.norm.ppf(u) for u in Us[day]]\n",
    "            \n",
    "        # kernels\n",
    "        cov_mat=np.nan_to_num(RBF(length_scale=theta1).__call__(self.L),copy=False,nan=0)\n",
    "        cov_mat2=np.nan_to_num(RBF(length_scale=theta2).__call__(self.L),copy=False,nan=0)\n",
    "\n",
    "        #loglikelihood\n",
    "\n",
    "        for day in range(len(Us)):# contribution of the Zs - normal copula for occurence of rain\n",
    "            nll+=scs.multivariate_normal.logpdf([scs.norm.ppf(obs,loc=0,scale=1) for obs in Us_b[day]],mean=np.zeros(len(Us_b[0])),cov=cov_mat2) \n",
    "            nll+=-np.sum([scs.norm.logpdf(scs.norm.ppf(obs,loc=0,scale=1),loc=0,scale=1) for obs in Us_b[day]])\n",
    "            for pair in itertools.combinations(range(13),2):#main contribution - bardossy copula for rain\n",
    "                if didrain[day][pair[0]]+didrain[day][pair[1]]==0: #I1\n",
    "                    nll += scs.multivariate_normal.logpdf([norm_us[day][pair[0]],norm_us[day][pair[1]]],mean=np.zeros(2),cov=np.matrix([[1, cov_mat[pair[0]][pair[1]]], [cov_mat[pair[0]][pair[1]], 1]]))\n",
    "                if didrain[day][pair[0]]+didrain[day][pair[1]]==1: #I2 - have [1or0]*ll + [0or1]*ll to add the correct amount, depending on where it rained.\n",
    "                    nll += (didrain[day][pair[1]])*scs.norm.logpdf((norm_us[day][pair[0]]-norm_us[day][pair[1]]*cov_mat[pair[0]][pair[1]])/(sqrt(1-np.power(cov_mat[pair[0]][pair[1]],2)))) + (1-didrain[day][pair[1]])*scs.norm.logpdf((norm_us[day][pair[1]]-norm_us[day][pair[0]]*cov_mat[pair[0]][pair[1]])/(sqrt(1-np.power(cov_mat[pair[0]][pair[1]],2)))) \n",
    "                    nll += (didrain[day][pair[1]])*scs.norm.logpdf(norm_us[day][pair[1]]) + (1-didrain[day][pair[1]])*scs.norm.logpdf(norm_us[day][pair[0]])\n",
    "                if didrain[day][pair[0]]+didrain[day][pair[1]]==0: #I3\n",
    "                    nll += scs.multivariate_normal.logcdf([norm_us[day][pair[0]],norm_us[day][pair[1]]],mean=np.zeros(2),cov=np.matrix([[1, cov_mat[pair[0]][pair[1]]], [cov_mat[pair[0]][pair[1]], 1]]))\n",
    "        return -nll\n",
    "\n",
    "    def p_nll(self,theta,Us_didrain_Usbin): # parallelised\n",
    "        '''\n",
    "        theta: [sigma,p0,v0,p1,v1] vector of parameters for the Matern Kernel\n",
    "        Us: [[u1,..,un],...,[...]] one set of (n: one for each location) us for each day 1 to T (T is the number of predictor matricies).\n",
    "        didrain: 0/1 values in the same structure as Us, indicators of rain (1=rain).\n",
    "        '''\n",
    "        theta1,theta2 = theta[0],theta[1]\n",
    "        Us = Us_didrain_Usbin[0]\n",
    "        # transform Us into invNorms\n",
    "        norm_us = [[] for i in range(len(Us)) ]\n",
    "        for day in range(len(Us)):\n",
    "            norm_us[day]=[scs.norm.ppf(u) for u in Us[day]]\n",
    "            \n",
    "        # kernels\n",
    "        cov_mat=np.nan_to_num(RBF(length_scale=theta1).__call__(self.L),copy=False,nan=0)\n",
    "        cov_mat2=np.nan_to_num(RBF(length_scale=theta2).__call__(self.L),copy=False,nan=0)\n",
    "\n",
    "        #loglikelihood\n",
    "        size = math.ceil(len(Us)/psutil.cpu_count())\n",
    "        days_chuncks = [[i for i in range(len(Us))][x:x+size] for x in range(0,len(Us), size)]\n",
    "        list_nll = Parallel(n_jobs=psutil.cpu_count())(delayed(parallel_nll)(chunck, Us_didrain_Usbin, norm_us, cov_mat, cov_mat2) for chunck in days_chuncks)\n",
    "        \n",
    "        return -np.sum(list_nll)"
   ]
  },
  {
   "cell_type": "code",
   "execution_count": 70,
   "metadata": {},
   "outputs": [],
   "source": [
    "# distance matrix for kernel\n",
    "\n",
    "#first create correct set of coordinates for eavch of the 4272 locations:\n",
    "\n",
    "loc_coordinates_4272 = [] # matrix of length 4272 [ [lat1,lon1] , [lat2,lon2] , ... , [lat4272,lon4272] ]\n",
    "for loc in range(344):\n",
    "    for row in range(4):\n",
    "        for col in range(4):\n",
    "            if gamma_outputs[loc][7][row][col]==1: #check if land location\n",
    "                x = [gamma_outputs[loc][6][0],gamma_outputs[loc][6][2]] # coordinates of topleft of big square, eg. [57.75, -5.75]\n",
    "                # rectify the 16by16 square into a 4by4\n",
    "                x[0] = x[0]-0.6\n",
    "                x[1] = x[1]+0.6\n",
    "                # finally, select the correct entry out of the 16 in the 4by4. [lat,lon]\n",
    "                loc_coordinates_4272.append([round(x[0]+row*0.1,2) ,round(x[1]+col*0.1,2)])\n",
    "\n",
    "#Now, can compute distance matrix:\n",
    "dist_mat = distance_matrix(loc_coordinates_4272,loc_coordinates_4272)"
   ]
  },
  {
   "cell_type": "code",
   "execution_count": 72,
   "metadata": {},
   "outputs": [
    {
     "data": {
      "text/plain": [
       "<matplotlib.collections.PathCollection at 0x2a187a9a8b0>"
      ]
     },
     "execution_count": 72,
     "metadata": {},
     "output_type": "execute_result"
    },
    {
     "data": {
      "image/png": "[encoded data removed]",
      "text/plain": [
       "<Figure size 432x288 with 1 Axes>"
      ]
     },
     "metadata": {
      "needs_background": "light"
     },
     "output_type": "display_data"
    }
   ],
   "source": [
    "plt.scatter([loc_coordinates_4272[i][1] for i in range(3098)],[loc_coordinates_4272[i][0] for i in range(3098)],s=1)"
   ]
  },
  {
   "cell_type": "markdown",
   "metadata": {},
   "source": [
    "### Normal copula"
   ]
  },
  {
   "cell_type": "code",
   "execution_count": 9,
   "metadata": {},
   "outputs": [
    {
     "data": {
      "text/plain": [
       "20498762.83935404"
      ]
     },
     "execution_count": 9,
     "metadata": {},
     "output_type": "execute_result"
    }
   ],
   "source": [
    "norm_cop_loconly(L=dist_mat[48:80,48:80]).nll(theta=[3,3],data=[g_us[i][48:80] for i in range(2002)])"
   ]
  },
  {
   "cell_type": "markdown",
   "metadata": {},
   "source": [
    "### Clayton"
   ]
  },
  {
   "cell_type": "code",
   "execution_count": null,
   "metadata": {},
   "outputs": [
    {
     "data": {
      "text/plain": [
       "77788.18569187525"
      ]
     },
     "execution_count": 57,
     "metadata": {},
     "output_type": "execute_result"
    }
   ],
   "source": [
    "Clayton(n=16).eval_nll(theta=3,data=[g_us[i][48:80] for i in range(2002)]) # takes 22s"
   ]
  },
  {
   "cell_type": "code",
   "execution_count": null,
   "metadata": {},
   "outputs": [],
   "source": [
    "# fval: 14326075.26123136 theta: 0.00806025 time: 1h\n",
    "#dual_annealing(Clayton(n=4272).eval_nll,bounds=[[0.00000001,10]],args=[g_us],maxiter=1000)\n",
    "# first 16: 0.45316421"
   ]
  },
  {
   "cell_type": "markdown",
   "metadata": {},
   "source": [
    "### Bardossy 2011 copula"
   ]
  },
  {
   "cell_type": "code",
   "execution_count": 7,
   "metadata": {},
   "outputs": [],
   "source": [
    "# load censored us and z_i #1m\n",
    "\n",
    "# 0 'pred_mu', 1'pred_disp', 2'target_did_rain', 3'target_rain_value', 4'date', 5'pred_p', 6'location'.\n",
    "#[place][parameter][day][row][column]\n",
    "#0:i,1:location,2:pred_mu,3:pred_disp,4:pred_p,5:target_rain_value,6:dates\n",
    " #no need to run this part as it's saved with pickle\n",
    "'''censored_us = [[] for i in range(2002)]\n",
    "g_zs = [[] for i in range(2002)]\n",
    "\n",
    "for day in tqdm(range(2002)):\n",
    "    for location in range(267):\n",
    "        for row in range(4):\n",
    "            for column in range(4):\n",
    "                censored_us[day].append(gamma_outputs[location][2][day][row][column])   \n",
    "                g_zs[day].append(np.power(1-gamma_outputs[location][5][day][row][column],1-gamma_outputs[location][2][day][row][column]))   \n",
    "for day in tqdm(range(2002)):\n",
    "    for location in range(len(g_zs[day])):\n",
    "        if g_zs[day][location]>0.999:\n",
    "            g_zs[day][location] = 0.9999\n",
    "        g_zs[day][location] = abs(g_zs[day][location]) '''\n",
    "\n",
    "'''with open('censored_us.txt','wb') as f:\n",
    "    pickle.dump(censored_us,f)\n",
    "with open('g_zs.txt','wb') as f:\n",
    "    pickle.dump(g_zs,f)'''\n",
    "#just load\n",
    "with open('censored_us.txt','rb') as f:\n",
    "    did_rain_01 = pickle.load(f)\n",
    "with open('g_zs.txt','rb') as f:\n",
    "    g_zs = pickle.load(f)"
   ]
  },
  {
   "cell_type": "code",
   "execution_count": 14,
   "metadata": {},
   "outputs": [
    {
     "ename": "KeyboardInterrupt",
     "evalue": "",
     "output_type": "error",
     "traceback": [
      "\u001b[1;31m---------------------------------------------------------------------------\u001b[0m",
      "\u001b[1;31mKeyboardInterrupt\u001b[0m                         Traceback (most recent call last)",
      "\u001b[1;32mc:\\Users\\david\\Desktop\\PhD research\\M Dissertation work\\SpaDep_VCop\\Copula Code\\All UK model 1\\Copulas_gamma.ipynb Cell 17\u001b[0m in \u001b[0;36m<cell line: 1>\u001b[1;34m()\u001b[0m\n\u001b[1;32m----> <a href='vscode-notebook-cell:/c%3A/Users/david/Desktop/PhD%20research/M%20Dissertation%20work/SpaDep_VCop/Copula%20Code/All%20UK%20model%201/Copulas_gamma.ipynb#X22sZmlsZQ%3D%3D?line=0'>1</a>\u001b[0m cop_bardossy(L\u001b[39m=\u001b[39mdist_mat[\u001b[39m48\u001b[39m:\u001b[39m80\u001b[39m,\u001b[39m48\u001b[39m:\u001b[39m80\u001b[39m])\u001b[39m.\u001b[39mnll([\u001b[39m0.45\u001b[39m,\u001b[39m0.24\u001b[39m],[[g_us[i][\u001b[39m48\u001b[39m:\u001b[39m80\u001b[39m]\u001b[39mfor\u001b[39;00m i \u001b[39min\u001b[39;00m \u001b[39mrange\u001b[39m(\u001b[39m300\u001b[39m)],[censored_us[i][\u001b[39m48\u001b[39m:\u001b[39m80\u001b[39m]\u001b[39mfor\u001b[39;00m i \u001b[39min\u001b[39;00m \u001b[39mrange\u001b[39m(\u001b[39m300\u001b[39m)],[g_zs[i][\u001b[39m48\u001b[39m:\u001b[39m80\u001b[39m]\u001b[39mfor\u001b[39;00m i \u001b[39min\u001b[39;00m \u001b[39mrange\u001b[39m(\u001b[39m300\u001b[39m)]])\n",
      "\u001b[1;32mc:\\Users\\david\\Desktop\\PhD research\\M Dissertation work\\SpaDep_VCop\\Copula Code\\All UK model 1\\Copulas_gamma.ipynb Cell 17\u001b[0m in \u001b[0;36mcop_bardossy.nll\u001b[1;34m(self, theta, Us_didrain_Usbin)\u001b[0m\n\u001b[0;32m    <a href='vscode-notebook-cell:/c%3A/Users/david/Desktop/PhD%20research/M%20Dissertation%20work/SpaDep_VCop/Copula%20Code/All%20UK%20model%201/Copulas_gamma.ipynb#X22sZmlsZQ%3D%3D?line=132'>133</a>\u001b[0m \u001b[39m#loglikelihood\u001b[39;00m\n\u001b[0;32m    <a href='vscode-notebook-cell:/c%3A/Users/david/Desktop/PhD%20research/M%20Dissertation%20work/SpaDep_VCop/Copula%20Code/All%20UK%20model%201/Copulas_gamma.ipynb#X22sZmlsZQ%3D%3D?line=134'>135</a>\u001b[0m \u001b[39mfor\u001b[39;00m day \u001b[39min\u001b[39;00m \u001b[39mrange\u001b[39m(\u001b[39mlen\u001b[39m(Us)):\u001b[39m# contribution of the Zs - normal copula for occurence of rain\u001b[39;00m\n\u001b[1;32m--> <a href='vscode-notebook-cell:/c%3A/Users/david/Desktop/PhD%20research/M%20Dissertation%20work/SpaDep_VCop/Copula%20Code/All%20UK%20model%201/Copulas_gamma.ipynb#X22sZmlsZQ%3D%3D?line=135'>136</a>\u001b[0m     nll\u001b[39m+\u001b[39m\u001b[39m=\u001b[39mscs\u001b[39m.\u001b[39mmultivariate_normal\u001b[39m.\u001b[39mlogpdf([scs\u001b[39m.\u001b[39mnorm\u001b[39m.\u001b[39mppf(obs,loc\u001b[39m=\u001b[39m\u001b[39m0\u001b[39m,scale\u001b[39m=\u001b[39m\u001b[39m1\u001b[39m) \u001b[39mfor\u001b[39;00m obs \u001b[39min\u001b[39;00m Us_b[day]],mean\u001b[39m=\u001b[39mnp\u001b[39m.\u001b[39mzeros(\u001b[39mlen\u001b[39m(Us_b[\u001b[39m0\u001b[39m])),cov\u001b[39m=\u001b[39mcov_mat2) \n\u001b[0;32m    <a href='vscode-notebook-cell:/c%3A/Users/david/Desktop/PhD%20research/M%20Dissertation%20work/SpaDep_VCop/Copula%20Code/All%20UK%20model%201/Copulas_gamma.ipynb#X22sZmlsZQ%3D%3D?line=136'>137</a>\u001b[0m     nll\u001b[39m+\u001b[39m\u001b[39m=\u001b[39m\u001b[39m-\u001b[39mnp\u001b[39m.\u001b[39msum([scs\u001b[39m.\u001b[39mnorm\u001b[39m.\u001b[39mlogpdf(scs\u001b[39m.\u001b[39mnorm\u001b[39m.\u001b[39mppf(obs,loc\u001b[39m=\u001b[39m\u001b[39m0\u001b[39m,scale\u001b[39m=\u001b[39m\u001b[39m1\u001b[39m),loc\u001b[39m=\u001b[39m\u001b[39m0\u001b[39m,scale\u001b[39m=\u001b[39m\u001b[39m1\u001b[39m) \u001b[39mfor\u001b[39;00m obs \u001b[39min\u001b[39;00m Us_b[day]])\n\u001b[0;32m    <a href='vscode-notebook-cell:/c%3A/Users/david/Desktop/PhD%20research/M%20Dissertation%20work/SpaDep_VCop/Copula%20Code/All%20UK%20model%201/Copulas_gamma.ipynb#X22sZmlsZQ%3D%3D?line=137'>138</a>\u001b[0m     \u001b[39mfor\u001b[39;00m pair \u001b[39min\u001b[39;00m itertools\u001b[39m.\u001b[39mcombinations(\u001b[39mrange\u001b[39m(\u001b[39m13\u001b[39m),\u001b[39m2\u001b[39m):\u001b[39m#main contribution - bardossy copula for rain\u001b[39;00m\n",
      "\u001b[1;32mc:\\Users\\david\\Desktop\\PhD research\\M Dissertation work\\SpaDep_VCop\\Copula Code\\All UK model 1\\Copulas_gamma.ipynb Cell 17\u001b[0m in \u001b[0;36m<listcomp>\u001b[1;34m(.0)\u001b[0m\n\u001b[0;32m    <a href='vscode-notebook-cell:/c%3A/Users/david/Desktop/PhD%20research/M%20Dissertation%20work/SpaDep_VCop/Copula%20Code/All%20UK%20model%201/Copulas_gamma.ipynb#X22sZmlsZQ%3D%3D?line=132'>133</a>\u001b[0m \u001b[39m#loglikelihood\u001b[39;00m\n\u001b[0;32m    <a href='vscode-notebook-cell:/c%3A/Users/david/Desktop/PhD%20research/M%20Dissertation%20work/SpaDep_VCop/Copula%20Code/All%20UK%20model%201/Copulas_gamma.ipynb#X22sZmlsZQ%3D%3D?line=134'>135</a>\u001b[0m \u001b[39mfor\u001b[39;00m day \u001b[39min\u001b[39;00m \u001b[39mrange\u001b[39m(\u001b[39mlen\u001b[39m(Us)):\u001b[39m# contribution of the Zs - normal copula for occurence of rain\u001b[39;00m\n\u001b[1;32m--> <a href='vscode-notebook-cell:/c%3A/Users/david/Desktop/PhD%20research/M%20Dissertation%20work/SpaDep_VCop/Copula%20Code/All%20UK%20model%201/Copulas_gamma.ipynb#X22sZmlsZQ%3D%3D?line=135'>136</a>\u001b[0m     nll\u001b[39m+\u001b[39m\u001b[39m=\u001b[39mscs\u001b[39m.\u001b[39mmultivariate_normal\u001b[39m.\u001b[39mlogpdf([scs\u001b[39m.\u001b[39;49mnorm\u001b[39m.\u001b[39;49mppf(obs,loc\u001b[39m=\u001b[39;49m\u001b[39m0\u001b[39;49m,scale\u001b[39m=\u001b[39;49m\u001b[39m1\u001b[39;49m) \u001b[39mfor\u001b[39;00m obs \u001b[39min\u001b[39;00m Us_b[day]],mean\u001b[39m=\u001b[39mnp\u001b[39m.\u001b[39mzeros(\u001b[39mlen\u001b[39m(Us_b[\u001b[39m0\u001b[39m])),cov\u001b[39m=\u001b[39mcov_mat2) \n\u001b[0;32m    <a href='vscode-notebook-cell:/c%3A/Users/david/Desktop/PhD%20research/M%20Dissertation%20work/SpaDep_VCop/Copula%20Code/All%20UK%20model%201/Copulas_gamma.ipynb#X22sZmlsZQ%3D%3D?line=136'>137</a>\u001b[0m     nll\u001b[39m+\u001b[39m\u001b[39m=\u001b[39m\u001b[39m-\u001b[39mnp\u001b[39m.\u001b[39msum([scs\u001b[39m.\u001b[39mnorm\u001b[39m.\u001b[39mlogpdf(scs\u001b[39m.\u001b[39mnorm\u001b[39m.\u001b[39mppf(obs,loc\u001b[39m=\u001b[39m\u001b[39m0\u001b[39m,scale\u001b[39m=\u001b[39m\u001b[39m1\u001b[39m),loc\u001b[39m=\u001b[39m\u001b[39m0\u001b[39m,scale\u001b[39m=\u001b[39m\u001b[39m1\u001b[39m) \u001b[39mfor\u001b[39;00m obs \u001b[39min\u001b[39;00m Us_b[day]])\n\u001b[0;32m    <a href='vscode-notebook-cell:/c%3A/Users/david/Desktop/PhD%20research/M%20Dissertation%20work/SpaDep_VCop/Copula%20Code/All%20UK%20model%201/Copulas_gamma.ipynb#X22sZmlsZQ%3D%3D?line=137'>138</a>\u001b[0m     \u001b[39mfor\u001b[39;00m pair \u001b[39min\u001b[39;00m itertools\u001b[39m.\u001b[39mcombinations(\u001b[39mrange\u001b[39m(\u001b[39m13\u001b[39m),\u001b[39m2\u001b[39m):\u001b[39m#main contribution - bardossy copula for rain\u001b[39;00m\n",
      "File \u001b[1;32mc:\\Users\\david\\AppData\\Local\\Programs\\Python\\Python39\\lib\\site-packages\\scipy\\stats\\_distn_infrastructure.py:2136\u001b[0m, in \u001b[0;36mrv_continuous.ppf\u001b[1;34m(self, q, *args, **kwds)\u001b[0m\n\u001b[0;32m   2134\u001b[0m     goodargs \u001b[39m=\u001b[39m argsreduce(cond, \u001b[39m*\u001b[39m((q,)\u001b[39m+\u001b[39margs\u001b[39m+\u001b[39m(scale, loc)))\n\u001b[0;32m   2135\u001b[0m     scale, loc, goodargs \u001b[39m=\u001b[39m goodargs[\u001b[39m-\u001b[39m\u001b[39m2\u001b[39m], goodargs[\u001b[39m-\u001b[39m\u001b[39m1\u001b[39m], goodargs[:\u001b[39m-\u001b[39m\u001b[39m2\u001b[39m]\n\u001b[1;32m-> 2136\u001b[0m     place(output, cond, \u001b[39mself\u001b[39;49m\u001b[39m.\u001b[39;49m_ppf(\u001b[39m*\u001b[39;49mgoodargs) \u001b[39m*\u001b[39;49m scale \u001b[39m+\u001b[39m loc)\n\u001b[0;32m   2137\u001b[0m \u001b[39mif\u001b[39;00m output\u001b[39m.\u001b[39mndim \u001b[39m==\u001b[39m \u001b[39m0\u001b[39m:\n\u001b[0;32m   2138\u001b[0m     \u001b[39mreturn\u001b[39;00m output[()]\n",
      "\u001b[1;31mKeyboardInterrupt\u001b[0m: "
     ]
    }
   ],
   "source": [
    "cop_bardossy(L=dist_mat[48:80,48:80]).nll([0.45,0.24],[[g_us[i][48:80]for i in range(300)],[censored_us[i][48:80]for i in range(300)],[g_zs[i][48:80]for i in range(300)]]) #22s"
   ]
  },
  {
   "cell_type": "code",
   "execution_count": 15,
   "metadata": {},
   "outputs": [
    {
     "data": {
      "text/plain": [
       "306381.7809577087"
      ]
     },
     "execution_count": 15,
     "metadata": {},
     "output_type": "execute_result"
    }
   ],
   "source": [
    "cop_bardossy(L=dist_mat[48:80,48:80]).p_nll([0.1,0.1],[[g_us[i][48:80]for i in range(2002)],[censored_us[i][48:80]for i in range(2002)],[g_zs[i][48:80]for i in range(2002)]]) #22s"
   ]
  },
  {
   "cell_type": "code",
   "execution_count": 19,
   "metadata": {},
   "outputs": [
    {
     "data": {
      "text/plain": [
       "     fun: 112204.5414053855\n",
       " message: ['Maximum number of function call reached during annealing']\n",
       "    nfev: 400\n",
       "    nhev: 0\n",
       "     nit: 92\n",
       "    njev: 10\n",
       "  status: 0\n",
       " success: False\n",
       "       x: array([0.67495809, 0.35775013])"
      ]
     },
     "execution_count": 19,
     "metadata": {},
     "output_type": "execute_result"
    }
   ],
   "source": [
    "dual_annealing(cop_bardossy(L=dist_mat[48:80,48:80]).p_nll,bounds=[[0.5,10],[0.25,10]],args=[[[g_us[i][48:80]for i in range(2002)],[censored_us[i][48:80]for i in range(2002)],[g_zs[i][48:80]for i in range(2002)]]],maxfun=400)# 22/1maxfun\n",
    "#0.24580719, 0.49390414 , feval:1123 , 16 locs"
   ]
  },
  {
   "cell_type": "markdown",
   "metadata": {},
   "source": [
    "### Truncated Gaussian Copula\n",
    "\n",
    "The following are used below. They have the appropriate format for the MLE function, ie: 2002 rows of 4272 entries each, corresponding to 2002 days for 4272 location.\n",
    "\n",
    "g_us : Us from the GNM\\\n",
    "did_rain_01 : indicator for observed rain \\\n",
    "inv_us : normal ppf of Us"
   ]
  },
  {
   "cell_type": "code",
   "execution_count": 57,
   "metadata": {},
   "outputs": [],
   "source": [
    "# Load g_us, did_rain, inv_us + remove water locations \n",
    "#list[location][parameter][day]\n",
    "#  0'pred_mu', 1'pred_disp', 2'target_did_rain',3 'target_rain_value',4 'date', 5'pred_p'\n",
    "'''g2_us = [[] for i in range(2002)]\n",
    "for day in tqdm(range(2002)):\n",
    "    for loc in range(len(gamma_outputs)):\n",
    "        for row in range(4):\n",
    "            for column in range(4):\n",
    "                #rv = scs.gamma(scale=m*d,a=1/d) \n",
    "                if gamma_outputs[loc][2][day][row][column]==0: # dry -> 1-p\n",
    "                    g2_us[day].append(1-gamma_outputs[loc][5][day][row][column])\n",
    "                else: # wet -> 1-p + p*gamma\n",
    "                    g2_us[day].append((1-gamma_outputs[loc][5][day][row][column]) + ((gamma_outputs[loc][5][day][row][column])*scs.gamma(scale=gamma_outputs[loc][0][day][row][column]*gamma_outputs[loc][1][day][row][column],a=1/gamma_outputs[loc][1][day][row][column]).cdf(gamma_outputs[loc][3][day][row][column])))\n",
    "                \n",
    "with open('g2_us.txt','wb') as f:\n",
    "    pickle.dump(g2_us,f)\n",
    "\n",
    "inv_us = [[] for i in range(2002)]\n",
    "for day in tqdm(range(2002)):\n",
    "    for loc in range(len(g2_us[0])):\n",
    "        inv_us[day].append(scs.norm.ppf(g2_us[day][loc]))\n",
    "with open('inv_Us.txt','wb') as f:\n",
    "    pickle.dump(inv_us,f)\n",
    "\n",
    "did_rain_01 = [[] for i in range(2002)]\n",
    "for day in tqdm(range(2002)):\n",
    "    for loc in range(len(gamma_outputs)):\n",
    "        for row in range(4):\n",
    "            for column in range(4):\n",
    "                did_rain_01[day].append(gamma_outputs[loc][2][day][row][column])\n",
    "with open('did_rain_01.txt','wb') as f:\n",
    "    pickle.dump(did_rain_01,f)'''\n",
    "with open('inv_Us.txt','rb') as f:\n",
    "    inv_us = pickle.load(f)\n",
    "with open('did_rain_01.txt','rb') as f:\n",
    "    did_rain_01 = pickle.load(f)\n",
    "with open('g2_us.txt','rb') as f:\n",
    "    g2_us = pickle.load(f)\n",
    "\n",
    "g2_us = [[g2_us[i][k] for k in idx_land] for i in range(len(g2_us))]\n",
    "inv_us = [[inv_us[i][k] for k in idx_land] for i in range(len(inv_us))]\n",
    "did_rain_01 = [[did_rain_01[i][k] for k in idx_land] for i in range(len(did_rain_01))]"
   ]
  },
  {
   "cell_type": "markdown",
   "metadata": {},
   "source": [
    "### Need to remove data for water locations using idx_land"
   ]
  },
  {
   "cell_type": "code",
   "execution_count": 73,
   "metadata": {},
   "outputs": [],
   "source": [
    "# MC estimate - Correct and working\n",
    "def mc_cdf(rvs,cov_matrix,ppf_us):\n",
    "    '''\n",
    "    rvs: [[set1], ... , [set m]] each set of length = #locations = n.\n",
    "    cov_matrix: covariance matrix between the locations in question.\n",
    "    ppf_us: [u1, ... , un] length = # locs.\n",
    "    '''    \n",
    "    # rvs are mean 0 already, but need different covariance\n",
    "    cholesk_mat = np.linalg.cholesky(cov_matrix)\n",
    "    normcov_vars = [np.asarray(cholesk_mat@rvs[i])[0] for i in range(len(rvs))]\n",
    "    out = max(0.0001,np.sum([np.sum([normcov_vars[m][n]<ppf_us[n] for n in range(len(ppf_us))])==len(ppf_us) for m in range(len(normcov_vars))]))\n",
    "    return [out , out/len(rvs)]        \n",
    "    \n",
    "    \n",
    "#rand_vars = scs.multivariate_normal.rvs(np.zeros(len(submat11.todense())),np.eye(len(submat11.todense())),size=100000)"
   ]
  },
  {
   "cell_type": "code",
   "execution_count": 74,
   "metadata": {},
   "outputs": [],
   "source": [
    "# nll computation for one parallelised worker\n",
    "def parallel_nll(days_period,cov_mat,Invcdf_Us,truncation_pi,did_rain):\n",
    "\n",
    "    nll=0\n",
    "    for day in days_period: #eg [251,...,500]\n",
    "        # numerator: joint pdf integrated over truncation - equivalent to elegant normal cdf\n",
    "        # need to re-arrange the covariance matrix into 2*2 blocks based on censored/uncensored. \n",
    "        r_rain,c_rain,r_dry,c_dry = [],[],[],[]\n",
    "        for place_idx,place_didrain in enumerate(did_rain[day]):\n",
    "            if place_didrain==False:\n",
    "                r_dry.append([place_idx])\n",
    "                c_dry.append(place_idx)\n",
    "            else:\n",
    "                r_rain.append([place_idx])\n",
    "                c_rain.append(place_idx)\n",
    "        # create submatricies\n",
    "        submat11 = cov_mat[r_dry,c_dry]\n",
    "        submat12 = cov_mat[r_dry,c_rain]\n",
    "        submat21 = cov_mat[r_rain,c_dry]\n",
    "        submat22 = cov_mat[r_rain,c_rain]\n",
    "        # compute and add the elegant cdf\n",
    "        nll += scs.multivariate_normal.logcdf(x=[Invcdf_Us[day][k] for k in c_dry],mean=np.zeros(len(submat11)),cov=np.matmul(np.matmul(submat12,np.transpose(submat22)),submat21))\n",
    "        # denominator: multiplication of marginals - pdf for positive rain, cdf for truncated\n",
    "        for loc in range(len(Invcdf_Us[0])):\n",
    "            if did_rain[day][loc]==1:# wet: add pdf(invcdf(u_i))\n",
    "                nll -= scs.norm.logpdf(Invcdf_Us[day][loc],loc=0,scale=1)\n",
    "            else:# dry: add cdf(invcdf(pi))\n",
    "                nll -= np.log(truncation_pi[day][loc])\n",
    "    return nll\n",
    "# Truncated Gaussian copula class\n",
    "class truncgauss():\n",
    "    def __init__(self,L):\n",
    "        '''\n",
    "        Class to fit and work with a truncated Gaussian copula, using two functions.\n",
    "        sim: simulated [0,1] values using this copula density.\n",
    "        eval_nll: evaluate the negative log likelihood based on given data.\n",
    "        To use the class, the dimension of the data is needed.\n",
    "        n: dimension of data\n",
    "        '''\n",
    "        self.L=L\n",
    "    \n",
    "    def sim(self,theta,draws):\n",
    "        '''\n",
    "        Simulates m draws from the truncated gaussian copula conditional on parameters theta for the covariance kernel.\n",
    "        '''\n",
    "        #later\n",
    "\n",
    "    def eval_nll(self,theta,Invcdf_Us,truncation_pi,did_rain):\n",
    "        '''\n",
    "        theta: the parameters for the covariance kernel. For different kernel, change the function code.\n",
    "\n",
    "        Invcdf_Us: [[g1_(t=1) ,..., gn_(t=1)] ,..., [g1_(t=k) ,..., gn(t=k)]] one set of (n of them: one for each location) gs (standard normal variables ppf from us) for each day 1 to T.\n",
    "        \n",
    "        truncation_pi: vector in same format as Invcdf_Us, corresponding to probability of rain values for day t at locations 1 to n.\n",
    "        \n",
    "        did_rain: vector in same format as Invcdf_Us, indicator variable for positive rain indexed by time then location: d_r[time][loc].\n",
    "        '''\n",
    "        # For RBF kernel:\n",
    "        cov_mat = np.nan_to_num(RBF(length_scale=theta).__call__(self.L),copy=False,nan=0)\n",
    "        # For Matern:\n",
    "        #\n",
    "        # parallelising computation of nll\n",
    "        size = math.ceil(len(Invcdf_Us)/psutil.cpu_count())\n",
    "        days_chuncks = [[i for i in range(len(Invcdf_Us))][x:x+size] for x in range(0,len(Invcdf_Us), size)]\n",
    "        print(size,psutil.cpu_count(),len(days_chuncks))\n",
    "        list_nll = Parallel(n_jobs=psutil.cpu_count())(delayed(parallel_nll)(chunck,cov_mat,Invcdf_Us,truncation_pi,did_rain) for chunck in tqdm(days_chuncks))\n",
    "        \n",
    "        return -np.sum(list_nll)\n",
    "\n",
    "    def nll(self,theta,Invcdf_Us,truncation_pi,did_rain,len_locs):\n",
    "        cov_mat = np.nan_to_num(RBF(length_scale=theta).__call__(self.L),copy=False,nan=0)\n",
    "        nll=0\n",
    "        for day in tqdm(range(len(Invcdf_Us))): #eg [251,...,500]\n",
    "            \n",
    "            # numerator: joint pdf integrated over truncation - equivalent to elegant normal cdf in some cases. Check cases:\n",
    "            if np.sum(did_rain[day])==len(did_rain[day]): #all wet, just normal pdf\n",
    "                nll += scs.multivariate_normal.logpdf(x=Invcdf_Us[day],mean=np.zeros(len(Invcdf_Us[0])),cov=cov_mat)\n",
    "            else: # some dry -> use elegant cdf\n",
    "                #print('elegant'+str(np.sum(did_rain[day])))\n",
    "                if np.sum(did_rain[day])==0: # all dry -> use normal cdf\n",
    "                    nll += scs.multivariate_normal.logcdf(x=Invcdf_Us[day],mean=np.zeros(len(Invcdf_Us[0])),cov=cov_mat)\n",
    "\n",
    "                else:\n",
    "                    \n",
    "                    # need to re-arrange the covariance matrix into 2*2 blocks based on censored/uncensored. \n",
    "                    r_rain,c_rain = [[i] for i in np.nonzero(did_rain[day])[0]],[i for i in np.nonzero(did_rain[day])[0]]\n",
    "                    r_dry,c_dry = [[i] for i in range(len_locs) if i not in np.nonzero(did_rain[day])[0]],[i for i in range(len_locs) if i not in np.nonzero(did_rain[day])[0]]\n",
    "                    \n",
    "                    # create submatricies\n",
    "                    submat11 = coo_matrix(cov_mat[r_dry,c_dry])\n",
    "                    submat12 = csr_matrix(cov_mat[r_dry,c_rain])\n",
    "                    submat21 = csc_matrix(cov_mat[r_rain,c_dry])\n",
    "                    submat22 = coo_matrix(cov_mat[r_rain,c_rain])\n",
    "                    '''if day ==22:\n",
    "                        print(did_rain_01[day][:5])\n",
    "                        print(c_rain,c_dry)\n",
    "                        print(submat11.todense())\n",
    "                        print(submat12.todense())\n",
    "                        print(submat21.todense())\n",
    "                        print(submat22.todense())\n",
    "                        print((submat11-submat12@scipy.sparse.linalg.inv(submat22)@submat21).todense())'''\n",
    "                    # compute and add the elegant cdf\n",
    "                    if len(submat22.todense())==1:\n",
    "                        print(submat22.todense())\n",
    "                        nll += scs.multivariate_normal.logcdf(x=[Invcdf_Us[day][k] for k in c_dry],mean=np.zeros(len(submat11.todense())),cov=(submat11-submat12*scipy.sparse.linalg.inv(submat22)[0]*submat21).todense())\n",
    "                    else:\n",
    "                        nll += scs.multivariate_normal.logcdf(x=[Invcdf_Us[day][k] for k in c_dry],mean=np.zeros(len(submat11.todense())),cov=(submat11-submat12@scipy.sparse.linalg.inv(submat22)@submat21).todense())\n",
    "            \n",
    "            # denominator: multiplication of marginals - pdf for positive rain, cdf for truncated\n",
    "            for loc in range(len(Invcdf_Us[0])):\n",
    "                if did_rain[day][loc]==1:# wet: add pdf(invcdf(u_i))\n",
    "                    nll -= scs.norm.logpdf(Invcdf_Us[day][loc],loc=0,scale=1)\n",
    "                else:# dry: add cdf(invcdf(pi))\n",
    "                    nll -= np.log(truncation_pi[day][loc])\n",
    "            \n",
    "        return -nll"
   ]
  },
  {
   "cell_type": "code",
   "execution_count": 1,
   "metadata": {},
   "outputs": [
    {
     "ename": "NameError",
     "evalue": "name 'truncgauss' is not defined",
     "output_type": "error",
     "traceback": [
      "\u001b[1;31m---------------------------------------------------------------------------\u001b[0m",
      "\u001b[1;31mNameError\u001b[0m                                 Traceback (most recent call last)",
      "\u001b[1;32mc:\\Users\\u1819911\\Desktop\\Copula Work\\Copula code\\All UK model 1\\Copulas_gamma.ipynb Cell 26\u001b[0m in \u001b[0;36m<cell line: 1>\u001b[1;34m()\u001b[0m\n\u001b[1;32m----> <a href='vscode-notebook-cell:/c%3A/Users/u1819911/Desktop/Copula%20Work/Copula%20code/All%20UK%20model%201/Copulas_gamma.ipynb#X33sZmlsZQ%3D%3D?line=0'>1</a>\u001b[0m truncgauss(L\u001b[39m=\u001b[39mdist_mat[:\u001b[39m65\u001b[39m,:\u001b[39m65\u001b[39m])\u001b[39m.\u001b[39mnll(theta\u001b[39m=\u001b[39m\u001b[39m0.1\u001b[39m,Invcdf_Us\u001b[39m=\u001b[39m[inv_us[i][:\u001b[39m65\u001b[39m] \u001b[39mfor\u001b[39;00m i \u001b[39min\u001b[39;00m \u001b[39mrange\u001b[39m(\u001b[39m1234\u001b[39m)],truncation_pi\u001b[39m=\u001b[39m[g_us[i][:\u001b[39m65\u001b[39m] \u001b[39mfor\u001b[39;00m i \u001b[39min\u001b[39;00m \u001b[39mrange\u001b[39m(\u001b[39m1234\u001b[39m)],did_rain\u001b[39m=\u001b[39m[did_rain_01[i][:\u001b[39m65\u001b[39m] \u001b[39mfor\u001b[39;00m i \u001b[39min\u001b[39;00m \u001b[39mrange\u001b[39m(\u001b[39m1234\u001b[39m)],len_locs\u001b[39m=\u001b[39m\u001b[39mlen\u001b[39m(g2_us[\u001b[39m0\u001b[39m][:\u001b[39m65\u001b[39m]))\n",
      "\u001b[1;31mNameError\u001b[0m: name 'truncgauss' is not defined"
     ]
    }
   ],
   "source": [
    "truncgauss(L=dist_mat[:65,:65]).nll(theta=0.1,Invcdf_Us=[inv_us[i][:65] for i in range(1234)],truncation_pi=[g_us[i][:65] for i in range(1234)],did_rain=[did_rain_01[i][:65] for i in range(1234)],len_locs=len(g2_us[0][:65]))"
   ]
  },
  {
   "cell_type": "code",
   "execution_count": null,
   "metadata": {},
   "outputs": [],
   "source": [
    "mc_cdf(rand_vars,(submat11-submat12@scipy.sparse.linalg.inv(submat22)@submat21).todense(),[inv_us[60][k] for k in c_dry])[0]"
   ]
  },
  {
   "cell_type": "code",
   "execution_count": 119,
   "metadata": {},
   "outputs": [],
   "source": [
    "# trying sparse matricies - gives cdf=0 for squares larger than 500*500-ish -> logcdf=-inf and crashes for bigger dimensions\n",
    "# try mc approximation to the integral\n",
    "test3 = np.nan_to_num(RBF(length_scale=0.9).__call__(dist_mat),copy=False,nan=0)\n",
    "subset=np.random.choice(range(len(test3)),10,replace=False)\n",
    "r_rain,c_rain = [[i] for i in subset],[i for i in subset]\n",
    "r_dry,c_dry = [[i] for i in range(len(test3)) if i not in subset],[i for i in range(len(test3)) if i not in subset]\n",
    "submat11 = coo_matrix(test3[r_dry,c_dry])\n",
    "submat12 = csr_matrix(test3[r_dry,c_rain])\n",
    "submat21 = csc_matrix(test3[r_rain,c_dry])\n",
    "submat22 = coo_matrix(test3[r_rain,c_rain])"
   ]
  },
  {
   "cell_type": "code",
   "execution_count": 261,
   "metadata": {},
   "outputs": [
    {
     "name": "stderr",
     "output_type": "stream",
     "text": [
      "c:\\Users\\u1819911\\Anaconda3\\lib\\site-packages\\scipy\\sparse\\linalg\\dsolve\\linsolve.py:144: SparseEfficiencyWarning: spsolve requires A be CSC or CSR matrix format\n",
      "  warn('spsolve requires A be CSC or CSR matrix format',\n",
      "c:\\Users\\u1819911\\Anaconda3\\lib\\site-packages\\scipy\\sparse\\linalg\\dsolve\\linsolve.py:215: SparseEfficiencyWarning: spsolve is more efficient when sparse b is in the CSC matrix format\n",
      "  warn('spsolve is more efficient when sparse b '\n",
      "100%|██████████| 1000000/1000000 [00:21<00:00, 47231.84it/s]\n",
      "100%|██████████| 1000000/1000000 [00:21<00:00, 47214.60it/s]\n",
      "100%|██████████| 1000000/1000000 [00:21<00:00, 47285.18it/s]\n",
      "100%|██████████| 1000000/1000000 [00:21<00:00, 47343.75it/s]\n",
      "100%|██████████| 1000000/1000000 [00:21<00:00, 47449.25it/s]\n",
      "100%|██████████| 1000000/1000000 [00:21<00:00, 47448.21it/s]\n",
      "100%|██████████| 1000000/1000000 [00:21<00:00, 47310.19it/s]\n",
      "100%|██████████| 1000000/1000000 [00:21<00:00, 47241.87it/s]\n",
      "100%|██████████| 1000000/1000000 [00:21<00:00, 47335.79it/s]\n",
      "100%|██████████| 1000000/1000000 [00:21<00:00, 46888.61it/s]\n"
     ]
    }
   ],
   "source": [
    "mc_runs = []\n",
    "for run in range(10):    \n",
    "    rand_vars = scs.multivariate_normal.rvs(np.zeros(len(submat11.todense())),np.eye(len(submat11.todense())),size=1000000)\n",
    "    mc_runs.append(mc_cdf(rand_vars,(submat11-submat12@scipy.sparse.linalg.inv(submat22)@submat21).todense(),[inv_us[60][k] for k in c_dry])[0])\n"
   ]
  },
  {
   "cell_type": "code",
   "execution_count": 266,
   "metadata": {},
   "outputs": [
    {
     "data": {
      "text/plain": [
       "[<matplotlib.lines.Line2D at 0x21017d75760>]"
      ]
     },
     "execution_count": 266,
     "metadata": {},
     "output_type": "execute_result"
    },
    {
     "data": {
      "image/png": "[encoded data removed]",
      "text/plain": [
       "<Figure size 432x288 with 1 Axes>"
      ]
     },
     "metadata": {
      "needs_background": "light"
     },
     "output_type": "display_data"
    }
   ],
   "source": [
    "plt.plot([mc_runs[i]/1000000 for i in range(10)])\n",
    "plt.plot([np.mean(mc_runs)/1000000 for k in range(10)])"
   ]
  },
  {
   "cell_type": "markdown",
   "metadata": {},
   "source": [
    "# try subsampling to avoid 0 days\n",
    "# look for faster normal cdf computations - found no multivariate ones, only univariate cdf: scipy.special.ndtr\n",
    "\n",
    "try Mc:\n",
    "sample 1M from normal, and check proportion of samples within d_i area"
   ]
  },
  {
   "cell_type": "code",
   "execution_count": 14,
   "metadata": {},
   "outputs": [
    {
     "name": "stderr",
     "output_type": "stream",
     "text": [
      "100%|██████████| 1700/1700 [00:18<00:00, 92.34it/s]\n",
      "100%|██████████| 1700/1700 [00:19<00:00, 85.28it/s]\n",
      "100%|██████████| 1700/1700 [03:28<00:00,  8.15it/s]\n",
      "100%|██████████| 1700/1700 [25:50<00:00,  1.10it/s]\n",
      "100%|██████████| 1700/1700 [53:45<00:00,  1.90s/it]\n",
      "100%|██████████| 1700/1700 [1:07:29<00:00,  2.38s/it]\n",
      "100%|██████████| 1700/1700 [1:20:43<00:00,  2.85s/it]\n",
      "100%|██████████| 1700/1700 [1:22:57<00:00,  2.93s/it]\n",
      "100%|██████████| 1700/1700 [1:27:29<00:00,  3.09s/it]\n",
      "100%|██████████| 1700/1700 [1:28:53<00:00,  3.14s/it]\n",
      "  5%|▌         | 88/1700 [04:56<1:30:37,  3.37s/it]it]\n",
      " 29%|██▊       | 10/35 [8:16:12<20:40:32, 2977.29s/it]\n"
     ]
    },
    {
     "ename": "KeyboardInterrupt",
     "evalue": "",
     "output_type": "error",
     "traceback": [
      "\u001b[1;31m---------------------------------------------------------------------------\u001b[0m",
      "\u001b[1;31mKeyboardInterrupt\u001b[0m                         Traceback (most recent call last)",
      "\u001b[1;32mc:\\Users\\u1819911\\Desktop\\Copula Work\\Copula code\\All UK model 1\\Copulas_gamma.ipynb Cell 39\u001b[0m in \u001b[0;36m<cell line: 2>\u001b[1;34m()\u001b[0m\n\u001b[0;32m      <a href='vscode-notebook-cell:/c%3A/Users/u1819911/Desktop/Copula%20Work/Copula%20code/All%20UK%20model%201/Copulas_gamma.ipynb#X52sZmlsZQ%3D%3D?line=1'>2</a>\u001b[0m \u001b[39mfor\u001b[39;00m theta \u001b[39min\u001b[39;00m tqdm(\u001b[39mrange\u001b[39m(\u001b[39m0\u001b[39m,\u001b[39m35\u001b[39m)):\n\u001b[0;32m      <a href='vscode-notebook-cell:/c%3A/Users/u1819911/Desktop/Copula%20Work/Copula%20code/All%20UK%20model%201/Copulas_gamma.ipynb#X52sZmlsZQ%3D%3D?line=2'>3</a>\u001b[0m     subset \u001b[39m=\u001b[39m np\u001b[39m.\u001b[39mrandom\u001b[39m.\u001b[39mchoice(\u001b[39mrange\u001b[39m(\u001b[39m2002\u001b[39m),\u001b[39m1700\u001b[39m,replace\u001b[39m=\u001b[39m\u001b[39mFalse\u001b[39;00m)\n\u001b[1;32m----> <a href='vscode-notebook-cell:/c%3A/Users/u1819911/Desktop/Copula%20Work/Copula%20code/All%20UK%20model%201/Copulas_gamma.ipynb#X52sZmlsZQ%3D%3D?line=3'>4</a>\u001b[0m     mle_tests\u001b[39m.\u001b[39mappend(truncgauss(L\u001b[39m=\u001b[39;49mdist_mat[:\u001b[39m20\u001b[39;49m,:\u001b[39m20\u001b[39;49m])\u001b[39m.\u001b[39;49mnll(theta\u001b[39m=\u001b[39;49m\u001b[39m0.01\u001b[39;49m\u001b[39m+\u001b[39;49m\u001b[39m0.1\u001b[39;49m\u001b[39m*\u001b[39;49mtheta,Invcdf_Us\u001b[39m=\u001b[39;49m[inv_us[i][:\u001b[39m20\u001b[39;49m] \u001b[39mfor\u001b[39;49;00m i \u001b[39min\u001b[39;49;00m subset],truncation_pi\u001b[39m=\u001b[39;49m[g_us[i][:\u001b[39m20\u001b[39;49m] \u001b[39mfor\u001b[39;49;00m i \u001b[39min\u001b[39;49;00m subset],did_rain\u001b[39m=\u001b[39;49m[did_rain_01[i][:\u001b[39m20\u001b[39;49m] \u001b[39mfor\u001b[39;49;00m i \u001b[39min\u001b[39;49;00m subset],len_locs\u001b[39m=\u001b[39;49m\u001b[39mlen\u001b[39;49m(g2_us[\u001b[39m0\u001b[39;49m][:\u001b[39m20\u001b[39;49m])))\n",
      "\u001b[1;32mc:\\Users\\u1819911\\Desktop\\Copula Work\\Copula code\\All UK model 1\\Copulas_gamma.ipynb Cell 39\u001b[0m in \u001b[0;36mtruncgauss.nll\u001b[1;34m(self, theta, Invcdf_Us, truncation_pi, did_rain, len_locs)\u001b[0m\n\u001b[0;32m     <a href='vscode-notebook-cell:/c%3A/Users/u1819911/Desktop/Copula%20Work/Copula%20code/All%20UK%20model%201/Copulas_gamma.ipynb#X52sZmlsZQ%3D%3D?line=91'>92</a>\u001b[0m         submat22 \u001b[39m=\u001b[39m cov_mat[r_rain,c_rain]\n\u001b[0;32m     <a href='vscode-notebook-cell:/c%3A/Users/u1819911/Desktop/Copula%20Work/Copula%20code/All%20UK%20model%201/Copulas_gamma.ipynb#X52sZmlsZQ%3D%3D?line=92'>93</a>\u001b[0m         \u001b[39m# compute and add the elegant cdf\u001b[39;00m\n\u001b[1;32m---> <a href='vscode-notebook-cell:/c%3A/Users/u1819911/Desktop/Copula%20Work/Copula%20code/All%20UK%20model%201/Copulas_gamma.ipynb#X52sZmlsZQ%3D%3D?line=93'>94</a>\u001b[0m         nll \u001b[39m+\u001b[39m\u001b[39m=\u001b[39m scs\u001b[39m.\u001b[39;49mmultivariate_normal\u001b[39m.\u001b[39;49mlogcdf(x\u001b[39m=\u001b[39;49m[Invcdf_Us[day][k] \u001b[39mfor\u001b[39;49;00m k \u001b[39min\u001b[39;49;00m c_dry],mean\u001b[39m=\u001b[39;49mnp\u001b[39m.\u001b[39;49mzeros(\u001b[39mlen\u001b[39;49m(submat11)),cov\u001b[39m=\u001b[39;49msubmat11\u001b[39m-\u001b[39;49mnp\u001b[39m.\u001b[39;49mmatmul(np\u001b[39m.\u001b[39;49mmatmul(submat12,np\u001b[39m.\u001b[39;49mlinalg\u001b[39m.\u001b[39;49minv(submat22)),submat21))\n\u001b[0;32m     <a href='vscode-notebook-cell:/c%3A/Users/u1819911/Desktop/Copula%20Work/Copula%20code/All%20UK%20model%201/Copulas_gamma.ipynb#X52sZmlsZQ%3D%3D?line=95'>96</a>\u001b[0m \u001b[39m# denominator: multiplication of marginals - pdf for positive rain, cdf for truncated\u001b[39;00m\n\u001b[0;32m     <a href='vscode-notebook-cell:/c%3A/Users/u1819911/Desktop/Copula%20Work/Copula%20code/All%20UK%20model%201/Copulas_gamma.ipynb#X52sZmlsZQ%3D%3D?line=96'>97</a>\u001b[0m \u001b[39mfor\u001b[39;00m loc \u001b[39min\u001b[39;00m \u001b[39mrange\u001b[39m(\u001b[39mlen\u001b[39m(Invcdf_Us[\u001b[39m0\u001b[39m])):\n",
      "File \u001b[1;32mc:\\Users\\u1819911\\Anaconda3\\lib\\site-packages\\scipy\\stats\\_multivariate.py:588\u001b[0m, in \u001b[0;36mmultivariate_normal_gen.logcdf\u001b[1;34m(self, x, mean, cov, allow_singular, maxpts, abseps, releps)\u001b[0m\n\u001b[0;32m    586\u001b[0m \u001b[39mif\u001b[39;00m \u001b[39mnot\u001b[39;00m maxpts:\n\u001b[0;32m    587\u001b[0m     maxpts \u001b[39m=\u001b[39m \u001b[39m1000000\u001b[39m \u001b[39m*\u001b[39m dim\n\u001b[1;32m--> 588\u001b[0m out \u001b[39m=\u001b[39m np\u001b[39m.\u001b[39mlog(\u001b[39mself\u001b[39;49m\u001b[39m.\u001b[39;49m_cdf(x, mean, cov, maxpts, abseps, releps))\n\u001b[0;32m    589\u001b[0m \u001b[39mreturn\u001b[39;00m out\n",
      "File \u001b[1;32mc:\\Users\\u1819911\\Anaconda3\\lib\\site-packages\\scipy\\stats\\_multivariate.py:550\u001b[0m, in \u001b[0;36mmultivariate_normal_gen._cdf\u001b[1;34m(self, x, mean, cov, maxpts, abseps, releps)\u001b[0m\n\u001b[0;32m    547\u001b[0m \u001b[39m# mvnun expects 1-d arguments, so process points sequentially\u001b[39;00m\n\u001b[0;32m    548\u001b[0m func1d \u001b[39m=\u001b[39m \u001b[39mlambda\u001b[39;00m x_slice: mvn\u001b[39m.\u001b[39mmvnun(lower, x_slice, mean, cov,\n\u001b[0;32m    549\u001b[0m                                    maxpts, abseps, releps)[\u001b[39m0\u001b[39m]\n\u001b[1;32m--> 550\u001b[0m out \u001b[39m=\u001b[39m np\u001b[39m.\u001b[39;49mapply_along_axis(func1d, \u001b[39m-\u001b[39;49m\u001b[39m1\u001b[39;49m, x)\n\u001b[0;32m    551\u001b[0m \u001b[39mreturn\u001b[39;00m _squeeze_output(out)\n",
      "File \u001b[1;32m<__array_function__ internals>:180\u001b[0m, in \u001b[0;36mapply_along_axis\u001b[1;34m(*args, **kwargs)\u001b[0m\n",
      "File \u001b[1;32mc:\\Users\\u1819911\\Anaconda3\\lib\\site-packages\\numpy\\lib\\shape_base.py:379\u001b[0m, in \u001b[0;36mapply_along_axis\u001b[1;34m(func1d, axis, arr, *args, **kwargs)\u001b[0m\n\u001b[0;32m    375\u001b[0m \u001b[39mexcept\u001b[39;00m \u001b[39mStopIteration\u001b[39;00m \u001b[39mas\u001b[39;00m e:\n\u001b[0;32m    376\u001b[0m     \u001b[39mraise\u001b[39;00m \u001b[39mValueError\u001b[39;00m(\n\u001b[0;32m    377\u001b[0m         \u001b[39m'\u001b[39m\u001b[39mCannot apply_along_axis when any iteration dimensions are 0\u001b[39m\u001b[39m'\u001b[39m\n\u001b[0;32m    378\u001b[0m     ) \u001b[39mfrom\u001b[39;00m \u001b[39mNone\u001b[39m\n\u001b[1;32m--> 379\u001b[0m res \u001b[39m=\u001b[39m asanyarray(func1d(inarr_view[ind0], \u001b[39m*\u001b[39margs, \u001b[39m*\u001b[39m\u001b[39m*\u001b[39mkwargs))\n\u001b[0;32m    381\u001b[0m \u001b[39m# build a buffer for storing evaluations of func1d.\u001b[39;00m\n\u001b[0;32m    382\u001b[0m \u001b[39m# remove the requested axis, and add the new ones on the end.\u001b[39;00m\n\u001b[0;32m    383\u001b[0m \u001b[39m# laid out so that each write is contiguous.\u001b[39;00m\n\u001b[0;32m    384\u001b[0m \u001b[39m# for a tuple index inds, buff[inds] = func1d(inarr_view[inds])\u001b[39;00m\n\u001b[0;32m    385\u001b[0m buff \u001b[39m=\u001b[39m zeros(inarr_view\u001b[39m.\u001b[39mshape[:\u001b[39m-\u001b[39m\u001b[39m1\u001b[39m] \u001b[39m+\u001b[39m res\u001b[39m.\u001b[39mshape, res\u001b[39m.\u001b[39mdtype)\n",
      "File \u001b[1;32mc:\\Users\\u1819911\\Anaconda3\\lib\\site-packages\\scipy\\stats\\_multivariate.py:548\u001b[0m, in \u001b[0;36mmultivariate_normal_gen._cdf.<locals>.<lambda>\u001b[1;34m(x_slice)\u001b[0m\n\u001b[0;32m    546\u001b[0m lower \u001b[39m=\u001b[39m np\u001b[39m.\u001b[39mfull(mean\u001b[39m.\u001b[39mshape, \u001b[39m-\u001b[39mnp\u001b[39m.\u001b[39minf)\n\u001b[0;32m    547\u001b[0m \u001b[39m# mvnun expects 1-d arguments, so process points sequentially\u001b[39;00m\n\u001b[1;32m--> 548\u001b[0m func1d \u001b[39m=\u001b[39m \u001b[39mlambda\u001b[39;00m x_slice: mvn\u001b[39m.\u001b[39;49mmvnun(lower, x_slice, mean, cov,\n\u001b[0;32m    549\u001b[0m                                    maxpts, abseps, releps)[\u001b[39m0\u001b[39;49m]\n\u001b[0;32m    550\u001b[0m out \u001b[39m=\u001b[39m np\u001b[39m.\u001b[39mapply_along_axis(func1d, \u001b[39m-\u001b[39m\u001b[39m1\u001b[39m, x)\n\u001b[0;32m    551\u001b[0m \u001b[39mreturn\u001b[39;00m _squeeze_output(out)\n",
      "\u001b[1;31mKeyboardInterrupt\u001b[0m: "
     ]
    }
   ],
   "source": [
    "mle_tests = []\n",
    "for theta in tqdm(range(0,35)):\n",
    "    subset = np.random.choice(range(2002),1700,replace=False)\n",
    "    mle_tests.append(truncgauss(L=dist_mat[:20,:20]).nll(theta=0.01+0.1*theta,Invcdf_Us=[inv_us[i][:20] for i in subset],truncation_pi=[g_us[i][:20] for i in subset],did_rain=[did_rain_01[i][:20] for i in subset],len_locs=len(g2_us[0][:20])))"
   ]
  },
  {
   "cell_type": "code",
   "execution_count": 19,
   "metadata": {},
   "outputs": [
    {
     "data": {
      "text/plain": [
       "10"
      ]
     },
     "execution_count": 19,
     "metadata": {},
     "output_type": "execute_result"
    }
   ],
   "source": [
    "len(mle_tests)"
   ]
  },
  {
   "cell_type": "code",
   "execution_count": 20,
   "metadata": {},
   "outputs": [
    {
     "data": {
      "text/plain": [
       "[<matplotlib.lines.Line2D at 0x20b8d69e700>]"
      ]
     },
     "execution_count": 20,
     "metadata": {},
     "output_type": "execute_result"
    },
    {
     "data": {
      "image/png": "[encoded data removed]",
      "text/plain": [
       "<Figure size 432x288 with 1 Axes>"
      ]
     },
     "metadata": {
      "needs_background": "light"
     },
     "output_type": "display_data"
    }
   ],
   "source": [
    "plt.plot([0.01+0.1*i for i in range(0,10)],mle_tests)"
   ]
  },
  {
   "cell_type": "markdown",
   "metadata": {},
   "source": [
    "### Q:\n",
    "SGD for subsets of spatial grid?"
   ]
  },
  {
   "cell_type": "markdown",
   "metadata": {},
   "source": [
    "### TODO\n",
    " - Replace cdf by MC estimate in nll\n",
    " - parallelise after that using ritos package"
   ]
  },
  {
   "cell_type": "markdown",
   "metadata": {},
   "source": []
  }
 ],
 "metadata": {
  "kernelspec": {
   "display_name": "Python 3.9.12 ('base')",
   "language": "python",
   "name": "python3"
  },
  "language_info": {
   "codemirror_mode": {
    "name": "ipython",
    "version": 3
   },
   "file_extension": ".py",
   "mimetype": "text/x-python",
   "name": "python",
   "nbconvert_exporter": "python",
   "pygments_lexer": "ipython3",
   "version": "3.9.12"
  },
  "orig_nbformat": 4,
  "vscode": {
   "interpreter": {
    "hash": "ab60c10c504ddb966051b34fe3c8284e278512e8f8393189136f471cdd0fd1b8"
   }
  }
 },
 "nbformat": 4,
 "nbformat_minor": 2
}
