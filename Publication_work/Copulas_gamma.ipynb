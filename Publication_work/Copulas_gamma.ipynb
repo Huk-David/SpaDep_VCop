{
 "cells": [
  {
   "cell_type": "markdown",
   "metadata": {},
   "source": [
    "### Working with copulas"
   ]
  },
  {
   "cell_type": "markdown",
   "metadata": {},
   "source": [
    "We make a list of Us as follows:\n",
    " - For each location, we start with 16 observations corresponding to 16 sublocations. We treat these as seperate locations for the rest of this work.\n",
    " - The list of Us will be of length 2002 [day]. Each of these 2002 elements will be an array of length 4727 [Us] corresponding to the Us of each location for the day."
   ]
  },
  {
   "cell_type": "code",
   "execution_count": 4,
   "metadata": {},
   "outputs": [],
   "source": [
    "# packages\n",
    "%matplotlib inline\n",
    "from scipy.optimize import dual_annealing\n",
    "import numpy as np\n",
    "import scipy.stats as scs\n",
    "from matplotlib import pyplot as plt\n",
    "from sklearn.gaussian_process.kernels import Matern\n",
    "from collections import Counter\n",
    "from mpl_toolkits.basemap import Basemap\n",
    "from geopy.geocoders import Nominatim\n",
    "from tqdm import tqdm\n",
    "from datetime import datetime\n",
    "import itertools\n",
    "from itertools import permutations\n",
    "from scipy.spatial import distance_matrix\n",
    "import matplotlib\n",
    "import matplotlib.colors as mcolors\n",
    "from sklearn import metrics\n",
    "import pickle\n",
    "from sklearn.gaussian_process.kernels import RBF\n",
    "from math import sqrt\n",
    "from joblib import Parallel, delayed\n",
    "import psutil\n",
    "import math"
   ]
  },
  {
   "cell_type": "code",
   "execution_count": 5,
   "metadata": {},
   "outputs": [
    {
     "name": "stdout",
     "output_type": "stream",
     "text": [
      "['Checkpoints/uk_rain_DGLM_HConvLSTM_tdscale_gamma_hurdle/lightning_logs/version_1/', 'Checkpoints/uk_rain_DGLM_HConvLSTM_tdscale_gamma_hurdle/lightning_logs/version_1/checkpoints/epoch=11-step=22556-val_loss_loss=-0.349-val_metric_mse_rain=22.651.ckpt']\n"
     ]
    },
    {
     "name": "stderr",
     "output_type": "stream",
     "text": [
      "c:\\Users\\david\\AppData\\Local\\Programs\\Python\\Python39\\lib\\site-packages\\sklearn\\base.py:329: UserWarning: Trying to unpickle estimator StandardScaler from version 0.23.2 when using version 1.0.2. This might lead to breaking code or invalid results. Use at your own risk. For more info please refer to:\n",
      "https://scikit-learn.org/stable/modules/model_persistence.html#security-maintainability-limitations\n",
      "  warnings.warn(\n",
      "c:\\Users\\david\\AppData\\Local\\Programs\\Python\\Python39\\lib\\site-packages\\sklearn\\base.py:329: UserWarning: Trying to unpickle estimator MinMaxScaler from version 0.23.2 when using version 1.0.2. This might lead to breaking code or invalid results. Use at your own risk. For more info please refer to:\n",
      "https://scikit-learn.org/stable/modules/model_persistence.html#security-maintainability-limitations\n",
      "  warnings.warn(\n"
     ]
    }
   ],
   "source": [
    "### load gamma\n",
    "model_version = 1\n",
    "target_distribution = \"gamma_hurdle\"\n",
    "base_nn = \"HConvLSTM_tdscale\" #(Keep this fixed)\n",
    "\n",
    "# Run this to get the prediction data in a variable named city_data\n",
    "# Getting data\n",
    "sys.path.append('../')\n",
    "import glms\n",
    "import pickle\n",
    "import torch\n",
    "\n",
    "path_ = f\"Checkpoints/uk_rain_DGLM_{base_nn}_{target_distribution}/lightning_logs/version_{model_version}/\"\n",
    "ckpt_path = glms.NeuralDGLM.get_ckpt_path(os.path.join(path_,\"checkpoints\"))\n",
    "print([path_,ckpt_path])\n",
    "scaler_features, scaler_target = glms.NeuralDGLM.load_scalers(path_)\n",
    "model = glms.NeuralDGLM.load_from_checkpoint(ckpt_path, save_hparams=False, scaler_features=scaler_features, scaler_target=scaler_target)\n",
    "model.freeze()\n",
    "model.eval()\n",
    "\n",
    "test_output = pickle.load( open(os.path.join(path_,\"test_output_2014_2019-07.pkl\"),\"rb\") )\n",
    "#########\n",
    "\n",
    "# create list of locations\n",
    "loc_lat_lon = ['lat_57.75_56.15_lon_-5.75_-4.15', 'lat_53.75_52.15_lon_-3.35_-1.75', 'lat_53.75_52.15_lon_-2.95_-1.35', 'lat_55.75_54.15_lon_-5.35_-3.75', 'lat_55.75_54.15_lon_-4.95_-3.35', 'lat_53.35_51.75_lon_-0.95_0.65', 'lat_52.95_51.35_lon_-10.95_-9.35', 'lat_54.95_53.35_lon_-9.75_-8.15', 'lat_54.95_53.35_lon_-9.35_-7.75', 'lat_51.75_50.15_lon_-4.95_-3.35', 'lat_51.75_50.15_lon_-4.55_-2.95', 'lat_54.55_52.95_lon_-5.75_-4.15', 'lat_54.55_52.95_lon_-5.35_-3.75', 'lat_51.35_49.75_lon_-0.55_1.05', 'lat_51.35_49.75_lon_-0.15_1.45', 'lat_54.15_52.55_lon_-2.55_-0.95', 'lat_54.15_52.55_lon_-2.15_-0.55', 'lat_57.35_55.75_lon_-3.75_-2.15', 'lat_57.35_55.75_lon_-3.35_-1.75', 'lat_53.35_51.75_lon_-10.95_-9.35', 'lat_53.35_51.75_lon_-10.55_-8.95', 'lat_55.35_53.75_lon_-10.95_-9.35', 'lat_55.35_53.75_lon_-10.55_-8.95', 'lat_52.95_51.35_lon_-8.55_-6.95', 'lat_52.95_51.35_lon_-8.15_-6.55', 'lat_54.95_53.35_lon_-6.95_-5.35', 'lat_54.95_53.35_lon_-6.55_-4.95', 'lat_51.75_50.15_lon_-2.15_-0.55', 'lat_51.75_50.15_lon_-1.75_-0.15', 'lat_54.15_52.55_lon_-9.35_-7.75', 'lat_54.15_52.55_lon_-8.95_-7.35', 'lat_57.75_56.15_lon_-5.35_-3.75', 'lat_53.75_52.15_lon_-2.55_-0.95', 'lat_55.75_54.15_lon_-4.55_-2.95', 'lat_52.95_51.35_lon_-10.55_-8.95', 'lat_54.95_53.35_lon_-8.95_-7.35', 'lat_51.75_50.15_lon_-4.15_-2.55', 'lat_54.55_52.95_lon_-4.95_-3.35', 'lat_51.35_49.75_lon_0.25_1.85', 'lat_54.15_52.55_lon_-1.75_-0.15', 'lat_56.95_55.35_lon_-5.75_-4.15', 'lat_53.35_51.75_lon_-10.15_-8.55', 'lat_55.35_53.75_lon_-10.15_-8.55', 'lat_52.95_51.35_lon_-7.75_-6.15', 'lat_54.95_53.35_lon_-6.15_-4.55', 'lat_51.75_50.15_lon_-1.35_0.25', 'lat_54.15_52.55_lon_-8.55_-6.95', 'lat_57.35_55.75_lon_-5.75_-4.15', 'lat_53.75_52.15_lon_-2.15_-0.55', 'lat_55.75_54.15_lon_-4.15_-2.55', 'lat_52.95_51.35_lon_-10.15_-8.55', 'lat_54.95_53.35_lon_-8.55_-6.95', 'lat_51.75_50.15_lon_-3.75_-2.15', 'lat_54.55_52.95_lon_-4.55_-2.95', 'lat_51.35_49.75_lon_0.65_2.25', 'lat_54.15_52.55_lon_-1.35_0.25', 'lat_56.95_55.35_lon_-5.35_-3.75', 'lat_53.35_51.75_lon_-9.75_-8.15', 'lat_55.35_53.75_lon_-9.75_-8.15', 'lat_52.95_51.35_lon_-7.35_-5.75', 'lat_54.95_53.35_lon_-5.75_-4.15', 'lat_51.75_50.15_lon_-0.95_0.65', 'lat_54.15_52.55_lon_-8.15_-6.55', 'lat_57.35_55.75_lon_-5.35_-3.75', 'lat_53.75_52.15_lon_-1.75_-0.15', 'lat_55.75_54.15_lon_-3.75_-2.15', 'lat_52.95_51.35_lon_-9.75_-8.15', 'lat_54.95_53.35_lon_-8.15_-6.55', 'lat_51.75_50.15_lon_-3.35_-1.75', 'lat_54.55_52.95_lon_-4.15_-2.55', 'lat_51.35_49.75_lon_1.05_2.65', 'lat_54.15_52.55_lon_-0.95_0.65', 'lat_56.95_55.35_lon_-4.95_-3.35', 'lat_53.35_51.75_lon_-9.35_-7.75', 'lat_55.35_53.75_lon_-9.35_-7.75', 'lat_52.95_51.35_lon_-6.95_-5.35', 'lat_54.95_53.35_lon_-5.35_-3.75', 'lat_51.75_50.15_lon_-0.55_1.05', 'lat_54.15_52.55_lon_-7.75_-6.15', 'lat_57.35_55.75_lon_-4.95_-3.35', 'lat_53.75_52.15_lon_-1.35_0.25', 'lat_55.75_54.15_lon_-3.35_-1.75', 'lat_52.95_51.35_lon_-9.35_-7.75', 'lat_54.95_53.35_lon_-7.75_-6.15', 'lat_51.75_50.15_lon_-2.95_-1.35', 'lat_54.55_52.95_lon_-3.75_-2.15', 'lat_50.95_49.35_lon_-6.55_-4.95', 'lat_53.75_52.15_lon_-10.95_-9.35', 'lat_56.95_55.35_lon_-4.55_-2.95', 'lat_53.35_51.75_lon_-8.95_-7.35', 'lat_55.35_53.75_lon_-8.95_-7.35', 'lat_52.95_51.35_lon_-6.55_-4.95', 'lat_54.95_53.35_lon_-4.95_-3.35', 'lat_51.75_50.15_lon_-0.15_1.45', 'lat_54.15_52.55_lon_-7.35_-5.75', 'lat_57.35_55.75_lon_-4.55_-2.95', 'lat_53.75_52.15_lon_-0.95_0.65', 'lat_55.75_54.15_lon_-2.95_-1.35', 'lat_52.95_51.35_lon_-8.95_-7.35', 'lat_54.95_53.35_lon_-7.35_-5.75', 'lat_51.75_50.15_lon_-2.55_-0.95', 'lat_54.55_52.95_lon_-3.35_-1.75', 'lat_50.95_49.35_lon_-6.15_-4.55', 'lat_53.75_52.15_lon_-10.55_-8.95', 'lat_56.95_55.35_lon_-4.15_-2.55', 'lat_53.35_51.75_lon_-8.55_-6.95', 'lat_55.35_53.75_lon_-8.55_-6.95', 'lat_52.95_51.35_lon_-6.15_-4.55', 'lat_54.95_53.35_lon_-4.55_-2.95', 'lat_51.75_50.15_lon_0.25_1.85', 'lat_54.15_52.55_lon_-6.95_-5.35', 'lat_57.35_55.75_lon_-4.15_-2.55', 'lat_54.55_52.95_lon_-2.95_-1.35', 'lat_50.95_49.35_lon_-5.75_-4.15', 'lat_53.75_52.15_lon_-10.15_-8.55', 'lat_56.95_55.35_lon_-3.75_-2.15', 'lat_53.35_51.75_lon_-8.15_-6.55', 'lat_55.35_53.75_lon_-8.15_-6.55', 'lat_52.95_51.35_lon_-5.75_-4.15', 'lat_54.95_53.35_lon_-4.15_-2.55', 'lat_51.75_50.15_lon_0.65_2.25', 'lat_54.15_52.55_lon_-6.55_-4.95', 'lat_54.55_52.95_lon_-2.55_-0.95', 'lat_50.95_49.35_lon_-5.35_-3.75', 'lat_53.75_52.15_lon_-9.75_-8.15', 'lat_56.95_55.35_lon_-3.35_-1.75', 'lat_53.35_51.75_lon_-7.75_-6.15', 'lat_55.35_53.75_lon_-7.75_-6.15', 'lat_52.95_51.35_lon_-5.35_-3.75', 'lat_54.95_53.35_lon_-3.75_-2.15', 'lat_51.75_50.15_lon_1.05_2.65', 'lat_54.15_52.55_lon_-6.15_-4.55', 'lat_54.55_52.95_lon_-2.15_-0.55', 'lat_50.95_49.35_lon_-4.95_-3.35', 'lat_53.75_52.15_lon_-9.35_-7.75', 'lat_56.55_54.95_lon_-5.75_-4.15', 'lat_53.35_51.75_lon_-7.35_-5.75', 'lat_55.35_53.75_lon_-7.35_-5.75', 'lat_52.95_51.35_lon_-4.95_-3.35', 'lat_54.95_53.35_lon_-3.35_-1.75', 'lat_51.35_49.75_lon_-6.55_-4.95', 'lat_54.15_52.55_lon_-5.75_-4.15', 'lat_54.15_52.55_lon_-10.95_-9.35', 'lat_50.95_49.35_lon_-4.55_-2.95', 'lat_53.75_52.15_lon_-8.95_-7.35', 'lat_56.55_54.95_lon_-5.35_-3.75', 'lat_53.35_51.75_lon_-6.95_-5.35', 'lat_55.35_53.75_lon_-6.95_-5.35', 'lat_52.95_51.35_lon_-4.55_-2.95', 'lat_54.95_53.35_lon_-2.95_-1.35', 'lat_51.35_49.75_lon_-6.15_-4.55', 'lat_54.15_52.55_lon_-5.35_-3.75', 'lat_54.15_52.55_lon_-10.55_-8.95', 'lat_50.95_49.35_lon_-4.15_-2.55', 'lat_53.75_52.15_lon_-8.55_-6.95', 'lat_56.55_54.95_lon_-4.95_-3.35', 'lat_53.35_51.75_lon_-6.55_-4.95', 'lat_55.35_53.75_lon_-6.55_-4.95', 'lat_52.95_51.35_lon_-4.15_-2.55', 'lat_54.95_53.35_lon_-2.55_-0.95', 'lat_51.35_49.75_lon_-5.75_-4.15', 'lat_54.15_52.55_lon_-4.95_-3.35', 'lat_54.15_52.55_lon_-10.15_-8.55', 'lat_50.95_49.35_lon_-3.75_-2.15', 'lat_53.75_52.15_lon_-8.15_-6.55', 'lat_56.55_54.95_lon_-4.55_-2.95', 'lat_53.35_51.75_lon_-6.15_-4.55', 'lat_55.35_53.75_lon_-6.15_-4.55', 'lat_52.95_51.35_lon_-3.75_-2.15', 'lat_54.55_52.95_lon_-10.95_-9.35', 'lat_51.35_49.75_lon_-5.35_-3.75', 'lat_54.15_52.55_lon_-4.55_-2.95', 'lat_54.15_52.55_lon_-9.75_-8.15', 'lat_50.95_49.35_lon_-3.35_-1.75', 'lat_53.75_52.15_lon_-7.75_-6.15', 'lat_56.55_54.95_lon_-4.15_-2.55', 'lat_53.35_51.75_lon_-5.75_-4.15', 'lat_55.35_53.75_lon_-5.75_-4.15', 'lat_52.95_51.35_lon_-3.35_-1.75', 'lat_54.55_52.95_lon_-10.55_-8.95', 'lat_51.35_49.75_lon_-4.95_-3.35', 'lat_54.15_52.55_lon_-4.15_-2.55', 'lat_50.95_49.35_lon_-2.95_-1.35', 'lat_53.75_52.15_lon_-7.35_-5.75', 'lat_56.55_54.95_lon_-3.75_-2.15', 'lat_53.35_51.75_lon_-5.35_-3.75', 'lat_55.35_53.75_lon_-5.35_-3.75', 'lat_52.95_51.35_lon_-2.95_-1.35', 'lat_54.55_52.95_lon_-10.15_-8.55', 'lat_51.35_49.75_lon_-4.55_-2.95', 'lat_54.15_52.55_lon_-3.75_-2.15', 'lat_50.95_49.35_lon_-2.55_-0.95', 'lat_53.75_52.15_lon_-6.95_-5.35', 'lat_56.55_54.95_lon_-3.35_-1.75', 'lat_53.35_51.75_lon_-4.95_-3.35', 'lat_55.35_53.75_lon_-4.95_-3.35', 'lat_52.95_51.35_lon_-2.55_-0.95', 'lat_54.55_52.95_lon_-9.75_-8.15', 'lat_51.35_49.75_lon_-4.15_-2.55', 'lat_54.15_52.55_lon_-3.35_-1.75', 'lat_54.15_52.55_lon_-2.95_-1.35', 'lat_50.95_49.35_lon_-2.15_-0.55', 'lat_53.75_52.15_lon_-6.55_-4.95', 'lat_56.15_54.55_lon_-5.75_-4.15', 'lat_53.35_51.75_lon_-4.55_-2.95', 'lat_55.35_53.75_lon_-4.55_-2.95', 'lat_52.95_51.35_lon_-2.15_-0.55', 'lat_54.55_52.95_lon_-9.35_-7.75', 'lat_51.35_49.75_lon_-3.75_-2.15', 'lat_50.95_49.35_lon_-1.75_-0.15', 'lat_53.75_52.15_lon_-6.15_-4.55', 'lat_56.15_54.55_lon_-5.35_-3.75', 'lat_53.35_51.75_lon_-4.15_-2.55', 'lat_55.35_53.75_lon_-4.15_-2.55', 'lat_52.95_51.35_lon_-1.75_-0.15', 'lat_54.55_52.95_lon_-8.95_-7.35', 'lat_51.35_49.75_lon_-3.35_-1.75', 'lat_50.95_49.35_lon_-1.35_0.25', 'lat_53.75_52.15_lon_-5.75_-4.15', 'lat_56.15_54.55_lon_-4.95_-3.35', 'lat_53.35_51.75_lon_-3.75_-2.15', 'lat_55.35_53.75_lon_-3.75_-2.15', 'lat_52.95_51.35_lon_-1.35_0.25', 'lat_54.55_52.95_lon_-8.55_-6.95', 'lat_51.35_49.75_lon_-2.95_-1.35', 'lat_50.95_49.35_lon_-0.95_0.65', 'lat_53.75_52.15_lon_-5.35_-3.75', 'lat_56.15_54.55_lon_-4.55_-2.95', 'lat_53.35_51.75_lon_-3.35_-1.75', 'lat_55.35_53.75_lon_-3.35_-1.75', 'lat_52.95_51.35_lon_-0.95_0.65', 'lat_54.55_52.95_lon_-8.15_-6.55', 'lat_51.35_49.75_lon_-2.55_-0.95', 'lat_50.95_49.35_lon_-0.55_1.05', 'lat_53.75_52.15_lon_-4.95_-3.35', 'lat_56.15_54.55_lon_-4.15_-2.55', 'lat_53.35_51.75_lon_-2.95_-1.35', 'lat_55.35_53.75_lon_-2.95_-1.35', 'lat_51.75_50.15_lon_-6.55_-4.95', 'lat_54.55_52.95_lon_-7.75_-6.15', 'lat_51.35_49.75_lon_-2.15_-0.55', 'lat_50.95_49.35_lon_-0.15_1.45', 'lat_53.75_52.15_lon_-4.55_-2.95', 'lat_56.15_54.55_lon_-3.75_-2.15', 'lat_53.35_51.75_lon_-2.55_-0.95', 'lat_54.95_53.35_lon_-10.95_-9.35', 'lat_51.75_50.15_lon_-6.15_-4.55', 'lat_54.55_52.95_lon_-7.35_-5.75', 'lat_51.35_49.75_lon_-1.75_-0.15', 'lat_50.95_49.35_lon_0.25_1.85', 'lat_53.75_52.15_lon_-4.15_-2.55', 'lat_56.15_54.55_lon_-3.35_-1.75', 'lat_53.35_51.75_lon_-2.15_-0.55', 'lat_54.95_53.35_lon_-10.55_-8.95', 'lat_51.75_50.15_lon_-5.75_-4.15', 'lat_54.55_52.95_lon_-6.95_-5.35', 'lat_51.35_49.75_lon_-1.35_0.25', 'lat_50.95_49.35_lon_0.65_2.25', 'lat_53.75_52.15_lon_-3.75_-2.15', 'lat_55.75_54.15_lon_-5.75_-4.15', 'lat_53.35_51.75_lon_-1.75_-0.15', 'lat_54.95_53.35_lon_-10.15_-8.55', 'lat_51.75_50.15_lon_-5.35_-3.75', 'lat_54.55_52.95_lon_-6.55_-4.95', 'lat_51.35_49.75_lon_-0.95_0.65', 'lat_53.35_51.75_lon_-1.35_0.25', 'lat_54.55_52.95_lon_-6.15_-4.55']\n",
    "output_keys = ['pred_mu', 'pred_disp', 'target_did_rain', 'target_rain_value', 'date', 'pred_p']\n",
    "#  'pred_mu', 'pred_disp', 'target_did_rain', 'target_rain_value', 'date', 'pred_p'\n",
    "\n",
    "# formatting data\n",
    "gamma_outputs = [[[],[],[],[],[],[]] for places in range(len(loc_lat_lon))] \n",
    "for location_idx in range(len(loc_lat_lon)):\n",
    "    gamma_outputs[location_idx].append([float(loc_lat_lon[location_idx].split('_')[i]) for i in [1,2,4,5]])\n",
    "    for output_idx in range(6):\n",
    "        for week in range(286):\n",
    "            for day in range(7):\n",
    "                #check for date, as date is formatted differently from the rest.\n",
    "                if output_idx==4:\n",
    "                    if day==0:\n",
    "                        gamma_outputs[location_idx][output_idx].append(np.array(test_output[loc_lat_lon[location_idx]][output_keys[output_idx]][week],dtype='datetime64[D]'))\n",
    "                    else:\n",
    "                        gamma_outputs[location_idx][output_idx].append('')                   \n",
    "                else:\n",
    "                    gamma_outputs[location_idx][output_idx].append(test_output[loc_lat_lon[location_idx]][output_keys[output_idx]][week][day])\n",
    "\n",
    "\n",
    "# Loading data for Us\n",
    "with open('g_us.txt','rb') as f:\n",
    "    g_us = pickle.load(f)"
   ]
  },
  {
   "cell_type": "code",
   "execution_count": 6,
   "metadata": {},
   "outputs": [],
   "source": [
    "#correct any code-approximation related errors\n",
    "for day in range(len(g_us)):\n",
    "    for location in range(len(g_us[0])):\n",
    "        if g_us[day][location]==0:\n",
    "            g_us[day][location]=0.0001\n",
    "        if g_us[day][location]==1:\n",
    "            g_us[day][location]=0.999\n",
    "        g_us[day][location]=abs(g_us[day][location])"
   ]
  },
  {
   "cell_type": "code",
   "execution_count": 7,
   "metadata": {},
   "outputs": [],
   "source": [
    "# Copula classes\n",
    "\n",
    "# Gaussian\n",
    "# This class is with sigma fixed at 1 - This is what is used for the rest of this notebook\n",
    "class norm_cop_loconly():\n",
    "\n",
    "    def __init__(self,L=np.array([[0,1,1],[1,0,1],[1,1,0]])):\n",
    "        '''\n",
    "        L is location matrix: n x n\n",
    "        '''\n",
    "        self.N=L.shape[0]\n",
    "        self.L=L\n",
    "\n",
    "    def sim(self,theta,draws=3,as_x=False):\n",
    "        '''\n",
    "        Returns: [ [m [draws of length n] for day t+1],..., [m [draws of length n] for day t+T_(depending on prediction matricies X_all)] ]\n",
    "        So to get the samples from day t+1: sim[1-1]\n",
    "        To get k th draw from samples at day t+T: sim[T-1][k-1]\n",
    "        To get u for 3rd location of kth drw for day T: sim[T-1][k-1][3-1]'''\n",
    "        cov_mat=Matern(length_scale=theta[0],nu=theta[1]).__call__(self.L)\n",
    "        #sigma should be in theta ##############################\n",
    "\n",
    "        if as_x==True:\n",
    "            return [scs.multivariate_normal.rvs(mean=np.zeros(self.N),cov=cov_mat) for i in range(draws) ] \n",
    "        if as_x==False:\n",
    "            Us=[np.zeros(self.N) for i in range(draws)] \n",
    "            for i in range(draws):\n",
    "                Us[i]=[scs.multivariate_normal.cdf(y,mean=0,cov=cov_mat[idx,idx]) for idx,y in enumerate(scs.multivariate_normal.rvs(mean=np.zeros(self.N),cov=cov_mat))]\n",
    "            return Us\n",
    "\n",
    "    \n",
    "    def nll(self,theta,data):\n",
    "        '''\n",
    "        theta: [sigma,p0,v0,p1,v1] vector of parameters for the Matern Kernel\n",
    "        data: [[u1,..,un],...,[...]] one set of (n: one for each location) us for each day 1 to T (T is the number of predictor matricies).\n",
    "        '''\n",
    "        nll=0\n",
    "        cov_mat=Matern(length_scale=theta[0],nu=theta[1]).__call__(self.L) \n",
    "        #sigma should be in theta ##############################\n",
    "\n",
    "        for day in range(len(data)):\n",
    "            #nll for the copula density: joint and marginals\n",
    "            nll+=scs.multivariate_normal.logpdf([scs.norm.ppf(obs,loc=0,scale=cov_mat[idx,idx]) for idx,obs in enumerate(data[day])],mean=np.zeros(self.N),cov=cov_mat) \n",
    "            nll+=-np.sum([scs.norm.logpdf(obs,loc=0,scale=cov_mat[idx,idx]) for idx,obs in enumerate(data[day])])\n",
    "        return -nll\n",
    "\n",
    "# Clayton\n",
    "class Clayton():\n",
    "    def __init__(self,n=2):\n",
    "        '''\n",
    "        Class to fit and work with a Clayton copula, using two functions.\n",
    "        sim: simulated [0,1] values using this copula density.\n",
    "        eval_nll: evaluate the negative log likelihood based on given data.\n",
    "        To use the class, the dimension of the data is needed.\n",
    "        n: dimension of data\n",
    "        '''\n",
    "        self.n=n # dimension\n",
    "\n",
    "    def sim(draws=10,theta=1):\n",
    "        '''\n",
    "        Simulates m draws from the Clayton copula density\n",
    "        '''\n",
    "        # not sure how yet.\n",
    "\n",
    "    def eval_nll(self,theta=10,data=[[0.4,0.6],[0.001,0.01],[0.1,0.1],[0.8,0.9],[0.1,0.0001],[0.3,0.1]]):\n",
    "        '''\n",
    "        theta: the parameter of the Clayton copula in [0,inf).\n",
    "        \n",
    "        data: [[u1_(k=1) ,..., un_(k=1)] ,..., [u1_(k=k) ,..., un(k=k)]] one set of (n of them: one for each location) us for each day 1 to T.\n",
    "        '''\n",
    "        # Compute the pdf by looping over each day, and adding the nll for that day to the result. \n",
    "\n",
    "        #### second atempt\n",
    "        nll=0\n",
    "        n=self.n\n",
    "\n",
    "        for day_data in data:\n",
    "            nll += n*(1+theta) + (n+(1/theta)) * np.log(1-n + np.sum(np.power(day_data,-theta)))\n",
    "            nll += -np.sum([np.log(u) + np.log(j*theta +1) for j,u in enumerate(day_data)])\n",
    "        \n",
    "        return nll\n",
    "\n",
    "# Bardossy2011+rain_occurence copula\n",
    "\n",
    "# def parallelised nll: global function called during parrallel jobs. \n",
    "\n",
    "def parallel_nll(chunck, Us_didrain_Usbin, norm_us, cov_mat, cov_mat2):\n",
    "    nll = 0\n",
    "    didrain = Us_didrain_Usbin[1]\n",
    "    Us_b = Us_didrain_Usbin[2]\n",
    "    for day in chunck:# contribution of the Zs - normal copula for occurence of rain\n",
    "        nll+=scs.multivariate_normal.logpdf([scs.norm.ppf(obs,loc=0,scale=1) for obs in Us_b[day]],mean=np.zeros(len(Us_b[0])),cov=cov_mat2) \n",
    "        nll+=-np.sum([scs.norm.logpdf(scs.norm.ppf(obs,loc=0,scale=1),loc=0,scale=1) for obs in Us_b[day]])\n",
    "        \n",
    "        for pair in itertools.combinations(range(13),2):#main contribution - bardossy copula for rain\n",
    "            if didrain[day][pair[0]]+didrain[day][pair[1]]==0: #I1\n",
    "                nll += scs.multivariate_normal.logpdf([norm_us[day][pair[0]],norm_us[day][pair[1]]],mean=np.zeros(2),cov=np.matrix([[1, cov_mat[pair[0]][pair[1]]], [cov_mat[pair[0]][pair[1]], 1]]))\n",
    "            if didrain[day][pair[0]]+didrain[day][pair[1]]==1: #I2 - have [1or0]*ll + [0or1]*ll to add the correct amount, depending on where it rained.\n",
    "                nll += (didrain[day][pair[1]])*scs.norm.logpdf((norm_us[day][pair[0]]-norm_us[day][pair[1]]*cov_mat[pair[0]][pair[1]])/(sqrt(1-np.power(cov_mat[pair[0]][pair[1]],2)))) + (1-didrain[day][pair[1]])*scs.norm.logpdf((norm_us[day][pair[1]]-norm_us[day][pair[0]]*cov_mat[pair[0]][pair[1]])/(sqrt(1-np.power(cov_mat[pair[0]][pair[1]],2)))) \n",
    "                nll += (didrain[day][pair[1]])*scs.norm.logpdf(norm_us[day][pair[1]]) + (1-didrain[day][pair[1]])*scs.norm.logpdf(norm_us[day][pair[0]])\n",
    "            if didrain[day][pair[0]]+didrain[day][pair[1]]==0: #I3\n",
    "                nll += scs.multivariate_normal.logcdf([norm_us[day][pair[0]],norm_us[day][pair[1]]],mean=np.zeros(2),cov=np.matrix([[1, cov_mat[pair[0]][pair[1]]], [cov_mat[pair[0]][pair[1]], 1]]))\n",
    "    return nll\n",
    "\n",
    "class cop_bardossy():\n",
    "\n",
    "    def __init__(self,L=np.array([[0,1,1],[1,0,1],[1,1,0]])):\n",
    "        '''\n",
    "        L is location matrix: n x n\n",
    "        '''\n",
    "        self.L=L\n",
    "    \n",
    "    def nll(self,theta,Us_didrain_Usbin): #not parrallelised\n",
    "        '''\n",
    "        theta: [sigma,p0,v0,p1,v1] vector of parameters for the Matern Kernel\n",
    "        Us: [[u1,..,un],...,[...]] one set of (n: one for each location) us for each day 1 to T (T is the number of predictor matricies).\n",
    "        didrain: 0/1 values in the same structure as Us, indicators of rain (1=rain).\n",
    "        '''\n",
    "        nll = 0\n",
    "        Us = Us_didrain_Usbin[0]\n",
    "        didrain = Us_didrain_Usbin[1]\n",
    "        Us_b = Us_didrain_Usbin[2]\n",
    "        theta1,theta2 = theta[0],theta[1]\n",
    "        # transform Us into invNorms\n",
    "        norm_us = [[] for i in range(len(Us)) ]\n",
    "        for day in range(len(Us)):\n",
    "            norm_us[day]=[scs.norm.ppf(u) for u in Us[day]]\n",
    "            \n",
    "        # kernels\n",
    "        cov_mat=np.nan_to_num(RBF(length_scale=theta1).__call__(self.L),copy=False,nan=0)\n",
    "        cov_mat2=np.nan_to_num(RBF(length_scale=theta2).__call__(self.L),copy=False,nan=0)\n",
    "\n",
    "        #loglikelihood\n",
    "\n",
    "        for day in range(len(Us)):# contribution of the Zs - normal copula for occurence of rain\n",
    "            nll+=scs.multivariate_normal.logpdf([scs.norm.ppf(obs,loc=0,scale=1) for obs in Us_b[day]],mean=np.zeros(len(Us_b[0])),cov=cov_mat2) \n",
    "            nll+=-np.sum([scs.norm.logpdf(scs.norm.ppf(obs,loc=0,scale=1),loc=0,scale=1) for obs in Us_b[day]])\n",
    "            for pair in itertools.combinations(range(13),2):#main contribution - bardossy copula for rain\n",
    "                if didrain[day][pair[0]]+didrain[day][pair[1]]==0: #I1\n",
    "                    nll += scs.multivariate_normal.logpdf([norm_us[day][pair[0]],norm_us[day][pair[1]]],mean=np.zeros(2),cov=np.matrix([[1, cov_mat[pair[0]][pair[1]]], [cov_mat[pair[0]][pair[1]], 1]]))\n",
    "                if didrain[day][pair[0]]+didrain[day][pair[1]]==1: #I2 - have [1or0]*ll + [0or1]*ll to add the correct amount, depending on where it rained.\n",
    "                    nll += (didrain[day][pair[1]])*scs.norm.logpdf((norm_us[day][pair[0]]-norm_us[day][pair[1]]*cov_mat[pair[0]][pair[1]])/(sqrt(1-np.power(cov_mat[pair[0]][pair[1]],2)))) + (1-didrain[day][pair[1]])*scs.norm.logpdf((norm_us[day][pair[1]]-norm_us[day][pair[0]]*cov_mat[pair[0]][pair[1]])/(sqrt(1-np.power(cov_mat[pair[0]][pair[1]],2)))) \n",
    "                    nll += (didrain[day][pair[1]])*scs.norm.logpdf(norm_us[day][pair[1]]) + (1-didrain[day][pair[1]])*scs.norm.logpdf(norm_us[day][pair[0]])\n",
    "                if didrain[day][pair[0]]+didrain[day][pair[1]]==0: #I3\n",
    "                    nll += scs.multivariate_normal.logcdf([norm_us[day][pair[0]],norm_us[day][pair[1]]],mean=np.zeros(2),cov=np.matrix([[1, cov_mat[pair[0]][pair[1]]], [cov_mat[pair[0]][pair[1]], 1]]))\n",
    "        return -nll\n",
    "\n",
    "    def p_nll(self,theta,Us_didrain_Usbin): # parallelised\n",
    "        '''\n",
    "        theta: [sigma,p0,v0,p1,v1] vector of parameters for the Matern Kernel\n",
    "        Us: [[u1,..,un],...,[...]] one set of (n: one for each location) us for each day 1 to T (T is the number of predictor matricies).\n",
    "        didrain: 0/1 values in the same structure as Us, indicators of rain (1=rain).\n",
    "        '''\n",
    "        theta1,theta2 = theta[0],theta[1]\n",
    "        Us = Us_didrain_Usbin[0]\n",
    "        # transform Us into invNorms\n",
    "        norm_us = [[] for i in range(len(Us)) ]\n",
    "        for day in range(len(Us)):\n",
    "            norm_us[day]=[scs.norm.ppf(u) for u in Us[day]]\n",
    "            \n",
    "        # kernels\n",
    "        cov_mat=np.nan_to_num(RBF(length_scale=theta1).__call__(self.L),copy=False,nan=0)\n",
    "        cov_mat2=np.nan_to_num(RBF(length_scale=theta2).__call__(self.L),copy=False,nan=0)\n",
    "\n",
    "        #loglikelihood\n",
    "        size = math.ceil(len(Us)/psutil.cpu_count())\n",
    "        days_chuncks = [[i for i in range(len(Us))][x:x+size] for x in range(0,len(Us), size)]\n",
    "        list_nll = Parallel(n_jobs=psutil.cpu_count())(delayed(parallel_nll)(chunck, Us_didrain_Usbin, norm_us, cov_mat, cov_mat2) for chunck in days_chuncks)\n",
    "        \n",
    "        return -np.sum(list_nll)"
   ]
  },
  {
   "cell_type": "code",
   "execution_count": 8,
   "metadata": {},
   "outputs": [],
   "source": [
    "# distance matrix for kernel\n",
    "\n",
    "#first create correct set of coordinates for eavch of the 4272 locations:\n",
    "\n",
    "loc_coordinates_4272 = [] # matrix of length 4272 [ [lat1,lon1] , [lat2,lon2] , ... , [lat4272,lon4272] ]\n",
    "for loc in range(267):\n",
    "    for row in range(4):\n",
    "        for col in range(4):\n",
    "            x = [gamma_outputs[loc][6][0],gamma_outputs[loc][6][2]] # coordinates of topleft of big square, eg. [57.75, -5.75]\n",
    "            # rectify the 16by16 square into a 4by4\n",
    "            x[0] = x[0]-0.6\n",
    "            x[1] = x[1]+0.6\n",
    "            # finally, select the correct entry out of the 16 in the 4by4. [lat,lon]\n",
    "            loc_coordinates_4272.append([round(x[0]+row*0.1,2) ,round(x[1]+col*0.1,2)])\n",
    "\n",
    "#Now, can compute distance matrix:\n",
    "dist_mat = distance_matrix(loc_coordinates_4272,loc_coordinates_4272)"
   ]
  },
  {
   "cell_type": "code",
   "execution_count": 7,
   "metadata": {},
   "outputs": [
    {
     "data": {
      "text/plain": [
       "<matplotlib.collections.PathCollection at 0x1a1483abd30>"
      ]
     },
     "execution_count": 7,
     "metadata": {},
     "output_type": "execute_result"
    },
    {
     "data": {
      "image/png": "[encoded data removed]",
      "text/plain": [
       "<Figure size 432x288 with 1 Axes>"
      ]
     },
     "metadata": {
      "needs_background": "light"
     },
     "output_type": "display_data"
    }
   ],
   "source": [
    "plt.scatter([loc_coordinates_4272[i][1] for i in range(4272)],[loc_coordinates_4272[i][0] for i in range(4272)],s=1)"
   ]
  },
  {
   "cell_type": "code",
   "execution_count": 8,
   "metadata": {},
   "outputs": [
    {
     "data": {
      "text/plain": [
       "<matplotlib.image.AxesImage at 0x1a16a0acd30>"
      ]
     },
     "execution_count": 8,
     "metadata": {},
     "output_type": "execute_result"
    },
    {
     "data": {
      "image/png": "[encoded data removed]",
      "text/plain": [
       "<Figure size 288x288 with 1 Axes>"
      ]
     },
     "metadata": {
      "needs_background": "light"
     },
     "output_type": "display_data"
    }
   ],
   "source": [
    "plt.matshow(-dist_mat[48:80,48:80])"
   ]
  },
  {
   "cell_type": "markdown",
   "metadata": {},
   "source": [
    "### Normal copula"
   ]
  },
  {
   "cell_type": "code",
   "execution_count": 9,
   "metadata": {},
   "outputs": [
    {
     "data": {
      "text/plain": [
       "20498762.83935404"
      ]
     },
     "execution_count": 9,
     "metadata": {},
     "output_type": "execute_result"
    }
   ],
   "source": [
    "norm_cop_loconly(L=dist_mat[48:80,48:80]).nll(theta=[3,3],data=[g_us[i][48:80] for i in range(2002)])"
   ]
  },
  {
   "cell_type": "markdown",
   "metadata": {},
   "source": [
    "### Clayton"
   ]
  },
  {
   "cell_type": "code",
   "execution_count": null,
   "metadata": {},
   "outputs": [
    {
     "data": {
      "text/plain": [
       "77788.18569187525"
      ]
     },
     "execution_count": 57,
     "metadata": {},
     "output_type": "execute_result"
    }
   ],
   "source": [
    "Clayton(n=16).eval_nll(theta=3,data=[g_us[i][48:80] for i in range(2002)]) # takes 22s"
   ]
  },
  {
   "cell_type": "code",
   "execution_count": null,
   "metadata": {},
   "outputs": [],
   "source": [
    "# fval: 14326075.26123136 theta: 0.00806025 time: 1h\n",
    "#dual_annealing(Clayton(n=4272).eval_nll,bounds=[[0.00000001,10]],args=[g_us],maxiter=1000)\n",
    "# first 16: 0.45316421"
   ]
  },
  {
   "cell_type": "markdown",
   "metadata": {},
   "source": [
    "### Bardossy 2011 copula"
   ]
  },
  {
   "cell_type": "code",
   "execution_count": 7,
   "metadata": {},
   "outputs": [],
   "source": [
    "# load censored us and z_i #1m\n",
    "\n",
    "# 0 'pred_mu', 1'pred_disp', 2'target_did_rain', 3'target_rain_value', 4'date', 5'pred_p', 6'location'.\n",
    "#[place][parameter][day][row][column]\n",
    "#0:i,1:location,2:pred_mu,3:pred_disp,4:pred_p,5:target_rain_value,6:dates\n",
    " #no need to run this part as it's saved with pickle\n",
    "'''censored_us = [[] for i in range(2002)]\n",
    "g_zs = [[] for i in range(2002)]\n",
    "\n",
    "for day in tqdm(range(2002)):\n",
    "    for location in range(267):\n",
    "        for row in range(4):\n",
    "            for column in range(4):\n",
    "                censored_us[day].append(gamma_outputs[location][2][day][row][column])   \n",
    "                g_zs[day].append(np.power(1-gamma_outputs[location][5][day][row][column],1-gamma_outputs[location][2][day][row][column]))   \n",
    "for day in tqdm(range(2002)):\n",
    "    for location in range(len(g_zs[day])):\n",
    "        if g_zs[day][location]>0.999:\n",
    "            g_zs[day][location] = 0.9999\n",
    "        g_zs[day][location] = abs(g_zs[day][location]) '''\n",
    "\n",
    "'''with open('censored_us.txt','wb') as f:\n",
    "    pickle.dump(censored_us,f)\n",
    "with open('g_zs.txt','wb') as f:\n",
    "    pickle.dump(g_zs,f)'''\n",
    "#just load\n",
    "with open('censored_us.txt','rb') as f:\n",
    "    did_rain_01 = pickle.load(f)\n",
    "with open('g_zs.txt','rb') as f:\n",
    "    g_zs = pickle.load(f)"
   ]
  },
  {
   "cell_type": "code",
   "execution_count": 14,
   "metadata": {},
   "outputs": [
    {
     "ename": "KeyboardInterrupt",
     "evalue": "",
     "output_type": "error",
     "traceback": [
      "\u001b[1;31m---------------------------------------------------------------------------\u001b[0m",
      "\u001b[1;31mKeyboardInterrupt\u001b[0m                         Traceback (most recent call last)",
      "\u001b[1;32mc:\\Users\\david\\Desktop\\PhD research\\M Dissertation work\\SpaDep_VCop\\Copula Code\\All UK model 1\\Copulas_gamma.ipynb Cell 17\u001b[0m in \u001b[0;36m<cell line: 1>\u001b[1;34m()\u001b[0m\n\u001b[1;32m----> <a href='vscode-notebook-cell:/c%3A/Users/david/Desktop/PhD%20research/M%20Dissertation%20work/SpaDep_VCop/Copula%20Code/All%20UK%20model%201/Copulas_gamma.ipynb#X22sZmlsZQ%3D%3D?line=0'>1</a>\u001b[0m cop_bardossy(L\u001b[39m=\u001b[39mdist_mat[\u001b[39m48\u001b[39m:\u001b[39m80\u001b[39m,\u001b[39m48\u001b[39m:\u001b[39m80\u001b[39m])\u001b[39m.\u001b[39mnll([\u001b[39m0.45\u001b[39m,\u001b[39m0.24\u001b[39m],[[g_us[i][\u001b[39m48\u001b[39m:\u001b[39m80\u001b[39m]\u001b[39mfor\u001b[39;00m i \u001b[39min\u001b[39;00m \u001b[39mrange\u001b[39m(\u001b[39m300\u001b[39m)],[censored_us[i][\u001b[39m48\u001b[39m:\u001b[39m80\u001b[39m]\u001b[39mfor\u001b[39;00m i \u001b[39min\u001b[39;00m \u001b[39mrange\u001b[39m(\u001b[39m300\u001b[39m)],[g_zs[i][\u001b[39m48\u001b[39m:\u001b[39m80\u001b[39m]\u001b[39mfor\u001b[39;00m i \u001b[39min\u001b[39;00m \u001b[39mrange\u001b[39m(\u001b[39m300\u001b[39m)]])\n",
      "\u001b[1;32mc:\\Users\\david\\Desktop\\PhD research\\M Dissertation work\\SpaDep_VCop\\Copula Code\\All UK model 1\\Copulas_gamma.ipynb Cell 17\u001b[0m in \u001b[0;36mcop_bardossy.nll\u001b[1;34m(self, theta, Us_didrain_Usbin)\u001b[0m\n\u001b[0;32m    <a href='vscode-notebook-cell:/c%3A/Users/david/Desktop/PhD%20research/M%20Dissertation%20work/SpaDep_VCop/Copula%20Code/All%20UK%20model%201/Copulas_gamma.ipynb#X22sZmlsZQ%3D%3D?line=132'>133</a>\u001b[0m \u001b[39m#loglikelihood\u001b[39;00m\n\u001b[0;32m    <a href='vscode-notebook-cell:/c%3A/Users/david/Desktop/PhD%20research/M%20Dissertation%20work/SpaDep_VCop/Copula%20Code/All%20UK%20model%201/Copulas_gamma.ipynb#X22sZmlsZQ%3D%3D?line=134'>135</a>\u001b[0m \u001b[39mfor\u001b[39;00m day \u001b[39min\u001b[39;00m \u001b[39mrange\u001b[39m(\u001b[39mlen\u001b[39m(Us)):\u001b[39m# contribution of the Zs - normal copula for occurence of rain\u001b[39;00m\n\u001b[1;32m--> <a href='vscode-notebook-cell:/c%3A/Users/david/Desktop/PhD%20research/M%20Dissertation%20work/SpaDep_VCop/Copula%20Code/All%20UK%20model%201/Copulas_gamma.ipynb#X22sZmlsZQ%3D%3D?line=135'>136</a>\u001b[0m     nll\u001b[39m+\u001b[39m\u001b[39m=\u001b[39mscs\u001b[39m.\u001b[39mmultivariate_normal\u001b[39m.\u001b[39mlogpdf([scs\u001b[39m.\u001b[39mnorm\u001b[39m.\u001b[39mppf(obs,loc\u001b[39m=\u001b[39m\u001b[39m0\u001b[39m,scale\u001b[39m=\u001b[39m\u001b[39m1\u001b[39m) \u001b[39mfor\u001b[39;00m obs \u001b[39min\u001b[39;00m Us_b[day]],mean\u001b[39m=\u001b[39mnp\u001b[39m.\u001b[39mzeros(\u001b[39mlen\u001b[39m(Us_b[\u001b[39m0\u001b[39m])),cov\u001b[39m=\u001b[39mcov_mat2) \n\u001b[0;32m    <a href='vscode-notebook-cell:/c%3A/Users/david/Desktop/PhD%20research/M%20Dissertation%20work/SpaDep_VCop/Copula%20Code/All%20UK%20model%201/Copulas_gamma.ipynb#X22sZmlsZQ%3D%3D?line=136'>137</a>\u001b[0m     nll\u001b[39m+\u001b[39m\u001b[39m=\u001b[39m\u001b[39m-\u001b[39mnp\u001b[39m.\u001b[39msum([scs\u001b[39m.\u001b[39mnorm\u001b[39m.\u001b[39mlogpdf(scs\u001b[39m.\u001b[39mnorm\u001b[39m.\u001b[39mppf(obs,loc\u001b[39m=\u001b[39m\u001b[39m0\u001b[39m,scale\u001b[39m=\u001b[39m\u001b[39m1\u001b[39m),loc\u001b[39m=\u001b[39m\u001b[39m0\u001b[39m,scale\u001b[39m=\u001b[39m\u001b[39m1\u001b[39m) \u001b[39mfor\u001b[39;00m obs \u001b[39min\u001b[39;00m Us_b[day]])\n\u001b[0;32m    <a href='vscode-notebook-cell:/c%3A/Users/david/Desktop/PhD%20research/M%20Dissertation%20work/SpaDep_VCop/Copula%20Code/All%20UK%20model%201/Copulas_gamma.ipynb#X22sZmlsZQ%3D%3D?line=137'>138</a>\u001b[0m     \u001b[39mfor\u001b[39;00m pair \u001b[39min\u001b[39;00m itertools\u001b[39m.\u001b[39mcombinations(\u001b[39mrange\u001b[39m(\u001b[39m13\u001b[39m),\u001b[39m2\u001b[39m):\u001b[39m#main contribution - bardossy copula for rain\u001b[39;00m\n",
      "\u001b[1;32mc:\\Users\\david\\Desktop\\PhD research\\M Dissertation work\\SpaDep_VCop\\Copula Code\\All UK model 1\\Copulas_gamma.ipynb Cell 17\u001b[0m in \u001b[0;36m<listcomp>\u001b[1;34m(.0)\u001b[0m\n\u001b[0;32m    <a href='vscode-notebook-cell:/c%3A/Users/david/Desktop/PhD%20research/M%20Dissertation%20work/SpaDep_VCop/Copula%20Code/All%20UK%20model%201/Copulas_gamma.ipynb#X22sZmlsZQ%3D%3D?line=132'>133</a>\u001b[0m \u001b[39m#loglikelihood\u001b[39;00m\n\u001b[0;32m    <a href='vscode-notebook-cell:/c%3A/Users/david/Desktop/PhD%20research/M%20Dissertation%20work/SpaDep_VCop/Copula%20Code/All%20UK%20model%201/Copulas_gamma.ipynb#X22sZmlsZQ%3D%3D?line=134'>135</a>\u001b[0m \u001b[39mfor\u001b[39;00m day \u001b[39min\u001b[39;00m \u001b[39mrange\u001b[39m(\u001b[39mlen\u001b[39m(Us)):\u001b[39m# contribution of the Zs - normal copula for occurence of rain\u001b[39;00m\n\u001b[1;32m--> <a href='vscode-notebook-cell:/c%3A/Users/david/Desktop/PhD%20research/M%20Dissertation%20work/SpaDep_VCop/Copula%20Code/All%20UK%20model%201/Copulas_gamma.ipynb#X22sZmlsZQ%3D%3D?line=135'>136</a>\u001b[0m     nll\u001b[39m+\u001b[39m\u001b[39m=\u001b[39mscs\u001b[39m.\u001b[39mmultivariate_normal\u001b[39m.\u001b[39mlogpdf([scs\u001b[39m.\u001b[39;49mnorm\u001b[39m.\u001b[39;49mppf(obs,loc\u001b[39m=\u001b[39;49m\u001b[39m0\u001b[39;49m,scale\u001b[39m=\u001b[39;49m\u001b[39m1\u001b[39;49m) \u001b[39mfor\u001b[39;00m obs \u001b[39min\u001b[39;00m Us_b[day]],mean\u001b[39m=\u001b[39mnp\u001b[39m.\u001b[39mzeros(\u001b[39mlen\u001b[39m(Us_b[\u001b[39m0\u001b[39m])),cov\u001b[39m=\u001b[39mcov_mat2) \n\u001b[0;32m    <a href='vscode-notebook-cell:/c%3A/Users/david/Desktop/PhD%20research/M%20Dissertation%20work/SpaDep_VCop/Copula%20Code/All%20UK%20model%201/Copulas_gamma.ipynb#X22sZmlsZQ%3D%3D?line=136'>137</a>\u001b[0m     nll\u001b[39m+\u001b[39m\u001b[39m=\u001b[39m\u001b[39m-\u001b[39mnp\u001b[39m.\u001b[39msum([scs\u001b[39m.\u001b[39mnorm\u001b[39m.\u001b[39mlogpdf(scs\u001b[39m.\u001b[39mnorm\u001b[39m.\u001b[39mppf(obs,loc\u001b[39m=\u001b[39m\u001b[39m0\u001b[39m,scale\u001b[39m=\u001b[39m\u001b[39m1\u001b[39m),loc\u001b[39m=\u001b[39m\u001b[39m0\u001b[39m,scale\u001b[39m=\u001b[39m\u001b[39m1\u001b[39m) \u001b[39mfor\u001b[39;00m obs \u001b[39min\u001b[39;00m Us_b[day]])\n\u001b[0;32m    <a href='vscode-notebook-cell:/c%3A/Users/david/Desktop/PhD%20research/M%20Dissertation%20work/SpaDep_VCop/Copula%20Code/All%20UK%20model%201/Copulas_gamma.ipynb#X22sZmlsZQ%3D%3D?line=137'>138</a>\u001b[0m     \u001b[39mfor\u001b[39;00m pair \u001b[39min\u001b[39;00m itertools\u001b[39m.\u001b[39mcombinations(\u001b[39mrange\u001b[39m(\u001b[39m13\u001b[39m),\u001b[39m2\u001b[39m):\u001b[39m#main contribution - bardossy copula for rain\u001b[39;00m\n",
      "File \u001b[1;32mc:\\Users\\david\\AppData\\Local\\Programs\\Python\\Python39\\lib\\site-packages\\scipy\\stats\\_distn_infrastructure.py:2136\u001b[0m, in \u001b[0;36mrv_continuous.ppf\u001b[1;34m(self, q, *args, **kwds)\u001b[0m\n\u001b[0;32m   2134\u001b[0m     goodargs \u001b[39m=\u001b[39m argsreduce(cond, \u001b[39m*\u001b[39m((q,)\u001b[39m+\u001b[39margs\u001b[39m+\u001b[39m(scale, loc)))\n\u001b[0;32m   2135\u001b[0m     scale, loc, goodargs \u001b[39m=\u001b[39m goodargs[\u001b[39m-\u001b[39m\u001b[39m2\u001b[39m], goodargs[\u001b[39m-\u001b[39m\u001b[39m1\u001b[39m], goodargs[:\u001b[39m-\u001b[39m\u001b[39m2\u001b[39m]\n\u001b[1;32m-> 2136\u001b[0m     place(output, cond, \u001b[39mself\u001b[39;49m\u001b[39m.\u001b[39;49m_ppf(\u001b[39m*\u001b[39;49mgoodargs) \u001b[39m*\u001b[39;49m scale \u001b[39m+\u001b[39m loc)\n\u001b[0;32m   2137\u001b[0m \u001b[39mif\u001b[39;00m output\u001b[39m.\u001b[39mndim \u001b[39m==\u001b[39m \u001b[39m0\u001b[39m:\n\u001b[0;32m   2138\u001b[0m     \u001b[39mreturn\u001b[39;00m output[()]\n",
      "\u001b[1;31mKeyboardInterrupt\u001b[0m: "
     ]
    }
   ],
   "source": [
    "cop_bardossy(L=dist_mat[48:80,48:80]).nll([0.45,0.24],[[g_us[i][48:80]for i in range(300)],[censored_us[i][48:80]for i in range(300)],[g_zs[i][48:80]for i in range(300)]]) #22s"
   ]
  },
  {
   "cell_type": "code",
   "execution_count": 15,
   "metadata": {},
   "outputs": [
    {
     "data": {
      "text/plain": [
       "306381.7809577087"
      ]
     },
     "execution_count": 15,
     "metadata": {},
     "output_type": "execute_result"
    }
   ],
   "source": [
    "cop_bardossy(L=dist_mat[48:80,48:80]).p_nll([0.1,0.1],[[g_us[i][48:80]for i in range(2002)],[censored_us[i][48:80]for i in range(2002)],[g_zs[i][48:80]for i in range(2002)]]) #22s"
   ]
  },
  {
   "cell_type": "code",
   "execution_count": 19,
   "metadata": {},
   "outputs": [
    {
     "data": {
      "text/plain": [
       "     fun: 112204.5414053855\n",
       " message: ['Maximum number of function call reached during annealing']\n",
       "    nfev: 400\n",
       "    nhev: 0\n",
       "     nit: 92\n",
       "    njev: 10\n",
       "  status: 0\n",
       " success: False\n",
       "       x: array([0.67495809, 0.35775013])"
      ]
     },
     "execution_count": 19,
     "metadata": {},
     "output_type": "execute_result"
    }
   ],
   "source": [
    "dual_annealing(cop_bardossy(L=dist_mat[48:80,48:80]).p_nll,bounds=[[0.5,10],[0.25,10]],args=[[[g_us[i][48:80]for i in range(2002)],[censored_us[i][48:80]for i in range(2002)],[g_zs[i][48:80]for i in range(2002)]]],maxfun=400)# 22/1maxfun\n",
    "#0.24580719, 0.49390414 , feval:1123 , 16 locs"
   ]
  },
  {
   "cell_type": "markdown",
   "metadata": {},
   "source": [
    "### Truncated Gaussian Copula\n",
    "\n",
    "The following are used below. They have the appropriate format for the MLE function, ie: 2002 rows of 4272 entries each, corresponding to 2002 days for 4272 location.\n",
    "\n",
    "g_us : Us from the GNM\\\n",
    "did_rain_01 : indicator for observed rain \\\n",
    "inv_us : normal ppf of Us"
   ]
  },
  {
   "cell_type": "code",
   "execution_count": 9,
   "metadata": {},
   "outputs": [],
   "source": [
    "#Load required data\n",
    "\n",
    "# Getting normal-inverse cdf of Us, corresponding to their marginals\n",
    "'''inv_us = [[] for i in range(len(g_us))]\n",
    "for day in tqdm(range(2002)):\n",
    "    for loc in range(len(g_us[0])):\n",
    "        inv_us.append(scs.norm.ppf(g_us[day][loc]))\n",
    "with open('inv_Us.txt','wb') as f:\n",
    "    pickle.dump(,f)'''\n",
    "with open('inv_Us.txt','rb') as f:\n",
    "    inv_us = pickle.load(f)\n",
    "with open('censored_us.txt','rb') as f:\n",
    "    did_rain_01 = pickle.load(f)"
   ]
  },
  {
   "cell_type": "code",
   "execution_count": 68,
   "metadata": {},
   "outputs": [],
   "source": [
    "# nll computation for one parallelised worker\n",
    "def parallel_nll(days_period,cov_mat,Invcdf_Us,truncation_pi,did_rain):\n",
    "\n",
    "    nll=0\n",
    "    for day in days_period: #eg [251,...,500]\n",
    "        # numerator: joint pdf integrated over truncation - equivalent to elegant normal cdf\n",
    "        # need to re-arrange the covariance matrix into 2*2 blocks based on censored/uncensored. \n",
    "        r_rain,c_rain,r_dry,c_dry = [],[],[],[]\n",
    "        for place_idx,place_didrain in enumerate(did_rain[day]):\n",
    "            if place_didrain==False:\n",
    "                r_dry.append([place_idx])\n",
    "                c_dry.append(place_idx)\n",
    "            else:\n",
    "                r_rain.append([place_idx])\n",
    "                c_rain.append(place_idx)\n",
    "        # create submatricies\n",
    "        submat11 = cov_mat[r_dry,c_dry]\n",
    "        submat12 = cov_mat[r_dry,c_rain]\n",
    "        submat21 = cov_mat[r_rain,c_dry]\n",
    "        submat22 = cov_mat[r_rain,c_rain]\n",
    "        # compute and add the elegant cdf\n",
    "        nll += scs.multivariate_normal.logcdf(x=[Invcdf_Us[day][k] for k in c_dry],mean=np.zeros(len(submat11)),cov=np.matmul(np.matmul(submat12,np.transpose(submat22)),submat21))\n",
    "        # denominator: multiplication of marginals - pdf for positive rain, cdf for truncated\n",
    "        for loc in range(len(Invcdf_Us[0])):\n",
    "            if did_rain[day][loc]==1:# wet: add pdf(invcdf(u_i))\n",
    "                nll -= scs.norm.logpdf(Invcdf_Us[day][loc],loc=0,scale=1)\n",
    "            else:# dry: add cdf(invcdf(pi))\n",
    "                nll -= np.log(truncation_pi[day][loc])\n",
    "    return nll\n",
    "# Truncated Gaussian copula class\n",
    "class truncgauss():\n",
    "    def __init__(self,L):\n",
    "        '''\n",
    "        Class to fit and work with a truncated Gaussian copula, using two functions.\n",
    "        sim: simulated [0,1] values using this copula density.\n",
    "        eval_nll: evaluate the negative log likelihood based on given data.\n",
    "        To use the class, the dimension of the data is needed.\n",
    "        n: dimension of data\n",
    "        '''\n",
    "        self.L=L\n",
    "    \n",
    "    def sim(self,theta,draws):\n",
    "        '''\n",
    "        Simulates m draws from the truncated gaussian copula conditional on parameters theta for the covariance kernel.\n",
    "        '''\n",
    "        #later\n",
    "\n",
    "    def eval_nll(self,theta,Invcdf_Us,truncation_pi,did_rain):\n",
    "        '''\n",
    "        theta: the parameters for the covariance kernel. For different kernel, change the function code.\n",
    "\n",
    "        Invcdf_Us: [[g1_(t=1) ,..., gn_(t=1)] ,..., [g1_(t=k) ,..., gn(t=k)]] one set of (n of them: one for each location) gs (standard normal variables ppf from us) for each day 1 to T.\n",
    "        \n",
    "        truncation_pi: vector in same format as Invcdf_Us, corresponding to probability of rain values for day t at locations 1 to n.\n",
    "        \n",
    "        did_rain: vector in same format as Invcdf_Us, indicator variable for positive rain indexed by time then location: d_r[time][loc].\n",
    "        '''\n",
    "        # For RBF kernel:\n",
    "        cov_mat = np.nan_to_num(RBF(length_scale=theta).__call__(self.L),copy=False,nan=0)\n",
    "        # For Matern:\n",
    "        #\n",
    "        # parallelising computation of nll\n",
    "        size = math.ceil(len(Invcdf_Us)/psutil.cpu_count())\n",
    "        days_chuncks = [[i for i in range(len(Invcdf_Us))][x:x+size] for x in range(0,len(Invcdf_Us), size)]\n",
    "        print(size,psutil.cpu_count(),len(days_chuncks))\n",
    "        list_nll = Parallel(n_jobs=psutil.cpu_count())(delayed(parallel_nll)(chunck,cov_mat,Invcdf_Us,truncation_pi,did_rain) for chunck in tqdm(days_chuncks))\n",
    "        \n",
    "        return -np.sum(list_nll)\n",
    "\n",
    "    def nll(self,theta,Invcdf_Us,truncation_pi,did_rain):\n",
    "        cov_mat = np.nan_to_num(RBF(length_scale=theta).__call__(self.L),copy=False,nan=0)\n",
    "        nll=0\n",
    "        for day in tqdm(range(len(Invcdf_Us))): #eg [251,...,500]\n",
    "            # numerator: joint pdf integrated over truncation - equivalent to elegant normal cdf in some cases. Check cases:\n",
    "\n",
    "            if np.sum(did_rain[day])==len(did_rain[day]): #all wet, just normal pdf\n",
    "                nll += scs.multivariate_normal.logpdf(x=Invcdf_Us[day],mean=np.zeros(len(Invcdf_Us[0])),cov=cov_mat)\n",
    "            else: # some dry -> use elegant cdf\n",
    "                #print('elegant'+str(np.sum(did_rain[day])))\n",
    "                if np.sum(did_rain[day])==0: # all dry -> use normal cdf\n",
    "                    nll += scs.multivariate_normal.logcdf(x=Invcdf_Us[day],mean=np.zeros(len(Invcdf_Us[0])),cov=cov_mat)\n",
    "                else:\n",
    "                    # need to re-arrange the covariance matrix into 2*2 blocks based on censored/uncensored. \n",
    "                    r_rain,c_rain,r_dry,c_dry = [],[],[],[]\n",
    "                    #print(did_rain[day])\n",
    "                    for place_idx,place_didrain in enumerate(did_rain[day]):\n",
    "                        if place_didrain==False:\n",
    "                            r_dry.append([place_idx])\n",
    "                            c_dry.append(place_idx)\n",
    "                        else:\n",
    "                            r_rain.append([place_idx])\n",
    "                            c_rain.append(place_idx)\n",
    "                    # create submatricies\n",
    "                    submat11 = cov_mat[r_dry,c_dry]\n",
    "                    submat12 = cov_mat[r_dry,c_rain]\n",
    "                    submat21 = cov_mat[r_rain,c_dry]\n",
    "                    submat22 = cov_mat[r_rain,c_rain]\n",
    "                    \n",
    "                    # compute and add the elegant cdf\n",
    "                    nll += scs.multivariate_normal.logcdf(x=[Invcdf_Us[day][k] for k in c_dry],mean=np.zeros(len(submat11)),cov=submat11-np.matmul(np.matmul(submat12,np.linalg.inv(submat22)),submat21))\n",
    "\n",
    "            # denominator: multiplication of marginals - pdf for positive rain, cdf for truncated\n",
    "            for loc in range(len(Invcdf_Us[0])):\n",
    "                if did_rain[day][loc]==1:# wet: add pdf(invcdf(u_i))\n",
    "                    nll -= scs.norm.logpdf(Invcdf_Us[day][loc],loc=0,scale=1)\n",
    "                else:# dry: add cdf(invcdf(pi))\n",
    "                    nll -= np.log(truncation_pi[day][loc])\n",
    "        return nll"
   ]
  },
  {
   "cell_type": "code",
   "execution_count": 69,
   "metadata": {},
   "outputs": [
    {
     "name": "stderr",
     "output_type": "stream",
     "text": [
      "100%|██████████| 300/300 [16:31<00:00,  3.30s/it]\n"
     ]
    },
    {
     "data": {
      "text/plain": [
       "-411125.46169233916"
      ]
     },
     "execution_count": 69,
     "metadata": {},
     "output_type": "execute_result"
    }
   ],
   "source": [
    "truncgauss(L=dist_mat[:16,:16]).nll(theta=3,Invcdf_Us=[inv_us[i][:16] for i in range(300)],truncation_pi=[g_us[i][:16] for i in range(300)],did_rain=[did_rain_01[i][:16] for i in range(300)]) #16m at -411125.46169233916"
   ]
  },
  {
   "cell_type": "code",
   "execution_count": 7,
   "metadata": {},
   "outputs": [
    {
     "name": "stdout",
     "output_type": "stream",
     "text": [
      "38 8 8\n"
     ]
    },
    {
     "name": "stderr",
     "output_type": "stream",
     "text": [
      "100%|██████████| 8/8 [00:00<00:00, 142.84it/s]\n"
     ]
    }
   ],
   "source": [
    "truncgauss(L=dist_mat[:16,:16]).eval_nll(theta=3,Invcdf_Us=[inv_us[i][:16] for i in range(300)],truncation_pi=[g_us[i][:16] for i in range(300)],did_rain=[did_rain_01[i][:16] for i in range(300)])"
   ]
  },
  {
   "cell_type": "code",
   "execution_count": null,
   "metadata": {},
   "outputs": [],
   "source": [
    "#plot of ll - prepare grid \n",
    "\n",
    "x_val11=np.linspace(0.01,2, 6)\n",
    "y_val11=np.linspace(0.01,2 , 6)\n",
    "X,Y =np.meshgrid(x_val11,y_val11)\n",
    "Z=np.zeros(X.shape)\n",
    "for i in range(Z.shape[0]):\n",
    "    for j in tqdm(range(Z.shape[1])):\n",
    "        Z[i,j]=-cop_bardossy(L=dist_mat[48:80,48:80]).p_nll([X[i,j],Y[i,j]],[[g_us[i][48:80]for i in range(2002)],[censored_us[i][48:80]for i in range(2002)],[g_zs[i][48:80]for i in range(2002)]]) #22s\n",
    "    "
   ]
  },
  {
   "cell_type": "code",
   "execution_count": null,
   "metadata": {},
   "outputs": [],
   "source": [
    "#draw it\n",
    "plt.contourf(X,Y,Z,20,color='viridis',)\n",
    "plt.plot(figsize=(13,15))\n",
    "plt.xlabel('RBF1-Us parameter')\n",
    "ticks = np.linspace(Z.min(), Z.max(), 5, endpoint=True)\n",
    "cb = plt.colorbar(ticks=ticks)\n",
    "plt.ylabel('RBF2-Zs parameter')\n",
    "plt.scatter(X,Y)\n",
    "plt.show() "
   ]
  },
  {
   "cell_type": "code",
   "execution_count": null,
   "metadata": {},
   "outputs": [],
   "source": []
  }
 ],
 "metadata": {
  "kernelspec": {
   "display_name": "Python 3.9.10 64-bit",
   "language": "python",
   "name": "python3"
  },
  "language_info": {
   "codemirror_mode": {
    "name": "ipython",
    "version": 3
   },
   "file_extension": ".py",
   "mimetype": "text/x-python",
   "name": "python",
   "nbconvert_exporter": "python",
   "pygments_lexer": "ipython3",
   "version": "3.9.10"
  },
  "orig_nbformat": 4,
  "vscode": {
   "interpreter": {
    "hash": "72f235a78b5cf937fd09c1593b6a0e4473f824a03930b62c2c7d9a177b9de8f3"
   }
  }
 },
 "nbformat": 4,
 "nbformat_minor": 2
}
